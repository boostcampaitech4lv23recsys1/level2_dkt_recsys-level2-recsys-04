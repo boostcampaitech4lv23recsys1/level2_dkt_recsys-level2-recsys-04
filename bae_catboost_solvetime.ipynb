{
 "cells": [
  {
   "cell_type": "code",
   "execution_count": 1,
   "metadata": {},
   "outputs": [],
   "source": [
    "import numpy as np\n",
    "import pandas as pd\n",
    "\n",
    "import os\n",
    "import random\n",
    "\n",
    "import warnings\n",
    "\n",
    "warnings.filterwarnings(action='ignore')\n",
    "\n",
    "path = '/opt/ml/input/data/'\n",
    "#train = pd.read_csv(path + 'train_data.csv')\n",
    "train = pd.read_csv(path + 'FE/FE_solve_time_train.csv')\n",
    "#test = pd.read_csv(path + 'test_data.csv')\n",
    "test = pd.read_csv(path + 'FE/FE_solve_time_test.csv')"
   ]
  },
  {
   "cell_type": "code",
   "execution_count": 2,
   "metadata": {},
   "outputs": [],
   "source": [
    "# train, test 병합. 모든 데이터 활용하기.\n",
    "dat = pd.concat([train, test], axis = 0)\n",
    "dat = dat.sort_values(by = ['userID', 'Timestamp'])\n",
    "\n",
    "# 시험 난이도(?)로 추청되는 특성 따로 분류\n",
    "dat['b_category'] = dat['assessmentItemID'].str[2]\n",
    "# 시험지로 추청되는 특성 따로 분류. 뒤에 것이 좋을 것 같은데 일단 제출을 한 것으로 써놓음.\n",
    "dat['test_category'] = dat['assessmentItemID'].str[4:7] # dat['assessmentItemID'].str[2] + dat['assessmentItemID'].str[4:7]\n",
    "\n",
    "# answerCode이 -1로 되어있는 문제를 맞추기 위해 사용.\n",
    "_train = dat[dat['answerCode'] >= 0]\n",
    "_test = dat[dat['answerCode'] < 0]"
   ]
  },
  {
   "cell_type": "code",
   "execution_count": 3,
   "metadata": {},
   "outputs": [],
   "source": [
    "# 유저 마다 가장 마지막 문제를 맞추는 것을 기준으로 평가 하려함\n",
    "# test 유저에 경우 가장 마지막 문제 전 문제를 맞추는 것을 기준으로 평가함.\n",
    "user_final_time = _train.groupby('userID')['Timestamp'].max()\n",
    "_train['train_valid'] = _train.apply(lambda x : -1 if x.Timestamp == user_final_time[x.userID] else x['answerCode'], axis = 1)\n",
    "_valid = _train[_train['train_valid'] < 0]\n",
    "_train = _train[_train['train_valid'] >= 0]"
   ]
  },
  {
   "cell_type": "code",
   "execution_count": null,
   "metadata": {},
   "outputs": [],
   "source": [
    "# 모델에 적용하기 전 기본적인 데이터 전처리 부분\n",
    "## 라벨링, 필요없는 칼럼 제거\n",
    "_train_value = _train['answerCode']\n",
    "_train.drop(['Timestamp', 'testId', 'train_valid', 'answerCode','quarter','weekday','dayofyear','week','year','hour','minute'], axis = 1, inplace = True)\n",
    "\n",
    "_valid_value = _valid['answerCode']\n",
    "_valid.drop(['Timestamp', 'testId', 'train_valid', 'answerCode','quarter','weekday','dayofyear','week','year','hour','minute'], axis = 1, inplace = True)\n",
    "\n",
    "_test.drop(['Timestamp', 'testId', 'answerCode','quarter','weekday','dayofyear','week','year','hour','minute'], axis = 1, inplace = True)\n",
    "\n",
    "# CatBoost에 적용하기 위해선 문자열 데이터로 변환 필요.\n",
    "_train['userID'] = _train['userID'].astype('str')\n",
    "_train['KnowledgeTag'] = _train['KnowledgeTag'].astype('str')\n",
    "\n",
    "_valid['userID'] = _valid['userID'].astype('str')\n",
    "_valid['KnowledgeTag'] = _valid['KnowledgeTag'].astype('str')\n",
    "\n",
    "_test['userID'] = _test['userID'].astype('str')\n",
    "_test['KnowledgeTag'] = _test['KnowledgeTag'].astype('str')"
   ]
  },
  {
   "cell_type": "code",
   "execution_count": null,
   "metadata": {},
   "outputs": [
    {
     "data": {
      "text/html": [
       "<div>\n",
       "<style scoped>\n",
       "    .dataframe tbody tr th:only-of-type {\n",
       "        vertical-align: middle;\n",
       "    }\n",
       "\n",
       "    .dataframe tbody tr th {\n",
       "        vertical-align: top;\n",
       "    }\n",
       "\n",
       "    .dataframe thead th {\n",
       "        text-align: right;\n",
       "    }\n",
       "</style>\n",
       "<table border=\"1\" class=\"dataframe\">\n",
       "  <thead>\n",
       "    <tr style=\"text-align: right;\">\n",
       "      <th></th>\n",
       "      <th>userID</th>\n",
       "      <th>assessmentItemID</th>\n",
       "      <th>KnowledgeTag</th>\n",
       "      <th>solve_time</th>\n",
       "      <th>b_category</th>\n",
       "      <th>test_category</th>\n",
       "    </tr>\n",
       "  </thead>\n",
       "  <tbody>\n",
       "    <tr>\n",
       "      <th>1035</th>\n",
       "      <td>3</td>\n",
       "      <td>A050133008</td>\n",
       "      <td>5289</td>\n",
       "      <td>0</td>\n",
       "      <td>5</td>\n",
       "      <td>133</td>\n",
       "    </tr>\n",
       "    <tr>\n",
       "      <th>1706</th>\n",
       "      <td>4</td>\n",
       "      <td>A070146008</td>\n",
       "      <td>9080</td>\n",
       "      <td>0</td>\n",
       "      <td>7</td>\n",
       "      <td>146</td>\n",
       "    </tr>\n",
       "    <tr>\n",
       "      <th>3023</th>\n",
       "      <td>13</td>\n",
       "      <td>A070111008</td>\n",
       "      <td>9660</td>\n",
       "      <td>0</td>\n",
       "      <td>7</td>\n",
       "      <td>111</td>\n",
       "    </tr>\n",
       "    <tr>\n",
       "      <th>4283</th>\n",
       "      <td>17</td>\n",
       "      <td>A090064006</td>\n",
       "      <td>2611</td>\n",
       "      <td>0</td>\n",
       "      <td>9</td>\n",
       "      <td>064</td>\n",
       "    </tr>\n",
       "    <tr>\n",
       "      <th>4670</th>\n",
       "      <td>26</td>\n",
       "      <td>A060135007</td>\n",
       "      <td>1422</td>\n",
       "      <td>0</td>\n",
       "      <td>6</td>\n",
       "      <td>135</td>\n",
       "    </tr>\n",
       "    <tr>\n",
       "      <th>...</th>\n",
       "      <td>...</td>\n",
       "      <td>...</td>\n",
       "      <td>...</td>\n",
       "      <td>...</td>\n",
       "      <td>...</td>\n",
       "      <td>...</td>\n",
       "    </tr>\n",
       "    <tr>\n",
       "      <th>260052</th>\n",
       "      <td>7395</td>\n",
       "      <td>A040122005</td>\n",
       "      <td>10615</td>\n",
       "      <td>0</td>\n",
       "      <td>4</td>\n",
       "      <td>122</td>\n",
       "    </tr>\n",
       "    <tr>\n",
       "      <th>260067</th>\n",
       "      <td>7404</td>\n",
       "      <td>A030111005</td>\n",
       "      <td>7636</td>\n",
       "      <td>0</td>\n",
       "      <td>3</td>\n",
       "      <td>111</td>\n",
       "    </tr>\n",
       "    <tr>\n",
       "      <th>260082</th>\n",
       "      <td>7416</td>\n",
       "      <td>A050193004</td>\n",
       "      <td>10402</td>\n",
       "      <td>0</td>\n",
       "      <td>5</td>\n",
       "      <td>193</td>\n",
       "    </tr>\n",
       "    <tr>\n",
       "      <th>260097</th>\n",
       "      <td>7417</td>\n",
       "      <td>A050193004</td>\n",
       "      <td>10402</td>\n",
       "      <td>0</td>\n",
       "      <td>5</td>\n",
       "      <td>193</td>\n",
       "    </tr>\n",
       "    <tr>\n",
       "      <th>260113</th>\n",
       "      <td>7439</td>\n",
       "      <td>A040130005</td>\n",
       "      <td>8832</td>\n",
       "      <td>0</td>\n",
       "      <td>4</td>\n",
       "      <td>130</td>\n",
       "    </tr>\n",
       "  </tbody>\n",
       "</table>\n",
       "<p>744 rows × 6 columns</p>\n",
       "</div>"
      ],
      "text/plain": [
       "       userID assessmentItemID KnowledgeTag  solve_time b_category  \\\n",
       "1035        3       A050133008         5289           0          5   \n",
       "1706        4       A070146008         9080           0          7   \n",
       "3023       13       A070111008         9660           0          7   \n",
       "4283       17       A090064006         2611           0          9   \n",
       "4670       26       A060135007         1422           0          6   \n",
       "...       ...              ...          ...         ...        ...   \n",
       "260052   7395       A040122005        10615           0          4   \n",
       "260067   7404       A030111005         7636           0          3   \n",
       "260082   7416       A050193004        10402           0          5   \n",
       "260097   7417       A050193004        10402           0          5   \n",
       "260113   7439       A040130005         8832           0          4   \n",
       "\n",
       "       test_category  \n",
       "1035             133  \n",
       "1706             146  \n",
       "3023             111  \n",
       "4283             064  \n",
       "4670             135  \n",
       "...              ...  \n",
       "260052           122  \n",
       "260067           111  \n",
       "260082           193  \n",
       "260097           193  \n",
       "260113           130  \n",
       "\n",
       "[744 rows x 6 columns]"
      ]
     },
     "execution_count": 5,
     "metadata": {},
     "output_type": "execute_result"
    }
   ],
   "source": [
    "_test['solve_time'] = _test['solve_time'].fillna(0)\n",
    "_test['solve_time'] = _test['solve_time'].astype(int)\n",
    "\n",
    "_test"
   ]
  },
  {
   "cell_type": "code",
   "execution_count": null,
   "metadata": {},
   "outputs": [
    {
     "name": "stdout",
     "output_type": "stream",
     "text": [
      "  userID assessmentItemID KnowledgeTag  solve_time b_category test_category\n",
      "0      0       A060001001         7224           0          6           001\n",
      "1      0       A060001002         7225           3          6           001\n",
      "2      0       A060001003         7225           8          6           001\n",
      "3      0       A060001004         7225           7          6           001\n",
      "4      0       A060001005         7225           7          6           001\n"
     ]
    }
   ],
   "source": [
    "_train['solve_time'] = _train['solve_time'].fillna(0)\n",
    "_train['solve_time'] = _train['solve_time'].astype('int')\n",
    "_valid['solve_time'] = _valid['solve_time'].fillna(0)\n",
    "_valid['solve_time'] = _valid['solve_time'].astype('int')\n",
    "print(_train.head())"
   ]
  },
  {
   "cell_type": "code",
   "execution_count": null,
   "metadata": {},
   "outputs": [
    {
     "name": "stdout",
     "output_type": "stream",
     "text": [
      "0:\tlearn: 0.6742521\ttotal: 69.2ms\tremaining: 1m 9s\n",
      "500:\tlearn: 0.4506791\ttotal: 38.6s\tremaining: 38.5s\n",
      "999:\tlearn: 0.4485331\ttotal: 1m 15s\tremaining: 0us\n"
     ]
    },
    {
     "data": {
      "text/plain": [
       "<catboost.core.CatBoostClassifier at 0x7fd3eeaa9340>"
      ]
     },
     "execution_count": 7,
     "metadata": {},
     "output_type": "execute_result"
    }
   ],
   "source": [
    "#!pip install catboost\n",
    "# 가상환경에 패키지 설치 필요할듯\n",
    "from catboost import CatBoostClassifier\n",
    "\n",
    "# 하이퍼파라미터 수정할 여지가 많으니 추가나 수정하고 싶은 사람 수정해도 괜찮을듯.\n",
    "# 일단 지난번에 사용했던 파라미터들 주석으로 들고 옴. 참고하면서 공부하면 좋을듯.\n",
    "\n",
    "# params_cat = {\n",
    "#     \"task_type\" : \"GPU\",\n",
    "#     \"devices\" : '0',\n",
    "#     \"random_state\": SEED,\n",
    "#     'learning_rate': 0.04574578205475402, \n",
    "#     'bagging_temperature': 0.12172958098369972, \n",
    "#     'n_estimators': 2000, \n",
    "#     'max_depth': 8, \n",
    "#     'random_strength': 28, \n",
    "#     'l2_leaf_reg': 1.6285455533915874e-05, \n",
    "#     'min_child_samples': 18, \n",
    "#     'max_bin': 441, \n",
    "#     'od_type': 'Iter',\n",
    "#     \"cat_features\" : list(train_ratings.drop(['rating'],axis = 1).columns),\n",
    "# }\n",
    "\n",
    "# model = CatBoostRegressor(**params_cat)\n",
    "\n",
    "# 실제 적용한 모델은 learning_rate, iterations(=n_estimators, 아마도?)만 사용함.\n",
    "cat_model = CatBoostClassifier(learning_rate=0.05, iterations=1000, task_type=\"GPU\")\n",
    "cat_model.fit(_train, _train_value, early_stopping_rounds=100, cat_features=list(_train.columns) ,verbose=500)\n"
   ]
  },
  {
   "cell_type": "code",
   "execution_count": null,
   "metadata": {},
   "outputs": [
    {
     "name": "stdout",
     "output_type": "stream",
     "text": [
      "0.8304966498342403\n",
      "0.7529411764705882\n"
     ]
    }
   ],
   "source": [
    "# valid score를 확인해봄.\n",
    "# 모델 환경상 test score보다 떨어질 수도. (토론 필요)\n",
    "# 실제 제출한 test score은 auc는 0.7864, acc는 0.7124\n",
    "from sklearn.metrics import accuracy_score, roc_auc_score\n",
    "\n",
    "_valid_pred = cat_model.predict_proba(_valid)[:,1]\n",
    "print(roc_auc_score(_valid_value, _valid_pred)) # auc\n",
    "print(accuracy_score(_valid_value, np.where(_valid_pred >= 0.5, 1, 0))) # acc, 정확도"
   ]
  },
  {
   "cell_type": "code",
   "execution_count": null,
   "metadata": {},
   "outputs": [
    {
     "data": {
      "text/plain": [
       "Text(0.5, 1.0, 'Feature Importance')"
      ]
     },
     "execution_count": 15,
     "metadata": {},
     "output_type": "execute_result"
    },
    {
     "data": {
      "image/png": "[encoded data removed]",
      "text/plain": [
       "<Figure size 1200x600 with 1 Axes>"
      ]
     },
     "metadata": {},
     "output_type": "display_data"
    }
   ],
   "source": [
    "import matplotlib as plt\n",
    "\n",
    "feature_importance = cat_model.feature_importances_\n",
    "sorted_idx = np.argsort(feature_importance)\n",
    "fig = plt.pyplot.figure(figsize=(12, 6))\n",
    "plt.pyplot.barh(range(len(sorted_idx)), feature_importance[sorted_idx], align=\"center\")\n",
    "plt.pyplot.yticks(range(len(sorted_idx)), np.array(_valid.columns)[sorted_idx])\n",
    "plt.pyplot.title(\"Feature Importance\")"
   ]
  },
  {
   "cell_type": "code",
   "execution_count": null,
   "metadata": {},
   "outputs": [],
   "source": [
    "# submission 제출하기 위한 코드\n",
    "\n",
    "_test_pred = cat_model.predict_proba(_test)[:,1]\n",
    "_test['prediction'] = _test_pred\n",
    "submission = _test['prediction'].reset_index(drop = True).reset_index()\n",
    "submission.rename(columns = {'index':'id'}, inplace = True)\n",
    "submission.to_csv('./output/cat_submission_solvetime.csv', index = False)"
   ]
  }
 ],
 "metadata": {
  "kernelspec": {
   "display_name": "Python 3.8.5 ('base')",
   "language": "python",
   "name": "python3"
  },
  "language_info": {
   "codemirror_mode": {
    "name": "ipython",
    "version": 3
   },
   "file_extension": ".py",
   "mimetype": "text/x-python",
   "name": "python",
   "nbconvert_exporter": "python",
   "pygments_lexer": "ipython3",
   "version": "3.8.5"
  },
  "orig_nbformat": 4,
  "vscode": {
   "interpreter": {
    "hash": "d4d1e4263499bec80672ea0156c357c1ee493ec2b1c70f0acce89fc37c4a6abe"
   }
  }
 },
 "nbformat": 4,
 "nbformat_minor": 2
}
