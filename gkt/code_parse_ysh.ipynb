{
 "cells": [
  {
   "cell_type": "code",
   "execution_count": 1,
   "metadata": {},
   "outputs": [],
   "source": [
    "import numpy as np\n",
    "import pandas as pd\n",
    "import os\n",
    "import torch\n",
    "import torch.nn.functional as F\n",
    "from torch.utils.data import Dataset, TensorDataset, DataLoader\n",
    "from torch.nn.utils.rnn import pad_sequence\n",
    "from utils import build_dense_graph"
   ]
  },
  {
   "cell_type": "code",
   "execution_count": 3,
   "metadata": {},
   "outputs": [],
   "source": [
    "dtype = {\n",
    "    'userID': 'int16',\n",
    "    'answerCode': 'int8',\n",
    "    'KnowledgeTag': 'int16'\n",
    "}\n",
    "\n",
    "DATA_PATH = '/opt/ml/input/data/'\n",
    "train = pd.read_csv(DATA_PATH + 'train_data.csv', dtype=dtype, parse_dates=['Timestamp'])\n",
    "train = train.sort_values(by=['userID', 'Timestamp']).reset_index(drop=True)\n",
    "test = pd.read_csv(DATA_PATH + 'test_data.csv', dtype=dtype, parse_dates=['Timestamp'])\n",
    "test = test.sort_values(by=['userID', 'Timestamp']).reset_index(drop=True)"
   ]
  },
  {
   "cell_type": "code",
   "execution_count": 13,
   "metadata": {},
   "outputs": [],
   "source": [
    "train['KTag'], _ = pd.factorize(train['KnowledgeTag'], sort=True)\n",
    "test['KTag'], _ = pd.factorize(test['KnowledgeTag'], sort=True)"
   ]
  },
  {
   "cell_type": "code",
   "execution_count": 16,
   "metadata": {},
   "outputs": [
    {
     "data": {
      "text/html": [
       "<div>\n",
       "<style scoped>\n",
       "    .dataframe tbody tr th:only-of-type {\n",
       "        vertical-align: middle;\n",
       "    }\n",
       "\n",
       "    .dataframe tbody tr th {\n",
       "        vertical-align: top;\n",
       "    }\n",
       "\n",
       "    .dataframe thead th {\n",
       "        text-align: right;\n",
       "    }\n",
       "</style>\n",
       "<table border=\"1\" class=\"dataframe\">\n",
       "  <thead>\n",
       "    <tr style=\"text-align: right;\">\n",
       "      <th></th>\n",
       "      <th>userID</th>\n",
       "      <th>assessmentItemID</th>\n",
       "      <th>testId</th>\n",
       "      <th>answerCode</th>\n",
       "      <th>Timestamp</th>\n",
       "      <th>KnowledgeTag</th>\n",
       "      <th>KTag</th>\n",
       "    </tr>\n",
       "  </thead>\n",
       "  <tbody>\n",
       "    <tr>\n",
       "      <th>464</th>\n",
       "      <td>0</td>\n",
       "      <td>A080078003</td>\n",
       "      <td>A080000078</td>\n",
       "      <td>0</td>\n",
       "      <td>2020-08-29 00:25:36</td>\n",
       "      <td>23</td>\n",
       "      <td>0</td>\n",
       "    </tr>\n",
       "    <tr>\n",
       "      <th>465</th>\n",
       "      <td>0</td>\n",
       "      <td>A080078004</td>\n",
       "      <td>A080000078</td>\n",
       "      <td>0</td>\n",
       "      <td>2020-08-29 00:25:40</td>\n",
       "      <td>23</td>\n",
       "      <td>0</td>\n",
       "    </tr>\n",
       "    <tr>\n",
       "      <th>466</th>\n",
       "      <td>0</td>\n",
       "      <td>A080078005</td>\n",
       "      <td>A080000078</td>\n",
       "      <td>0</td>\n",
       "      <td>2020-08-29 00:26:05</td>\n",
       "      <td>23</td>\n",
       "      <td>0</td>\n",
       "    </tr>\n",
       "    <tr>\n",
       "      <th>469</th>\n",
       "      <td>0</td>\n",
       "      <td>A080078008</td>\n",
       "      <td>A080000078</td>\n",
       "      <td>0</td>\n",
       "      <td>2020-08-29 00:26:11</td>\n",
       "      <td>23</td>\n",
       "      <td>0</td>\n",
       "    </tr>\n",
       "    <tr>\n",
       "      <th>2364</th>\n",
       "      <td>5</td>\n",
       "      <td>A080077003</td>\n",
       "      <td>A080000077</td>\n",
       "      <td>1</td>\n",
       "      <td>2020-08-21 19:52:36</td>\n",
       "      <td>23</td>\n",
       "      <td>0</td>\n",
       "    </tr>\n",
       "    <tr>\n",
       "      <th>...</th>\n",
       "      <td>...</td>\n",
       "      <td>...</td>\n",
       "      <td>...</td>\n",
       "      <td>...</td>\n",
       "      <td>...</td>\n",
       "      <td>...</td>\n",
       "      <td>...</td>\n",
       "    </tr>\n",
       "    <tr>\n",
       "      <th>2262760</th>\n",
       "      <td>7215</td>\n",
       "      <td>A080077007</td>\n",
       "      <td>A080000077</td>\n",
       "      <td>1</td>\n",
       "      <td>2020-08-31 06:31:40</td>\n",
       "      <td>23</td>\n",
       "      <td>0</td>\n",
       "    </tr>\n",
       "    <tr>\n",
       "      <th>2263669</th>\n",
       "      <td>7266</td>\n",
       "      <td>A080078008</td>\n",
       "      <td>A080000078</td>\n",
       "      <td>0</td>\n",
       "      <td>2020-08-12 06:01:36</td>\n",
       "      <td>23</td>\n",
       "      <td>0</td>\n",
       "    </tr>\n",
       "    <tr>\n",
       "      <th>2263670</th>\n",
       "      <td>7266</td>\n",
       "      <td>A080078003</td>\n",
       "      <td>A080000078</td>\n",
       "      <td>0</td>\n",
       "      <td>2020-08-12 06:06:06</td>\n",
       "      <td>23</td>\n",
       "      <td>0</td>\n",
       "    </tr>\n",
       "    <tr>\n",
       "      <th>2263672</th>\n",
       "      <td>7266</td>\n",
       "      <td>A080078004</td>\n",
       "      <td>A080000078</td>\n",
       "      <td>0</td>\n",
       "      <td>2020-08-12 06:08:09</td>\n",
       "      <td>23</td>\n",
       "      <td>0</td>\n",
       "    </tr>\n",
       "    <tr>\n",
       "      <th>2263673</th>\n",
       "      <td>7266</td>\n",
       "      <td>A080078005</td>\n",
       "      <td>A080000078</td>\n",
       "      <td>0</td>\n",
       "      <td>2020-08-12 06:09:44</td>\n",
       "      <td>23</td>\n",
       "      <td>0</td>\n",
       "    </tr>\n",
       "  </tbody>\n",
       "</table>\n",
       "<p>1800 rows × 7 columns</p>\n",
       "</div>"
      ],
      "text/plain": [
       "         userID assessmentItemID      testId  answerCode           Timestamp  \\\n",
       "464           0       A080078003  A080000078           0 2020-08-29 00:25:36   \n",
       "465           0       A080078004  A080000078           0 2020-08-29 00:25:40   \n",
       "466           0       A080078005  A080000078           0 2020-08-29 00:26:05   \n",
       "469           0       A080078008  A080000078           0 2020-08-29 00:26:11   \n",
       "2364          5       A080077003  A080000077           1 2020-08-21 19:52:36   \n",
       "...         ...              ...         ...         ...                 ...   \n",
       "2262760    7215       A080077007  A080000077           1 2020-08-31 06:31:40   \n",
       "2263669    7266       A080078008  A080000078           0 2020-08-12 06:01:36   \n",
       "2263670    7266       A080078003  A080000078           0 2020-08-12 06:06:06   \n",
       "2263672    7266       A080078004  A080000078           0 2020-08-12 06:08:09   \n",
       "2263673    7266       A080078005  A080000078           0 2020-08-12 06:09:44   \n",
       "\n",
       "         KnowledgeTag  KTag  \n",
       "464                23     0  \n",
       "465                23     0  \n",
       "466                23     0  \n",
       "469                23     0  \n",
       "2364               23     0  \n",
       "...               ...   ...  \n",
       "2262760            23     0  \n",
       "2263669            23     0  \n",
       "2263670            23     0  \n",
       "2263672            23     0  \n",
       "2263673            23     0  \n",
       "\n",
       "[1800 rows x 7 columns]"
      ]
     },
     "execution_count": 16,
     "metadata": {},
     "output_type": "execute_result"
    }
   ],
   "source": [
    "train.loc[train['KTag'] == 0]"
   ]
  },
  {
   "cell_type": "code",
   "execution_count": 19,
   "metadata": {},
   "outputs": [
    {
     "data": {
      "text/plain": [
       "tensor([[ 1,  2, -1],\n",
       "        [ 1,  2,  3]])"
      ]
     },
     "execution_count": 19,
     "metadata": {},
     "output_type": "execute_result"
    }
   ],
   "source": [
    "pad_sequence([torch.LongTensor([1, 2]), torch.LongTensor([1, 2, 3])], batch_first=True, padding_value=-1)"
   ]
  },
  {
   "cell_type": "code",
   "execution_count": 2,
   "metadata": {},
   "outputs": [
    {
     "data": {
      "text/plain": [
       "tensor([[1., 0., 0.],\n",
       "        [0., 1., 0.],\n",
       "        [0., 0., 1.]])"
      ]
     },
     "execution_count": 2,
     "metadata": {},
     "output_type": "execute_result"
    }
   ],
   "source": [
    "torch.eye(3)"
   ]
  },
  {
   "cell_type": "code",
   "execution_count": 7,
   "metadata": {},
   "outputs": [
    {
     "data": {
      "text/plain": [
       "tensor([[1, 2, 1, 2],\n",
       "        [3, 4, 3, 4]])"
      ]
     },
     "execution_count": 7,
     "metadata": {},
     "output_type": "execute_result"
    }
   ],
   "source": [
    "torch.cat((torch.tensor([[1, 2], [3, 4]]), torch.tensor([[1, 2], [3, 4]])), dim=1)"
   ]
  },
  {
   "cell_type": "code",
   "execution_count": 14,
   "metadata": {},
   "outputs": [
    {
     "name": "stdout",
     "output_type": "stream",
     "text": [
      "tensor([[[ 0.6195,  1.1019,  0.7366],\n",
      "         [ 0.0000,  0.0000,  0.0000],\n",
      "         [ 0.6195,  1.1019,  0.7366],\n",
      "         [-0.1482,  1.4594, -1.5008]]], grad_fn=<EmbeddingBackward0>)\n"
     ]
    }
   ],
   "source": [
    "embedding = torch.nn.Embedding(10, 3, padding_idx=-1)\n",
    "input = torch.LongTensor([[0, 9, 0, 5]])\n",
    "print(embedding(input))"
   ]
  },
  {
   "cell_type": "markdown",
   "metadata": {},
   "source": [
    "### Assisment data"
   ]
  },
  {
   "cell_type": "code",
   "execution_count": 30,
   "metadata": {},
   "outputs": [],
   "source": [
    "file_path = 'data/assistment_test15.csv'\n",
    "df = pd.read_csv(file_path)\n",
    "if \"skill_id\" not in df.columns:\n",
    "    raise KeyError(f\"The column 'skill_id' was not found on {file_path}\")\n",
    "if \"correct\" not in df.columns:\n",
    "    raise KeyError(f\"The column 'correct' was not found on {file_path}\")\n",
    "if \"user_id\" not in df.columns:\n",
    "    raise KeyError(f\"The column 'user_id' was not found on {file_path}\")"
   ]
  },
  {
   "cell_type": "code",
   "execution_count": 31,
   "metadata": {},
   "outputs": [
    {
     "data": {
      "text/plain": [
       "70740    445\n",
       "70363    413\n",
       "70699    309\n",
       "71179    190\n",
       "70684    174\n",
       "70709     90\n",
       "71066     82\n",
       "80119     53\n",
       "71205     32\n",
       "78091     29\n",
       "54318     24\n",
       "64532     18\n",
       "71215     17\n",
       "52613      7\n",
       "84381      4\n",
       "Name: user_id, dtype: int64"
      ]
     },
     "execution_count": 31,
     "metadata": {},
     "output_type": "execute_result"
    }
   ],
   "source": [
    "df['user_id'].value_counts()"
   ]
  },
  {
   "cell_type": "code",
   "execution_count": 32,
   "metadata": {},
   "outputs": [],
   "source": [
    "df = df.loc[df['skill_id'].notna()]"
   ]
  },
  {
   "cell_type": "code",
   "execution_count": 25,
   "metadata": {},
   "outputs": [
    {
     "data": {
      "text/plain": [
       "74"
      ]
     },
     "execution_count": 25,
     "metadata": {},
     "output_type": "execute_result"
    }
   ],
   "source": [
    "df['skill_id'].nunique()"
   ]
  },
  {
   "cell_type": "code",
   "execution_count": 29,
   "metadata": {},
   "outputs": [
    {
     "data": {
      "text/plain": [
       "15"
      ]
     },
     "execution_count": 29,
     "metadata": {},
     "output_type": "execute_result"
    }
   ],
   "source": [
    "df['user_id'].nunique()"
   ]
  },
  {
   "cell_type": "code",
   "execution_count": 33,
   "metadata": {},
   "outputs": [
    {
     "data": {
      "text/plain": [
       "70740    368\n",
       "70363    326\n",
       "70699    226\n",
       "70684    161\n",
       "71179    149\n",
       "70709     83\n",
       "71066     62\n",
       "80119     47\n",
       "71205     32\n",
       "78091     27\n",
       "54318     24\n",
       "64532     18\n",
       "71215     15\n",
       "52613      7\n",
       "84381      4\n",
       "Name: user_id, dtype: int64"
      ]
     },
     "execution_count": 33,
     "metadata": {},
     "output_type": "execute_result"
    }
   ],
   "source": [
    "df['user_id'].value_counts()"
   ]
  },
  {
   "cell_type": "code",
   "execution_count": 20,
   "metadata": {},
   "outputs": [
    {
     "data": {
      "text/plain": [
       "15"
      ]
     },
     "execution_count": 20,
     "metadata": {},
     "output_type": "execute_result"
    }
   ],
   "source": [
    "df['user_id'].nunique()"
   ]
  },
  {
   "cell_type": "code",
   "execution_count": 1,
   "metadata": {},
   "outputs": [
    {
     "name": "stdout",
     "output_type": "stream",
     "text": [
      "[2, 3]\n",
      "[4]\n",
      "[2, 3, 4]\n"
     ]
    }
   ],
   "source": [
    "a = [2, 3]\n",
    "b = [4]\n",
    "c = a + b\n",
    "\n",
    "print(a)\n",
    "print(b)\n",
    "print(c)"
   ]
  },
  {
   "cell_type": "code",
   "execution_count": null,
   "metadata": {},
   "outputs": [],
   "source": []
  }
 ],
 "metadata": {
  "kernelspec": {
   "display_name": "Python 3.10.8 ('gcn')",
   "language": "python",
   "name": "python3"
  },
  "language_info": {
   "codemirror_mode": {
    "name": "ipython",
    "version": 3
   },
   "file_extension": ".py",
   "mimetype": "text/x-python",
   "name": "python",
   "nbconvert_exporter": "python",
   "pygments_lexer": "ipython3",
   "version": "3.10.8"
  },
  "orig_nbformat": 4,
  "vscode": {
   "interpreter": {
    "hash": "e20694c0580b936adf946462b21f5f5ff4a6066458c55bf72c7dd0f60ef410ed"
   }
  }
 },
 "nbformat": 4,
 "nbformat_minor": 2
}
