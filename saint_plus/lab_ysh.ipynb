{
 "cells": [
  {
   "cell_type": "code",
   "execution_count": 3,
   "metadata": {},
   "outputs": [],
   "source": [
    "import numpy as np\n",
    "import pandas as pd\n",
    "from config import Config\n",
    "from sklearn.model_selection import train_test_split"
   ]
  },
  {
   "cell_type": "code",
   "execution_count": 4,
   "metadata": {},
   "outputs": [],
   "source": [
    "dtype = {\n",
    "    'userID': 'int16',\n",
    "    'answerCode': 'int8',\n",
    "    'KnowledgeTag': 'int16'\n",
    "}\n",
    "\n",
    "train = pd.read_csv(Config.TRAIN_FILE, dtype=dtype, parse_dates=['Timestamp'])\n",
    "train = train.sort_values(by=['userID', 'Timestamp']).reset_index(drop=True)\n",
    "test = pd.read_csv(Config.TEST_FILE, dtype=dtype, parse_dates=['Timestamp'])\n",
    "test = test.sort_values(by=['userID', 'Timestamp']).reset_index(drop=True)"
   ]
  },
  {
   "cell_type": "code",
   "execution_count": 5,
   "metadata": {},
   "outputs": [],
   "source": [
    "train_df = pd.read_csv(Config.TRAIN_FILE, usecols=[\n",
    "                        0, 1, 3, 4, 5], dtype=dtype, parse_dates=['Timestamp'])\n",
    "test_df = pd.read_csv(Config.TEST_FILE, usecols=[\n",
    "                        0, 1, 3, 4, 5], dtype=dtype, parse_dates=['Timestamp'])\n"
   ]
  },
  {
   "cell_type": "code",
   "execution_count": 7,
   "metadata": {},
   "outputs": [
    {
     "data": {
      "text/plain": [
       "730     1860\n",
       "481     1847\n",
       "1112    1777\n",
       "394     1774\n",
       "926     1773\n",
       "        ... \n",
       "7396      14\n",
       "7414      13\n",
       "7390      13\n",
       "7252      13\n",
       "7441       9\n",
       "Name: userID, Length: 6698, dtype: int64"
      ]
     },
     "execution_count": 7,
     "metadata": {},
     "output_type": "execute_result"
    }
   ],
   "source": [
    "train_df['userID'].value_counts()"
   ]
  },
  {
   "cell_type": "code",
   "execution_count": 16,
   "metadata": {},
   "outputs": [
    {
     "data": {
      "text/html": [
       "<div>\n",
       "<style scoped>\n",
       "    .dataframe tbody tr th:only-of-type {\n",
       "        vertical-align: middle;\n",
       "    }\n",
       "\n",
       "    .dataframe tbody tr th {\n",
       "        vertical-align: top;\n",
       "    }\n",
       "\n",
       "    .dataframe thead th {\n",
       "        text-align: right;\n",
       "    }\n",
       "</style>\n",
       "<table border=\"1\" class=\"dataframe\">\n",
       "  <thead>\n",
       "    <tr style=\"text-align: right;\">\n",
       "      <th></th>\n",
       "      <th>userID</th>\n",
       "      <th>assessmentItemID</th>\n",
       "      <th>answerCode</th>\n",
       "      <th>Timestamp</th>\n",
       "      <th>KnowledgeTag</th>\n",
       "    </tr>\n",
       "  </thead>\n",
       "  <tbody>\n",
       "    <tr>\n",
       "      <th>0</th>\n",
       "      <td>3</td>\n",
       "      <td>A050023001</td>\n",
       "      <td>1</td>\n",
       "      <td>2020-01-09 10:56:31</td>\n",
       "      <td>2626</td>\n",
       "    </tr>\n",
       "    <tr>\n",
       "      <th>1</th>\n",
       "      <td>3</td>\n",
       "      <td>A050023002</td>\n",
       "      <td>1</td>\n",
       "      <td>2020-01-09 10:56:57</td>\n",
       "      <td>2626</td>\n",
       "    </tr>\n",
       "    <tr>\n",
       "      <th>2</th>\n",
       "      <td>3</td>\n",
       "      <td>A050023003</td>\n",
       "      <td>0</td>\n",
       "      <td>2020-01-09 10:58:31</td>\n",
       "      <td>2625</td>\n",
       "    </tr>\n",
       "    <tr>\n",
       "      <th>3</th>\n",
       "      <td>3</td>\n",
       "      <td>A050023004</td>\n",
       "      <td>0</td>\n",
       "      <td>2020-01-09 10:58:36</td>\n",
       "      <td>2625</td>\n",
       "    </tr>\n",
       "    <tr>\n",
       "      <th>4</th>\n",
       "      <td>3</td>\n",
       "      <td>A050023006</td>\n",
       "      <td>0</td>\n",
       "      <td>2020-01-09 10:58:43</td>\n",
       "      <td>2623</td>\n",
       "    </tr>\n",
       "    <tr>\n",
       "      <th>...</th>\n",
       "      <td>...</td>\n",
       "      <td>...</td>\n",
       "      <td>...</td>\n",
       "      <td>...</td>\n",
       "      <td>...</td>\n",
       "    </tr>\n",
       "    <tr>\n",
       "      <th>260108</th>\n",
       "      <td>7439</td>\n",
       "      <td>A040197006</td>\n",
       "      <td>1</td>\n",
       "      <td>2020-08-21 07:39:45</td>\n",
       "      <td>2132</td>\n",
       "    </tr>\n",
       "    <tr>\n",
       "      <th>260109</th>\n",
       "      <td>7439</td>\n",
       "      <td>A040130001</td>\n",
       "      <td>0</td>\n",
       "      <td>2020-10-14 23:07:23</td>\n",
       "      <td>8832</td>\n",
       "    </tr>\n",
       "    <tr>\n",
       "      <th>260110</th>\n",
       "      <td>7439</td>\n",
       "      <td>A040130002</td>\n",
       "      <td>1</td>\n",
       "      <td>2020-10-14 23:07:41</td>\n",
       "      <td>8832</td>\n",
       "    </tr>\n",
       "    <tr>\n",
       "      <th>260111</th>\n",
       "      <td>7439</td>\n",
       "      <td>A040130003</td>\n",
       "      <td>1</td>\n",
       "      <td>2020-10-14 23:08:02</td>\n",
       "      <td>8244</td>\n",
       "    </tr>\n",
       "    <tr>\n",
       "      <th>260112</th>\n",
       "      <td>7439</td>\n",
       "      <td>A040130004</td>\n",
       "      <td>1</td>\n",
       "      <td>2020-10-14 23:09:31</td>\n",
       "      <td>8244</td>\n",
       "    </tr>\n",
       "  </tbody>\n",
       "</table>\n",
       "<p>259370 rows × 5 columns</p>\n",
       "</div>"
      ],
      "text/plain": [
       "        userID assessmentItemID  answerCode            Timestamp  KnowledgeTag\n",
       "0            3       A050023001           1  2020-01-09 10:56:31          2626\n",
       "1            3       A050023002           1  2020-01-09 10:56:57          2626\n",
       "2            3       A050023003           0  2020-01-09 10:58:31          2625\n",
       "3            3       A050023004           0  2020-01-09 10:58:36          2625\n",
       "4            3       A050023006           0  2020-01-09 10:58:43          2623\n",
       "...        ...              ...         ...                  ...           ...\n",
       "260108    7439       A040197006           1  2020-08-21 07:39:45          2132\n",
       "260109    7439       A040130001           0  2020-10-14 23:07:23          8832\n",
       "260110    7439       A040130002           1  2020-10-14 23:07:41          8832\n",
       "260111    7439       A040130003           1  2020-10-14 23:08:02          8244\n",
       "260112    7439       A040130004           1  2020-10-14 23:09:31          8244\n",
       "\n",
       "[259370 rows x 5 columns]"
      ]
     },
     "execution_count": 16,
     "metadata": {},
     "output_type": "execute_result"
    }
   ],
   "source": [
    "test_df.loc[test_df['answerCode'] != -1]"
   ]
  },
  {
   "cell_type": "code",
   "execution_count": 7,
   "metadata": {},
   "outputs": [
    {
     "data": {
      "text/html": [
       "<div>\n",
       "<style scoped>\n",
       "    .dataframe tbody tr th:only-of-type {\n",
       "        vertical-align: middle;\n",
       "    }\n",
       "\n",
       "    .dataframe tbody tr th {\n",
       "        vertical-align: top;\n",
       "    }\n",
       "\n",
       "    .dataframe thead th {\n",
       "        text-align: right;\n",
       "    }\n",
       "</style>\n",
       "<table border=\"1\" class=\"dataframe\">\n",
       "  <thead>\n",
       "    <tr style=\"text-align: right;\">\n",
       "      <th></th>\n",
       "      <th>userID</th>\n",
       "      <th>assessmentItemID</th>\n",
       "      <th>answerCode</th>\n",
       "      <th>Timestamp</th>\n",
       "      <th>KnowledgeTag</th>\n",
       "    </tr>\n",
       "  </thead>\n",
       "  <tbody>\n",
       "    <tr>\n",
       "      <th>0</th>\n",
       "      <td>0</td>\n",
       "      <td>A060001001</td>\n",
       "      <td>1</td>\n",
       "      <td>2020-03-24 00:17:11</td>\n",
       "      <td>7224</td>\n",
       "    </tr>\n",
       "    <tr>\n",
       "      <th>1</th>\n",
       "      <td>0</td>\n",
       "      <td>A060001002</td>\n",
       "      <td>1</td>\n",
       "      <td>2020-03-24 00:17:14</td>\n",
       "      <td>7225</td>\n",
       "    </tr>\n",
       "    <tr>\n",
       "      <th>2</th>\n",
       "      <td>0</td>\n",
       "      <td>A060001003</td>\n",
       "      <td>1</td>\n",
       "      <td>2020-03-24 00:17:22</td>\n",
       "      <td>7225</td>\n",
       "    </tr>\n",
       "    <tr>\n",
       "      <th>3</th>\n",
       "      <td>0</td>\n",
       "      <td>A060001004</td>\n",
       "      <td>1</td>\n",
       "      <td>2020-03-24 00:17:29</td>\n",
       "      <td>7225</td>\n",
       "    </tr>\n",
       "    <tr>\n",
       "      <th>4</th>\n",
       "      <td>0</td>\n",
       "      <td>A060001005</td>\n",
       "      <td>1</td>\n",
       "      <td>2020-03-24 00:17:36</td>\n",
       "      <td>7225</td>\n",
       "    </tr>\n",
       "    <tr>\n",
       "      <th>...</th>\n",
       "      <td>...</td>\n",
       "      <td>...</td>\n",
       "      <td>...</td>\n",
       "      <td>...</td>\n",
       "      <td>...</td>\n",
       "    </tr>\n",
       "    <tr>\n",
       "      <th>260109</th>\n",
       "      <td>7439</td>\n",
       "      <td>A040130001</td>\n",
       "      <td>0</td>\n",
       "      <td>2020-10-14 23:07:23</td>\n",
       "      <td>8832</td>\n",
       "    </tr>\n",
       "    <tr>\n",
       "      <th>260110</th>\n",
       "      <td>7439</td>\n",
       "      <td>A040130002</td>\n",
       "      <td>1</td>\n",
       "      <td>2020-10-14 23:07:41</td>\n",
       "      <td>8832</td>\n",
       "    </tr>\n",
       "    <tr>\n",
       "      <th>260111</th>\n",
       "      <td>7439</td>\n",
       "      <td>A040130003</td>\n",
       "      <td>1</td>\n",
       "      <td>2020-10-14 23:08:02</td>\n",
       "      <td>8244</td>\n",
       "    </tr>\n",
       "    <tr>\n",
       "      <th>260112</th>\n",
       "      <td>7439</td>\n",
       "      <td>A040130004</td>\n",
       "      <td>1</td>\n",
       "      <td>2020-10-14 23:09:31</td>\n",
       "      <td>8244</td>\n",
       "    </tr>\n",
       "    <tr>\n",
       "      <th>260113</th>\n",
       "      <td>7439</td>\n",
       "      <td>A040130005</td>\n",
       "      <td>-1</td>\n",
       "      <td>2020-10-14 23:10:03</td>\n",
       "      <td>8832</td>\n",
       "    </tr>\n",
       "  </tbody>\n",
       "</table>\n",
       "<p>2526700 rows × 5 columns</p>\n",
       "</div>"
      ],
      "text/plain": [
       "        userID assessmentItemID  answerCode            Timestamp  KnowledgeTag\n",
       "0            0       A060001001           1  2020-03-24 00:17:11          7224\n",
       "1            0       A060001002           1  2020-03-24 00:17:14          7225\n",
       "2            0       A060001003           1  2020-03-24 00:17:22          7225\n",
       "3            0       A060001004           1  2020-03-24 00:17:29          7225\n",
       "4            0       A060001005           1  2020-03-24 00:17:36          7225\n",
       "...        ...              ...         ...                  ...           ...\n",
       "260109    7439       A040130001           0  2020-10-14 23:07:23          8832\n",
       "260110    7439       A040130002           1  2020-10-14 23:07:41          8832\n",
       "260111    7439       A040130003           1  2020-10-14 23:08:02          8244\n",
       "260112    7439       A040130004           1  2020-10-14 23:09:31          8244\n",
       "260113    7439       A040130005          -1  2020-10-14 23:10:03          8832\n",
       "\n",
       "[2526700 rows x 5 columns]"
      ]
     },
     "execution_count": 7,
     "metadata": {},
     "output_type": "execute_result"
    }
   ],
   "source": [
    "pd.concat([train_df, test_df]).reset"
   ]
  },
  {
   "cell_type": "code",
   "execution_count": 12,
   "metadata": {},
   "outputs": [],
   "source": [
    "train_split, valid_split = train_test_split(train_df, test_size=0.1)"
   ]
  },
  {
   "cell_type": "code",
   "execution_count": 13,
   "metadata": {},
   "outputs": [
    {
     "data": {
      "text/html": [
       "<div>\n",
       "<style scoped>\n",
       "    .dataframe tbody tr th:only-of-type {\n",
       "        vertical-align: middle;\n",
       "    }\n",
       "\n",
       "    .dataframe tbody tr th {\n",
       "        vertical-align: top;\n",
       "    }\n",
       "\n",
       "    .dataframe thead th {\n",
       "        text-align: right;\n",
       "    }\n",
       "</style>\n",
       "<table border=\"1\" class=\"dataframe\">\n",
       "  <thead>\n",
       "    <tr style=\"text-align: right;\">\n",
       "      <th></th>\n",
       "      <th>userID</th>\n",
       "      <th>assessmentItemID</th>\n",
       "      <th>answerCode</th>\n",
       "      <th>Timestamp</th>\n",
       "      <th>KnowledgeTag</th>\n",
       "    </tr>\n",
       "  </thead>\n",
       "  <tbody>\n",
       "    <tr>\n",
       "      <th>432861</th>\n",
       "      <td>604</td>\n",
       "      <td>A070120007</td>\n",
       "      <td>0</td>\n",
       "      <td>2020-09-01 23:12:13</td>\n",
       "      <td>9660</td>\n",
       "    </tr>\n",
       "    <tr>\n",
       "      <th>1975772</th>\n",
       "      <td>4056</td>\n",
       "      <td>A050126003</td>\n",
       "      <td>1</td>\n",
       "      <td>2020-09-23 05:53:58</td>\n",
       "      <td>5289</td>\n",
       "    </tr>\n",
       "    <tr>\n",
       "      <th>2063263</th>\n",
       "      <td>4527</td>\n",
       "      <td>A030167001</td>\n",
       "      <td>1</td>\n",
       "      <td>2020-10-20 23:25:39</td>\n",
       "      <td>1727</td>\n",
       "    </tr>\n",
       "    <tr>\n",
       "      <th>715769</th>\n",
       "      <td>1034</td>\n",
       "      <td>A020086010</td>\n",
       "      <td>0</td>\n",
       "      <td>2020-05-08 03:09:42</td>\n",
       "      <td>7938</td>\n",
       "    </tr>\n",
       "    <tr>\n",
       "      <th>1248716</th>\n",
       "      <td>1978</td>\n",
       "      <td>A080047006</td>\n",
       "      <td>0</td>\n",
       "      <td>2020-06-17 22:20:27</td>\n",
       "      <td>4804</td>\n",
       "    </tr>\n",
       "    <tr>\n",
       "      <th>...</th>\n",
       "      <td>...</td>\n",
       "      <td>...</td>\n",
       "      <td>...</td>\n",
       "      <td>...</td>\n",
       "      <td>...</td>\n",
       "    </tr>\n",
       "    <tr>\n",
       "      <th>1218647</th>\n",
       "      <td>1913</td>\n",
       "      <td>A030013004</td>\n",
       "      <td>0</td>\n",
       "      <td>2020-04-17 12:12:14</td>\n",
       "      <td>7308</td>\n",
       "    </tr>\n",
       "    <tr>\n",
       "      <th>2240917</th>\n",
       "      <td>6513</td>\n",
       "      <td>A070001002</td>\n",
       "      <td>1</td>\n",
       "      <td>2020-01-21 05:45:53</td>\n",
       "      <td>608</td>\n",
       "    </tr>\n",
       "    <tr>\n",
       "      <th>1278797</th>\n",
       "      <td>2051</td>\n",
       "      <td>A020090002</td>\n",
       "      <td>1</td>\n",
       "      <td>2020-07-30 12:04:57</td>\n",
       "      <td>7944</td>\n",
       "    </tr>\n",
       "    <tr>\n",
       "      <th>2070582</th>\n",
       "      <td>4575</td>\n",
       "      <td>A030007005</td>\n",
       "      <td>1</td>\n",
       "      <td>2020-08-11 08:24:54</td>\n",
       "      <td>307</td>\n",
       "    </tr>\n",
       "    <tr>\n",
       "      <th>479322</th>\n",
       "      <td>674</td>\n",
       "      <td>A090020007</td>\n",
       "      <td>0</td>\n",
       "      <td>2020-04-10 00:24:24</td>\n",
       "      <td>972</td>\n",
       "    </tr>\n",
       "  </tbody>\n",
       "</table>\n",
       "<p>2039927 rows × 5 columns</p>\n",
       "</div>"
      ],
      "text/plain": [
       "         userID assessmentItemID  answerCode            Timestamp  \\\n",
       "432861      604       A070120007           0  2020-09-01 23:12:13   \n",
       "1975772    4056       A050126003           1  2020-09-23 05:53:58   \n",
       "2063263    4527       A030167001           1  2020-10-20 23:25:39   \n",
       "715769     1034       A020086010           0  2020-05-08 03:09:42   \n",
       "1248716    1978       A080047006           0  2020-06-17 22:20:27   \n",
       "...         ...              ...         ...                  ...   \n",
       "1218647    1913       A030013004           0  2020-04-17 12:12:14   \n",
       "2240917    6513       A070001002           1  2020-01-21 05:45:53   \n",
       "1278797    2051       A020090002           1  2020-07-30 12:04:57   \n",
       "2070582    4575       A030007005           1  2020-08-11 08:24:54   \n",
       "479322      674       A090020007           0  2020-04-10 00:24:24   \n",
       "\n",
       "         KnowledgeTag  \n",
       "432861           9660  \n",
       "1975772          5289  \n",
       "2063263          1727  \n",
       "715769           7938  \n",
       "1248716          4804  \n",
       "...               ...  \n",
       "1218647          7308  \n",
       "2240917           608  \n",
       "1278797          7944  \n",
       "2070582           307  \n",
       "479322            972  \n",
       "\n",
       "[2039927 rows x 5 columns]"
      ]
     },
     "execution_count": 13,
     "metadata": {},
     "output_type": "execute_result"
    }
   ],
   "source": [
    "train_split"
   ]
  },
  {
   "cell_type": "code",
   "execution_count": 14,
   "metadata": {},
   "outputs": [
    {
     "data": {
      "text/html": [
       "<div>\n",
       "<style scoped>\n",
       "    .dataframe tbody tr th:only-of-type {\n",
       "        vertical-align: middle;\n",
       "    }\n",
       "\n",
       "    .dataframe tbody tr th {\n",
       "        vertical-align: top;\n",
       "    }\n",
       "\n",
       "    .dataframe thead th {\n",
       "        text-align: right;\n",
       "    }\n",
       "</style>\n",
       "<table border=\"1\" class=\"dataframe\">\n",
       "  <thead>\n",
       "    <tr style=\"text-align: right;\">\n",
       "      <th></th>\n",
       "      <th>userID</th>\n",
       "      <th>assessmentItemID</th>\n",
       "      <th>answerCode</th>\n",
       "      <th>Timestamp</th>\n",
       "      <th>KnowledgeTag</th>\n",
       "    </tr>\n",
       "  </thead>\n",
       "  <tbody>\n",
       "    <tr>\n",
       "      <th>2020327</th>\n",
       "      <td>4270</td>\n",
       "      <td>A060170004</td>\n",
       "      <td>0</td>\n",
       "      <td>2020-10-23 14:19:48</td>\n",
       "      <td>1494</td>\n",
       "    </tr>\n",
       "    <tr>\n",
       "      <th>2017970</th>\n",
       "      <td>4262</td>\n",
       "      <td>A050177006</td>\n",
       "      <td>0</td>\n",
       "      <td>2020-08-28 05:46:36</td>\n",
       "      <td>5544</td>\n",
       "    </tr>\n",
       "    <tr>\n",
       "      <th>1148513</th>\n",
       "      <td>1775</td>\n",
       "      <td>A080051006</td>\n",
       "      <td>0</td>\n",
       "      <td>2020-05-27 04:51:01</td>\n",
       "      <td>4959</td>\n",
       "    </tr>\n",
       "    <tr>\n",
       "      <th>664302</th>\n",
       "      <td>952</td>\n",
       "      <td>A020124002</td>\n",
       "      <td>1</td>\n",
       "      <td>2020-09-25 04:44:24</td>\n",
       "      <td>8018</td>\n",
       "    </tr>\n",
       "    <tr>\n",
       "      <th>814119</th>\n",
       "      <td>1185</td>\n",
       "      <td>A010062002</td>\n",
       "      <td>0</td>\n",
       "      <td>2020-08-06 06:45:54</td>\n",
       "      <td>6453</td>\n",
       "    </tr>\n",
       "    <tr>\n",
       "      <th>...</th>\n",
       "      <td>...</td>\n",
       "      <td>...</td>\n",
       "      <td>...</td>\n",
       "      <td>...</td>\n",
       "      <td>...</td>\n",
       "    </tr>\n",
       "    <tr>\n",
       "      <th>1762474</th>\n",
       "      <td>3235</td>\n",
       "      <td>A020096004</td>\n",
       "      <td>1</td>\n",
       "      <td>2020-07-14 11:10:28</td>\n",
       "      <td>7944</td>\n",
       "    </tr>\n",
       "    <tr>\n",
       "      <th>1394227</th>\n",
       "      <td>2296</td>\n",
       "      <td>A050073005</td>\n",
       "      <td>0</td>\n",
       "      <td>2020-08-06 12:03:41</td>\n",
       "      <td>3828</td>\n",
       "    </tr>\n",
       "    <tr>\n",
       "      <th>18710</th>\n",
       "      <td>25</td>\n",
       "      <td>A070128004</td>\n",
       "      <td>0</td>\n",
       "      <td>2020-11-17 05:53:59</td>\n",
       "      <td>9065</td>\n",
       "    </tr>\n",
       "    <tr>\n",
       "      <th>394039</th>\n",
       "      <td>539</td>\n",
       "      <td>A070005006</td>\n",
       "      <td>1</td>\n",
       "      <td>2020-04-27 21:19:06</td>\n",
       "      <td>3794</td>\n",
       "    </tr>\n",
       "    <tr>\n",
       "      <th>1239521</th>\n",
       "      <td>1959</td>\n",
       "      <td>A040056002</td>\n",
       "      <td>0</td>\n",
       "      <td>2020-04-16 09:59:12</td>\n",
       "      <td>2072</td>\n",
       "    </tr>\n",
       "  </tbody>\n",
       "</table>\n",
       "<p>226659 rows × 5 columns</p>\n",
       "</div>"
      ],
      "text/plain": [
       "         userID assessmentItemID  answerCode            Timestamp  \\\n",
       "2020327    4270       A060170004           0  2020-10-23 14:19:48   \n",
       "2017970    4262       A050177006           0  2020-08-28 05:46:36   \n",
       "1148513    1775       A080051006           0  2020-05-27 04:51:01   \n",
       "664302      952       A020124002           1  2020-09-25 04:44:24   \n",
       "814119     1185       A010062002           0  2020-08-06 06:45:54   \n",
       "...         ...              ...         ...                  ...   \n",
       "1762474    3235       A020096004           1  2020-07-14 11:10:28   \n",
       "1394227    2296       A050073005           0  2020-08-06 12:03:41   \n",
       "18710        25       A070128004           0  2020-11-17 05:53:59   \n",
       "394039      539       A070005006           1  2020-04-27 21:19:06   \n",
       "1239521    1959       A040056002           0  2020-04-16 09:59:12   \n",
       "\n",
       "         KnowledgeTag  \n",
       "2020327          1494  \n",
       "2017970          5544  \n",
       "1148513          4959  \n",
       "664302           8018  \n",
       "814119           6453  \n",
       "...               ...  \n",
       "1762474          7944  \n",
       "1394227          3828  \n",
       "18710            9065  \n",
       "394039           3794  \n",
       "1239521          2072  \n",
       "\n",
       "[226659 rows x 5 columns]"
      ]
     },
     "execution_count": 14,
     "metadata": {},
     "output_type": "execute_result"
    }
   ],
   "source": [
    "valid_split"
   ]
  },
  {
   "cell_type": "code",
   "execution_count": 7,
   "metadata": {},
   "outputs": [
    {
     "data": {
      "text/plain": [
       "set()"
      ]
     },
     "execution_count": 7,
     "metadata": {},
     "output_type": "execute_result"
    }
   ],
   "source": [
    "set(test['KnowledgeTag']) - set(train['KnowledgeTag'])"
   ]
  },
  {
   "cell_type": "code",
   "execution_count": 8,
   "metadata": {},
   "outputs": [
    {
     "data": {
      "text/plain": [
       "912"
      ]
     },
     "execution_count": 8,
     "metadata": {},
     "output_type": "execute_result"
    }
   ],
   "source": [
    "train['KnowledgeTag'].nunique()"
   ]
  },
  {
   "cell_type": "code",
   "execution_count": 11,
   "metadata": {},
   "outputs": [
    {
     "name": "stdout",
     "output_type": "stream",
     "text": [
      "<class 'pandas.core.frame.DataFrame'>\n",
      "RangeIndex: 2266586 entries, 0 to 2266585\n",
      "Data columns (total 6 columns):\n",
      " #   Column            Dtype         \n",
      "---  ------            -----         \n",
      " 0   userID            int16         \n",
      " 1   assessmentItemID  object        \n",
      " 2   testId            object        \n",
      " 3   answerCode        int8          \n",
      " 4   Timestamp         datetime64[ns]\n",
      " 5   KnowledgeTag      int16         \n",
      "dtypes: datetime64[ns](1), int16(2), int8(1), object(2)\n",
      "memory usage: 62.7+ MB\n"
     ]
    }
   ],
   "source": [
    "train.info()"
   ]
  },
  {
   "cell_type": "code",
   "execution_count": 12,
   "metadata": {},
   "outputs": [
    {
     "name": "stdout",
     "output_type": "stream",
     "text": [
      "<class 'pandas.core.frame.DataFrame'>\n",
      "RangeIndex: 260114 entries, 0 to 260113\n",
      "Data columns (total 6 columns):\n",
      " #   Column            Non-Null Count   Dtype         \n",
      "---  ------            --------------   -----         \n",
      " 0   userID            260114 non-null  int16         \n",
      " 1   assessmentItemID  260114 non-null  object        \n",
      " 2   testId            260114 non-null  object        \n",
      " 3   answerCode        260114 non-null  int8          \n",
      " 4   Timestamp         260114 non-null  datetime64[ns]\n",
      " 5   KnowledgeTag      260114 non-null  int16         \n",
      "dtypes: datetime64[ns](1), int16(2), int8(1), object(2)\n",
      "memory usage: 7.2+ MB\n"
     ]
    }
   ],
   "source": [
    "test.info()"
   ]
  },
  {
   "cell_type": "code",
   "execution_count": null,
   "metadata": {},
   "outputs": [],
   "source": [
    "train.loc[:, ['userID', 'Timestamp']].groupby('userID').diff(periods=-1)[\"Timestamp\"].apply(lambda x: -x)"
   ]
  },
  {
   "cell_type": "code",
   "execution_count": 34,
   "metadata": {},
   "outputs": [],
   "source": [
    "a = train_df.loc[:, ['userID', 'Timestamp']].groupby('userID').diff(periods=1)['Timestamp'].fillna(pd.Timedelta(seconds=0)).apply(lambda x: x.total_seconds())"
   ]
  },
  {
   "cell_type": "code",
   "execution_count": 35,
   "metadata": {},
   "outputs": [
    {
     "data": {
      "text/plain": [
       "0                0.0\n",
       "1                3.0\n",
       "2                8.0\n",
       "3                7.0\n",
       "4                7.0\n",
       "             ...    \n",
       "2266581         24.0\n",
       "2266582    6632178.0\n",
       "2266583         11.0\n",
       "2266584         46.0\n",
       "2266585         73.0\n",
       "Name: Timestamp, Length: 2266586, dtype: float64"
      ]
     },
     "execution_count": 35,
     "metadata": {},
     "output_type": "execute_result"
    }
   ],
   "source": [
    "a"
   ]
  },
  {
   "cell_type": "code",
   "execution_count": 50,
   "metadata": {},
   "outputs": [
    {
     "data": {
      "text/plain": [
       "25602295"
      ]
     },
     "execution_count": 50,
     "metadata": {},
     "output_type": "execute_result"
    }
   ],
   "source": [
    "a.astype(np.int32).max()"
   ]
  },
  {
   "cell_type": "code",
   "execution_count": 37,
   "metadata": {},
   "outputs": [
    {
     "data": {
      "text/plain": [
       "0            0.0\n",
       "1            3.0\n",
       "2            8.0\n",
       "3            7.0\n",
       "4            7.0\n",
       "           ...  \n",
       "2266581     24.0\n",
       "2266582    600.0\n",
       "2266583     11.0\n",
       "2266584     46.0\n",
       "2266585     73.0\n",
       "Name: Timestamp, Length: 2266586, dtype: float64"
      ]
     },
     "execution_count": 37,
     "metadata": {},
     "output_type": "execute_result"
    }
   ],
   "source": [
    "a.apply(lambda x: x if x <= 600.0 else 600.0)"
   ]
  },
  {
   "cell_type": "code",
   "execution_count": 53,
   "metadata": {},
   "outputs": [],
   "source": [
    "train_group = train_df[[\"userID\", \"assessmentItemID\", \"answerCode\", \"KnowledgeTag\"]]\\\n",
    "    .groupby(\"userID\")\\\n",
    "    .apply(lambda r: (r.assessmentItemID.values, r.answerCode.values,\n",
    "                         r.KnowledgeTag.values))"
   ]
  },
  {
   "cell_type": "code",
   "execution_count": 8,
   "metadata": {},
   "outputs": [],
   "source": [
    "test_group = test_df[[\"userID\", \"assessmentItemID\", \"answerCode\", \"KnowledgeTag\"]]\\\n",
    "    .groupby(\"userID\")\\\n",
    "    .apply(lambda r: (r.assessmentItemID.values, r.answerCode.values,\n",
    "                         r.KnowledgeTag.values))"
   ]
  },
  {
   "cell_type": "code",
   "execution_count": 9,
   "metadata": {},
   "outputs": [
    {
     "data": {
      "text/plain": [
       "744"
      ]
     },
     "execution_count": 9,
     "metadata": {},
     "output_type": "execute_result"
    }
   ],
   "source": [
    "len(test_group)"
   ]
  },
  {
   "cell_type": "code",
   "execution_count": 64,
   "metadata": {},
   "outputs": [
    {
     "data": {
      "text/plain": [
       "userID\n",
       "0       ([A060001001, A060001002, A060001003, A0600010...\n",
       "1       ([A040013001, A040013002, A040013003, A0400130...\n",
       "2       ([A030050001, A030050002, A030050003, A0300500...\n",
       "5       ([A080001001, A080001002, A080001003, A0800010...\n",
       "6       ([A030016001, A030016002, A030016003, A0300160...\n",
       "                              ...                        \n",
       "7436    ([A050095001, A050095002, A050095003, A0500950...\n",
       "7437    ([A040072001, A040072002, A040072003, A0400720...\n",
       "7438    ([A080002001, A080002002, A080002003, A0800020...\n",
       "7440    ([A050096001, A050096002, A050096005, A0500960...\n",
       "7441    ([A030071001, A030071002, A030071003, A0300710...\n",
       "Length: 6698, dtype: object"
      ]
     },
     "execution_count": 64,
     "metadata": {},
     "output_type": "execute_result"
    }
   ],
   "source": [
    "train_group"
   ]
  },
  {
   "cell_type": "code",
   "execution_count": 69,
   "metadata": {},
   "outputs": [],
   "source": [
    "t, v = train_test_split(train_group, test_size=0.1)"
   ]
  },
  {
   "cell_type": "code",
   "execution_count": 70,
   "metadata": {},
   "outputs": [
    {
     "data": {
      "text/plain": [
       "userID\n",
       "7423    ([A030170001, A030170002, A030170003, A0301700...\n",
       "401     ([A070001001, A070001002, A070001003, A0700010...\n",
       "6533    ([A050001001, A050001002, A050001003, A0500010...\n",
       "5862    ([A050159001, A050159002, A050159003, A0501590...\n",
       "4564    ([A070071001, A070071002, A070071003, A0700710...\n",
       "                              ...                        \n",
       "2741    ([A040004001, A040004002, A040004003, A0400040...\n",
       "1778    ([A030017001, A030017002, A030017003, A0300170...\n",
       "5558    ([A040086001, A040086002, A040086003, A0400860...\n",
       "5594    ([A040041001, A040041002, A040041003, A0400410...\n",
       "649     ([A040027001, A040027002, A040027003, A0400270...\n",
       "Length: 6028, dtype: object"
      ]
     },
     "execution_count": 70,
     "metadata": {},
     "output_type": "execute_result"
    }
   ],
   "source": [
    "t"
   ]
  },
  {
   "cell_type": "code",
   "execution_count": 71,
   "metadata": {},
   "outputs": [
    {
     "data": {
      "text/plain": [
       "userID\n",
       "3370    ([A050046001, A050046002, A050046003, A0500460...\n",
       "4845    ([A080003001, A080003002, A080003003, A0800030...\n",
       "3193    ([A050002001, A050002002, A050002003, A0500020...\n",
       "6924    ([A080004001, A080004002, A080004003, A0800040...\n",
       "4331    ([A090003001, A090003003, A090003002, A0900030...\n",
       "                              ...                        \n",
       "6092    ([A050107001, A050107002, A050107003, A0501070...\n",
       "1704    ([A070001001, A070001002, A070001003, A0700010...\n",
       "6107    ([A030016001, A030016002, A030016003, A0300160...\n",
       "3778    ([A070003001, A070003002, A070003003, A0700030...\n",
       "1803    ([A060081001, A060081002, A060081003, A0600810...\n",
       "Length: 670, dtype: object"
      ]
     },
     "execution_count": 71,
     "metadata": {},
     "output_type": "execute_result"
    }
   ],
   "source": [
    "v"
   ]
  },
  {
   "cell_type": "code",
   "execution_count": 67,
   "metadata": {},
   "outputs": [
    {
     "data": {
      "text/plain": [
       "userID\n",
       "3       ([A050023001, A050023002, A050023003, A0500230...\n",
       "4       ([A040001001, A040001002, A040001003, A0400010...\n",
       "13      ([A060011001, A060011002, A060011003, A0600110...\n",
       "17      ([A040007001, A040007002, A040007003, A0400070...\n",
       "26      ([A060011001, A060011002, A060011003, A0600110...\n",
       "                              ...                        \n",
       "7395    ([A030076001, A030076002, A030076003, A0300760...\n",
       "7404    ([A020124001, A020124002, A020124003, A0201240...\n",
       "7416    ([A080002001, A080002002, A080002003, A0800020...\n",
       "7417    ([A010093001, A010093002, A010093003, A0100930...\n",
       "7439    ([A040003001, A040003002, A040003003, A0400030...\n",
       "Length: 744, dtype: object"
      ]
     },
     "execution_count": 67,
     "metadata": {},
     "output_type": "execute_result"
    }
   ],
   "source": [
    "test_group"
   ]
  },
  {
   "cell_type": "code",
   "execution_count": 76,
   "metadata": {},
   "outputs": [
    {
     "data": {
      "text/plain": [
       "userID\n",
       "7423    ([A030170001, A030170002, A030170003, A0301700...\n",
       "401     ([A070001001, A070001002, A070001003, A0700010...\n",
       "6533    ([A050001001, A050001002, A050001003, A0500010...\n",
       "5862    ([A050159001, A050159002, A050159003, A0501590...\n",
       "4564    ([A070071001, A070071002, A070071003, A0700710...\n",
       "                              ...                        \n",
       "7395    ([A030076001, A030076002, A030076003, A0300760...\n",
       "7404    ([A020124001, A020124002, A020124003, A0201240...\n",
       "7416    ([A080002001, A080002002, A080002003, A0800020...\n",
       "7417    ([A010093001, A010093002, A010093003, A0100930...\n",
       "7439    ([A040003001, A040003002, A040003003, A0400030...\n",
       "Length: 6772, dtype: object"
      ]
     },
     "execution_count": 76,
     "metadata": {},
     "output_type": "execute_result"
    }
   ],
   "source": [
    "pd.concat([t, test_group])"
   ]
  },
  {
   "cell_type": "code",
   "execution_count": 17,
   "metadata": {},
   "outputs": [
    {
     "data": {
      "text/html": [
       "<div>\n",
       "<style scoped>\n",
       "    .dataframe tbody tr th:only-of-type {\n",
       "        vertical-align: middle;\n",
       "    }\n",
       "\n",
       "    .dataframe tbody tr th {\n",
       "        vertical-align: top;\n",
       "    }\n",
       "\n",
       "    .dataframe thead th {\n",
       "        text-align: right;\n",
       "    }\n",
       "</style>\n",
       "<table border=\"1\" class=\"dataframe\">\n",
       "  <thead>\n",
       "    <tr style=\"text-align: right;\">\n",
       "      <th></th>\n",
       "      <th>userID</th>\n",
       "      <th>assessmentItemID</th>\n",
       "      <th>answerCode</th>\n",
       "      <th>Timestamp</th>\n",
       "      <th>KnowledgeTag</th>\n",
       "    </tr>\n",
       "  </thead>\n",
       "  <tbody>\n",
       "    <tr>\n",
       "      <th>0</th>\n",
       "      <td>3</td>\n",
       "      <td>A050023001</td>\n",
       "      <td>1</td>\n",
       "      <td>2020-01-09 10:56:31</td>\n",
       "      <td>2626</td>\n",
       "    </tr>\n",
       "    <tr>\n",
       "      <th>1</th>\n",
       "      <td>3</td>\n",
       "      <td>A050023002</td>\n",
       "      <td>1</td>\n",
       "      <td>2020-01-09 10:56:57</td>\n",
       "      <td>2626</td>\n",
       "    </tr>\n",
       "    <tr>\n",
       "      <th>2</th>\n",
       "      <td>3</td>\n",
       "      <td>A050023003</td>\n",
       "      <td>0</td>\n",
       "      <td>2020-01-09 10:58:31</td>\n",
       "      <td>2625</td>\n",
       "    </tr>\n",
       "    <tr>\n",
       "      <th>3</th>\n",
       "      <td>3</td>\n",
       "      <td>A050023004</td>\n",
       "      <td>0</td>\n",
       "      <td>2020-01-09 10:58:36</td>\n",
       "      <td>2625</td>\n",
       "    </tr>\n",
       "    <tr>\n",
       "      <th>4</th>\n",
       "      <td>3</td>\n",
       "      <td>A050023006</td>\n",
       "      <td>0</td>\n",
       "      <td>2020-01-09 10:58:43</td>\n",
       "      <td>2623</td>\n",
       "    </tr>\n",
       "    <tr>\n",
       "      <th>...</th>\n",
       "      <td>...</td>\n",
       "      <td>...</td>\n",
       "      <td>...</td>\n",
       "      <td>...</td>\n",
       "      <td>...</td>\n",
       "    </tr>\n",
       "    <tr>\n",
       "      <th>260109</th>\n",
       "      <td>7439</td>\n",
       "      <td>A040130001</td>\n",
       "      <td>0</td>\n",
       "      <td>2020-10-14 23:07:23</td>\n",
       "      <td>8832</td>\n",
       "    </tr>\n",
       "    <tr>\n",
       "      <th>260110</th>\n",
       "      <td>7439</td>\n",
       "      <td>A040130002</td>\n",
       "      <td>1</td>\n",
       "      <td>2020-10-14 23:07:41</td>\n",
       "      <td>8832</td>\n",
       "    </tr>\n",
       "    <tr>\n",
       "      <th>260111</th>\n",
       "      <td>7439</td>\n",
       "      <td>A040130003</td>\n",
       "      <td>1</td>\n",
       "      <td>2020-10-14 23:08:02</td>\n",
       "      <td>8244</td>\n",
       "    </tr>\n",
       "    <tr>\n",
       "      <th>260112</th>\n",
       "      <td>7439</td>\n",
       "      <td>A040130004</td>\n",
       "      <td>1</td>\n",
       "      <td>2020-10-14 23:09:31</td>\n",
       "      <td>8244</td>\n",
       "    </tr>\n",
       "    <tr>\n",
       "      <th>260113</th>\n",
       "      <td>7439</td>\n",
       "      <td>A040130005</td>\n",
       "      <td>-1</td>\n",
       "      <td>2020-10-14 23:10:03</td>\n",
       "      <td>8832</td>\n",
       "    </tr>\n",
       "  </tbody>\n",
       "</table>\n",
       "<p>260114 rows × 5 columns</p>\n",
       "</div>"
      ],
      "text/plain": [
       "        userID assessmentItemID  answerCode            Timestamp  KnowledgeTag\n",
       "0            3       A050023001           1  2020-01-09 10:56:31          2626\n",
       "1            3       A050023002           1  2020-01-09 10:56:57          2626\n",
       "2            3       A050023003           0  2020-01-09 10:58:31          2625\n",
       "3            3       A050023004           0  2020-01-09 10:58:36          2625\n",
       "4            3       A050023006           0  2020-01-09 10:58:43          2623\n",
       "...        ...              ...         ...                  ...           ...\n",
       "260109    7439       A040130001           0  2020-10-14 23:07:23          8832\n",
       "260110    7439       A040130002           1  2020-10-14 23:07:41          8832\n",
       "260111    7439       A040130003           1  2020-10-14 23:08:02          8244\n",
       "260112    7439       A040130004           1  2020-10-14 23:09:31          8244\n",
       "260113    7439       A040130005          -1  2020-10-14 23:10:03          8832\n",
       "\n",
       "[260114 rows x 5 columns]"
      ]
     },
     "execution_count": 17,
     "metadata": {},
     "output_type": "execute_result"
    }
   ],
   "source": [
    "pd.Timedeltatest_df['Timestamp']"
   ]
  },
  {
   "cell_type": "code",
   "execution_count": 65,
   "metadata": {},
   "outputs": [
    {
     "data": {
      "text/html": [
       "<div>\n",
       "<style scoped>\n",
       "    .dataframe tbody tr th:only-of-type {\n",
       "        vertical-align: middle;\n",
       "    }\n",
       "\n",
       "    .dataframe tbody tr th {\n",
       "        vertical-align: top;\n",
       "    }\n",
       "\n",
       "    .dataframe thead th {\n",
       "        text-align: right;\n",
       "    }\n",
       "</style>\n",
       "<table border=\"1\" class=\"dataframe\">\n",
       "  <thead>\n",
       "    <tr style=\"text-align: right;\">\n",
       "      <th></th>\n",
       "      <th>userID</th>\n",
       "      <th>assessmentItemID</th>\n",
       "      <th>answerCode</th>\n",
       "      <th>Timestamp</th>\n",
       "      <th>KnowledgeTag</th>\n",
       "    </tr>\n",
       "  </thead>\n",
       "  <tbody>\n",
       "    <tr>\n",
       "      <th>0</th>\n",
       "      <td>3</td>\n",
       "      <td>A050023001</td>\n",
       "      <td>1</td>\n",
       "      <td>2020-01-09 10:56:31</td>\n",
       "      <td>2626</td>\n",
       "    </tr>\n",
       "    <tr>\n",
       "      <th>1</th>\n",
       "      <td>3</td>\n",
       "      <td>A050023002</td>\n",
       "      <td>1</td>\n",
       "      <td>2020-01-09 10:56:57</td>\n",
       "      <td>2626</td>\n",
       "    </tr>\n",
       "    <tr>\n",
       "      <th>2</th>\n",
       "      <td>3</td>\n",
       "      <td>A050023003</td>\n",
       "      <td>0</td>\n",
       "      <td>2020-01-09 10:58:31</td>\n",
       "      <td>2625</td>\n",
       "    </tr>\n",
       "    <tr>\n",
       "      <th>3</th>\n",
       "      <td>3</td>\n",
       "      <td>A050023004</td>\n",
       "      <td>0</td>\n",
       "      <td>2020-01-09 10:58:36</td>\n",
       "      <td>2625</td>\n",
       "    </tr>\n",
       "    <tr>\n",
       "      <th>4</th>\n",
       "      <td>3</td>\n",
       "      <td>A050023006</td>\n",
       "      <td>0</td>\n",
       "      <td>2020-01-09 10:58:43</td>\n",
       "      <td>2623</td>\n",
       "    </tr>\n",
       "    <tr>\n",
       "      <th>...</th>\n",
       "      <td>...</td>\n",
       "      <td>...</td>\n",
       "      <td>...</td>\n",
       "      <td>...</td>\n",
       "      <td>...</td>\n",
       "    </tr>\n",
       "    <tr>\n",
       "      <th>260109</th>\n",
       "      <td>7439</td>\n",
       "      <td>A040130001</td>\n",
       "      <td>0</td>\n",
       "      <td>2020-10-14 23:07:23</td>\n",
       "      <td>8832</td>\n",
       "    </tr>\n",
       "    <tr>\n",
       "      <th>260110</th>\n",
       "      <td>7439</td>\n",
       "      <td>A040130002</td>\n",
       "      <td>1</td>\n",
       "      <td>2020-10-14 23:07:41</td>\n",
       "      <td>8832</td>\n",
       "    </tr>\n",
       "    <tr>\n",
       "      <th>260111</th>\n",
       "      <td>7439</td>\n",
       "      <td>A040130003</td>\n",
       "      <td>1</td>\n",
       "      <td>2020-10-14 23:08:02</td>\n",
       "      <td>8244</td>\n",
       "    </tr>\n",
       "    <tr>\n",
       "      <th>260112</th>\n",
       "      <td>7439</td>\n",
       "      <td>A040130004</td>\n",
       "      <td>1</td>\n",
       "      <td>2020-10-14 23:09:31</td>\n",
       "      <td>8244</td>\n",
       "    </tr>\n",
       "    <tr>\n",
       "      <th>260113</th>\n",
       "      <td>7439</td>\n",
       "      <td>A040130005</td>\n",
       "      <td>-1</td>\n",
       "      <td>2020-10-14 23:10:03</td>\n",
       "      <td>8832</td>\n",
       "    </tr>\n",
       "  </tbody>\n",
       "</table>\n",
       "<p>260114 rows × 5 columns</p>\n",
       "</div>"
      ],
      "text/plain": [
       "        userID assessmentItemID  answerCode           Timestamp  KnowledgeTag\n",
       "0            3       A050023001           1 2020-01-09 10:56:31          2626\n",
       "1            3       A050023002           1 2020-01-09 10:56:57          2626\n",
       "2            3       A050023003           0 2020-01-09 10:58:31          2625\n",
       "3            3       A050023004           0 2020-01-09 10:58:36          2625\n",
       "4            3       A050023006           0 2020-01-09 10:58:43          2623\n",
       "...        ...              ...         ...                 ...           ...\n",
       "260109    7439       A040130001           0 2020-10-14 23:07:23          8832\n",
       "260110    7439       A040130002           1 2020-10-14 23:07:41          8832\n",
       "260111    7439       A040130003           1 2020-10-14 23:08:02          8244\n",
       "260112    7439       A040130004           1 2020-10-14 23:09:31          8244\n",
       "260113    7439       A040130005          -1 2020-10-14 23:10:03          8832\n",
       "\n",
       "[260114 rows x 5 columns]"
      ]
     },
     "execution_count": 65,
     "metadata": {},
     "output_type": "execute_result"
    }
   ],
   "source": [
    "test_df"
   ]
  },
  {
   "cell_type": "code",
   "execution_count": 77,
   "metadata": {},
   "outputs": [
    {
     "data": {
      "text/plain": [
       "userID\n",
       "3       ([A050023001, A050023002, A050023003, A0500230...\n",
       "4       ([A040001001, A040001002, A040001003, A0400010...\n",
       "13      ([A060011001, A060011002, A060011003, A0600110...\n",
       "17      ([A040007001, A040007002, A040007003, A0400070...\n",
       "26      ([A060011001, A060011002, A060011003, A0600110...\n",
       "                              ...                        \n",
       "7395    ([A030076001, A030076002, A030076003, A0300760...\n",
       "7404    ([A020124001, A020124002, A020124003, A0201240...\n",
       "7416    ([A080002001, A080002002, A080002003, A0800020...\n",
       "7417    ([A010093001, A010093002, A010093003, A0100930...\n",
       "7439    ([A040003001, A040003002, A040003003, A0400030...\n",
       "Length: 744, dtype: object"
      ]
     },
     "execution_count": 77,
     "metadata": {},
     "output_type": "execute_result"
    }
   ],
   "source": [
    "test_group.copy()"
   ]
  },
  {
   "cell_type": "code",
   "execution_count": 10,
   "metadata": {},
   "outputs": [],
   "source": [
    "import torch"
   ]
  },
  {
   "cell_type": "code",
   "execution_count": 12,
   "metadata": {},
   "outputs": [
    {
     "data": {
      "text/plain": [
       "tensor([[False,  True,  True,  True],\n",
       "        [False, False,  True,  True],\n",
       "        [False, False, False,  True],\n",
       "        [False, False, False, False]])"
      ]
     },
     "execution_count": 12,
     "metadata": {},
     "output_type": "execute_result"
    }
   ],
   "source": [
    "torch.triu(torch.ones(4, 4), diagonal=1).to(dtype=torch.bool)"
   ]
  },
  {
   "cell_type": "code",
   "execution_count": 13,
   "metadata": {},
   "outputs": [
    {
     "data": {
      "text/plain": [
       "array([[1, 1],\n",
       "       [2, 2],\n",
       "       [3, 3]])"
      ]
     },
     "execution_count": 13,
     "metadata": {},
     "output_type": "execute_result"
    }
   ],
   "source": [
    "a = np.array([[1, 1], [2, 2], [3, 3]])\n",
    "a"
   ]
  },
  {
   "cell_type": "code",
   "execution_count": 14,
   "metadata": {},
   "outputs": [
    {
     "data": {
      "text/plain": [
       "array([1, 5, 1, 2, 2, 3, 3])"
      ]
     },
     "execution_count": 14,
     "metadata": {},
     "output_type": "execute_result"
    }
   ],
   "source": [
    "np.insert(a, 1, 5)"
   ]
  },
  {
   "cell_type": "code",
   "execution_count": 15,
   "metadata": {},
   "outputs": [
    {
     "data": {
      "text/plain": [
       "array([[1, 5, 1],\n",
       "       [2, 5, 2],\n",
       "       [3, 5, 3]])"
      ]
     },
     "execution_count": 15,
     "metadata": {},
     "output_type": "execute_result"
    }
   ],
   "source": [
    "np.insert(a, 1, 5, axis=1)"
   ]
  },
  {
   "cell_type": "code",
   "execution_count": 7,
   "metadata": {},
   "outputs": [
    {
     "data": {
      "text/plain": [
       "584     1620\n",
       "1348    1379\n",
       "260     1335\n",
       "617     1333\n",
       "203     1318\n",
       "        ... \n",
       "5965      15\n",
       "7033      15\n",
       "7404      15\n",
       "7416      15\n",
       "7417      15\n",
       "Name: userID, Length: 744, dtype: int64"
      ]
     },
     "execution_count": 7,
     "metadata": {},
     "output_type": "execute_result"
    }
   ],
   "source": [
    "test['userID'].value_counts()"
   ]
  },
  {
   "cell_type": "code",
   "execution_count": 8,
   "metadata": {},
   "outputs": [],
   "source": [
    "exe_ids = np.zeros(10, dtype=int)"
   ]
  },
  {
   "cell_type": "code",
   "execution_count": 10,
   "metadata": {},
   "outputs": [
    {
     "data": {
      "text/plain": [
       "True"
      ]
     },
     "execution_count": 10,
     "metadata": {},
     "output_type": "execute_result"
    }
   ],
   "source": [
    "set(train['assessmentItemID']) == set(test['assessmentItemID'])"
   ]
  },
  {
   "cell_type": "code",
   "execution_count": 11,
   "metadata": {},
   "outputs": [
    {
     "data": {
      "text/plain": [
       "9454"
      ]
     },
     "execution_count": 11,
     "metadata": {},
     "output_type": "execute_result"
    }
   ],
   "source": [
    "train['assessmentItemID'].nunique()"
   ]
  },
  {
   "cell_type": "code",
   "execution_count": 16,
   "metadata": {},
   "outputs": [],
   "source": [
    "a, b = pd.factorize(train['assessmentItemID'], sort=True)"
   ]
  },
  {
   "cell_type": "code",
   "execution_count": 19,
   "metadata": {},
   "outputs": [
    {
     "data": {
      "text/plain": [
       "9454"
      ]
     },
     "execution_count": 19,
     "metadata": {},
     "output_type": "execute_result"
    }
   ],
   "source": [
    "len(b)"
   ]
  },
  {
   "cell_type": "code",
   "execution_count": null,
   "metadata": {},
   "outputs": [],
   "source": []
  }
 ],
 "metadata": {
  "kernelspec": {
   "display_name": "Python 3.10.8 ('gcn')",
   "language": "python",
   "name": "python3"
  },
  "language_info": {
   "codemirror_mode": {
    "name": "ipython",
    "version": 3
   },
   "file_extension": ".py",
   "mimetype": "text/x-python",
   "name": "python",
   "nbconvert_exporter": "python",
   "pygments_lexer": "ipython3",
   "version": "3.10.8"
  },
  "orig_nbformat": 4,
  "vscode": {
   "interpreter": {
    "hash": "e20694c0580b936adf946462b21f5f5ff4a6066458c55bf72c7dd0f60ef410ed"
   }
  }
 },
 "nbformat": 4,
 "nbformat_minor": 2
}
