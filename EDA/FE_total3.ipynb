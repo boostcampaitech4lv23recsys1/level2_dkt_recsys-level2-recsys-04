{
 "cells": [
  {
   "cell_type": "code",
   "execution_count": 134,
   "metadata": {},
   "outputs": [],
   "source": [
    "import numpy as np\n",
    "import pandas as pd\n",
    "\n",
    "\n",
    "path = '/opt/ml/input/data/'\n",
    "\n",
    "train = pd.read_csv(path + 'train_data.csv', parse_dates=[\"Timestamp\"])\n",
    "test = pd.read_csv(path + 'test_data.csv', parse_dates=[\"Timestamp\"])\n",
    "\n",
    "dat = pd.concat([train, test], axis = 0)\n",
    "dat = dat.sort_values(by = ['userID', 'Timestamp'])\n"
   ]
  },
  {
   "cell_type": "code",
   "execution_count": 135,
   "metadata": {},
   "outputs": [],
   "source": [
    "diff = dat.loc[:, [\"userID\", \"Timestamp\"]].groupby(\"userID\").diff().fillna(pd.Timedelta(seconds=-1))\n",
    "diff['Timestamp'] = diff['Timestamp'].apply(pd.Timedelta.total_seconds)\n",
    "dat['solve_time'] = diff['Timestamp']\n",
    "\n",
    "# 시험 난이도(?)로 추청되는 특성 따로 분류\n",
    "dat['b_category'] = dat['assessmentItemID'].str[2]\n",
    "# 시험지로 추청되는 특성 따로 분류. 뒤에 것이 좋을 것 같은데 일단 제출을 한 것으로 써놓음.\n",
    "dat['test_category'] = dat['assessmentItemID'].str[2] + dat['assessmentItemID'].str[4:7] # dat['assessmentItemID'].str[4:7]\n",
    "dat['problem_id'] = dat['assessmentItemID'].str[-3:]"
   ]
  },
  {
   "cell_type": "code",
   "execution_count": 136,
   "metadata": {},
   "outputs": [
    {
     "name": "stdout",
     "output_type": "stream",
     "text": [
      "1 120019.0\n",
      "2 27.0\n",
      "3 28.0\n",
      "4 28.0\n",
      "5 30.0\n",
      "6 27.0\n",
      "7 24.0\n",
      "8 7.0\n",
      "9 16.0\n",
      "1 0 20.0\n",
      "1 1 13.0\n",
      "1 2 8.0\n",
      "1 3 111.0\n"
     ]
    }
   ],
   "source": [
    "dat['problem_id'] = dat['assessmentItemID'].str[-3:]\n",
    "for k in range(1,10):\n",
    "    print(k, dat[dat['problem_id'] == f'00{k}']['solve_time'].median())\n",
    "for k in range(0,4):\n",
    "    print(1,k,dat[dat['problem_id'] == f'01{k}']['solve_time'].median())"
   ]
  },
  {
   "cell_type": "code",
   "execution_count": 137,
   "metadata": {},
   "outputs": [],
   "source": [
    "k = 100\n",
    "\n",
    "_median = dat[(dat['problem_id'] != '001') & ((dat['solve_time'] < k)) & ((dat['solve_time'] >= 0))]['solve_time'].median()\n",
    "\n",
    "dat.loc[(dat['solve_time'] >= k),'solve_time'] = _median\n",
    "dat.loc[(dat['solve_time'] == -1),'solve_time'] = _median"
   ]
  },
  {
   "cell_type": "code",
   "execution_count": 138,
   "metadata": {},
   "outputs": [],
   "source": [
    "dat['solve_time'] = dat['solve_time'].astype(int)"
   ]
  },
  {
   "cell_type": "code",
   "execution_count": 139,
   "metadata": {},
   "outputs": [],
   "source": [
    "dat['last_answerCode'] = dat.groupby(\"userID\")['answerCode'].shift(1).fillna(1)\n",
    "dat['last_answerCode2'] = dat.groupby(\"userID\")['answerCode'].shift(2).fillna(1)\n",
    "dat['last_answerCode3'] = dat.groupby(\"userID\")['answerCode'].shift(3).fillna(1)\n",
    "dat['last_answerCode4'] = dat.groupby(\"userID\")['answerCode'].shift(4).fillna(1)\n",
    "dat['last_answerCode5'] = dat.groupby(\"userID\")['answerCode'].shift(5).fillna(1)\n",
    "dat['last_answerCode6'] = dat.groupby(\"userID\")['answerCode'].shift(6).fillna(1)\n",
    "dat['last_answerCode7'] = dat.groupby(\"userID\")['answerCode'].shift(7).fillna(1)\n",
    "dat['last_answerCode8'] = dat.groupby(\"userID\")['answerCode'].shift(8).fillna(1)\n",
    "dat['last_answerCode9'] = dat.groupby(\"userID\")['answerCode'].shift(9).fillna(1)\n",
    "dat['last_answerCode10'] = dat.groupby(\"userID\")['answerCode'].shift(10).fillna(1)"
   ]
  },
  {
   "cell_type": "code",
   "execution_count": 140,
   "metadata": {},
   "outputs": [],
   "source": [
    "dat['last_answerCode'] = dat['last_answerCode'].astype(int)\n",
    "dat['last_answerCode2'] = dat['last_answerCode2'].astype(int)\n",
    "dat['last_answerCode3'] = dat['last_answerCode3'].astype(int)\n",
    "dat['last_answerCode4'] = dat['last_answerCode4'].astype(int)\n",
    "dat['last_answerCode5'] = dat['last_answerCode5'].astype(int)\n",
    "dat['last_answerCode6'] = dat['last_answerCode6'].astype(int)\n",
    "dat['last_answerCode7'] = dat['last_answerCode7'].astype(int)\n",
    "dat['last_answerCode8'] = dat['last_answerCode8'].astype(int)\n",
    "dat['last_answerCode9'] = dat['last_answerCode9'].astype(int)\n",
    "dat['last_answerCode10'] = dat['last_answerCode10'].astype(int)"
   ]
  },
  {
   "cell_type": "code",
   "execution_count": 141,
   "metadata": {},
   "outputs": [],
   "source": [
    "dat['year'] = dat['Timestamp'].dt.year # 연도 정보\n",
    "dat['month'] =  dat['Timestamp'].dt.month # 월 정보\n",
    "dat['day'] =  dat['Timestamp'].dt.day # 일 정보\n",
    "dat['hour'] =  dat['Timestamp'].dt.hour # 시간 정보\n",
    "\n",
    "dat.to_csv('/opt/ml/input/data/FE/FE_total4.csv', index=False)"
   ]
  },
  {
   "cell_type": "code",
   "execution_count": null,
   "metadata": {},
   "outputs": [],
   "source": []
  }
 ],
 "metadata": {
  "kernelspec": {
   "display_name": "Python 3.9.15 ('recsys')",
   "language": "python",
   "name": "python3"
  },
  "language_info": {
   "codemirror_mode": {
    "name": "ipython",
    "version": 3
   },
   "file_extension": ".py",
   "mimetype": "text/x-python",
   "name": "python",
   "nbconvert_exporter": "python",
   "pygments_lexer": "ipython3",
   "version": "3.9.15"
  },
  "vscode": {
   "interpreter": {
    "hash": "ab3dcce153651d446e5ec15055db40c147596c6fda3e30df03cfbf5fb9356af2"
   }
  }
 },
 "nbformat": 4,
 "nbformat_minor": 4
}
