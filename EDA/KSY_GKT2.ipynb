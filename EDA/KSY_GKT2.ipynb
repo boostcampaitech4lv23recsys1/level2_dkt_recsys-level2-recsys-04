{
 "cells": [
  {
   "cell_type": "code",
   "execution_count": 1,
   "metadata": {},
   "outputs": [],
   "source": [
    "import numpy as np\n",
    "import pandas as pd\n",
    "\n",
    "import os\n",
    "import random\n",
    "\n",
    "import warnings\n",
    "\n",
    "warnings.filterwarnings(action='ignore')\n",
    "\n",
    "path = '/opt/ml/input/data/'\n",
    "train = pd.read_csv(path + 'train_data.csv')\n",
    "test = pd.read_csv(path + 'test_data.csv')\n",
    "\n",
    "k = 100 # k개까지만 문제 기록을 남기려고함."
   ]
  },
  {
   "cell_type": "code",
   "execution_count": 2,
   "metadata": {},
   "outputs": [],
   "source": [
    "# 어짜피 시간순으로 정렬되어 있음. 시간 역순으로 정렬함.\n",
    "dat = pd.concat([train, test])\n",
    "dat = dat.loc[::-1]\n",
    "dat.reset_index(drop= True, inplace= True)\n",
    "#dat = dat.sort_values(by = ['userID', 'Timestamp'], ascending= False)\n",
    "dat['tem'] = 1\n",
    "dat['seq'] = dat.groupby('userID')['tem'].apply(lambda x : x.cumsum())\n",
    "\n",
    "test_id = test['userID'].unique()\n",
    "test = dat[(dat['userID'].isin(test_id)) & (dat['seq'] <= k)]\n",
    "train = dat[~((dat['userID'].isin(test_id)) & (dat['seq'] == 1))]\n",
    "train['seq'] = train.apply(lambda x : x['seq'] - 1  if x['userID'] in test_id else x['seq'], axis = 1)\n",
    "\n",
    "user_num = dat['userID'].nunique()\n",
    "valid_data = train[train['seq'] <= k]\n",
    "train_new = train.copy()\n",
    "train_new['seq'] = train_new['seq'] - 1\n",
    "train_new = train_new[train_new['seq'] >= 1]\n",
    "\n",
    "train_datas = train_new[train_new['seq'] <= k]\n",
    "train_new = train_new[train_new['seq'] > k]\n",
    "train_new['userID'] = train_new['userID'] + user_num\n",
    "\n",
    "for i in range(3, 1860 // k + 2):\n",
    "    train_data = train_new[train_new['seq'] <= k * i]\n",
    "    train_new = train_new[train_new['seq'] > k * i]\n",
    "    train_datas = pd.concat([train_datas, train_data])\n",
    "    train_new['userID'] = train_new['userID'] + user_num"
   ]
  },
  {
   "cell_type": "code",
   "execution_count": 9,
   "metadata": {},
   "outputs": [
    {
     "data": {
      "text/html": [
       "<div>\n",
       "<style scoped>\n",
       "    .dataframe tbody tr th:only-of-type {\n",
       "        vertical-align: middle;\n",
       "    }\n",
       "\n",
       "    .dataframe tbody tr th {\n",
       "        vertical-align: top;\n",
       "    }\n",
       "\n",
       "    .dataframe thead th {\n",
       "        text-align: right;\n",
       "    }\n",
       "</style>\n",
       "<table border=\"1\" class=\"dataframe\">\n",
       "  <thead>\n",
       "    <tr style=\"text-align: right;\">\n",
       "      <th></th>\n",
       "      <th>userID</th>\n",
       "      <th>assessmentItemID</th>\n",
       "      <th>testId</th>\n",
       "      <th>answerCode</th>\n",
       "      <th>Timestamp</th>\n",
       "      <th>KnowledgeTag</th>\n",
       "      <th>tem</th>\n",
       "      <th>seq</th>\n",
       "    </tr>\n",
       "  </thead>\n",
       "  <tbody>\n",
       "    <tr>\n",
       "      <th>2526055</th>\n",
       "      <td>0</td>\n",
       "      <td>A060127007</td>\n",
       "      <td>A060000127</td>\n",
       "      <td>1</td>\n",
       "      <td>2020-10-20 05:20:05</td>\n",
       "      <td>713</td>\n",
       "      <td>1</td>\n",
       "      <td>100</td>\n",
       "    </tr>\n",
       "    <tr>\n",
       "      <th>2526054</th>\n",
       "      <td>0</td>\n",
       "      <td>A060129001</td>\n",
       "      <td>A060000129</td>\n",
       "      <td>1</td>\n",
       "      <td>2020-10-21 05:41:03</td>\n",
       "      <td>714</td>\n",
       "      <td>1</td>\n",
       "      <td>99</td>\n",
       "    </tr>\n",
       "    <tr>\n",
       "      <th>2526053</th>\n",
       "      <td>0</td>\n",
       "      <td>A060129002</td>\n",
       "      <td>A060000129</td>\n",
       "      <td>1</td>\n",
       "      <td>2020-10-21 05:41:13</td>\n",
       "      <td>714</td>\n",
       "      <td>1</td>\n",
       "      <td>98</td>\n",
       "    </tr>\n",
       "    <tr>\n",
       "      <th>2526052</th>\n",
       "      <td>0</td>\n",
       "      <td>A060129003</td>\n",
       "      <td>A060000129</td>\n",
       "      <td>1</td>\n",
       "      <td>2020-10-21 05:42:16</td>\n",
       "      <td>714</td>\n",
       "      <td>1</td>\n",
       "      <td>97</td>\n",
       "    </tr>\n",
       "    <tr>\n",
       "      <th>2526051</th>\n",
       "      <td>0</td>\n",
       "      <td>A060129004</td>\n",
       "      <td>A060000129</td>\n",
       "      <td>1</td>\n",
       "      <td>2020-10-21 05:43:34</td>\n",
       "      <td>714</td>\n",
       "      <td>1</td>\n",
       "      <td>96</td>\n",
       "    </tr>\n",
       "    <tr>\n",
       "      <th>...</th>\n",
       "      <td>...</td>\n",
       "      <td>...</td>\n",
       "      <td>...</td>\n",
       "      <td>...</td>\n",
       "      <td>...</td>\n",
       "      <td>...</td>\n",
       "      <td>...</td>\n",
       "      <td>...</td>\n",
       "    </tr>\n",
       "    <tr>\n",
       "      <th>2005895</th>\n",
       "      <td>127244</td>\n",
       "      <td>A040031001</td>\n",
       "      <td>A040000031</td>\n",
       "      <td>0</td>\n",
       "      <td>2020-02-27 04:01:38</td>\n",
       "      <td>2065</td>\n",
       "      <td>1</td>\n",
       "      <td>5</td>\n",
       "    </tr>\n",
       "    <tr>\n",
       "      <th>2005894</th>\n",
       "      <td>127244</td>\n",
       "      <td>A040031002</td>\n",
       "      <td>A040000031</td>\n",
       "      <td>0</td>\n",
       "      <td>2020-02-27 04:02:10</td>\n",
       "      <td>2065</td>\n",
       "      <td>1</td>\n",
       "      <td>4</td>\n",
       "    </tr>\n",
       "    <tr>\n",
       "      <th>2005893</th>\n",
       "      <td>127244</td>\n",
       "      <td>A040031003</td>\n",
       "      <td>A040000031</td>\n",
       "      <td>1</td>\n",
       "      <td>2020-02-27 04:02:28</td>\n",
       "      <td>2065</td>\n",
       "      <td>1</td>\n",
       "      <td>3</td>\n",
       "    </tr>\n",
       "    <tr>\n",
       "      <th>2005892</th>\n",
       "      <td>127244</td>\n",
       "      <td>A040031004</td>\n",
       "      <td>A040000031</td>\n",
       "      <td>1</td>\n",
       "      <td>2020-02-27 04:02:51</td>\n",
       "      <td>2065</td>\n",
       "      <td>1</td>\n",
       "      <td>2</td>\n",
       "    </tr>\n",
       "    <tr>\n",
       "      <th>2005891</th>\n",
       "      <td>127244</td>\n",
       "      <td>A040031005</td>\n",
       "      <td>A040000031</td>\n",
       "      <td>0</td>\n",
       "      <td>2020-02-27 04:03:17</td>\n",
       "      <td>2065</td>\n",
       "      <td>1</td>\n",
       "      <td>1</td>\n",
       "    </tr>\n",
       "  </tbody>\n",
       "</table>\n",
       "<p>2512037 rows × 8 columns</p>\n",
       "</div>"
      ],
      "text/plain": [
       "         userID assessmentItemID      testId  answerCode            Timestamp  \\\n",
       "2526055       0       A060127007  A060000127           1  2020-10-20 05:20:05   \n",
       "2526054       0       A060129001  A060000129           1  2020-10-21 05:41:03   \n",
       "2526053       0       A060129002  A060000129           1  2020-10-21 05:41:13   \n",
       "2526052       0       A060129003  A060000129           1  2020-10-21 05:42:16   \n",
       "2526051       0       A060129004  A060000129           1  2020-10-21 05:43:34   \n",
       "...         ...              ...         ...         ...                  ...   \n",
       "2005895  127244       A040031001  A040000031           0  2020-02-27 04:01:38   \n",
       "2005894  127244       A040031002  A040000031           0  2020-02-27 04:02:10   \n",
       "2005893  127244       A040031003  A040000031           1  2020-02-27 04:02:28   \n",
       "2005892  127244       A040031004  A040000031           1  2020-02-27 04:02:51   \n",
       "2005891  127244       A040031005  A040000031           0  2020-02-27 04:03:17   \n",
       "\n",
       "         KnowledgeTag  tem  seq  \n",
       "2526055           713    1  100  \n",
       "2526054           714    1   99  \n",
       "2526053           714    1   98  \n",
       "2526052           714    1   97  \n",
       "2526051           714    1   96  \n",
       "...               ...  ...  ...  \n",
       "2005895          2065    1    5  \n",
       "2005894          2065    1    4  \n",
       "2005893          2065    1    3  \n",
       "2005892          2065    1    2  \n",
       "2005891          2065    1    1  \n",
       "\n",
       "[2512037 rows x 8 columns]"
      ]
     },
     "execution_count": 9,
     "metadata": {},
     "output_type": "execute_result"
    }
   ],
   "source": [
    "train"
   ]
  },
  {
   "cell_type": "code",
   "execution_count": 6,
   "metadata": {},
   "outputs": [
    {
     "data": {
      "text/plain": [
       "744"
      ]
     },
     "execution_count": 6,
     "metadata": {},
     "output_type": "execute_result"
    }
   ],
   "source": [
    "test['userID'].nunique()"
   ]
  },
  {
   "cell_type": "code",
   "execution_count": 7,
   "metadata": {},
   "outputs": [
    {
     "data": {
      "text/plain": [
       "7420"
      ]
     },
     "execution_count": 7,
     "metadata": {},
     "output_type": "execute_result"
    }
   ],
   "source": [
    "valid['userID'].nunique()"
   ]
  },
  {
   "cell_type": "code",
   "execution_count": 8,
   "metadata": {},
   "outputs": [
    {
     "data": {
      "text/plain": [
       "24242"
      ]
     },
     "execution_count": 8,
     "metadata": {},
     "output_type": "execute_result"
    }
   ],
   "source": [
    "train['userID'].nunique()"
   ]
  },
  {
   "cell_type": "code",
   "execution_count": 5,
   "metadata": {},
   "outputs": [],
   "source": [
    "train_datas['seq'] = (train_datas['seq']-1) % k + 1\n",
    "valid_data['seq'] = (valid_data['seq']-1) % k + 1\n",
    "test['seq'] = (test['seq']-1) % k + 1\n",
    "\n",
    "train_datas.sort_values(['userID', 'seq'], ascending= [True,False], inplace= True)\n",
    "valid_data.sort_values(['userID', 'seq'], ascending= [True,False], inplace= True)\n",
    "test.sort_values(['userID', 'seq'], ascending= [True,False], inplace= True)\n",
    "\n",
    "tem = valid_data.drop_duplicates(['userID'], keep='first')\n",
    "lst = tem[tem['seq'] <= 14]['userID'].unique()\n",
    "valid = valid_data[~(valid_data['userID'].isin(lst))]\n",
    "\n",
    "tem = train_datas.drop_duplicates(['userID'], keep='first')\n",
    "lst = tem[tem['seq'] <= 14]['userID'].unique()\n",
    "train = train_datas[~(train_datas['userID'].isin(lst))]\n",
    "\n",
    "train.drop(['tem'], axis = 1).to_csv(path + 'GKT/train_data2.csv', index = False)\n",
    "valid.drop(['tem'], axis = 1).to_csv(path + 'GKT/valid_data2.csv', index = False)\n",
    "test.drop(['tem'], axis = 1).to_csv(path + 'GKT/test_data2.csv', index = False)"
   ]
  },
  {
   "cell_type": "code",
   "execution_count": null,
   "metadata": {},
   "outputs": [],
   "source": []
  }
 ],
 "metadata": {
  "kernelspec": {
   "display_name": "Python 3.10.8 ('ksy')",
   "language": "python",
   "name": "python3"
  },
  "language_info": {
   "codemirror_mode": {
    "name": "ipython",
    "version": 3
   },
   "file_extension": ".py",
   "mimetype": "text/x-python",
   "name": "python",
   "nbconvert_exporter": "python",
   "pygments_lexer": "ipython3",
   "version": "3.10.8"
  },
  "orig_nbformat": 4,
  "vscode": {
   "interpreter": {
    "hash": "e88c8a57f3c8bc3f55a30a7654691f691be3714692d31d0dbfc1c68d13580472"
   }
  }
 },
 "nbformat": 4,
 "nbformat_minor": 2
}
