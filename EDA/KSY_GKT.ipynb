{
 "cells": [
  {
   "cell_type": "code",
   "execution_count": 5,
   "metadata": {},
   "outputs": [],
   "source": [
    "import numpy as np\n",
    "import pandas as pd\n",
    "\n",
    "import os\n",
    "import random\n",
    "\n",
    "import warnings\n",
    "\n",
    "warnings.filterwarnings(action='ignore')\n",
    "\n",
    "path = '/opt/ml/input/data/'\n",
    "train = pd.read_csv(path + 'train_data.csv')\n",
    "test = pd.read_csv(path + 'test_data.csv')\n",
    "\n",
    "k = 100 # k개까지만 문제 기록을 남기려고함."
   ]
  },
  {
   "cell_type": "code",
   "execution_count": 3,
   "metadata": {},
   "outputs": [],
   "source": [
    "# 어짜피 시간순으로 정렬되어 있음. 시간 역순으로 정렬함.\n",
    "dat = pd.concat([train, test])\n",
    "dat = dat.loc[::-1]\n",
    "dat.reset_index(drop= True, inplace= True)\n",
    "#dat = dat.sort_values(by = ['userID', 'Timestamp'], ascending= False)\n",
    "dat['tem'] = 1\n",
    "dat['seq'] = dat.groupby('userID')['tem'].apply(lambda x : x.cumsum())\n",
    "\n",
    "test_id = test['userID'].unique()\n",
    "test = dat[(dat['userID'].isin(test_id)) & (dat['seq'] <= k)]\n",
    "train = dat[~((dat['userID'].isin(test_id)) & (dat['seq'] <= k))]\n",
    "train['seq'] = train.apply(lambda x : x['seq'] - k  if x['userID'] in test_id else x['seq'], axis = 1)\n",
    "\n",
    "user_num = dat['userID'].nunique()\n",
    "valid_data = train[train['seq'] <= k]\n",
    "train_new = train[train['seq'] > k]\n",
    "\n",
    "train_datas = train_new[train_new['seq'] <= k*2]\n",
    "train_new = train_new[train_new['seq'] > k*2]\n",
    "train_new['userID'] = train_new['userID'] + user_num\n",
    "\n",
    "for i in range(3, 1860 // k + 2):\n",
    "    train_data = train_new[train_new['seq'] <= k * i]\n",
    "    train_new = train_new[train_new['seq'] > k * i]\n",
    "    train_datas = pd.concat([train_datas, train_data])\n",
    "    train_new['userID'] = train_new['userID'] + user_num"
   ]
  },
  {
   "cell_type": "code",
   "execution_count": 4,
   "metadata": {},
   "outputs": [],
   "source": [
    "train_datas['seq'] = (train_datas['seq']-1) % k + 1\n",
    "valid_data['seq'] = (valid_data['seq']-1) % k + 1\n",
    "test['seq'] = (test['seq']-1) % k + 1\n",
    "\n",
    "train_datas.sort_values(['userID', 'seq'], ascending= [True,False], inplace= True)\n",
    "valid_data.sort_values(['userID', 'seq'], ascending= [True,False], inplace= True)\n",
    "test.sort_values(['userID', 'seq'], ascending= [True,False], inplace= True)\n",
    "\n",
    "tem = valid_data.drop_duplicates(['userID'], keep='first')\n",
    "lst = tem[tem['seq'] <= 14]['userID'].unique()\n",
    "valid = valid_data[~(valid_data['userID'].isin(lst))]\n",
    "\n",
    "tem = train_datas.drop_duplicates(['userID'], keep='first')\n",
    "lst = tem[tem['seq'] <= 14]['userID'].unique()\n",
    "train = train_datas[~(train_datas['userID'].isin(lst))]\n",
    "\n",
    "train.drop(['tem'], axis = 1).to_csv(path + 'GKT/train_data.csv', index = False)\n",
    "valid.drop(['tem'], axis = 1).to_csv(path + 'GKT/valid_data.csv', index = False)\n",
    "test.drop(['tem'], axis = 1).to_csv(path + 'GKT/test_data.csv', index = False)"
   ]
  },
  {
   "cell_type": "code",
   "execution_count": null,
   "metadata": {},
   "outputs": [],
   "source": []
  }
 ],
 "metadata": {
  "kernelspec": {
   "display_name": "Python 3.6.9 64-bit",
   "language": "python",
   "name": "python3"
  },
  "language_info": {
   "codemirror_mode": {
    "name": "ipython",
    "version": 3
   },
   "file_extension": ".py",
   "mimetype": "text/x-python",
   "name": "python",
   "nbconvert_exporter": "python",
   "pygments_lexer": "ipython3",
   "version": "3.6.9"
  },
  "orig_nbformat": 4,
  "vscode": {
   "interpreter": {
    "hash": "31f2aee4e71d21fbe5cf8b01ff0e069b9275f58929596ceb00d14d90e3e16cd6"
   }
  }
 },
 "nbformat": 4,
 "nbformat_minor": 2
}
