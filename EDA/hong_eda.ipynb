{
 "cells": [
  {
   "cell_type": "code",
   "execution_count": 2,
   "metadata": {},
   "outputs": [],
   "source": [
    "import numpy as np\n",
    "import pandas as pd\n",
    "\n",
    "\n",
    "path = '/opt/ml/input/data/'\n",
    "\n",
    "train = pd.read_csv(path + 'train_data.csv')\n",
    "test = pd.read_csv(path + 'test_data.csv')"
   ]
  },
  {
   "cell_type": "code",
   "execution_count": 39,
   "metadata": {},
   "outputs": [
    {
     "name": "stdout",
     "output_type": "stream",
     "text": [
      "6698\n",
      "6698\n"
     ]
    }
   ],
   "source": [
    "print(len(set(train['userID'].unique()) - set(test['userID'].unique())))\n",
    "print(len(set(train['userID'].unique())))"
   ]
  },
  {
   "cell_type": "markdown",
   "metadata": {},
   "source": [
    "train과 test 간 같은 유저가 존재하지 않는다."
   ]
  },
  {
   "cell_type": "markdown",
   "metadata": {},
   "source": [
    "# 시험 문제별로"
   ]
  },
  {
   "cell_type": "code",
   "execution_count": 27,
   "metadata": {},
   "outputs": [
    {
     "name": "stdout",
     "output_type": "stream",
     "text": [
      "0번째 value_count\n",
      "A    2266586\n",
      "Name: assessmentItemID, dtype: int64\n",
      "\n",
      "1번째 value_count\n",
      "0    2266586\n",
      "Name: assessmentItemID, dtype: int64\n",
      "\n",
      "2번째 value_count\n",
      "7    279164\n",
      "5    275773\n",
      "3    273762\n",
      "1    272082\n",
      "2    268327\n",
      "4    267323\n",
      "6    264434\n",
      "8    246336\n",
      "9    119385\n",
      "Name: assessmentItemID, dtype: int64\n",
      "\n"
     ]
    }
   ],
   "source": [
    "for i in range(3):\n",
    "    print(f'{i}번째 value_count')\n",
    "    print(train['assessmentItemID'].str[i].value_counts())\n",
    "    print('')"
   ]
  },
  {
   "cell_type": "code",
   "execution_count": 26,
   "metadata": {},
   "outputs": [
    {
     "name": "stdout",
     "output_type": "stream",
     "text": [
      "large 그룹 별 문제 개수\n",
      "large\n",
      "1    272082\n",
      "2    268327\n",
      "3    273762\n",
      "4    267323\n",
      "5    275773\n",
      "6    264434\n",
      "7    279164\n",
      "8    246336\n",
      "9    119385\n",
      "Name: answerCode, dtype: int64\n",
      "large 그룹 별 맞을 확률\n",
      "large\n",
      "1    0.800876\n",
      "2    0.737593\n",
      "3    0.702238\n",
      "4    0.684056\n",
      "5    0.658208\n",
      "6    0.709232\n",
      "7    0.521876\n",
      "8    0.502598\n",
      "9    0.449948\n",
      "Name: answerCode, dtype: float64\n"
     ]
    }
   ],
   "source": [
    "train['large'] = train['assessmentItemID'].str[2]\n",
    "print('large 그룹 별 문제 개수')\n",
    "print(train.groupby('large')['answerCode'].count())\n",
    "print('large 그룹 별 맞을 확률')\n",
    "print(train.groupby('large')['answerCode'].mean())"
   ]
  },
  {
   "cell_type": "markdown",
   "metadata": {},
   "source": [
    "대그룹별 문제 난이도가 확연히 보인다."
   ]
  },
  {
   "cell_type": "code",
   "execution_count": 45,
   "metadata": {},
   "outputs": [
    {
     "data": {
      "text/plain": [
       "testID\n",
       "057    0.529107\n",
       "047    0.542518\n",
       "049    0.550103\n",
       "051    0.557857\n",
       "069    0.558188\n",
       "         ...   \n",
       "179    0.819098\n",
       "185    0.831546\n",
       "195    0.835409\n",
       "198    0.853838\n",
       "196    0.895706\n",
       "Name: answerCode, Length: 198, dtype: float64"
      ]
     },
     "execution_count": 45,
     "metadata": {},
     "output_type": "execute_result"
    }
   ],
   "source": [
    "train['testID'] = train['testId'].str[-3:]\n",
    "train.groupby('testID')['answerCode'].mean().sort_values()"
   ]
  },
  {
   "cell_type": "code",
   "execution_count": 37,
   "metadata": {},
   "outputs": [
    {
     "data": {
      "text/plain": [
       "017    17739\n",
       "009    17555\n",
       "011    17029\n",
       "003    16970\n",
       "007    16826\n",
       "       ...  \n",
       "180     3767\n",
       "197     2973\n",
       "194     2596\n",
       "196     1304\n",
       "198      951\n",
       "Name: assessmentItemID, Length: 198, dtype: int64"
      ]
     },
     "execution_count": 37,
     "metadata": {},
     "output_type": "execute_result"
    }
   ],
   "source": [
    "train['assessmentItemID'].str[4:7].value_counts()"
   ]
  },
  {
   "cell_type": "code",
   "execution_count": 10,
   "metadata": {},
   "outputs": [
    {
     "data": {
      "text/plain": [
       "6698"
      ]
     },
     "execution_count": 10,
     "metadata": {},
     "output_type": "execute_result"
    }
   ],
   "source": []
  },
  {
   "cell_type": "code",
   "execution_count": null,
   "metadata": {},
   "outputs": [],
   "source": []
  }
 ],
 "metadata": {
  "kernelspec": {
   "display_name": "Python 3.6.9 64-bit",
   "language": "python",
   "name": "python3"
  },
  "language_info": {
   "codemirror_mode": {
    "name": "ipython",
    "version": 3
   },
   "file_extension": ".py",
   "mimetype": "text/x-python",
   "name": "python",
   "nbconvert_exporter": "python",
   "pygments_lexer": "ipython3",
   "version": "3.6.9"
  },
  "vscode": {
   "interpreter": {
    "hash": "31f2aee4e71d21fbe5cf8b01ff0e069b9275f58929596ceb00d14d90e3e16cd6"
   }
  }
 },
 "nbformat": 4,
 "nbformat_minor": 4
}
