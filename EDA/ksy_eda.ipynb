{
 "cells": [
  {
   "cell_type": "markdown",
   "metadata": {},
   "source": [
    "# 정말 간단한 EDA"
   ]
  },
  {
   "cell_type": "markdown",
   "metadata": {},
   "source": [
    "## 데이터 불러오기 및 패키지 설치"
   ]
  },
  {
   "cell_type": "code",
   "execution_count": 28,
   "metadata": {},
   "outputs": [
    {
     "name": "stdout",
     "output_type": "stream",
     "text": [
      "6698\n",
      "6698\n"
     ]
    }
   ],
   "source": [
    "import numpy as np\n",
    "import pandas as pd\n",
    "\n",
    "import os\n",
    "import random\n",
    "\n",
    "import warnings\n",
    "\n",
    "warnings.filterwarnings(action='ignore')\n",
    "\n",
    "path = '/opt/ml/input/data/' # 환경에 맞게 바꿔주시면 됩니다.\n",
    "\n",
    "train = pd.read_csv(path + 'train_data.csv')\n",
    "test = pd.read_csv(path + 'test_data.csv')\n",
    "\n",
    "print(len(set(train['userID'].unique()) - set(test['userID'].unique())))\n",
    "print(len(set(train['userID'].unique())))"
   ]
  },
  {
   "cell_type": "markdown",
   "metadata": {},
   "source": [
    "train과 test 간 같은 유저가 존재하지 않습니다. test는 train에 없는 유저를 추측해야하죠."
   ]
  },
  {
   "cell_type": "markdown",
   "metadata": {},
   "source": [
    "## Timestamp 변수 살펴보기"
   ]
  },
  {
   "cell_type": "code",
   "execution_count": 29,
   "metadata": {},
   "outputs": [
    {
     "data": {
      "text/plain": [
       "2020    2266567\n",
       "2019         19\n",
       "Name: year, dtype: int64"
      ]
     },
     "execution_count": 29,
     "metadata": {},
     "output_type": "execute_result"
    }
   ],
   "source": [
    "# datetime 자료형으로 변환하면 날짜 변수를 훨씬 쉽게 접근할 수 있습니다.\n",
    "train['Timestamp'] = pd.to_datetime(train['Timestamp'])\n",
    "# train['Timestamp'].dt.year # 연도 정보\n",
    "# train['Timestamp'].dt.month # 월 정보\n",
    "# train['Timestamp'].dt.day # 일 정보\n",
    "# train['Timestamp'].dt.hour # 시간 정보\n",
    "# train['Timestamp'].dt.minute # 분 정보\n",
    "# train['Timestamp'].dt.second # 초 정보\n",
    "train['year'] = train['Timestamp'].dt.year\n",
    "train['year'].value_counts()"
   ]
  },
  {
   "cell_type": "code",
   "execution_count": 30,
   "metadata": {},
   "outputs": [
    {
     "data": {
      "text/plain": [
       "month\n",
       "12    0.496304\n",
       "11    0.505544\n",
       "5     0.643317\n",
       "4     0.649545\n",
       "6     0.651967\n",
       "8     0.657599\n",
       "7     0.665650\n",
       "9     0.668872\n",
       "10    0.670372\n",
       "3     0.682643\n",
       "2     0.687222\n",
       "1     0.712199\n",
       "Name: answerCode, dtype: float64"
      ]
     },
     "execution_count": 30,
     "metadata": {},
     "output_type": "execute_result"
    }
   ],
   "source": [
    "train['month'] = train['Timestamp'].dt.month\n",
    "train.groupby('month')['answerCode'].mean().sort_values()"
   ]
  },
  {
   "cell_type": "markdown",
   "metadata": {},
   "source": [
    "신기하게도 월별로 정답률에 차이가 있습니다. 12월에는 수능등이 끝난 상태여서 그럴까요.\n",
    "\n",
    "지금 다루진 않았지만 날짜 변수를 더 잘 활용할 수 있을 것 같습니다. "
   ]
  },
  {
   "cell_type": "markdown",
   "metadata": {},
   "source": [
    "# assessmentItemID 변수 관찰하기."
   ]
  },
  {
   "cell_type": "code",
   "execution_count": 31,
   "metadata": {},
   "outputs": [
    {
     "name": "stdout",
     "output_type": "stream",
     "text": [
      "0번째 value_count\n",
      "A    2266586\n",
      "Name: assessmentItemID, dtype: int64\n",
      "\n",
      "1번째 value_count\n",
      "0    2266586\n",
      "Name: assessmentItemID, dtype: int64\n",
      "\n",
      "2번째 value_count\n",
      "7    279164\n",
      "5    275773\n",
      "3    273762\n",
      "1    272082\n",
      "2    268327\n",
      "4    267323\n",
      "6    264434\n",
      "8    246336\n",
      "9    119385\n",
      "Name: assessmentItemID, dtype: int64\n",
      "\n"
     ]
    }
   ],
   "source": [
    "for i in range(3):\n",
    "    print(f'{i}번째 value_count')\n",
    "    print(train['assessmentItemID'].str[i].value_counts())\n",
    "    print('') "
   ]
  },
  {
   "cell_type": "markdown",
   "metadata": {},
   "source": [
    "assessmentItemID 변수 2번째 값이 어느정도 의미가 있는 것 같아요.\n",
    "\n",
    "자세히 살펴볼까요?"
   ]
  },
  {
   "cell_type": "code",
   "execution_count": 32,
   "metadata": {},
   "outputs": [
    {
     "data": {
      "text/html": [
       "<div>\n",
       "<style scoped>\n",
       "    .dataframe tbody tr th:only-of-type {\n",
       "        vertical-align: middle;\n",
       "    }\n",
       "\n",
       "    .dataframe tbody tr th {\n",
       "        vertical-align: top;\n",
       "    }\n",
       "\n",
       "    .dataframe thead th {\n",
       "        text-align: right;\n",
       "    }\n",
       "</style>\n",
       "<table border=\"1\" class=\"dataframe\">\n",
       "  <thead>\n",
       "    <tr style=\"text-align: right;\">\n",
       "      <th></th>\n",
       "      <th>category_2</th>\n",
       "      <th>mean</th>\n",
       "      <th>cnt</th>\n",
       "    </tr>\n",
       "  </thead>\n",
       "  <tbody>\n",
       "    <tr>\n",
       "      <th>0</th>\n",
       "      <td>1</td>\n",
       "      <td>0.800876</td>\n",
       "      <td>272082</td>\n",
       "    </tr>\n",
       "    <tr>\n",
       "      <th>1</th>\n",
       "      <td>2</td>\n",
       "      <td>0.737593</td>\n",
       "      <td>268327</td>\n",
       "    </tr>\n",
       "    <tr>\n",
       "      <th>2</th>\n",
       "      <td>3</td>\n",
       "      <td>0.702238</td>\n",
       "      <td>273762</td>\n",
       "    </tr>\n",
       "    <tr>\n",
       "      <th>3</th>\n",
       "      <td>4</td>\n",
       "      <td>0.684056</td>\n",
       "      <td>267323</td>\n",
       "    </tr>\n",
       "    <tr>\n",
       "      <th>4</th>\n",
       "      <td>5</td>\n",
       "      <td>0.658208</td>\n",
       "      <td>275773</td>\n",
       "    </tr>\n",
       "    <tr>\n",
       "      <th>5</th>\n",
       "      <td>6</td>\n",
       "      <td>0.709232</td>\n",
       "      <td>264434</td>\n",
       "    </tr>\n",
       "    <tr>\n",
       "      <th>6</th>\n",
       "      <td>7</td>\n",
       "      <td>0.521876</td>\n",
       "      <td>279164</td>\n",
       "    </tr>\n",
       "    <tr>\n",
       "      <th>7</th>\n",
       "      <td>8</td>\n",
       "      <td>0.502598</td>\n",
       "      <td>246336</td>\n",
       "    </tr>\n",
       "    <tr>\n",
       "      <th>8</th>\n",
       "      <td>9</td>\n",
       "      <td>0.449948</td>\n",
       "      <td>119385</td>\n",
       "    </tr>\n",
       "  </tbody>\n",
       "</table>\n",
       "</div>"
      ],
      "text/plain": [
       "  category_2      mean     cnt\n",
       "0          1  0.800876  272082\n",
       "1          2  0.737593  268327\n",
       "2          3  0.702238  273762\n",
       "3          4  0.684056  267323\n",
       "4          5  0.658208  275773\n",
       "5          6  0.709232  264434\n",
       "6          7  0.521876  279164\n",
       "7          8  0.502598  246336\n",
       "8          9  0.449948  119385"
      ]
     },
     "execution_count": 32,
     "metadata": {},
     "output_type": "execute_result"
    }
   ],
   "source": [
    "train['category_2'] = train['assessmentItemID'].str[2]\n",
    "\n",
    "tem = train.groupby('category_2')['answerCode']\n",
    "\n",
    "pd.DataFrame({'mean' : tem.mean(), 'cnt':tem.count()}).reset_index()"
   ]
  },
  {
   "cell_type": "markdown",
   "metadata": {},
   "source": [
    "카테고리별로 정답률과 개수를 뽑아냈습니다. 이 변수는 문제 난이도라고 생각할 수도 있겠습니다.(4~5번은 조금 다름)"
   ]
  },
  {
   "cell_type": "code",
   "execution_count": 33,
   "metadata": {},
   "outputs": [
    {
     "data": {
      "text/plain": [
       "test_paper\n",
       "057    0.529107\n",
       "047    0.542518\n",
       "049    0.550103\n",
       "051    0.557857\n",
       "069    0.558188\n",
       "         ...   \n",
       "179    0.819098\n",
       "185    0.831546\n",
       "195    0.835409\n",
       "198    0.853838\n",
       "196    0.895706\n",
       "Name: answerCode, Length: 198, dtype: float64"
      ]
     },
     "execution_count": 33,
     "metadata": {},
     "output_type": "execute_result"
    }
   ],
   "source": [
    "train['test_paper'] = train['assessmentItemID'].str[4:7]\n",
    "train.groupby('test_paper')['answerCode'].mean().sort_values()"
   ]
  },
  {
   "cell_type": "markdown",
   "metadata": {},
   "source": [
    "시험지 별로(미션EDA 참고) 정답률을 비교해보았습니다. 꽤 많이 차이가 나는 것으로 보입니다."
   ]
  },
  {
   "cell_type": "code",
   "execution_count": 34,
   "metadata": {},
   "outputs": [
    {
     "data": {
      "text/plain": [
       "017    17739\n",
       "009    17555\n",
       "011    17029\n",
       "003    16970\n",
       "007    16826\n",
       "       ...  \n",
       "180     3767\n",
       "197     2973\n",
       "194     2596\n",
       "196     1304\n",
       "198      951\n",
       "Name: test_paper, Length: 198, dtype: int64"
      ]
     },
     "execution_count": 34,
     "metadata": {},
     "output_type": "execute_result"
    }
   ],
   "source": [
    "train['test_paper'].value_counts()"
   ]
  },
  {
   "cell_type": "markdown",
   "metadata": {},
   "source": [
    "시험지에는 최소 950문제에서 17000 이상에 문제까지 존재합니다.\n",
    "\n",
    "시험지에 문제가 적은 케이스는 없어서 좋은 변수가 될 것 같습니다."
   ]
  },
  {
   "cell_type": "code",
   "execution_count": 35,
   "metadata": {},
   "outputs": [
    {
     "data": {
      "text/html": [
       "<div>\n",
       "<style scoped>\n",
       "    .dataframe tbody tr th:only-of-type {\n",
       "        vertical-align: middle;\n",
       "    }\n",
       "\n",
       "    .dataframe tbody tr th {\n",
       "        vertical-align: top;\n",
       "    }\n",
       "\n",
       "    .dataframe thead th {\n",
       "        text-align: right;\n",
       "    }\n",
       "</style>\n",
       "<table border=\"1\" class=\"dataframe\">\n",
       "  <thead>\n",
       "    <tr style=\"text-align: right;\">\n",
       "      <th></th>\n",
       "      <th>problem_id</th>\n",
       "      <th>mean</th>\n",
       "      <th>cnt</th>\n",
       "    </tr>\n",
       "  </thead>\n",
       "  <tbody>\n",
       "    <tr>\n",
       "      <th>0</th>\n",
       "      <td>001</td>\n",
       "      <td>0.749916</td>\n",
       "      <td>371755</td>\n",
       "    </tr>\n",
       "    <tr>\n",
       "      <th>1</th>\n",
       "      <td>002</td>\n",
       "      <td>0.720062</td>\n",
       "      <td>370972</td>\n",
       "    </tr>\n",
       "    <tr>\n",
       "      <th>2</th>\n",
       "      <td>003</td>\n",
       "      <td>0.687773</td>\n",
       "      <td>371640</td>\n",
       "    </tr>\n",
       "    <tr>\n",
       "      <th>3</th>\n",
       "      <td>004</td>\n",
       "      <td>0.663364</td>\n",
       "      <td>369705</td>\n",
       "    </tr>\n",
       "    <tr>\n",
       "      <th>4</th>\n",
       "      <td>005</td>\n",
       "      <td>0.599134</td>\n",
       "      <td>360607</td>\n",
       "    </tr>\n",
       "    <tr>\n",
       "      <th>5</th>\n",
       "      <td>006</td>\n",
       "      <td>0.555685</td>\n",
       "      <td>197772</td>\n",
       "    </tr>\n",
       "    <tr>\n",
       "      <th>6</th>\n",
       "      <td>007</td>\n",
       "      <td>0.515399</td>\n",
       "      <td>127121</td>\n",
       "    </tr>\n",
       "    <tr>\n",
       "      <th>7</th>\n",
       "      <td>008</td>\n",
       "      <td>0.457156</td>\n",
       "      <td>67150</td>\n",
       "    </tr>\n",
       "    <tr>\n",
       "      <th>8</th>\n",
       "      <td>009</td>\n",
       "      <td>0.481729</td>\n",
       "      <td>18417</td>\n",
       "    </tr>\n",
       "    <tr>\n",
       "      <th>9</th>\n",
       "      <td>010</td>\n",
       "      <td>0.527892</td>\n",
       "      <td>5342</td>\n",
       "    </tr>\n",
       "    <tr>\n",
       "      <th>10</th>\n",
       "      <td>011</td>\n",
       "      <td>0.480609</td>\n",
       "      <td>3352</td>\n",
       "    </tr>\n",
       "    <tr>\n",
       "      <th>11</th>\n",
       "      <td>012</td>\n",
       "      <td>0.370370</td>\n",
       "      <td>2484</td>\n",
       "    </tr>\n",
       "    <tr>\n",
       "      <th>12</th>\n",
       "      <td>013</td>\n",
       "      <td>0.200743</td>\n",
       "      <td>269</td>\n",
       "    </tr>\n",
       "  </tbody>\n",
       "</table>\n",
       "</div>"
      ],
      "text/plain": [
       "   problem_id      mean     cnt\n",
       "0         001  0.749916  371755\n",
       "1         002  0.720062  370972\n",
       "2         003  0.687773  371640\n",
       "3         004  0.663364  369705\n",
       "4         005  0.599134  360607\n",
       "5         006  0.555685  197772\n",
       "6         007  0.515399  127121\n",
       "7         008  0.457156   67150\n",
       "8         009  0.481729   18417\n",
       "9         010  0.527892    5342\n",
       "10        011  0.480609    3352\n",
       "11        012  0.370370    2484\n",
       "12        013  0.200743     269"
      ]
     },
     "execution_count": 35,
     "metadata": {},
     "output_type": "execute_result"
    }
   ],
   "source": [
    "train['problem_id'] = train['assessmentItemID'].str[-3:]\n",
    "tem = train.groupby('problem_id')['answerCode']\n",
    "\n",
    "pd.DataFrame({'mean' : tem.mean(), 'cnt':tem.count()}).reset_index()"
   ]
  },
  {
   "cell_type": "markdown",
   "metadata": {},
   "source": [
    "생각보다 문제 번호에 따른 정답률 값이 달라지는 것을 알 수 있습니다.\n",
    "\n",
    "일반적으로 5번까지는 앵간한 시험지에 있고 6번 이후는 없는 시험지도 보이네요. 최대 13번 문제까지 있습니다.\n",
    "\n",
    "수능과 같이 문제 번호가 뒤로 갈수록 난이도가 점점 어려워 진다고 받아드리면 될 것 같아요."
   ]
  },
  {
   "cell_type": "code",
   "execution_count": 36,
   "metadata": {},
   "outputs": [
    {
     "data": {
      "text/plain": [
       "KnowledgeTag\n",
       "8911     0.188940\n",
       "10332    0.250000\n",
       "9125     0.257009\n",
       "10590    0.268139\n",
       "5763     0.278027\n",
       "           ...   \n",
       "1580     0.941896\n",
       "1582     0.949280\n",
       "1577     0.950461\n",
       "7224     0.955022\n",
       "1878     0.977778\n",
       "Name: answerCode, Length: 912, dtype: float64"
      ]
     },
     "execution_count": 36,
     "metadata": {},
     "output_type": "execute_result"
    }
   ],
   "source": [
    "train.groupby('KnowledgeTag')['answerCode'].mean().sort_values()"
   ]
  },
  {
   "cell_type": "markdown",
   "metadata": {},
   "source": [
    "문제 카테고리도 간단하게 살펴봤는데요. 몇 안되는 칼럼인 만큼 상당히 유의미한 정답률 차이를 보여주네요."
   ]
  },
  {
   "cell_type": "code",
   "execution_count": 37,
   "metadata": {},
   "outputs": [
    {
     "data": {
      "text/plain": [
       "7597    12892\n",
       "7600    10734\n",
       "2010    10176\n",
       "7621     9709\n",
       "8127     9006\n",
       "        ...  \n",
       "5142       47\n",
       "2871       46\n",
       "4978       46\n",
       "7125       45\n",
       "2613       44\n",
       "Name: KnowledgeTag, Length: 912, dtype: int64"
      ]
     },
     "execution_count": 37,
     "metadata": {},
     "output_type": "execute_result"
    }
   ],
   "source": [
    "train['KnowledgeTag'].value_counts()"
   ]
  },
  {
   "cell_type": "markdown",
   "metadata": {},
   "source": [
    "카테고리 별 문제가 최소한 40개 이상은 됩니다. 따로 전처리하지 않아도 좋을 것 같아요."
   ]
  },
  {
   "cell_type": "markdown",
   "metadata": {},
   "source": [
    "## 유저 변수 확인"
   ]
  },
  {
   "cell_type": "code",
   "execution_count": 43,
   "metadata": {},
   "outputs": [
    {
     "data": {
      "text/html": [
       "<div>\n",
       "<style scoped>\n",
       "    .dataframe tbody tr th:only-of-type {\n",
       "        vertical-align: middle;\n",
       "    }\n",
       "\n",
       "    .dataframe tbody tr th {\n",
       "        vertical-align: top;\n",
       "    }\n",
       "\n",
       "    .dataframe thead th {\n",
       "        text-align: right;\n",
       "    }\n",
       "</style>\n",
       "<table border=\"1\" class=\"dataframe\">\n",
       "  <thead>\n",
       "    <tr style=\"text-align: right;\">\n",
       "      <th></th>\n",
       "      <th>userID</th>\n",
       "      <th>mean</th>\n",
       "      <th>cnt</th>\n",
       "    </tr>\n",
       "  </thead>\n",
       "  <tbody>\n",
       "    <tr>\n",
       "      <th>0</th>\n",
       "      <td>0</td>\n",
       "      <td>0.630872</td>\n",
       "      <td>745</td>\n",
       "    </tr>\n",
       "    <tr>\n",
       "      <th>1</th>\n",
       "      <td>1</td>\n",
       "      <td>0.853162</td>\n",
       "      <td>933</td>\n",
       "    </tr>\n",
       "    <tr>\n",
       "      <th>2</th>\n",
       "      <td>2</td>\n",
       "      <td>0.612319</td>\n",
       "      <td>276</td>\n",
       "    </tr>\n",
       "    <tr>\n",
       "      <th>3</th>\n",
       "      <td>5</td>\n",
       "      <td>0.795918</td>\n",
       "      <td>833</td>\n",
       "    </tr>\n",
       "    <tr>\n",
       "      <th>4</th>\n",
       "      <td>6</td>\n",
       "      <td>0.442997</td>\n",
       "      <td>921</td>\n",
       "    </tr>\n",
       "    <tr>\n",
       "      <th>...</th>\n",
       "      <td>...</td>\n",
       "      <td>...</td>\n",
       "      <td>...</td>\n",
       "    </tr>\n",
       "    <tr>\n",
       "      <th>6693</th>\n",
       "      <td>7436</td>\n",
       "      <td>0.466667</td>\n",
       "      <td>15</td>\n",
       "    </tr>\n",
       "    <tr>\n",
       "      <th>6694</th>\n",
       "      <td>7437</td>\n",
       "      <td>0.375000</td>\n",
       "      <td>16</td>\n",
       "    </tr>\n",
       "    <tr>\n",
       "      <th>6695</th>\n",
       "      <td>7438</td>\n",
       "      <td>0.750000</td>\n",
       "      <td>16</td>\n",
       "    </tr>\n",
       "    <tr>\n",
       "      <th>6696</th>\n",
       "      <td>7440</td>\n",
       "      <td>0.400000</td>\n",
       "      <td>15</td>\n",
       "    </tr>\n",
       "    <tr>\n",
       "      <th>6697</th>\n",
       "      <td>7441</td>\n",
       "      <td>0.555556</td>\n",
       "      <td>9</td>\n",
       "    </tr>\n",
       "  </tbody>\n",
       "</table>\n",
       "<p>6698 rows × 3 columns</p>\n",
       "</div>"
      ],
      "text/plain": [
       "      userID      mean  cnt\n",
       "0          0  0.630872  745\n",
       "1          1  0.853162  933\n",
       "2          2  0.612319  276\n",
       "3          5  0.795918  833\n",
       "4          6  0.442997  921\n",
       "...      ...       ...  ...\n",
       "6693    7436  0.466667   15\n",
       "6694    7437  0.375000   16\n",
       "6695    7438  0.750000   16\n",
       "6696    7440  0.400000   15\n",
       "6697    7441  0.555556    9\n",
       "\n",
       "[6698 rows x 3 columns]"
      ]
     },
     "execution_count": 43,
     "metadata": {},
     "output_type": "execute_result"
    }
   ],
   "source": [
    "tem = train.groupby('userID')['answerCode']\n",
    "tem = pd.DataFrame({'mean' : tem.mean(), 'cnt':tem.count()}).reset_index()\n",
    "tem"
   ]
  },
  {
   "cell_type": "code",
   "execution_count": 45,
   "metadata": {},
   "outputs": [
    {
     "data": {
      "text/plain": [
       "<AxesSubplot: >"
      ]
     },
     "execution_count": 45,
     "metadata": {},
     "output_type": "execute_result"
    },
    {
     "data": {
      "image/png": "[encoded data removed]",
      "text/plain": [
       "<Figure size 640x480 with 1 Axes>"
      ]
     },
     "metadata": {},
     "output_type": "display_data"
    }
   ],
   "source": [
    "tem['mean'].hist()"
   ]
  },
  {
   "cell_type": "markdown",
   "metadata": {},
   "source": [
    "사람별로 똑똑한 사람 조금 부족한(?) 사람이 있는 것을 확인했습니다.\n",
    "\n",
    "한분 빼고는 사람 당 최소 15문제를 푼 것을 확인할 수 있습니다.\n",
    "\n",
    "다만 테스트 데이터에는 아에 처음 본 유저만 있기 때문에 이 부분을 잘 고려해야겠습니다."
   ]
  }
 ],
 "metadata": {
  "kernelspec": {
   "display_name": "Python 3.9.13 ('recsys')",
   "language": "python",
   "name": "python3"
  },
  "language_info": {
   "codemirror_mode": {
    "name": "ipython",
    "version": 3
   },
   "file_extension": ".py",
   "mimetype": "text/x-python",
   "name": "python",
   "nbconvert_exporter": "python",
   "pygments_lexer": "ipython3",
   "version": "3.9.13"
  },
  "vscode": {
   "interpreter": {
    "hash": "ab3dcce153651d446e5ec15055db40c147596c6fda3e30df03cfbf5fb9356af2"
   }
  }
 },
 "nbformat": 4,
 "nbformat_minor": 4
}
