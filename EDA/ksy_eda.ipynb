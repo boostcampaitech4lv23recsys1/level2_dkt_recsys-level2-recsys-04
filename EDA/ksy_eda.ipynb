{
 "cells": [
  {
   "cell_type": "code",
   "execution_count": 17,
   "metadata": {},
   "outputs": [],
   "source": [
    "import numpy as np\n",
    "import pandas as pd\n",
    "\n",
    "\n",
    "path = '/opt/ml/input/data/'\n",
    "\n",
    "train = pd.read_csv(path + 'train_data.csv')\n",
    "test = pd.read_csv(path + 'test_data.csv')"
   ]
  },
  {
   "cell_type": "code",
   "execution_count": 26,
   "metadata": {},
   "outputs": [
    {
     "data": {
      "text/plain": [
       "2020    2266567\n",
       "2019         19\n",
       "Name: year, dtype: int64"
      ]
     },
     "execution_count": 26,
     "metadata": {},
     "output_type": "execute_result"
    }
   ],
   "source": [
    "tem = pd.to_datetime(train['Timestamp'])\n",
    "tem.dt.year # 연도 정보\n",
    "tem.dt.month # 월 정보\n",
    "tem.dt.day # 일 정보\n",
    "tem.dt.hour # 시간 정보\n",
    "tem.dt.minute # 분 정보\n",
    "tem.dt.second # 초 정보\n",
    "train['year'] = tem.dt.year\n",
    "train['year'].value_counts()"
   ]
  },
  {
   "cell_type": "code",
   "execution_count": 3,
   "metadata": {},
   "outputs": [],
   "source": [
    "train = train.sort_values(by=[\"userID\", \"Timestamp\"], axis=0)\n",
    "train = train[[\"userID\", \"assessmentItemID\", \"testId\", \"answerCode\", \"KnowledgeTag\"]]\n",
    "train = train.groupby(\"userID\").apply(\n",
    "                lambda r: (\n",
    "                    r[\"testId\"].values,\n",
    "                    r[\"assessmentItemID\"].values,\n",
    "                    r[\"KnowledgeTag\"].values,\n",
    "                    r[\"answerCode\"].values,\n",
    "                )\n",
    "            )"
   ]
  },
  {
   "cell_type": "code",
   "execution_count": 16,
   "metadata": {},
   "outputs": [
    {
     "data": {
      "text/plain": [
       "userID\n",
       "0       ([A060000001, A060000001, A060000001, A0600000...\n",
       "1       ([A040000013, A040000013, A040000013, A0400000...\n",
       "2       ([A030000050, A030000050, A030000050, A0300000...\n",
       "5       ([A080000001, A080000001, A080000001, A0800000...\n",
       "6       ([A030000016, A030000016, A030000016, A0300000...\n",
       "                              ...                        \n",
       "7436    ([A050000095, A050000095, A050000095, A0500000...\n",
       "7437    ([A040000072, A040000072, A040000072, A0400000...\n",
       "7438    ([A080000002, A080000002, A080000002, A0800000...\n",
       "7440    ([A050000096, A050000096, A050000096, A0500000...\n",
       "7441    ([A030000071, A030000071, A030000071, A0300000...\n",
       "Length: 6698, dtype: object"
      ]
     },
     "execution_count": 16,
     "metadata": {},
     "output_type": "execute_result"
    }
   ],
   "source": [
    "train"
   ]
  },
  {
   "cell_type": "code",
   "execution_count": 39,
   "metadata": {},
   "outputs": [
    {
     "name": "stdout",
     "output_type": "stream",
     "text": [
      "6698\n",
      "6698\n"
     ]
    }
   ],
   "source": [
    "print(len(set(train['userID'].unique()) - set(test['userID'].unique())))\n",
    "print(len(set(train['userID'].unique())))"
   ]
  },
  {
   "cell_type": "markdown",
   "metadata": {},
   "source": [
    "train과 test 간 같은 유저가 존재하지 않는다."
   ]
  },
  {
   "cell_type": "markdown",
   "metadata": {},
   "source": [
    "# 시험 문제별로"
   ]
  },
  {
   "cell_type": "code",
   "execution_count": 27,
   "metadata": {},
   "outputs": [
    {
     "name": "stdout",
     "output_type": "stream",
     "text": [
      "0번째 value_count\n",
      "A    2266586\n",
      "Name: assessmentItemID, dtype: int64\n",
      "\n",
      "1번째 value_count\n",
      "0    2266586\n",
      "Name: assessmentItemID, dtype: int64\n",
      "\n",
      "2번째 value_count\n",
      "7    279164\n",
      "5    275773\n",
      "3    273762\n",
      "1    272082\n",
      "2    268327\n",
      "4    267323\n",
      "6    264434\n",
      "8    246336\n",
      "9    119385\n",
      "Name: assessmentItemID, dtype: int64\n",
      "\n"
     ]
    }
   ],
   "source": [
    "for i in range(3):\n",
    "    print(f'{i}번째 value_count')\n",
    "    print(train['assessmentItemID'].str[i].value_counts())\n",
    "    print('')"
   ]
  },
  {
   "cell_type": "code",
   "execution_count": 26,
   "metadata": {},
   "outputs": [
    {
     "name": "stdout",
     "output_type": "stream",
     "text": [
      "large 그룹 별 문제 개수\n",
      "large\n",
      "1    272082\n",
      "2    268327\n",
      "3    273762\n",
      "4    267323\n",
      "5    275773\n",
      "6    264434\n",
      "7    279164\n",
      "8    246336\n",
      "9    119385\n",
      "Name: answerCode, dtype: int64\n",
      "large 그룹 별 맞을 확률\n",
      "large\n",
      "1    0.800876\n",
      "2    0.737593\n",
      "3    0.702238\n",
      "4    0.684056\n",
      "5    0.658208\n",
      "6    0.709232\n",
      "7    0.521876\n",
      "8    0.502598\n",
      "9    0.449948\n",
      "Name: answerCode, dtype: float64\n"
     ]
    }
   ],
   "source": [
    "train['large'] = train['assessmentItemID'].str[2]\n",
    "print('large 그룹 별 문제 개수')\n",
    "print(train.groupby('large')['answerCode'].count())\n",
    "print('large 그룹 별 맞을 확률')\n",
    "print(train.groupby('large')['answerCode'].mean())"
   ]
  },
  {
   "cell_type": "markdown",
   "metadata": {},
   "source": [
    "대그룹별 문제 난이도가 확연히 보인다."
   ]
  },
  {
   "cell_type": "code",
   "execution_count": 45,
   "metadata": {},
   "outputs": [
    {
     "data": {
      "text/plain": [
       "testID\n",
       "057    0.529107\n",
       "047    0.542518\n",
       "049    0.550103\n",
       "051    0.557857\n",
       "069    0.558188\n",
       "         ...   \n",
       "179    0.819098\n",
       "185    0.831546\n",
       "195    0.835409\n",
       "198    0.853838\n",
       "196    0.895706\n",
       "Name: answerCode, Length: 198, dtype: float64"
      ]
     },
     "execution_count": 45,
     "metadata": {},
     "output_type": "execute_result"
    }
   ],
   "source": [
    "train['testID'] = train['testId'].str[-3:]\n",
    "train.groupby('testID')['answerCode'].mean().sort_values()"
   ]
  },
  {
   "cell_type": "code",
   "execution_count": 37,
   "metadata": {},
   "outputs": [
    {
     "data": {
      "text/plain": [
       "017    17739\n",
       "009    17555\n",
       "011    17029\n",
       "003    16970\n",
       "007    16826\n",
       "       ...  \n",
       "180     3767\n",
       "197     2973\n",
       "194     2596\n",
       "196     1304\n",
       "198      951\n",
       "Name: assessmentItemID, Length: 198, dtype: int64"
      ]
     },
     "execution_count": 37,
     "metadata": {},
     "output_type": "execute_result"
    }
   ],
   "source": [
    "train['assessmentItemID'].str[4:7].value_counts()"
   ]
  },
  {
   "cell_type": "code",
   "execution_count": 10,
   "metadata": {},
   "outputs": [
    {
     "data": {
      "text/plain": [
       "6698"
      ]
     },
     "execution_count": 10,
     "metadata": {},
     "output_type": "execute_result"
    }
   ],
   "source": []
  },
  {
   "cell_type": "code",
   "execution_count": null,
   "metadata": {},
   "outputs": [],
   "source": []
  }
 ],
 "metadata": {
  "kernelspec": {
   "display_name": "Python 3.9.13 ('recsys')",
   "language": "python",
   "name": "python3"
  },
  "language_info": {
   "codemirror_mode": {
    "name": "ipython",
    "version": 3
   },
   "file_extension": ".py",
   "mimetype": "text/x-python",
   "name": "python",
   "nbconvert_exporter": "python",
   "pygments_lexer": "ipython3",
   "version": "3.9.13"
  },
  "vscode": {
   "interpreter": {
    "hash": "ab3dcce153651d446e5ec15055db40c147596c6fda3e30df03cfbf5fb9356af2"
   }
  }
 },
 "nbformat": 4,
 "nbformat_minor": 4
}
