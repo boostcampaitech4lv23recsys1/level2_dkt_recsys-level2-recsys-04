{
 "cells": [
  {
   "cell_type": "code",
   "execution_count": 9,
   "metadata": {},
   "outputs": [],
   "source": [
    "import numpy as np\n",
    "import pandas as pd\n",
    "\n",
    "\n",
    "path = '/opt/ml/input/data/'\n",
    "\n",
    "train = pd.read_csv(path + 'train_data.csv', parse_dates=[\"Timestamp\"])\n",
    "test = pd.read_csv(path + 'test_data.csv', parse_dates=[\"Timestamp\"])\n",
    "\n",
    "dat = pd.concat([train, test], axis = 0)\n",
    "dat = dat.sort_values(by = ['userID', 'Timestamp'])\n"
   ]
  },
  {
   "cell_type": "code",
   "execution_count": 10,
   "metadata": {},
   "outputs": [],
   "source": [
    "diff = dat.loc[:, [\"userID\", \"Timestamp\"]].groupby(\"userID\").diff().fillna(pd.Timedelta(seconds=0))\n",
    "diff['Timestamp'] = diff['Timestamp'].apply(pd.Timedelta.total_seconds)\n",
    "diff['Timestamp'] = diff['Timestamp'].apply(lambda x: 0 if x >600 or x<0 else x)\n",
    "dat['solve_time'] = diff['Timestamp']"
   ]
  },
  {
   "cell_type": "code",
   "execution_count": 11,
   "metadata": {},
   "outputs": [],
   "source": [
    "# 시험 난이도(?)로 추청되는 특성 따로 분류\n",
    "dat['b_category'] = dat['assessmentItemID'].str[2]\n",
    "# 시험지로 추청되는 특성 따로 분류. 뒤에 것이 좋을 것 같은데 일단 제출을 한 것으로 써놓음.\n",
    "dat['test_category'] = dat['assessmentItemID'].str[2] + dat['assessmentItemID'].str[4:7] # dat['assessmentItemID'].str[4:7]\n",
    "dat['problem_id'] = dat['assessmentItemID'].str[-3:]"
   ]
  },
  {
   "cell_type": "code",
   "execution_count": 12,
   "metadata": {},
   "outputs": [],
   "source": [
    "diff['Timestamp'] = dat['solve_time']\n",
    "diff['Timestamp'] = pd.qcut(diff['Timestamp'],5)\n",
    "diff['Timestamp'] = diff['Timestamp'].astype(\"str\")\n",
    "dat['category_st_qcut_5'] = diff['Timestamp']"
   ]
  },
  {
   "cell_type": "code",
   "execution_count": 13,
   "metadata": {},
   "outputs": [],
   "source": [
    "dat['solve_time'] = dat['solve_time'].astype(int)"
   ]
  },
  {
   "cell_type": "code",
   "execution_count": 6,
   "metadata": {},
   "outputs": [],
   "source": [
    "dat['last_answerCode'] = dat.groupby(\"userID\")['answerCode'].shift(1).fillna(1)\n",
    "dat['last_answerCode2'] = dat.groupby(\"userID\")['answerCode'].shift(2).fillna(1)\n",
    "dat['last_answerCode3'] = dat.groupby(\"userID\")['answerCode'].shift(3).fillna(1)\n",
    "dat['last_answerCode4'] = dat.groupby(\"userID\")['answerCode'].shift(4).fillna(1)\n",
    "dat['last_answerCode5'] = dat.groupby(\"userID\")['answerCode'].shift(5).fillna(1)\n",
    "dat['last_answerCode6'] = dat.groupby(\"userID\")['answerCode'].shift(6).fillna(1)\n",
    "dat['last_answerCode7'] = dat.groupby(\"userID\")['answerCode'].shift(7).fillna(1)\n",
    "dat['last_answerCode8'] = dat.groupby(\"userID\")['answerCode'].shift(8).fillna(1)\n",
    "dat['last_answerCode9'] = dat.groupby(\"userID\")['answerCode'].shift(9).fillna(1)\n",
    "dat['last_answerCode10'] = dat.groupby(\"userID\")['answerCode'].shift(10).fillna(1)"
   ]
  },
  {
   "cell_type": "code",
   "execution_count": 7,
   "metadata": {},
   "outputs": [],
   "source": [
    "dat['last_answerCode'] = dat['last_answerCode'].astype(int)\n",
    "dat['last_answerCode2'] = dat['last_answerCode2'].astype(int)\n",
    "dat['last_answerCode3'] = dat['last_answerCode3'].astype(int)\n",
    "dat['last_answerCode4'] = dat['last_answerCode4'].astype(int)\n",
    "dat['last_answerCode5'] = dat['last_answerCode5'].astype(int)\n",
    "dat['last_answerCode6'] = dat['last_answerCode6'].astype(int)\n",
    "dat['last_answerCode7'] = dat['last_answerCode7'].astype(int)\n",
    "dat['last_answerCode8'] = dat['last_answerCode8'].astype(int)\n",
    "dat['last_answerCode9'] = dat['last_answerCode9'].astype(int)\n",
    "dat['last_answerCode10'] = dat['last_answerCode10'].astype(int)"
   ]
  },
  {
   "cell_type": "code",
   "execution_count": 8,
   "metadata": {},
   "outputs": [],
   "source": [
    "dat['year'] = dat['Timestamp'].dt.year # 연도 정보\n",
    "dat['month'] =  dat['Timestamp'].dt.month # 월 정보\n",
    "dat['day'] =  dat['Timestamp'].dt.day # 일 정보\n",
    "dat['hour'] =  dat['Timestamp'].dt.hour # 시간 정보\n",
    "\n",
    "dat.to_csv('/opt/ml/input/data/FE/FE_total2.csv', index=False)"
   ]
  }
 ],
 "metadata": {
  "kernelspec": {
   "display_name": "Python 3.10.8 ('ksy')",
   "language": "python",
   "name": "python3"
  },
  "language_info": {
   "codemirror_mode": {
    "name": "ipython",
    "version": 3
   },
   "file_extension": ".py",
   "mimetype": "text/x-python",
   "name": "python",
   "nbconvert_exporter": "python",
   "pygments_lexer": "ipython3",
   "version": "3.10.8"
  },
  "vscode": {
   "interpreter": {
    "hash": "e88c8a57f3c8bc3f55a30a7654691f691be3714692d31d0dbfc1c68d13580472"
   }
  }
 },
 "nbformat": 4,
 "nbformat_minor": 4
}
