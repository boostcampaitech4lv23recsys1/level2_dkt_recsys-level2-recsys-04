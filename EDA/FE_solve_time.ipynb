{
 "cells": [
  {
   "cell_type": "code",
   "execution_count": 7,
   "metadata": {},
   "outputs": [],
   "source": [
    "import numpy as np\n",
    "import pandas as pd\n",
    "\n",
    "\n",
    "path = '/opt/ml/input/data/'\n",
    "\n",
    "train = pd.read_csv(path + 'train_data.csv')\n",
    "test = pd.read_csv(path + 'test_data.csv')"
   ]
  },
  {
   "cell_type": "code",
   "execution_count": 8,
   "metadata": {},
   "outputs": [],
   "source": [
    "dataset = pd.read_csv(path + 'train_data.csv', parse_dates=[\"Timestamp\"])\n",
    "diff = dataset.loc[:, [\"userID\", \"Timestamp\"]].groupby(\"userID\").diff().fillna(pd.Timedelta(seconds=0))\n",
    "diff['Timestamp'] = diff['Timestamp'].apply(pd.Timedelta.total_seconds)\n",
    "diff['Timestamp'] = diff['Timestamp'].apply(lambda x: 0 if x >600 or x<0 else x)\n",
    "train['solve_time'] = diff['Timestamp']"
   ]
  },
  {
   "cell_type": "code",
   "execution_count": 9,
   "metadata": {},
   "outputs": [],
   "source": [
    "train.to_csv('/opt/ml/input/data/FE/FE_solve_time_train.csv', index=False)"
   ]
  },
  {
   "cell_type": "code",
   "execution_count": 10,
   "metadata": {},
   "outputs": [],
   "source": [
    "dataset = pd.read_csv(path + 'test_data.csv', parse_dates=[\"Timestamp\"])\n",
    "diff = dataset.loc[:, [\"userID\", \"Timestamp\"]].groupby(\"userID\").diff().fillna(pd.Timedelta(seconds=0))\n",
    "diff['Timestamp'] = diff['Timestamp'].apply(pd.Timedelta.total_seconds)\n",
    "diff['Timestamp'] = diff['Timestamp'].apply(lambda x: 0 if x >600 or x<0 else x)\n",
    "test['solve_time'] = diff['Timestamp']"
   ]
  },
  {
   "cell_type": "code",
   "execution_count": 11,
   "metadata": {},
   "outputs": [],
   "source": [
    "test.to_csv('/opt/ml/input/data/FE/FE_solve_time_test.csv', index=False)"
   ]
  },
  {
   "cell_type": "code",
   "execution_count": null,
   "metadata": {},
   "outputs": [],
   "source": []
  }
 ],
 "metadata": {
  "kernelspec": {
   "display_name": "Python 3.8.5 ('base')",
   "language": "python",
   "name": "python3"
  },
  "language_info": {
   "codemirror_mode": {
    "name": "ipython",
    "version": 3
   },
   "file_extension": ".py",
   "mimetype": "text/x-python",
   "name": "python",
   "nbconvert_exporter": "python",
   "pygments_lexer": "ipython3",
   "version": "3.8.5"
  },
  "vscode": {
   "interpreter": {
    "hash": "d4d1e4263499bec80672ea0156c357c1ee493ec2b1c70f0acce89fc37c4a6abe"
   }
  }
 },
 "nbformat": 4,
 "nbformat_minor": 4
}
