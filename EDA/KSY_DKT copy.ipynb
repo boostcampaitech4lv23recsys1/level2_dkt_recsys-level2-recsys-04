{
 "cells": [
  {
   "cell_type": "code",
   "execution_count": 1,
   "metadata": {},
   "outputs": [],
   "source": [
    "import pandas as pd\n",
    "import numpy as np\n",
    "import os\n",
    "import random\n",
    "\n",
    "import warnings\n",
    "\n",
    "warnings.filterwarnings(action='ignore')\n",
    "\n",
    "k = 100 # k개까지만 문제 기록을 남기려고함.\n",
    "\n",
    "path = '/opt/ml/input/data/'\n",
    "\n",
    "train = pd.read_csv(path + 'train_data.csv')\n",
    "test = pd.read_csv(path + 'test_data.csv')\n",
    "dat = pd.concat([train, test])\n",
    "dat = dat.loc[::-1]\n",
    "dat.reset_index(drop= True, inplace= True)\n",
    "\n",
    "dat['tem'] = 1\n",
    "dat['seq'] = dat.groupby('userID')['tem'].apply(lambda x : x.cumsum())"
   ]
  },
  {
   "cell_type": "code",
   "execution_count": 2,
   "metadata": {},
   "outputs": [],
   "source": [
    "# test 데이터 만들기.\n",
    "test_id = test['userID'].unique()\n",
    "test = dat[(dat['userID'].isin(test_id)) & (dat['seq'] <= k)]\n",
    "train = dat[~((dat['userID'].isin(test_id)) & (dat['seq'] == 1))]\n",
    "train['seq'] = train.apply(lambda x : x['seq'] - 1  if x['userID'] in test_id else x['seq'], axis = 1)\n",
    "\n",
    "# valid 데이터 만들기.\n",
    "valid_data = train[train['seq'] <= k]\n",
    "\n",
    "# 뒷처리부분.\n",
    "user_num = dat['userID'].nunique()\n",
    "train_new = train.copy()\n",
    "\n",
    "# seq 하나씩 내리고 0된 값 처리하기.\n",
    "train_new['seq'] = train_new['seq'] - 1\n",
    "train_new = train_new[train_new['seq'] >= 1]\n",
    "\n",
    "# train_new 데이터에 문제 너무 적게 푼 유저 정리하기.\n",
    "tem = train_new.drop_duplicates(['userID'], keep='last')[['userID','seq']]\n",
    "lst = list(tem[tem['seq'] < 14]['userID'])\n",
    "train_new = train_new[~train_new['userID'].isin(lst)]\n",
    "\n",
    "# 첫번째 train_datas 만들기.\n",
    "train_datas = train_new[train_new['seq'] <= k]"
   ]
  },
  {
   "cell_type": "code",
   "execution_count": 3,
   "metadata": {},
   "outputs": [
    {
     "name": "stdout",
     "output_type": "stream",
     "text": [
      "0\n",
      "50\n",
      "100\n",
      "150\n",
      "200\n",
      "250\n"
     ]
    }
   ],
   "source": [
    "for i in range(300):\n",
    "    # seq 하나씩 내리고 0된 값 처리하기.\n",
    "    train_new['seq'] = train_new['seq'] - 1\n",
    "    train_new = train_new[train_new['seq'] >= 1]\n",
    "    \n",
    "    # 문제를 적게 푼 유저 정리하기.\n",
    "    tem = train_new.drop_duplicates(['userID'], keep='last')[['userID','seq']]\n",
    "    lst = list(tem[tem['seq'] < 14]['userID'])\n",
    "    train_new = train_new[~train_new['userID'].isin(lst)]\n",
    "    train_new['userID'] = train_new['userID'] + user_num\n",
    "    \n",
    "    # train_data 만들기.\n",
    "    train_data = train_new[train_new['seq'] <= k]\n",
    "    train_datas = pd.concat([train_datas, train_data])\n",
    "\n",
    "    if i % 50 == 0:\n",
    "        print(i)"
   ]
  },
  {
   "cell_type": "code",
   "execution_count": 7,
   "metadata": {},
   "outputs": [
    {
     "data": {
      "text/plain": [
       "885826     100\n",
       "1199933    100\n",
       "1199924    100\n",
       "1199926    100\n",
       "1199928    100\n",
       "          ... \n",
       "2013429     14\n",
       "2013790     14\n",
       "718396      14\n",
       "354917      14\n",
       "7439        14\n",
       "Name: userID, Length: 1386576, dtype: int64"
      ]
     },
     "execution_count": 7,
     "metadata": {},
     "output_type": "execute_result"
    }
   ],
   "source": [
    "train_datas['userID'].value_counts()"
   ]
  },
  {
   "cell_type": "code",
   "execution_count": 9,
   "metadata": {},
   "outputs": [],
   "source": [
    "train_data = train_datas.sort_values(['userID','seq'], ascending=[True, False])\n",
    "valid_data = valid_data.sort_values(['userID','seq'], ascending=[True, False])\n",
    "test_data = test.sort_values(['userID','seq'], ascending=[True, False])"
   ]
  },
  {
   "cell_type": "code",
   "execution_count": 12,
   "metadata": {},
   "outputs": [
    {
     "data": {
      "text/plain": [
       "1386576"
      ]
     },
     "execution_count": 12,
     "metadata": {},
     "output_type": "execute_result"
    }
   ],
   "source": [
    "train_data['userID'].nunique()"
   ]
  },
  {
   "cell_type": "code",
   "execution_count": 13,
   "metadata": {},
   "outputs": [
    {
     "data": {
      "text/plain": [
       "7442"
      ]
     },
     "execution_count": 13,
     "metadata": {},
     "output_type": "execute_result"
    }
   ],
   "source": [
    "valid_data['userID'].nunique()"
   ]
  },
  {
   "cell_type": "code",
   "execution_count": 15,
   "metadata": {},
   "outputs": [],
   "source": [
    "train_data.drop(['tem'], axis = 1).to_csv(path + 'GKT/train_data3.csv', index = False)\n",
    "valid_data.drop(['tem'], axis = 1).to_csv(path + 'GKT/valid_data3.csv', index = False)\n",
    "test_data.drop(['tem'], axis = 1).to_csv(path + 'GKT/test_data3.csv', index = False)"
   ]
  },
  {
   "cell_type": "code",
   "execution_count": null,
   "metadata": {},
   "outputs": [],
   "source": [
    "train_data.drop(['tem'], axis = 1).to_csv('./train_data.csv', index = False)\n",
    "valid_data.drop(['tem'], axis = 1).to_csv('./valid_data.csv', index = False)\n",
    "test_data.drop(['tem'], axis = 1).to_csv('./test_data.csv', index = False)"
   ]
  },
  {
   "cell_type": "code",
   "execution_count": null,
   "metadata": {},
   "outputs": [],
   "source": []
  }
 ],
 "metadata": {
  "kernelspec": {
   "display_name": "Python 3.10.8 ('ksy')",
   "language": "python",
   "name": "python3"
  },
  "language_info": {
   "codemirror_mode": {
    "name": "ipython",
    "version": 3
   },
   "file_extension": ".py",
   "mimetype": "text/x-python",
   "name": "python",
   "nbconvert_exporter": "python",
   "pygments_lexer": "ipython3",
   "version": "3.10.8"
  },
  "orig_nbformat": 4,
  "vscode": {
   "interpreter": {
    "hash": "e88c8a57f3c8bc3f55a30a7654691f691be3714692d31d0dbfc1c68d13580472"
   }
  }
 },
 "nbformat": 4,
 "nbformat_minor": 2
}
