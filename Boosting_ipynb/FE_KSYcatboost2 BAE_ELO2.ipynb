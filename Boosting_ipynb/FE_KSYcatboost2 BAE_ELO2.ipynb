{
 "cells": [
  {
   "cell_type": "code",
   "execution_count": 1,
   "metadata": {},
   "outputs": [],
   "source": [
    "import numpy as np\n",
    "import pandas as pd\n",
<<<<<<< HEAD
    "\n",
=======
    "from tqdm import tqdm\n",
>>>>>>> master
    "import os\n",
    "import random\n",
    "\n",
    "import warnings\n",
    "\n",
    "warnings.filterwarnings(action='ignore')\n",
    "\n",
    "path = '/opt/ml/input/data/'\n",
    "dat = pd.read_csv(path + 'FE/FE_total_2_elo2.csv')\n"
   ]
  },
  {
   "cell_type": "code",
   "execution_count": 2,
   "metadata": {},
   "outputs": [],
   "source": [
    "dat.drop(['day','year','KnowledgeTag', 'last_answerCode7','last_answerCode8','last_answerCode9','last_answerCode10'], axis = 1, inplace = True)"
   ]
  },
  {
   "cell_type": "code",
   "execution_count": 3,
   "metadata": {},
   "outputs": [
    {
     "data": {
      "text/plain": [
       "Index(['userID', 'assessmentItemID', 'testId', 'answerCode', 'Timestamp',\n",
       "       'elouser', 'eloitem', 'elotag', 'elotest', 'elo', 'solve_time',\n",
       "       'b_category', 'test_category', 'problem_id', 'category_st_qcut_5',\n",
       "       'last_answerCode', 'last_answerCode2', 'last_answerCode3',\n",
       "       'last_answerCode4', 'last_answerCode5', 'last_answerCode6', 'month',\n",
       "       'hour'],\n",
       "      dtype='object')"
      ]
     },
     "execution_count": 3,
     "metadata": {},
     "output_type": "execute_result"
    }
   ],
   "source": [
    "dat.columns"
   ]
  },
  {
   "cell_type": "code",
   "execution_count": 4,
   "metadata": {},
   "outputs": [],
   "source": [
    "_train = dat[dat['answerCode'] >= 0]\n",
    "_test = dat[dat['answerCode'] < 0]"
   ]
  },
  {
   "cell_type": "code",
   "execution_count": 5,
   "metadata": {},
   "outputs": [],
   "source": [
    "# valid 제작하는 함수 새로 개편.\n",
    "# 예전 valid 제작 함수는 1분 걸렸는데 0.6초만에 끗~\n",
    "_train['train_valid'] = 0\n",
    "_train.loc[_train.drop_duplicates(subset='userID', keep = 'last').index, 'train_valid'] = -1\n",
    "_valid = _train[_train['train_valid'] == -1]\n",
    "_train = _train[_train['train_valid'] == 0]"
   ]
  },
  {
   "cell_type": "code",
<<<<<<< HEAD
   "execution_count": 6,
=======
   "execution_count": 11,
   "metadata": {},
   "outputs": [
    {
     "data": {
      "text/html": [
       "<div>\n",
       "<style scoped>\n",
       "    .dataframe tbody tr th:only-of-type {\n",
       "        vertical-align: middle;\n",
       "    }\n",
       "\n",
       "    .dataframe tbody tr th {\n",
       "        vertical-align: top;\n",
       "    }\n",
       "\n",
       "    .dataframe thead th {\n",
       "        text-align: right;\n",
       "    }\n",
       "</style>\n",
       "<table border=\"1\" class=\"dataframe\">\n",
       "  <thead>\n",
       "    <tr style=\"text-align: right;\">\n",
       "      <th></th>\n",
       "      <th>userID</th>\n",
       "      <th>assessmentItemID</th>\n",
       "      <th>testId</th>\n",
       "      <th>answerCode</th>\n",
       "      <th>Timestamp</th>\n",
       "      <th>elouser</th>\n",
       "      <th>eloitem</th>\n",
       "      <th>elotag</th>\n",
       "      <th>elotest</th>\n",
       "      <th>elo</th>\n",
       "      <th>...</th>\n",
       "      <th>category_st_qcut_5</th>\n",
       "      <th>last_answerCode</th>\n",
       "      <th>last_answerCode2</th>\n",
       "      <th>last_answerCode3</th>\n",
       "      <th>last_answerCode4</th>\n",
       "      <th>last_answerCode5</th>\n",
       "      <th>last_answerCode6</th>\n",
       "      <th>month</th>\n",
       "      <th>hour</th>\n",
       "      <th>train_valid</th>\n",
       "    </tr>\n",
       "  </thead>\n",
       "  <tbody>\n",
       "    <tr>\n",
       "      <th>0</th>\n",
       "      <td>0</td>\n",
       "      <td>A060001001</td>\n",
       "      <td>A060000001</td>\n",
       "      <td>1</td>\n",
       "      <td>2020-03-24 00:17:11</td>\n",
       "      <td>0.604065</td>\n",
       "      <td>-3.354789</td>\n",
       "      <td>-2.988107</td>\n",
       "      <td>-2.915382</td>\n",
       "      <td>52.397261</td>\n",
       "      <td>...</td>\n",
       "      <td>(-0.001, 9.0]</td>\n",
       "      <td>1</td>\n",
       "      <td>1</td>\n",
       "      <td>1</td>\n",
       "      <td>1</td>\n",
       "      <td>1</td>\n",
       "      <td>1</td>\n",
       "      <td>3</td>\n",
       "      <td>0</td>\n",
       "      <td>0</td>\n",
       "    </tr>\n",
       "    <tr>\n",
       "      <th>1</th>\n",
       "      <td>0</td>\n",
       "      <td>A060001002</td>\n",
       "      <td>A060000001</td>\n",
       "      <td>1</td>\n",
       "      <td>2020-03-24 00:17:14</td>\n",
       "      <td>0.604065</td>\n",
       "      <td>-3.019619</td>\n",
       "      <td>-2.256471</td>\n",
       "      <td>-2.915382</td>\n",
       "      <td>37.475366</td>\n",
       "      <td>...</td>\n",
       "      <td>(-0.001, 9.0]</td>\n",
       "      <td>1</td>\n",
       "      <td>1</td>\n",
       "      <td>1</td>\n",
       "      <td>1</td>\n",
       "      <td>1</td>\n",
       "      <td>1</td>\n",
       "      <td>3</td>\n",
       "      <td>0</td>\n",
       "      <td>0</td>\n",
       "    </tr>\n",
       "    <tr>\n",
       "      <th>2</th>\n",
       "      <td>0</td>\n",
       "      <td>A060001003</td>\n",
       "      <td>A060000001</td>\n",
       "      <td>1</td>\n",
       "      <td>2020-03-24 00:17:22</td>\n",
       "      <td>0.604065</td>\n",
       "      <td>-2.311757</td>\n",
       "      <td>-2.256471</td>\n",
       "      <td>-2.915382</td>\n",
       "      <td>18.463991</td>\n",
       "      <td>...</td>\n",
       "      <td>(-0.001, 9.0]</td>\n",
       "      <td>1</td>\n",
       "      <td>1</td>\n",
       "      <td>1</td>\n",
       "      <td>1</td>\n",
       "      <td>1</td>\n",
       "      <td>1</td>\n",
       "      <td>3</td>\n",
       "      <td>0</td>\n",
       "      <td>0</td>\n",
       "    </tr>\n",
       "    <tr>\n",
       "      <th>3</th>\n",
       "      <td>0</td>\n",
       "      <td>A060001004</td>\n",
       "      <td>A060000001</td>\n",
       "      <td>1</td>\n",
       "      <td>2020-03-24 00:17:29</td>\n",
       "      <td>0.604065</td>\n",
       "      <td>-3.083097</td>\n",
       "      <td>-2.256471</td>\n",
       "      <td>-2.915382</td>\n",
       "      <td>39.931367</td>\n",
       "      <td>...</td>\n",
       "      <td>(-0.001, 9.0]</td>\n",
       "      <td>1</td>\n",
       "      <td>1</td>\n",
       "      <td>1</td>\n",
       "      <td>1</td>\n",
       "      <td>1</td>\n",
       "      <td>1</td>\n",
       "      <td>3</td>\n",
       "      <td>0</td>\n",
       "      <td>0</td>\n",
       "    </tr>\n",
       "    <tr>\n",
       "      <th>4</th>\n",
       "      <td>0</td>\n",
       "      <td>A060001005</td>\n",
       "      <td>A060000001</td>\n",
       "      <td>1</td>\n",
       "      <td>2020-03-24 00:17:36</td>\n",
       "      <td>0.604065</td>\n",
       "      <td>-2.637877</td>\n",
       "      <td>-2.256471</td>\n",
       "      <td>-2.915382</td>\n",
       "      <td>25.583371</td>\n",
       "      <td>...</td>\n",
       "      <td>(-0.001, 9.0]</td>\n",
       "      <td>1</td>\n",
       "      <td>1</td>\n",
       "      <td>1</td>\n",
       "      <td>1</td>\n",
       "      <td>1</td>\n",
       "      <td>1</td>\n",
       "      <td>3</td>\n",
       "      <td>0</td>\n",
       "      <td>0</td>\n",
       "    </tr>\n",
       "    <tr>\n",
       "      <th>...</th>\n",
       "      <td>...</td>\n",
       "      <td>...</td>\n",
       "      <td>...</td>\n",
       "      <td>...</td>\n",
       "      <td>...</td>\n",
       "      <td>...</td>\n",
       "      <td>...</td>\n",
       "      <td>...</td>\n",
       "      <td>...</td>\n",
       "      <td>...</td>\n",
       "      <td>...</td>\n",
       "      <td>...</td>\n",
       "      <td>...</td>\n",
       "      <td>...</td>\n",
       "      <td>...</td>\n",
       "      <td>...</td>\n",
       "      <td>...</td>\n",
       "      <td>...</td>\n",
       "      <td>...</td>\n",
       "      <td>...</td>\n",
       "      <td>...</td>\n",
       "    </tr>\n",
       "    <tr>\n",
       "      <th>2526694</th>\n",
       "      <td>7441</td>\n",
       "      <td>A030071004</td>\n",
       "      <td>A030000071</td>\n",
       "      <td>0</td>\n",
       "      <td>2020-06-05 06:49:57</td>\n",
       "      <td>-0.099183</td>\n",
       "      <td>0.011644</td>\n",
       "      <td>-0.419509</td>\n",
       "      <td>-0.380745</td>\n",
       "      <td>0.895094</td>\n",
       "      <td>...</td>\n",
       "      <td>(25.0, 56.0]</td>\n",
       "      <td>1</td>\n",
       "      <td>0</td>\n",
       "      <td>0</td>\n",
       "      <td>1</td>\n",
       "      <td>1</td>\n",
       "      <td>1</td>\n",
       "      <td>6</td>\n",
       "      <td>6</td>\n",
       "      <td>0</td>\n",
       "    </tr>\n",
       "    <tr>\n",
       "      <th>2526695</th>\n",
       "      <td>7441</td>\n",
       "      <td>A030071005</td>\n",
       "      <td>A030000071</td>\n",
       "      <td>0</td>\n",
       "      <td>2020-06-05 06:50:21</td>\n",
       "      <td>-0.099183</td>\n",
       "      <td>0.924409</td>\n",
       "      <td>-0.419509</td>\n",
       "      <td>-0.380745</td>\n",
       "      <td>0.359302</td>\n",
       "      <td>...</td>\n",
       "      <td>(9.0, 25.0]</td>\n",
       "      <td>0</td>\n",
       "      <td>1</td>\n",
       "      <td>0</td>\n",
       "      <td>0</td>\n",
       "      <td>1</td>\n",
       "      <td>1</td>\n",
       "      <td>6</td>\n",
       "      <td>6</td>\n",
       "      <td>0</td>\n",
       "    </tr>\n",
       "    <tr>\n",
       "      <th>2526696</th>\n",
       "      <td>7441</td>\n",
       "      <td>A040165001</td>\n",
       "      <td>A040000165</td>\n",
       "      <td>1</td>\n",
       "      <td>2020-08-21 01:06:39</td>\n",
       "      <td>-0.099183</td>\n",
       "      <td>-0.412535</td>\n",
       "      <td>-0.576496</td>\n",
       "      <td>-0.444296</td>\n",
       "      <td>1.368003</td>\n",
       "      <td>...</td>\n",
       "      <td>(237.0, 25602295.0]</td>\n",
       "      <td>0</td>\n",
       "      <td>0</td>\n",
       "      <td>1</td>\n",
       "      <td>0</td>\n",
       "      <td>0</td>\n",
       "      <td>1</td>\n",
       "      <td>8</td>\n",
       "      <td>1</td>\n",
       "      <td>0</td>\n",
       "    </tr>\n",
       "    <tr>\n",
       "      <th>2526697</th>\n",
       "      <td>7441</td>\n",
       "      <td>A040165002</td>\n",
       "      <td>A040000165</td>\n",
       "      <td>1</td>\n",
       "      <td>2020-08-21 01:06:50</td>\n",
       "      <td>-0.099183</td>\n",
       "      <td>-0.346430</td>\n",
       "      <td>-0.576496</td>\n",
       "      <td>-0.444296</td>\n",
       "      <td>1.280496</td>\n",
       "      <td>...</td>\n",
       "      <td>(9.0, 25.0]</td>\n",
       "      <td>1</td>\n",
       "      <td>0</td>\n",
       "      <td>0</td>\n",
       "      <td>1</td>\n",
       "      <td>0</td>\n",
       "      <td>0</td>\n",
       "      <td>8</td>\n",
       "      <td>1</td>\n",
       "      <td>0</td>\n",
       "    </tr>\n",
       "    <tr>\n",
       "      <th>2526698</th>\n",
       "      <td>7441</td>\n",
       "      <td>A040165003</td>\n",
       "      <td>A040000165</td>\n",
       "      <td>1</td>\n",
       "      <td>2020-08-21 01:07:36</td>\n",
       "      <td>-0.099183</td>\n",
       "      <td>-0.903025</td>\n",
       "      <td>-0.576496</td>\n",
       "      <td>-0.444296</td>\n",
       "      <td>2.234107</td>\n",
       "      <td>...</td>\n",
       "      <td>(25.0, 56.0]</td>\n",
       "      <td>1</td>\n",
       "      <td>1</td>\n",
       "      <td>0</td>\n",
       "      <td>0</td>\n",
       "      <td>1</td>\n",
       "      <td>0</td>\n",
       "      <td>8</td>\n",
       "      <td>1</td>\n",
       "      <td>0</td>\n",
       "    </tr>\n",
       "  </tbody>\n",
       "</table>\n",
       "<p>2518514 rows × 24 columns</p>\n",
       "</div>"
      ],
      "text/plain": [
       "         userID assessmentItemID      testId  answerCode            Timestamp  \\\n",
       "0             0       A060001001  A060000001           1  2020-03-24 00:17:11   \n",
       "1             0       A060001002  A060000001           1  2020-03-24 00:17:14   \n",
       "2             0       A060001003  A060000001           1  2020-03-24 00:17:22   \n",
       "3             0       A060001004  A060000001           1  2020-03-24 00:17:29   \n",
       "4             0       A060001005  A060000001           1  2020-03-24 00:17:36   \n",
       "...         ...              ...         ...         ...                  ...   \n",
       "2526694    7441       A030071004  A030000071           0  2020-06-05 06:49:57   \n",
       "2526695    7441       A030071005  A030000071           0  2020-06-05 06:50:21   \n",
       "2526696    7441       A040165001  A040000165           1  2020-08-21 01:06:39   \n",
       "2526697    7441       A040165002  A040000165           1  2020-08-21 01:06:50   \n",
       "2526698    7441       A040165003  A040000165           1  2020-08-21 01:07:36   \n",
       "\n",
       "          elouser   eloitem    elotag   elotest        elo  ...  \\\n",
       "0        0.604065 -3.354789 -2.988107 -2.915382  52.397261  ...   \n",
       "1        0.604065 -3.019619 -2.256471 -2.915382  37.475366  ...   \n",
       "2        0.604065 -2.311757 -2.256471 -2.915382  18.463991  ...   \n",
       "3        0.604065 -3.083097 -2.256471 -2.915382  39.931367  ...   \n",
       "4        0.604065 -2.637877 -2.256471 -2.915382  25.583371  ...   \n",
       "...           ...       ...       ...       ...        ...  ...   \n",
       "2526694 -0.099183  0.011644 -0.419509 -0.380745   0.895094  ...   \n",
       "2526695 -0.099183  0.924409 -0.419509 -0.380745   0.359302  ...   \n",
       "2526696 -0.099183 -0.412535 -0.576496 -0.444296   1.368003  ...   \n",
       "2526697 -0.099183 -0.346430 -0.576496 -0.444296   1.280496  ...   \n",
       "2526698 -0.099183 -0.903025 -0.576496 -0.444296   2.234107  ...   \n",
       "\n",
       "          category_st_qcut_5  last_answerCode  last_answerCode2  \\\n",
       "0              (-0.001, 9.0]                1                 1   \n",
       "1              (-0.001, 9.0]                1                 1   \n",
       "2              (-0.001, 9.0]                1                 1   \n",
       "3              (-0.001, 9.0]                1                 1   \n",
       "4              (-0.001, 9.0]                1                 1   \n",
       "...                      ...              ...               ...   \n",
       "2526694         (25.0, 56.0]                1                 0   \n",
       "2526695          (9.0, 25.0]                0                 1   \n",
       "2526696  (237.0, 25602295.0]                0                 0   \n",
       "2526697          (9.0, 25.0]                1                 0   \n",
       "2526698         (25.0, 56.0]                1                 1   \n",
       "\n",
       "         last_answerCode3 last_answerCode4  last_answerCode5  \\\n",
       "0                       1                1                 1   \n",
       "1                       1                1                 1   \n",
       "2                       1                1                 1   \n",
       "3                       1                1                 1   \n",
       "4                       1                1                 1   \n",
       "...                   ...              ...               ...   \n",
       "2526694                 0                1                 1   \n",
       "2526695                 0                0                 1   \n",
       "2526696                 1                0                 0   \n",
       "2526697                 0                1                 0   \n",
       "2526698                 0                0                 1   \n",
       "\n",
       "         last_answerCode6  month  hour  train_valid  \n",
       "0                       1      3     0            0  \n",
       "1                       1      3     0            0  \n",
       "2                       1      3     0            0  \n",
       "3                       1      3     0            0  \n",
       "4                       1      3     0            0  \n",
       "...                   ...    ...   ...          ...  \n",
       "2526694                 1      6     6            0  \n",
       "2526695                 1      6     6            0  \n",
       "2526696                 1      8     1            0  \n",
       "2526697                 0      8     1            0  \n",
       "2526698                 0      8     1            0  \n",
       "\n",
       "[2518514 rows x 24 columns]"
      ]
     },
     "execution_count": 11,
     "metadata": {},
     "output_type": "execute_result"
    }
   ],
   "source": [
    "_train"
   ]
  },
  {
   "cell_type": "code",
   "execution_count": 12,
>>>>>>> master
   "metadata": {},
   "outputs": [],
   "source": [
    "# 모델에 적용하기 전 기본적인 데이터 전처리 부분\n",
    "## 라벨링, 필요없는 칼럼 제거\n",
    "_train_value = _train['answerCode']\n",
    "_train.drop(['Timestamp', 'testId', 'train_valid', 'answerCode'], axis = 1, inplace = True) # ,'category_st_qcut_5'\n",
    "\n",
    "_valid_value = _valid['answerCode']\n",
    "_valid.drop(['Timestamp', 'testId', 'train_valid', 'answerCode'], axis = 1, inplace = True) # ,'category_st_qcut_5'\n",
    "\n",
    "_test.drop(['Timestamp', 'testId', 'answerCode'], axis = 1, inplace = True) # ,'category_st_qcut_5'"
   ]
  },
  {
   "cell_type": "code",
<<<<<<< HEAD
   "execution_count": 7,
=======
   "execution_count": 13,
>>>>>>> master
   "metadata": {},
   "outputs": [],
   "source": [
    "# CatBoost에 적용하기 위해선 문자열 데이터로 변환 필요.\n",
    "# 만약 범주형이 아니고 연속형(정수, 소수) 성질을 살리고 싶은 변수는 여기 drop에 적어두면 됨.(solve_time 같이.)\n",
    "cat_columns = list(_train.drop(['solve_time','month','elo'],axis=1).columns)\n",
    "\n",
    "for col in cat_columns:\n",
    "    _train[col] = _train[col].astype('str')\n",
    "    _valid[col] = _valid[col].astype('str')\n",
    "    _test[col] = _test[col].astype('str')"
   ]
  },
  {
   "cell_type": "code",
<<<<<<< HEAD
   "execution_count": 8,
=======
   "execution_count": 14,
>>>>>>> master
   "metadata": {},
   "outputs": [
    {
     "name": "stderr",
     "output_type": "stream",
     "text": [
      "Default metric period is 5 because AUC is/are not implemented for GPU\n"
     ]
    },
    {
     "name": "stdout",
     "output_type": "stream",
     "text": [
<<<<<<< HEAD
      "0:\ttest: 0.8015071\tbest: 0.8015071 (0)\ttotal: 270ms\tremaining: 18m\n",
      "200:\ttest: 0.8354108\tbest: 0.8354108 (200)\ttotal: 40s\tremaining: 12m 36s\n",
      "400:\ttest: 0.8388274\tbest: 0.8388274 (400)\ttotal: 1m 17s\tremaining: 11m 39s\n",
      "600:\ttest: 0.8395482\tbest: 0.8395482 (600)\ttotal: 1m 55s\tremaining: 10m 51s\n",
      "800:\ttest: 0.8400037\tbest: 0.8400334 (752)\ttotal: 2m 32s\tremaining: 10m 7s\n",
      "1000:\ttest: 0.8401771\tbest: 0.8402124 (912)\ttotal: 3m 9s\tremaining: 9m 29s\n",
      "1200:\ttest: 0.8403801\tbest: 0.8404570 (1189)\ttotal: 3m 46s\tremaining: 8m 48s\n",
      "bestTest = 0.8404569626\n",
      "bestIteration = 1189\n",
      "Shrink model to first 1190 iterations.\n"
=======
      "0:\ttest: 0.8007058\tbest: 0.8007058 (0)\ttotal: 281ms\tremaining: 18m 43s\n",
      "200:\ttest: 0.8360936\tbest: 0.8360936 (200)\ttotal: 40s\tremaining: 12m 35s\n",
      "400:\ttest: 0.8391704\tbest: 0.8391800 (399)\ttotal: 1m 17s\tremaining: 11m 39s\n",
      "600:\ttest: 0.8402471\tbest: 0.8402564 (599)\ttotal: 1m 55s\tremaining: 10m 52s\n",
      "bestTest = 0.8407053351\n",
      "bestIteration = 673\n",
      "Shrink model to first 674 iterations.\n"
>>>>>>> master
     ]
    },
    {
     "data": {
      "text/plain": [
<<<<<<< HEAD
       "<catboost.core.CatBoostClassifier at 0x7f611346c3d0>"
      ]
     },
     "execution_count": 8,
=======
       "<catboost.core.CatBoostClassifier at 0x7f01a025df70>"
      ]
     },
     "execution_count": 14,
>>>>>>> master
     "metadata": {},
     "output_type": "execute_result"
    }
   ],
   "source": [
    "#!pip install catboost\n",
    "# 가상환경에 패키지 설치 필요할듯\n",
    "from catboost import CatBoostClassifier\n",
    "\n",
    "# 하이퍼파라미터 수정할 여지가 많으니 추가나 수정하고 싶은 사람 수정해도 괜찮을듯.\n",
    "# 일단 지난번에 사용했던 파라미터들 주석으로 들고 옴. 참고하면서 공부하면 좋을듯.\n",
    "\n",
    "# params_cat = {\n",
    "#     \"task_type\" : \"GPU\",\n",
    "#     \"devices\" : '0',\n",
    "#     \"random_state\": SEED,\n",
    "#     'learning_rate': 0.04574578205475402, \n",
    "#     'bagging_temperature': 0.12172958098369972, \n",
    "#     'n_estimators': 2000, \n",
    "#     'max_depth': 8, \n",
    "#     'random_strength': 28, \n",
    "#     'l2_leaf_reg': 1.6285455533915874e-05, \n",
    "#     'min_child_samples': 18, \n",
    "#     'max_bin': 441, \n",
    "#     'od_type': 'Iter',\n",
    "#     \"cat_features\" : list(train_ratings.drop(['rating'],axis = 1).columns),\n",
    "# }\n",
    "\n",
    "# model = CatBoostRegressor(**params_cat)\n",
    "\n",
    "# 실제 적용한 모델은 learning_rate, iterations(=n_estimators, 아마도?)만 사용함.\n",
    "cat_model = CatBoostClassifier(learning_rate=0.05, random_state = 1998, iterations=4000, task_type=\"GPU\", eval_metric = 'AUC',max_depth = 8,bootstrap_type = 'Bernoulli', subsample= 0.7)\n",
    "cat_model.fit(_train, _train_value, early_stopping_rounds=100, cat_features=cat_columns ,verbose=200, eval_set=(_valid, _valid_value))\n"
   ]
  },
  {
   "cell_type": "code",
<<<<<<< HEAD
   "execution_count": 9,
=======
   "execution_count": 15,
>>>>>>> master
   "metadata": {},
   "outputs": [
    {
     "name": "stdout",
     "output_type": "stream",
     "text": [
      "train score\n",
<<<<<<< HEAD
      "0.8899370904142709\n",
      "0.8270051308033229\n",
      "valid score\n",
      "0.840456969691976\n",
      "0.7625638269282451\n"
=======
      "0.8890403333225348\n",
      "0.825698407870673\n",
      "valid score\n",
      "0.8407053824917474\n",
      "0.764041924213921\n"
>>>>>>> master
     ]
    }
   ],
   "source": [
    "# valid score를 확인해봄.\n",
    "# train 대비 valid score가 떨어짐. 과적합이 일어남. 마찬가지로 규제하는 하이퍼파라미터 필요.\n",
    "from sklearn.metrics import accuracy_score, roc_auc_score\n",
    "\n",
    "print('train score')\n",
    "_train_pred = cat_model.predict_proba(_train)[:,1]\n",
    "print(roc_auc_score(_train_value, _train_pred)) # auc\n",
    "print(accuracy_score(_train_value, np.where(_train_pred >= 0.5, 1, 0))) # acc, 정확도\n",
    "\n",
    "print('valid score')\n",
    "_valid_pred = cat_model.predict_proba(_valid)[:,1]\n",
    "print(roc_auc_score(_valid_value, _valid_pred)) # auc\n",
    "print(accuracy_score(_valid_value, np.where(_valid_pred >= 0.5, 1, 0))) # acc, 정확도"
   ]
  },
  {
   "cell_type": "code",
<<<<<<< HEAD
   "execution_count": 10,
=======
   "execution_count": 16,
>>>>>>> master
   "metadata": {},
   "outputs": [
    {
     "data": {
      "text/plain": [
       "Text(0.5, 1.0, 'Feature Importance')"
      ]
     },
<<<<<<< HEAD
     "execution_count": 10,
=======
     "execution_count": 16,
>>>>>>> master
     "metadata": {},
     "output_type": "execute_result"
    },
    {
     "data": {
<<<<<<< HEAD
      "image/png": "iVBORw0KGgoAAAANSUhEUgAABEYAAAIQCAYAAACMv2vFAAAAOXRFWHRTb2Z0d2FyZQBNYXRwbG90bGliIHZlcnNpb24zLjYuMiwgaHR0cHM6Ly9tYXRwbG90bGliLm9yZy8o6BhiAAAACXBIWXMAAA9hAAAPYQGoP6dpAACnhElEQVR4nOzdfXzP5f///9vL2MvsFBtDsw3DnMw2Uxg2URtRIsRyUtEZLWrOqsmsbCm9kZx0ZhRJCJ+clHm3yURzsjnZYsZMtaKw2bybte33h5/nt1dzWmy0+/VyeV4ur+fzOJ7H8Tie6488LseJqbS0tBQRERERERERkUqoSkUHICIiIiIiIiJSUZQYEREREREREZFKS4kREREREREREam0lBgRERERERERkUpLiRERERERERERqbSUGBERERERERGRSkuJERERERERERGptJQYEREREREREZFKS4kREREREREREam0lBgRERERERERkUpLiRERERG5qeLi4jCZTJe8Jk6ceFP63LZtG1OmTOHMmTM3pf1/4uL32LlzZ0WH8rfNnTuXuLi4ig5DRETkhqha0QGIiIhI5TB16lQ8PT0tnrVq1eqm9LVt2zaioqIYPnw4Tk5ON6WPymzu3Lk4OzszfPjwig5FRETkH1NiRERERMpFjx49CAgIqOgw/pGCggJsbW0rOowKc+7cOWrUqFHRYYiIiNxQWkojIiIit4QNGzbQuXNnbG1tsbe357777uPAgQMWdfbu3cvw4cNp1KgR1atXx9XVlccee4zffvvNqDNlyhTGjRsHgKenp7FsJysri6ysLEwm0yWXgZhMJqZMmWLRjslkIi0tjcGDB1OzZk06depklH/88ce0bdsWGxsbatWqxcMPP8zx48f/1tiHDx+OnZ0d2dnZ9OrVCzs7Oxo0aMA777wDwL59+7j77ruxtbXF3d2dpUuXWrx/cXnOli1bePLJJ6lduzYODg4MHTqU06dPl+lv7ty5tGzZErPZTP369Rk1alSZZUfBwcG0atWKXbt20aVLF2rUqMGLL76Ih4cHBw4cIDEx0fi2wcHBAJw6dYqIiAhat26NnZ0dDg4O9OjRg9TUVIu2ExISMJlMLF++nNdee4077riD6tWr061bNw4fPlwm3h07dtCzZ09q1qyJra0tPj4+zJo1y6LO999/z0MPPUStWrWoXr06AQEBrF279nr/FCIiUglpxoiIiIiUi9zcXH799VeLZ87OzgB89NFHDBs2jJCQEF5//XXOnTvHvHnz6NSpE3v27MHDwwOATZs2ceTIER599FFcXV05cOAA7777LgcOHGD79u2YTCb69u3LoUOH+OSTT/jPf/5j9OHi4sLJkyevO+7+/fvj5eXFtGnTKC0tBeC1114jMjKSAQMGMGLECE6ePMnbb79Nly5d2LNnz99avlNcXEyPHj3o0qUL06dPZ8mSJYwePRpbW1teeuklwsLC6Nu3L/Pnz2fo0KF06NChzNKk0aNH4+TkxJQpUzh48CDz5s3j2LFjRiICLiR8oqKi6N69O08//bRRLzk5maSkJKpVq2a099tvv9GjRw8efvhhHnnkEerWrUtwcDDPPvssdnZ2vPTSSwDUrVsXgCNHjrB69Wr69++Pp6cnv/zyCwsWLCAoKIi0tDTq169vEW9sbCxVqlQhIiKC3Nxcpk+fTlhYGDt27DDqbNq0iV69elGvXj2ee+45XF1dSU9P54svvuC5554D4MCBAwQGBtKgQQMmTpyIra0ty5cvp0+fPqxcuZIHH3zwuv8eIiJSiZSKiIiI3EQLFy4sBS55lZaWlp49e7bUycmpdOTIkRbv/fzzz6WOjo4Wz8+dO1em/U8++aQUKN2yZYvx7I033igFSo8ePWpR9+jRo6VA6cKFC8u0A5S+8sorxv0rr7xSCpQOGjTIol5WVlaplZVV6WuvvWbxfN++faVVq1Yt8/xy3yM5Odl4NmzYsFKgdNq0acaz06dPl9rY2JSaTKbSZcuWGc+///77MrFebLNt27al58+fN55Pnz69FChds2ZNaWlpaemJEydKra2tS++9997S4uJio96cOXNKgdIPP/zQeBYUFFQKlM6fP7/MGFq2bFkaFBRU5vnvv/9u0W5p6YVvbjabS6dOnWo8+/rrr0uBUm9v79LCwkLj+axZs0qB0n379pWWlpaW/vHHH6Wenp6l7u7upadPn7Zot6SkxPjdrVu30tatW5f+/vvvFuUdO3Ys9fLyKhOniIjIn2kpjYiIiJSLd955h02bNllccGFGwJkzZxg0aBC//vqrcVlZWXHXXXfx9ddfG23Y2NgYv3///Xd+/fVX2rdvD8Du3btvStxPPfWUxf2qVasoKSlhwIABFvG6urri5eVlEe/1GjFihPHbycmJZs2aYWtry4ABA4znzZo1w8nJiSNHjpR5/4knnrCY8fH0009TtWpV1q9fD0B8fDznz59nzJgxVKny//43cOTIkTg4OLBu3TqL9sxmM48++ug1x282m412i4uL+e2337Czs6NZs2aX/Ps8+uijWFtbG/edO3cGMMa2Z88ejh49ypgxY8rMwrk4A+bUqVP897//ZcCAAZw9e9b4e/z222+EhISQkZHBjz/+eM1jEBGRykdLaURERKRc3HnnnZfcfDUjIwOAu++++5LvOTg4GL9PnTpFVFQUy5Yt48SJExb1cnNzb2C0/89fl6tkZGRQWlqKl5fXJev/OTFxPapXr46Li4vFM0dHR+644w4jCfDn55faO+SvMdnZ2VGvXj2ysrIAOHbsGHAhufJn1tbWNGrUyCi/qEGDBhaJi6spKSlh1qxZzJ07l6NHj1JcXGyU1a5du0z9hg0bWtzXrFkTwBhbZmYmcOXTiw4fPkxpaSmRkZFERkZess6JEydo0KDBNY9DREQqFyVGREREpEKVlJQAF/YZcXV1LVNeter/+9+VAQMGsG3bNsaNG4evry92dnaUlJQQGhpqtHMlf00wXPTnf8D/1Z9nqVyM12QysWHDBqysrMrUt7Ozu2ocl3Kptq70vPT/3+/kZvrr2K9m2rRpREZG8thjjxEdHU2tWrWoUqUKY8aMueTf50aM7WK7ERERhISEXLJOkyZNrrk9ERGpfJQYERERkQrVuHFjAOrUqUP37t0vW+/06dNs3ryZqKgoJk+ebDy/OOPkzy6XALk4I+GvJ7D8dabE1eItLS3F09OTpk2bXvN75SEjI4OuXbsa9/n5+eTk5NCzZ08A3N3dATh48CCNGjUy6p0/f56jR49e8fv/2eW+74oVK+jatSsffPCBxfMzZ84Ym+Bej4v/bezfv/+ysV0cR7Vq1a45fhERkT/THiMiIiJSoUJCQnBwcGDatGkUFRWVKb94kszF2QV/nU0wc+bMMu/Y2toCZRMgDg4OODs7s2XLFovnc+fOveZ4+/bti5WVFVFRUWViKS0ttTg6uLy9++67Ft9w3rx5/PHHH/To0QOA7t27Y21tzezZsy1i/+CDD8jNzeW+++67pn5sbW3LfFu48Df66zf57LPP/vYeH/7+/nh6ejJz5swy/V3sp06dOgQHB7NgwQJycnLKtPF3TiISEZHKRTNGREREpEI5ODgwb948hgwZgr+/Pw8//DAuLi5kZ2ezbt06AgMDmTNnDg4ODsZRtkVFRTRo0ICvvvqKo0ePlmmzbdu2ALz00ks8/PDDVKtWjd69e2Nra8uIESOIjY1lxIgRBAQEsGXLFg4dOnTN8TZu3JhXX32VSZMmkZWVRZ8+fbC3t+fo0aN8/vnnPPHEE0RERNyw73M9zp8/T7du3RgwYAAHDx5k7ty5dOrUifvvvx+4cGTxpEmTiIqKIjQ0lPvvv9+o165dOx555JFr6qdt27bMmzePV199lSZNmlCnTh3uvvtuevXqxdSpU3n00Ufp2LEj+/btY8mSJRazU65HlSpVmDdvHr1798bX15dHH32UevXq8f3333PgwAG+/PJL4MLGvp06daJ169aMHDmSRo0a8csvv/Dtt9/yww8/kJqa+rf6FxGRykGJEREREalwgwcPpn79+sTGxvLGG29QWFhIgwYN6Ny5s8WpKEuXLuXZZ5/lnXfeobS0lHvvvZcNGzZQv359i/batWtHdHQ08+fPZ+PGjZSUlHD06FFsbW2ZPHkyJ0+eZMWKFSxfvpwePXqwYcMG6tSpc83xTpw4kaZNm/Kf//yHqKgoANzc3Lj33nuNJERFmDNnDkuWLGHy5MkUFRUxaNAgZs+ebbH0ZcqUKbi4uDBnzhzGjh1LrVq1eOKJJ5g2bdo1bxw7efJkjh07xvTp0zl79ixBQUHcfffdvPjiixQUFLB06VI+/fRT/P39WbduHRMnTvzbYwoJCeHrr78mKiqKGTNmUFJSQuPGjRk5cqRRp0WLFuzcuZOoqCji4uL47bffqFOnDn5+fhbLrkRERC7FVFoeO3eJiIiIyE0TFxfHo48+SnJy8iVP/hEREZHL0x4jIiIiIiIiIlJpKTEiIiIiIiIiIpWWEiMiIiIiIiIiUmlpjxERERERERERqbQ0Y0REREREREREKi0lRkRERERERESk0qpa0QHIv19JSQk//fQT9vb2mEymig5HRERERERE/uVKS0s5e/Ys9evXp0qVK88JUWJEbrqffvoJNze3ig5DREREREREKpnjx49zxx13XLGOEiNy09nb2wMX/oN0cHCo4GhERERERETk3y4vLw83Nzfj36NXosSI3HQXl884ODgoMSIiIiIiIiLl5lq2c9DmqyIiIiIiIiJSaSkxIiIiIiIiIiKVlhIjIiIiIiIiIlJpKTEiIiIiIiIiIpWWEiMiIiIiIiIiUmkpMSIiIiIiIiIilZYSIyIiIiIiIiJSaSkxIiIiIiIiIiKVlhIjIiIiIiIiIlJpKTEiIiIiIiIiIpWWEiMiIiIiIiIiUmkpMSIiIiIiIiIilZYSIyIiIiIiIiJSaSkxIiIiIiIiIiKVlhIjIiIiIiIiIlJpKTEiIiIiIiIiIpWWEiMiIiIiIiIiUmkpMSIiIiIiIiIilVbVig5AKo9Wr3xJFXONig5DRERERERE/oas2PsqOoSbQjNGRERERERERKTSUmJERERERERERCotJUakjISEBEwmE2fOnKnoUERERERERERuKiVGRERERERERKTSUmJERERERERERCotJUYqqZKSEmJiYvD09MTGxoY2bdqwYsWKy9ZfuXIlLVu2xGw24+HhwYwZM8oxWhEREREREZGbQ8f1VlIxMTF8/PHHzJ8/Hy8vL7Zs2cIjjzyCi4tLmbq7du1iwIABTJkyhYEDB7Jt2zaeeeYZateuzfDhw8s/eBEREREREZEbxFRaWlpa0UFI+SosLKRWrVrEx8fToUMH4/mIESM4d+4cTzzxBF27duX06dM4OTkRFhbGyZMn+eqrr4y648ePZ926dRw4cOCS7RcWFhr3eXl5uLm54TZmOVXMNW7u4EREREREROSmyIq9r6JDuGZ5eXk4OjqSm5uLg4PDFetqKU0ldPjwYc6dO8c999yDnZ2dcS1evJjMzMwy9dPT0wkMDLR4FhgYSEZGBsXFxWXqx8TE4OjoaFxubm43bSwiIiIiIiIi/4SW0lRC+fn5AKxbt44GDRpYlJnN5ksmR67HpEmTeP755437izNGRERERERERG41SoxUQi1atMBsNpOdnU1QUFCZ8r8mRry9vUlKSrJ4lpSURNOmTbGysirzvtlsxmw239igRURERERERG4CJUYqIXt7eyIiIhg7diwlJSV06tSJ3NxckpKScHBwwN3d3aL+Cy+8QLt27YiOjmbgwIF8++23zJkzh7lz51bQCERERERERERuDCVGKqno6GhcXFyIiYnhyJEjODk54e/vz4svvkhJSYlFXX9/f5YvX87kyZOJjo6mXr16TJ06VSfSiIiIiIiIyG1Pp9LITXdxN2CdSiMiIiIiInL70qk0IiIiIiIiIiL/MkqMiIiIiIiIiEilpT1GpNzsjwq56hQmERERERERkfKkGSMiIiIiIiIiUmkpMSIiIiIiIiIilZYSIyIiIiIiIiJSaWmPESk3rV75Usf1ioiIiMi/2u10nKmIXKAZIyIiIiIiIiJSaSkxIiIiIiIiIiKVlhIjIiIiIiIiIlJpKTFSjjw8PJg5c+YV65hMJlavXl0u8VxKVlYWJpOJlJSUy9ZJSEjAZDJx5syZcotLRERERERE5GbQ5qtiwc3NjZycHJydnSs6FBEREREREZGbTjNGboDz589XdAg3jJWVFa6urlStqpyZiIiIiIiI/PspMXIJwcHBjB49mtGjR+Po6IizszORkZGUlpYCF5bEREdHM3ToUBwcHHjiiScAWLlyJS1btsRsNuPh4cGMGTPKtH327FkGDRqEra0tDRo04J133rliLMePH2fAgAE4OTlRq1YtHnjgAbKysozy4cOH06dPH6ZNm0bdunVxcnJi6tSp/PHHH4wbN45atWpxxx13sHDhwmsa+6WW0qxfv56mTZtiY2ND165dLfoXERERERERuZ0pMXIZixYtomrVqnz33XfMmjWLt956i/fff98of/PNN2nTpg179uwhMjKSXbt2MWDAAB5++GH27dvHlClTiIyMJC4uzqLdN954w3hv4sSJPPfcc2zatOmSMRQVFRESEoK9vT3ffPMNSUlJ2NnZERoaajFL5b///S8//fQTW7Zs4a233uKVV16hV69e1KxZkx07dvDUU0/x5JNP8sMPP1z3dzh+/Dh9+/ald+/epKSkMGLECCZOnHjFdwoLC8nLy7O4RERERERERG5FptKL0yDEEBwczIkTJzhw4AAmkwmAiRMnsnbtWtLS0vDw8MDPz4/PP//ceCcsLIyTJ0/y1VdfGc/Gjx/PunXrOHDgAHBhpom3tzcbNmww6jz88MPk5eWxfv164MLmq59//jl9+vTh448/5tVXXyU9Pd2I4/z58zg5ObF69Wruvfdehg8fTkJCAkeOHKFKlQt5rubNm1OnTh22bNkCQHFxMY6Ojrz//vs8/PDDVxx7VlYWnp6e7NmzB19fX1588UXWrFljjOHit3j99dc5ffo0Tk5OZdqYMmUKUVFRZZ67jVlOFXONK/YvIiIiInI7y4q9r6JDEBEgLy8PR0dHcnNzcXBwuGJdzRi5jPbt2xvJCIAOHTqQkZFBcXExAAEBARb109PTCQwMtHgWGBho8c7Fdv6sQ4cOpKenXzKG1NRUDh8+jL29PXZ2dtjZ2VGrVi1+//13MjMzjXotW7Y0kiIAdevWpXXr1sa9lZUVtWvX5sSJE9c6fItx3XXXXWVivpJJkyaRm5trXMePH7/ufkVERERERETKg3bY/JtsbW1veh/5+fm0bduWJUuWlClzcXExflerVs2izGQyXfJZSUnJzQn0L8xmM2azuVz6EhEREREREfknlBi5jB07dljcb9++HS8vL6ysrC5Z39vbm6SkJItnSUlJNG3a1OKd7du3l2nX29v7km36+/vz6aefUqdOnatO/blZvL29Wbt2rcWzv45BRERERERE5HalpTSXkZ2dzfPPP8/Bgwf55JNPePvtt3nuuecuW/+FF15g8+bNREdHc+jQIRYtWsScOXOIiIiwqJeUlMT06dM5dOgQ77zzDp999tll2w0LC8PZ2ZkHHniAb775hqNHj5KQkEB4ePjf2kj173jqqafIyMhg3LhxHDx4kKVLl5bZUFZERERERETkdqXEyGUMHTqU//3vf9x5552MGjWK5557zjiW91L8/f1Zvnw5y5Yto1WrVkyePJmpU6cyfPhwi3ovvPACO3fuxM/Pj1dffZW33nqLkJCQS7ZZo0YNtmzZQsOGDenbty/e3t48/vjj/P777+U2g6Rhw4asXLmS1atX06ZNG+bPn8+0adPKpW8RERERERGRm02n0lxCcHAwvr6+zJw5s6JD+Ve4uBuwTqURERERkX87nUojcmvQqTQiIiIiIiIiItdAm69WMtOmTbvsUpjOnTuzYcOGm9b3/qiQCttEVkRERERERORStJSmkjl16hSnTp26ZJmNjQ0NGjS44X1ezxQmERERERERkX/qev4dqhkjlUytWrWoVatWRYchIiIiIiIickvQHiMiIiIiIiIiUmkpMSIiIiIiIiIilZaW0ki5afXKlzquV0RERERuSzqGV+TfSzNGRERERERERKTSUmJERERERERERCqtck+MBAcHM2bMmPLuVq5RQkICJpOJM2fOVHQoIiIiIiIiIjfdbTtjJCsrC5PJREpKSkWHUiHOnz/P9OnTadOmDTVq1MDZ2ZnAwEAWLlxIUVFRRYcnIiIiIiIiclvQ5qu3kdLSUoqLiykpKSEkJITU1FSio6MJDAzEwcGB7du38+abb+Ln54evr29FhysiIiIiIiJyy6vQGSMfffQRAQEB2Nvb4+rqyuDBgzlx4oRRfvr0acLCwnBxccHGxgYvLy8WLlwIgKenJwB+fn6YTCaCg4Ov2l9ycjL33HMPzs7OODo6EhQUxO7duy3qmEwm3n//fR588EFq1KiBl5cXa9euvaaYHnroIUaPHm3UHTNmDCaTie+//x64MMvD1taW+Ph4AEpKSoiJicHT0xMbGxvatGnDihUrjPcvLmvZsGEDbdu2xWw2s3XrVmbOnMmWLVvYvHkzo0aNwtfXl0aNGjF48GB27NiBl5cXAIWFhYSHh1OnTh2qV69Op06dSE5Othjv+vXradq0KTY2NnTt2pWsrKwy323r1q107twZGxsb3NzcCA8Pp6Cg4KrfW0RERERERORWV6GJkaKiIqKjo0lNTWX16tVkZWUxfPhwozwyMpK0tDQ2bNhAeno68+bNw9nZGYDvvvsOgPj4eHJycli1atVV+zt79izDhg1j69atbN++HS8vL3r27MnZs2ct6kVFRTFgwAD27t1Lz549CQsL49SpU1eNKSgoiISEBKOdxMREnJ2djWfJyckUFRXRsWNHAGJiYli8eDHz58/nwIEDjB07lkceeYTExESLeCZOnEhsbCzp6en4+PiwZMkSunfvjp+fX5kxVqtWDVtbWwDGjx/PypUrWbRoEbt376ZJkyaEhIQYYzl+/Dh9+/ald+/epKSkMGLECCZOnGjRXmZmJqGhofTr14+9e/fy6aefsnXrVosE0F8VFhaSl5dncYmIiIiIiIjcikylpaWl5dlhcHAwvr6+zJw5s0zZzp07adeuHWfPnsXOzo77778fZ2dnPvzwwzJ1s7Ky8PT0ZM+ePX972UhJSQlOTk4sXbqUXr16ARdmjLz88stER0cDUFBQgJ2dHRs2bCA0NPSKMe3bt482bdrwyy+/ULVqVVxdXYmMjGT//v0sW7aM1157jfXr15OUlERhYSG1atUiPj6eDh06GG2MGDGCc+fOsXTpUhISEujatSurV6/mgQceMOrUqFGDkSNHMmvWrMuOraCggJo1axIXF8fgwYOBC4koDw8PxowZw7hx43jxxRdZs2YNBw4cMN6bOHEir7/+OqdPn8bJyYkRI0ZgZWXFggULjDpbt24lKCiIgoICqlevXqbvKVOmEBUVVea525jlVDHXuGzMIiIiIiK3qqzY+yo6BBG5Dnl5eTg6OpKbm4uDg8MV61bojJFdu3bRu3dvGjZsiL29PUFBQQBkZ2cD8PTTT7Ns2TJ8fX0ZP34827Zt+0f9/fLLL4wcORIvLy8cHR1xcHAgPz/f6O8iHx8f47etrS0ODg7GEp8rxdSqVStq1apFYmIi33zzDX5+fvTq1cuYAZKYmGgs+Tl8+DDnzp3jnnvuwc7OzrgWL15MZmamRTwBAQEW99eSy8rMzKSoqIjAwEDjWbVq1bjzzjtJT08HID09nbvuusvivT8naQBSU1OJi4uziDEkJISSkhKOHj16yb4nTZpEbm6ucR0/fvyq8YqIiIiIiIhUhArbfLWgoICQkBBCQkJYsmQJLi4uZGdnExISwvnz5wHo0aMHx44dY/369WzatIlu3boxatQo3nzzzb/V57Bhw/jtt9+YNWsW7u7umM1mOnToYPR3UbVq1SzuTSYTJSUlV43JZDLRpUsXEhISMJvNBAcH4+PjQ2FhIfv372fbtm1EREQAkJ+fD8C6deto0KCBRX9ms9ni/uLSmIuaNm1q7Ftys+Xn5/Pkk08SHh5epqxhw4aXfMdsNpcZg4iIiIiIiMitqMJmjHz//ff89ttvxMbG0rlzZ5o3b26x8epFLi4uDBs2jI8//piZM2fy7rvvAmBtbQ1AcXHxNfeZlJREeHg4PXv2pGXLlpjNZn799dfrjv1yMcH/22ckISGB4OBgqlSpQpcuXXjjjTcoLCw0ZnC0aNECs9lMdnY2TZo0sbjc3Nyu2P/gwYOJj49nz549ZcqKioooKCigcePGWFtbk5SUZFGWnJxMixYtAPD29jb2arlo+/btFvf+/v6kpaWVibFJkybG30BERERERETkdlVhiZGGDRtibW3N22+/zZEjR1i7dq2xr8dFkydPZs2aNRw+fJgDBw7wxRdf4O3tDUCdOnWwsbFh48aN/PLLL+Tm5l61Ty8vLz766CPS09PZsWMHYWFh2NjYXFfcV4oJLuyhkpaWxoEDB+jUqZPxbMmSJQQEBBizP+zt7YmIiGDs2LEsWrSIzMxMdu/ezdtvv82iRYuuGMOYMWMIDAykW7duvPPOO6SmpnLkyBGWL19O+/btycjIwNbWlqeffppx48axceNG0tLSGDlyJOfOnePxxx8H4KmnniIjI4Nx48Zx8OBBli5dSlxcnEVfEyZMYNu2bYwePZqUlBQyMjJYs2bNFTdfFREREREREbldVFhixMXFhbi4OD777DNatGhBbGxsmSUy1tbWTJo0CR8fH7p06YKVlRXLli0DoGrVqsyePZsFCxZQv359i81JL+eDDz7g9OnT+Pv7M2TIEOMo2+txpZgAWrdujZOTE76+vtjZ2QEXEiPFxcVljhSOjo4mMjKSmJgYvL29CQ0NZd26dcZRxJdjNpvZtGkT48ePZ8GCBbRv35527doxe/ZswsPDadWqFQCxsbH069ePIUOG4O/vz+HDh/nyyy+pWbMmcCE5tXLlSlavXk2bNm2YP38+06ZNs+jLx8eHxMREDh06ROfOnfHz82Py5MnUr1//ur6biIiIiIiIyK2o3E+lkcrn4m7AOpVGRERERG5XOpVG5PZy25xKIyIiIiIiIiJSkf5ViZE/Hyn71+ubb76p6PBERERERERE5BZTYcf13gwpKSmXLfvrkbhS/vZHhVx1CpOIiIiIiIhIefpXJUaaNGlS0SGIiIiIiIiIyG3kX7WURkRERERERETkeigxIiIiIiIiIiKV1r9qKY3c2lq98qWO6xURERH5/+n4VxGRW4NmjIiIiIiIiIhIpaXEiIiIiIiIiIhUWjc0MRIcHMyYMWNuZJNyAyUkJGAymThz5kxFhyIiIiIiIiJyS7glZ4xkZWVhMplISUmp6FAqxPnz55k+fTpt2rShRo0aODs7ExgYyMKFCykqKiq3OIqKipgwYQKtW7fG1taW+vXrM3ToUH766adyi0FERERERETkZtLmq7eI0tJSiouLKSkpISQkhNTUVKKjowkMDMTBwYHt27fz5ptv4ufnh6+vb7nEdO7cOXbv3k1kZCRt2rTh9OnTPPfcc9x///3s3LmzXGIQERERERERuZlu2oyRjz76iICAAOzt7XF1dWXw4MGcOHHCKD99+jRhYWG4uLhgY2ODl5cXCxcuBMDT0xMAPz8/TCYTwcHBV+0vOTmZe+65B2dnZxwdHQkKCmL37t0WdUwmE++//z4PPvggNWrUwMvLi7Vr115TTA899BCjR4826o4ZMwaTycT3338PXJjlYWtrS3x8PAAlJSXExMTg6emJjY0Nbdq0YcWKFcb7F5e1bNiwgbZt22I2m9m6dSszZ85ky5YtbN68mVGjRuHr60ujRo0YPHgwO3bswMvLC4DCwkLCw8OpU6cO1atXp1OnTiQnJ1uMd/369TRt2hQbGxu6du1KVlZWme+2detWOnfujI2NDW5uboSHh1NQUACAo6MjmzZtYsCAATRr1oz27dszZ84cdu3aRXZ29lX/JiIiIiIiIiK3upuWGCkqKiI6OprU1FRWr15NVlYWw4cPN8ojIyNJS0tjw4YNpKenM2/ePJydnQH47rvvAIiPjycnJ4dVq1Zdtb+zZ88ybNgwtm7dyvbt2/Hy8qJnz56cPXvWol5UVBQDBgxg79699OzZk7CwME6dOnXVmIKCgkhISDDaSUxMxNnZ2XiWnJxMUVERHTt2BCAmJobFixczf/58Dhw4wNixY3nkkUdITEy0iGfixInExsaSnp6Oj48PS5YsoXv37vj5+ZUZY7Vq1bC1tQVg/PjxrFy5kkWLFrF7926aNGlCSEiIMZbjx4/Tt29fevfuTUpKCiNGjGDixIkW7WVmZhIaGkq/fv3Yu3cvn376KVu3brVIAP1Vbm4uJpMJJyeny9YpLCwkLy/P4hIRERERERG5FZlKS0tLb1RjwcHB+Pr6MnPmzDJlO3fupF27dpw9exY7Ozvuv/9+nJ2d+fDDD8vUzcrKwtPTkz179vztZSMlJSU4OTmxdOlSevXqBVyYMfLyyy8THR0NQEFBAXZ2dmzYsIHQ0NArxrRv3z7atGnDL7/8QtWqVXF1dSUyMpL9+/ezbNkyXnvtNdavX09SUhKFhYXUqlWL+Ph4OnToYLQxYsQIzp07x9KlS0lISKBr166sXr2aBx54wKhTo0YNRo4cyaxZsy47toKCAmrWrElcXByDBw8GLiSiPDw8GDNmDOPGjePFF19kzZo1HDhwwHhv4sSJvP7665w+fRonJydGjBiBlZUVCxYsMOps3bqVoKAgCgoKqF69ukW/v//+O4GBgTRv3pwlS5ZcNr4pU6YQFRVV5rnbmOVUMde47HsiIiIilUlW7H0VHYKIyL9WXl4ejo6O5Obm4uDgcMW6N23GyK5du+jduzcNGzbE3t6eoKAgAGMJxtNPP82yZcvw9fVl/PjxbNu27R/198svvzBy5Ei8vLxwdHTEwcGB/Pz8Mks+fHx8jN+2trY4ODgYS3yuFFOrVq2oVasWiYmJfPPNN/j5+dGrVy9jBkhiYqKx5Ofw4cOcO3eOe+65Bzs7O+NavHgxmZmZFvEEBARY3F9LniozM5OioiICAwONZ9WqVePOO+8kPT0dgPT0dO666y6L9/6cpAFITU0lLi7OIsaQkBBKSko4evSoRd2ioiIGDBhAaWkp8+bNu2J8kyZNIjc317iOHz9+1TGJiIiIiIiIVISbsvlqQUEBISEhhISEsGTJElxcXMjOziYkJITz588D0KNHD44dO8b69evZtGkT3bp1Y9SoUbz55pt/q89hw4bx22+/MWvWLNzd3TGbzXTo0MHo76Jq1apZ3JtMJkpKSq4ak8lkokuXLiQkJGA2mwkODsbHx4fCwkL279/Ptm3biIiIACA/Px+AdevW0aBBA4v+zGazxf3FpTEXNW3a1Ni35GbLz8/nySefJDw8vExZw4YNjd8XkyLHjh3jv//971WzbWazucw4RURERERERG5FN2XGyPfff89vv/1GbGwsnTt3pnnz5hYbr17k4uLCsGHD+Pjjj5k5cybvvvsuANbW1gAUFxdfc59JSUmEh4fTs2dPWrZsidls5tdff73u2C8XE/y/fUYSEhIIDg6mSpUqdOnShTfeeIPCwkJjBkeLFi0wm81kZ2fTpEkTi8vNze2K/Q8ePJj4+Hj27NlTpqyoqIiCggIaN26MtbU1SUlJFmXJycm0aNECAG9vb2Ovlou2b99uce/v709aWlqZGJs0aWL8DS4mRTIyMoiPj6d27drX8TVFREREREREbm03JTHSsGFDrK2tefvttzly5Ahr16419vW4aPLkyaxZs4bDhw9z4MABvvjiC7y9vQGoU6cONjY2bNy4kV9++YXc3Nyr9unl5cVHH31Eeno6O3bsICwsDBsbm+uK+0oxwYU9VNLS0jhw4ACdOnUyni1ZsoSAgABj9oe9vT0RERGMHTuWRYsWkZmZye7du3n77bdZtGjRFWMYM2YMgYGBdOvWjXfeeYfU1FSOHDnC8uXLad++PRkZGdja2vL0008zbtw4Nm7cSFpaGiNHjuTcuXM8/vjjADz11FNkZGQwbtw4Dh48yNKlS4mLi7Poa8KECWzbto3Ro0eTkpJCRkYGa9asMTZfLSoq4qGHHmLnzp0sWbKE4uJifv75Z37++ecyM3FEREREREREbkc3JTHi4uJCXFwcn332GS1atCA2NrbMEhlra2smTZqEj48PXbp0wcrKimXLlgFQtWpVZs+ezYIFC6hfv77F5qSX88EHH3D69Gn8/f0ZMmSIcZTt9bhSTACtW7fGyckJX19f7OzsgAuJkeLi4jJHCkdHRxMZGUlMTAze3t6Ehoaybt064yjiyzGbzWzatInx48ezYMEC2rdvT7t27Zg9ezbh4eG0atUKgNjYWPr168eQIUPw9/fn8OHDfPnll9SsWRO4kJxauXIlq1evpk2bNsyfP59p06ZZ9OXj40NiYiKHDh2ic+fO+Pn5MXnyZOrXrw/Ajz/+yNq1a/nhhx/w9fWlXr16xvVP94QRERERERERuRXc0FNpRC7l4m7AOpVGRERE5P/RqTQiIjfPLXEqjYiIiIiIiIjIre62SYz8+UjZv17ffPNNRYcnIiIiIiIiIrehm3Jc782QkpJy2bK/Hokrt6b9USFXncIkIiIiIiIiUp5um8RIkyZNKjoEEREREREREfmXuW2W0oiIiIiIiIiI3GhKjIiIiIiIiIhIpXXbLKWR21+rV77Ucb0iIiJXoSNcRUREypdmjIiIiIiIiIhIpaXEiIiIiIiIiIhUWkqM3CRZWVmYTKYrHjNcHkwmE6tXr67QGERERERERERuVUqM/EtMmTIFX1/fMs9zcnLo0aNH+QckIiIiIiIichvQ5qv/cq6urhUdgoiIiIiIiMgtSzNGrmLFihW0bt0aGxsbateuTffu3SkoKKCkpISpU6dyxx13YDab8fX1ZePGjZdso6SkhDvuuIN58+ZZPN+zZw9VqlTh2LFjAJw5c4YRI0bg4uKCg4MDd999N6mpqVeNMS4ujqioKFJTUzGZTJhMJuLi4gDLpTQXl/csX76czp07Y2NjQ7t27Th06BDJyckEBARgZ2dHjx49OHnypEUf77//Pt7e3lSvXp3mzZszd+7c6/ySIiIiIiIiIrceJUauICcnh0GDBvHYY4+Rnp5OQkICffv2pbS0lFmzZjFjxgzefPNN9u7dS0hICPfffz8ZGRll2qlSpQqDBg1i6dKlFs+XLFlCYGAg7u7uAPTv358TJ06wYcMGdu3ahb+/P926dePUqVNXjHPgwIG88MILtGzZkpycHHJychg4cOBl67/yyiu8/PLL7N69m6pVqzJ48GDGjx/PrFmz+Oabbzh8+DCTJ0+2iHPy5Mm89tprpKenM23aNCIjI1m0aNH1fE4RERERERGRW46W0lxBTk4Of/zxB3379jWSF61btwbgzTffZMKECTz88MMAvP7663z99dfMnDmTd955p0xbYWFhzJgxg+zsbBo2bEhJSQnLli3j5ZdfBmDr1q189913nDhxArPZbPSxevVqVqxYwRNPPHHZOG1sbLCzs6Nq1arXtHQmIiKCkJAQAJ577jkGDRrE5s2bCQwMBODxxx83ZpzAhUTKjBkz6Nu3LwCenp6kpaWxYMEChg0bVqb9wsJCCgsLjfu8vLyrxiQiIiIiIiJSETRj5AratGlDt27daN26Nf379+e9997j9OnT5OXl8dNPPxmJhIsCAwNJT0+/ZFu+vr54e3sbs0YSExM5ceIE/fv3ByA1NZX8/Hxq166NnZ2dcR09epTMzMwbOi4fHx/jd926dYH/l/C5+OzEiRMAFBQUkJmZyeOPP24R16uvvnrZuGJiYnB0dDQuNze3Gxq/iIiIiIiIyI2iGSNXYGVlxaZNm9i2bRtfffUVb7/9Ni+99BKbNm36W+2FhYWxdOlSJk6cyNKlSwkNDaV27doA5OfnU69ePRISEsq85+Tk9A9GUVa1atWM3yaT6ZLPSkpKjLgA3nvvPe666y6LdqysrC7Z/qRJk3j++eeN+7y8PCVHRERERERE5JakxMhVmEwmAgMDCQwMZPLkybi7u7N582bq169PUlISQUFBRt2kpCTuvPPOy7Y1ePBgXn75ZXbt2sWKFSuYP3++Uebv78/PP/9M1apV8fDwuO44ra2tKS4uvu73rqZu3brUr1+fI0eOEBYWdk3vmM1mYzmQiIiIiIiIyK1MiZEr2LFjB5s3b+bee++lTp067Nixg5MnT+Lt7c24ceN45ZVXaNy4Mb6+vixcuJCUlBSWLFly2fY8PDzo2LEjjz/+OMXFxdx///1GWffu3enQoQN9+vRh+vTpNG3alJ9++ol169bx4IMPEhAQcMVYPTw8OHr0KCkpKdxxxx3Y29vfsOREVFQU4eHhODo6EhoaSmFhITt37uT06dMWM0NEREREREREbjdKjFyBg4MDW7ZsYebMmeTl5eHu7s6MGTPo0aMHISEh5Obm8sILL3DixAlatGjB2rVr8fLyumKbYWFhPPPMMwwdOhQbGxvjuclkYv369bz00ks8+uijnDx5EldXV7p06WLsA3Il/fr1Y9WqVXTt2pUzZ86wcOFChg8f/k8/AQAjRoygRo0avPHGG4wbNw5bW1tat27NmDFjbkj7IiIiIiIiIhXFVFpaWlrRQci/W15e3oVNWMcsp4q5RkWHIyIickvLir2vokMQERG57V38d2hubi4ODg5XrKtTaURERERERESk0lJi5DbRsmVLi+Ny/3xdaV8TEREREREREbk8LaW5TRw7doyioqJLltWtWxd7e/tyjujaXc8UJhEREREREZF/6nr+HarNV28T7u7uFR2CiIiIiIiIyL+OltKIiIiIiIiISKWlxIiIiIiIiIiIVFpaSiPlptUrX+q4XhER+VfR0boiIiK3P80YEREREREREZFKS4kREREREREREam0lBgRERERERERkUpLiZG/CA4OZsyYMRUdhoiIiIiIiIiUAyVGbiHDhw+nT58+FR2GiIiIiIiISKWhxIhcUmlpKX/88UdFhyEiIiIiIiJyUykxcgl//PEHo0ePxtHREWdnZyIjIyktLb3qe4WFhUyYMAE3NzfMZjNNmjThgw8+AKC4uJjHH38cT09PbGxsaNasGbNmzTLenTJlCosWLWLNmjWYTCZMJhMJCQkAHD9+nAEDBuDk5EStWrV44IEHyMrKsog3PDwcJycnateuzYQJExg2bJjF7JPCwkLCw8OpU6cO1atXp1OnTiQnJxvlCQkJmEwmNmzYQNu2bTGbzXz88cdUqVKFnTt3Woxz5syZuLu7U1JS8je+roiIiIiIiMitQ4mRS1i0aBFVq1blu+++Y9asWbz11lu8//77V31v6NChfPLJJ8yePZv09HQWLFiAnZ0dACUlJdxxxx189tlnpKWlMXnyZF588UWWL18OQEREBAMGDCA0NJScnBxycnLo2LEjRUVFhISEYG9vzzfffENSUhJ2dnaEhoZy/vx5AF5//XWWLFnCwoULSUpKIi8vj9WrV1vENn78eFauXMmiRYvYvXs3TZo0ISQkhFOnTlnUmzhxIrGxsaSnp3P//ffTvXt3Fi5caFFn4cKFDB8+nCpVLv2fT2FhIXl5eRaXiIiIiIiIyK3IVHotUyEqkeDgYE6cOMGBAwcwmUzAhWTB2rVrSUtLu+x7hw4dolmzZmzatInu3btfU1+jR4/m559/ZsWKFcCFPUbOnDljkdT4+OOPefXVV0lPTzfiOX/+PE5OTqxevZp7770XV1dXIiIiiIiIAC7MTmnUqBF+fn6sXr2agoICatasSVxcHIMHDwagqKgIDw8PxowZw7hx40hISKBr166sXr2aBx54wOh/+fLlPPXUU+Tk5GA2m9m9ezcBAQEcOXIEDw+PS45rypQpREVFlXnuNmY5Vcw1runbiIiI3A6yYu+r6BBERETkEvLy8nB0dCQ3NxcHB4cr1tWMkUto3769kYQA6NChAxkZGRQXF1/2nZSUFKysrAgKCrpsnXfeeYe2bdvi4uKCnZ0d7777LtnZ2VeMJTU1lcOHD2Nvb4+dnR12dnbUqlWL33//nczMTHJzc/nll1+48847jXesrKxo27atcZ+ZmUlRURGBgYHGs2rVqnHnnXeSnp5u0V9AQIDFfZ8+fbCysuLzzz8HIC4ujq5du142KQIwadIkcnNzjev48eNXHKOIiIiIiIhIRala0QH8W9jY2FyxfNmyZURERDBjxgw6dOiAvb09b7zxBjt27Ljie/n5+bRt25YlS5aUKXNxcflHMV+Kra2txb21tTVDhw5l4cKF9O3bl6VLl1rsjXIpZrMZs9l8w2MTERERERERudE0Y+QS/pqs2L59O15eXlhZWV32ndatW1NSUkJiYuIly5OSkujYsSPPPPMMfn5+NGnShMzMTIs61tbWZWal+Pv7k5GRQZ06dWjSpInF5ejoiKOjI3Xr1rXYSLW4uJjdu3cb940bN8ba2pqkpCTjWVFREcnJybRo0eKq32PEiBHEx8czd+5c/vjjD/r27XvVd0RERERERERuB0qMXEJ2djbPP/88Bw8e5JNPPuHtt9/mueeeu+I7Hh4eDBs2jMcee4zVq1dz9OhREhISjM1Vvby82LlzJ19++SWHDh0iMjLSIplxsY29e/dy8OBBfv31V4qKiggLC8PZ2ZkHHniAb775xmg3PDycH374AYBnn32WmJgY1qxZw8GDB3nuuec4ffq0sRzI1taWp59+mnHjxrFx40bS0tIYOXIk586d4/HHH7/q9/D29qZ9+/ZMmDCBQYMGXXV2jIiIiIiIiMjtQomRSxg6dCj/+9//uPPOOxk1ahTPPfccTzzxxFXfmzdvHg899BDPPPMMzZs3Z+TIkRQUFADw5JNP0rdvXwYOHMhdd93Fb7/9xjPPPGPx/siRI2nWrBkBAQG4uLiQlJREjRo12LJlCw0bNqRv3754e3vz+OOP8/vvvxsbyFxMWAwdOpQOHTpgZ2dHSEgI1atXN9qOjY2lX79+DBkyBH9/fw4fPsyXX35JzZo1r+mbPP7445w/f57HHnvsWj+jiIiIiIiIyC1Pp9L8C5WUlODt7c2AAQOIjo6+IW1GR0fz2WefsXfv3ut+9+JuwDqVRkRE/m10Ko2IiMit6XpOpdHmq/8Cx44d46uvviIoKIjCwkLmzJnD0aNHjaN5/4n8/HyysrKYM2cOr7766g2IVkREREREROTWocTINfrmm2/o0aPHZcvz8/PLMRpLVapUIS4ujoiICEpLS2nVqhXx8fF4e3v/47ZHjx7NJ598Qp8+ff7xMpr9USFXzdSJiIiIiIiIlCctpblG//vf//jxxx8vW96kSZNyjOb2cj1TmERERERERET+KS2luQlsbGyU/BARERERERH5l9GpNCIiIiIiIiJSaSkxIiIiIiIiIiKVlpbSSLlp9cqXOq5XRERuKTpuV0RERDRjREREREREREQqLSVGRERERERERKTSUmJERERERERERCqtf1ViJDg4mDFjxtyw9oYPH06fPn1uWHvXwsPDg5kzZ5ZrnyIiIiIiIiKV1b8qMSI31vnz5ys6BBEREREREZGb6l+TGBk+fDiJiYnMmjULk8mEyWQiKyuL/fv306NHD+zs7Khbty5Dhgzh119/Nd5bsWIFrVu3xsbGhtq1a9O9e3cKCgqYMmUKixYtYs2aNUZ7CQkJV43jhx9+YNCgQdSqVQtbW1sCAgLYsWMHAJmZmTzwwAPUrVsXOzs72rVrR3x8vPFucHAwx44dY+zYsUafF23dupXOnTtjY2ODm5sb4eHhFBQUGOU5OTncd9992NjY4OnpydKlS8vMPsnOzuaBBx7Azs4OBwcHBgwYwC+//GKUT5kyBV9fX95//308PT2pXr06ixcvpnbt2hQWFlqMs0+fPgwZMuSa/z4iIiIiIiIit6J/TWJk1qxZdOjQgZEjR5KTk0NOTg729vbcfffd+Pn5sXPnTjZu3Mgvv/zCgAEDgAvJhEGDBvHYY4+Rnp5OQkICffv2pbS0lIiICAYMGEBoaKjRXseOHa8YQ35+PkFBQfz444+sXbuW1NRUxo8fT0lJiVHes2dPNm/ezJ49ewgNDaV3795kZ2cDsGrVKu644w6mTp1q9AkXEiqhoaH069ePvXv38umnn7J161ZGjx5t9D106FB++uknEhISWLlyJe+++y4nTpwwyktKSnjggQc4deoUiYmJbNq0iSNHjjBw4ECLMRw+fJiVK1eyatUqUlJS6N+/P8XFxaxdu9aoc+LECdatW8djjz12ye9QWFhIXl6exSUiIiIiIiJyK6pa0QHcKI6OjlhbW1OjRg1cXV0BePXVV/Hz82PatGlGvQ8//BA3NzcOHTpEfn4+f/zxB3379sXd3R2A1q1bG3VtbGwoLCw02ruapUuXcvLkSZKTk6lVqxYATZo0McrbtGlDmzZtjPvo6Gg+//xz1q5dy+jRo6lVqxZWVlbY29tb9BkTE0NYWJixf4qXlxezZ88mKCiIefPmkZWVRXx8PMnJyQQEBADw/vvv4+XlZbSxefNm9u3bx9GjR3FzcwNg8eLFtGzZkuTkZNq1awdcWD6zePFiXFxcjHcHDx7MwoUL6d+/PwAff/wxDRs2JDg4+JLfISYmhqioqGv6ZiIiIiIiIiIV6V8zY+RSUlNT+frrr7GzszOu5s2bAxdmYbRp04Zu3brRunVr+vfvz3vvvcfp06f/dn8pKSn4+fkZSZG/ys/PJyIiAm9vb5ycnLCzsyM9Pd2YMXKlccTFxVmMIyQkhJKSEo4ePcrBgwepWrUq/v7+xjtNmjShZs2axn16ejpubm5GUgSgRYsWODk5kZ6ebjxzd3e3SIoAjBw5kq+++ooff/wRgLi4OIYPH26x1OfPJk2aRG5urnEdP378iuMTERERERERqSj/mhkjl5Kfn0/v3r15/fXXy5TVq1cPKysrNm3axLZt2/jqq694++23eemll9ixYweenp7X3Z+Njc0VyyMiIti0aRNvvvkmTZo0wcbGhoceeuiqm5zm5+fz5JNPEh4eXqasYcOGHDp06LpjvRxbW9syz/z8/GjTpg2LFy/m3nvv5cCBA6xbt+6ybZjNZsxm8w2LSURERERERORm+VclRqytrSkuLjbu/f39WblyJR4eHlSteumhmkwmAgMDCQwMZPLkybi7u/P555/z/PPPl2nvanx8fHj//fc5derUJWeNJCUlMXz4cB588EHgQsIjKyvrimO4OI60tDSLZTl/1qxZM/744w/27NlD27ZtgQt7hfx59ou3tzfHjx/n+PHjxqyRtLQ0zpw5Q4sWLa46thEjRjBz5kx+/PFHunfvbjHzREREREREROR29a9aSuPh4cGOHTvIysri119/ZdSoUZw6dYpBgwaRnJxMZmYmX375JY8++ijFxcXs2LGDadOmsXPnTrKzs1m1ahUnT57E29vbaG/v3r0cPHiQX3/9laKioiv2P2jQIFxdXenTpw9JSUkcOXKElStX8u233wIX9ga5uKlpamoqgwcPNjZm/fMYtmzZwo8//micnjNhwgS2bdvG6NGjSUlJISMjgzVr1hibrzZv3pzu3bvzxBNP8N1337Fnzx6eeOIJbGxsjOUu3bt3p3Xr1oSFhbF7926+++47hg4dSlBQkLEvyZUMHjyYH374gffee++ym66KiIiIiIiI3G7+VYmRiIgIrKysaNGiBS4uLpw/f56kpCSKi4u59957ad26NWPGjMHJyYkqVarg4ODAli1b6NmzJ02bNuXll19mxowZ9OjRA7iwt0azZs0ICAjAxcWFpKSkK/ZvbW3NV199RZ06dejZsyetW7cmNjYWKysrAN566y1q1qxJx44d6d27NyEhIRb7ggBMnTqVrKwsGjdubOz14ePjQ2JiIocOHaJz5874+fkxefJk6tevb7y3ePFi6tatS5cuXXjwwQcZOXIk9vb2VK9eHbgwM2bNmjXUrFmTLl260L17dxo1asSnn356Td/W0dGRfv36YWdnR58+fa7pHREREREREZFbnam0tLS0ooOQG++HH37Azc2N+Ph4unXrdkPa7NatGy1btmT27NnX9V5eXh6Ojo64jVlOFXONGxKLiIjIjZAVe19FhyAiIiI3wcV/h+bm5uLg4HDFuv+qPUYqs//+97/k5+fTunVrcnJyGD9+PB4eHnTp0uUft3369GkSEhJISEhg7ty5NyBaERERERERkVvDv2opzc02bdo0iyNz/3xdXH5TUYqKinjxxRdp2bIlDz74IC4uLiQkJFCtWrV/3Lafnx/Dhw/n9ddfp1mzZjcgWhEREREREZFbg5bSXIdTp05x6tSpS5bZ2NjQoEGDco7o9nA9U5hERERERERE/iktpblJatWqdcljeEVERERERETk9qSlNCIiIiIiIiJSaSkxIiIiIiIiIiKVlpbSSLlp9cqXOq5XRERuKB23KyIiIv+UZoyIiIiIiIiISKWlxIiIiIiIiIiIVFpKjIiIiIiIiIhIpaXEiAAwZcoUfH19Le5NJhMmk4mqVavi7OxMly5dmDlzJoWFhRUXqIiIiIiIiMgNpMRIJVdcXExJSckly1q2bElOTg7Z2dl8/fXX9O/fn5iYGDp27MjZs2fLOVIRERERERGRG0+JkVuQh4cHM2fOtHjm6+vLlClTKC0tZcqUKTRs2BCz2Uz9+vUJDw836hUWFhIREUGDBg2wtbXlrrvuIiEhwSiPi4vDycmJtWvX0qJFC8xmM9nZ2ZeMo2rVqri6ulK/fn1at27Ns88+S2JiIvv37+f111+/GUMXERERERERKVdKjNxmVq5cyX/+8x8WLFhARkYGq1evpnXr1kb56NGj+fbbb1m2bBl79+6lf//+hIaGkpGRYdQ5d+4cr7/+Ou+//z4HDhygTp0619x/8+bN6dGjB6tWrbpsncLCQvLy8iwuERERERERkVtR1YoOQK5PdnY2rq6udO/enWrVqtGwYUPuvPNOo2zhwoVkZ2dTv359ACIiIti4cSMLFy5k2rRpABQVFTF37lzatGnzt2Jo3rw5X3311WXLY2JiiIqK+ltti4iIiIiIiJQnzRi5zfTv35///e9/NGrUiJEjR/L555/zxx9/ALBv3z6Ki4tp2rQpdnZ2xpWYmEhmZqbRhrW1NT4+Pn87htLSUkwm02XLJ02aRG5urnEdP378b/clIiIiIiIicjNpxsgtqEqVKpSWllo8KyoqAsDNzY2DBw8SHx/Ppk2beOaZZ3jjjTdITEwkPz8fKysrdu3ahZWVlcX7dnZ2xm8bG5srJjauJj09HU9Pz8uWm81mzGbz325fREREREREpLwoMXILcnFxIScnx7jPy8vj6NGjxr2NjQ29e/emd+/ejBo1iubNm7Nv3z78/PwoLi7mxIkTdO7c+abE9v3337Nx40YmTZp0U9oXERERERERKU9KjNyC7r77buLi4ujduzdOTk5MnjzZmAESFxdHcXExd911FzVq1ODjjz/GxsYGd3d3ateuTVhYGEOHDmXGjBn4+flx8uRJNm/ejI+PD/fdd991xfHHH3/w888/U1JSwm+//UZCQgKvvvoqvr6+jBs37mYMXURERERERKRcKTFyC5o0aRJHjx6lV69eODo6Eh0dbcwYcXJyIjY2lueff57i4mJat27N//3f/1G7dm0AFi5cyKuvvsoLL7zAjz/+iLOzM+3bt6dXr17XHceBAweoV68eVlZWODo60qJFCyZNmsTTTz+tpTIiIiIiIiLyr2Aq/etmFiI3WF5eHo6OjriNWU4Vc42KDkdERP5FsmKvbzakiIiIVA4X/x2am5uLg4PDFevqVBoRERERERERqbSUGBERERERERGRSkt7jEi52R8VctUpTCIiIiIiIiLlSTNGRERERERERKTSUmJERERERERERCotJUZEREREREREpNLSHiNSblq98qWO6xURuc3oOFwRERH5t9OMERERERERERGptJQYEREREREREZFK64YmRoKDgxkzZsyNbFJuoISEBEwmE2fOnKnoUERERERERERuCbfkjJGsrCxMJhMpKSkVHUqFOH/+PNOnT6dNmzbUqFEDZ2dnAgMDWbhwIUVFReUay5QpU2jevDm2trbUrFmT7t27s2PHjnKNQURERERERORm0eart4jS0lKKi4spKSkhJCSE1NRUoqOjCQwMxMHBge3bt/Pmm2/i5+eHr69vucXVtGlT5syZQ6NGjfjf//7Hf/7zH+69914OHz6Mi4tLucUhIiIiIiIicjPctBkjH330EQEBAdjb2+Pq6srgwYM5ceKEUX769GnCwsJwcXHBxsYGLy8vFi5cCICnpycAfn5+mEwmgoODr9pfcnIy99xzD87Ozjg6OhIUFMTu3bst6phMJt5//30efPBBatSogZeXF2vXrr2mmB566CFGjx5t1B0zZgwmk4nvv/8euDDLw9bWlvj4eABKSkqIiYnB09MTGxsb2rRpw4oVK4z3Ly5r2bBhA23btsVsNrN161ZmzpzJli1b2Lx5M6NGjcLX15dGjRoxePBgduzYgZeXFwCFhYWEh4dTp04dqlevTqdOnUhOTrYY7/r162natCk2NjZ07dqVrKysMt9t69atdO7cGRsbG9zc3AgPD6egoMAoHzx4MN27d6dRo0a0bNmSt956i7y8PPbu3XvVv4mIiIiIiIjIre6mJUaKioqIjo4mNTWV1atXk5WVxfDhw43yyMhI0tLS2LBhA+np6cybNw9nZ2cAvvvuOwDi4+PJyclh1apVV+3v7NmzDBs2jK1bt7J9+3a8vLzo2bMnZ8+etagXFRXFgAED2Lt3Lz179iQsLIxTp05dNaagoCASEhKMdhITE3F2djaeJScnU1RURMeOHQGIiYlh8eLFzJ8/nwMHDjB27FgeeeQREhMTLeKZOHEisbGxpKen4+Pjw5IlS+jevTt+fn5lxlitWjVsbW0BGD9+PCtXrmTRokXs3r2bJk2aEBISYozl+PHj9O3bl969e5OSksKIESOYOHGiRXuZmZmEhobSr18/9u7dy6effsrWrVstEkB/dv78ed59910cHR1p06bNZf8WhYWF5OXlWVwiIiIiIiIityJTaWlp6Y1qLDg4GF9fX2bOnFmmbOfOnbRr146zZ89iZ2fH/fffj7OzMx9++GGZullZWXh6erJnz56/vWykpKQEJycnli5dSq9evYALM0ZefvlloqOjASgoKMDOzo4NGzYQGhp6xZj27dtHmzZt+OWXX6hatSqurq5ERkayf/9+li1bxmuvvcb69etJSkqisLCQWrVqER8fT4cOHYw2RowYwblz51i6dCkJCQl07dqV1atX88ADDxh1atSowciRI5k1a9Zlx1ZQUEDNmjWJi4tj8ODBwIVElIeHB2PGjGHcuHG8+OKLrFmzhgMHDhjvTZw4kddff53Tp0/j5OTEiBEjsLKyYsGCBUadrVu3EhQUREFBAdWrVwfgiy++4OGHH+bcuXPUq1eP1atX065du8vGN2XKFKKioso8dxuznCrmGpd9T0REbj1ZsfdVdAgiIiIi1y0vLw9HR0dyc3NxcHC4Yt2bNmNk165d9O7dm4YNG2Jvb09QUBAA2dnZADz99NMsW7YMX19fxo8fz7Zt2/5Rf7/88gsjR47Ey8sLR0dHHBwcyM/PN/q7yMfHx/hta2uLg4ODscTnSjG1atWKWrVqkZiYyDfffIOfnx+9evUyZoAkJiYaS34OHz7MuXPnuOeee7CzszOuxYsXk5mZaRFPQECAxf215KkyMzMpKioiMDDQeFatWjXuvPNO0tPTAUhPT+euu+6yeO/PSRqA1NRU4uLiLGIMCQmhpKSEo0ePGvW6du1KSkoK27ZtIzQ0lAEDBlgsi/qrSZMmkZuba1zHjx+/6phEREREREREKsJN2Xy1oKCAkJAQQkJCWLJkCS4uLmRnZxMSEsL58+cB6NGjB8eOHWP9+vVs2rSJbt26MWrUKN58882/1eewYcP47bffmDVrFu7u7pjNZjp06GD0d1G1atUs7k0mEyUlJVeNyWQy0aVLFxISEjCbzQQHB+Pj40NhYSH79+9n27ZtREREAJCfnw/AunXraNCggUV/ZrPZ4v7i0piLmjZtauxbcrPl5+fz5JNPEh4eXqasYcOGxm9bW1uaNGlCkyZNaN++PV5eXnzwwQdMmjTpku2azeYy4xQRERERERG5Fd2UGSPff/89v/32G7GxsXTu3JnmzZtfcoaBi4sLw4YN4+OPP2bmzJm8++67AFhbWwNQXFx8zX0mJSURHh5Oz549admyJWazmV9//fW6Y79cTPD/9hlJSEggODiYKlWq0KVLF9544w0KCwuNGRwtWrTAbDaTnZ1tJBQuXm5ublfsf/DgwcTHx7Nnz54yZUVFRRQUFNC4cWOsra1JSkqyKEtOTqZFixYAeHt7G3u1XLR9+3aLe39/f9LS0srE2KRJE+NvcCklJSUUFhZecRwiIiIiIiIit4Obkhhp2LAh1tbWvP322xw5coS1a9ca+3pcNHnyZNasWcPhw4c5cOAAX3zxBd7e3gDUqVMHGxsbNm7cyC+//EJubu5V+/Ty8uKjjz4iPT2dHTt2EBYWho2NzXXFfaWY4MIeKmlpaRw4cIBOnToZz5YsWUJAQIAx+8Pe3p6IiAjGjh3LokWLyMzMZPfu3bz99tssWrToijGMGTOGwMBAunXrxjvvvENqaipHjhxh+fLltG/fnoyMDGxtbXn66acZN24cGzduJC0tjZEjR3Lu3Dkef/xxAJ566ikyMjIYN24cBw8eZOnSpcTFxVn0NWHCBLZt28bo0aNJSUkhIyODNWvWGJuvFhQU8OKLL7J9+3aOHTvGrl27eOyxx/jxxx/p37//dX1bERERERERkVvRTUmMuLi4EBcXx2effUaLFi2IjY0ts0TG2tqaSZMm4ePjQ5cuXbCysmLZsmUAVK1aldmzZ7NgwQLq169vsTnp5XzwwQecPn0af39/hgwZYhxlez2uFBNA69atcXJywtfXFzs7O+BCYqS4uLjMkcLR0dFERkYSExODt7c3oaGhrFu3zjiK+HLMZjObNm1i/PjxLFiwgPbt29OuXTtmz55NeHg4rVq1AiA2NpZ+/foxZMgQ/P39OXz4MF9++SU1a9YELiSnVq5cyerVq2nTpg3z589n2rRpFn35+PiQmJjIoUOH6Ny5M35+fkyePJn69esDYGVlxffff0+/fv1o2rQpvXv35rfffuObb76hZcuW1/VtRURERERERG5FN/RUGpFLubgbsE6lERG5/ehUGhEREbkd3RKn0oiIiIiIiIiI3Opum8TIn4+U/ev1zTffVHR4IiIiIiIiInIbuinH9d4MKSkply3765G4cmvaHxVy1SlMIiIiIiIiIuXptkmMNGnSpKJDEBEREREREZF/mdtmKY2IiIiIiIiIyI2mxIiIiIiIiIiIVFq3zVIauf21euVLHdcrInIL09G8IiIiUhlpxoiIiIiIiIiIVFpKjIiIiIiIiIhIpXVDEyPBwcGMGTPmRjYpN1BCQgImk4kzZ85UdCgiIiIiIiIit4RbcsZIVlYWJpOJlJSUig6lQpw/f57p06fTpk0batSogbOzM4GBgSxcuJCioqIKi+upp57CZDIxc+bMCotBRERERERE5EbS5qu3iNLSUoqLiykpKSEkJITU1FSio6MJDAzEwcGB7du38+abb+Ln54evr2+5x/f555+zfft26tevX+59i4iIiIiIiNwsN23GyEcffURAQAD29va4uroyePBgTpw4YZSfPn2asLAwXFxcsLGxwcvLi4ULFwLg6ekJgJ+fHyaTieDg4Kv2l5yczD333IOzszOOjo4EBQWxe/duizomk4n333+fBx98kBo1auDl5cXatWuvKaaHHnqI0aNHG3XHjBmDyWTi+++/By7M8rC1tSU+Ph6AkpISYmJi8PT0xMbGhjZt2rBixQrj/YvLWjZs2EDbtm0xm81s3bqVmTNnsmXLFjZv3syoUaPw9fWlUaNGDB48mB07duDl5QVAYWEh4eHh1KlTh+rVq9OpUyeSk5Mtxrt+/XqaNm2KjY0NXbt2JSsrq8x327p1K507d8bGxgY3NzfCw8MpKCiwqPPjjz/y7LPPsmTJEqpVq3bVv4WIiIiIiIjI7eKmJUaKioqIjo4mNTWV1atXk5WVxfDhw43yyMhI0tLS2LBhA+np6cybNw9nZ2cAvvvuOwDi4+PJyclh1apVV+3v7NmzDBs2jK1bt7J9+3a8vLzo2bMnZ8+etagXFRXFgAED2Lt3Lz179iQsLIxTp05dNaagoCASEhKMdhITE3F2djaeJScnU1RURMeOHQGIiYlh8eLFzJ8/nwMHDjB27FgeeeQREhMTLeKZOHEisbGxpKen4+Pjw5IlS+jevTt+fn5lxlitWjVsbW0BGD9+PCtXrmTRokXs3r2bJk2aEBISYozl+PHj9O3bl969e5OSksKIESOYOHGiRXuZmZmEhobSr18/9u7dy6effsrWrVstEkAlJSUMGTKEcePG0bJly6v+HURERERERERuJzdtKc1jjz1m/G7UqBGzZ8+mXbt25OfnY2dnR3Z2Nn5+fgQEBADg4eFh1HdxcQGgdu3auLq6XlN/d999t8X9u+++i5OTE4mJifTq1ct4Pnz4cAYNGgTAtGnTmD17Nt999x2hoaFXjCk4OJjnnnuOkydPUrVqVdLS0oiMjCQhIYGnnnqKhIQE2rVrR40aNSgsLGTatGnEx8fToUMH4xts3bqVBQsWEBQUZLQ7depU7rnnHuM+IyPjqjNkCgoKmDdvHnFxcfTo0QOA9957j02bNvHBBx8wbtw45s2bR+PGjZkxYwYAzZo1Y9++fbz++utGOzExMYSFhRkb5np5eTF79myCgoKYN28e1atX5/XXX6dq1aqEh4dfy58BuDCbpbCw0LjPy8u75ndFREREREREytNNS4zs2rWLKVOmkJqayunTpykpKQEgOzubFi1a8PTTT9OvXz92797NvffeS58+fYzZFn/HL7/8wssvv0xCQgInTpyguLiYc+fOkZ2dbVHPx8fH+G1ra4uDg4OxxOdKMbVq1YpatWqRmJiItbU1fn5+9OrVi3feeQe4MIPkYkLj8OHDnDt3ziLhAReW2/x1JsjFJMxFpaWlVx1rZmYmRUVFBAYGGs+qVavGnXfeSXp6OgDp6encddddFu9dTNJclJqayt69e1myZIlF/yUlJRw9epRz584xa9Ysdu/ejclkumpcF8XExBAVFXXN9UVEREREREQqyk1ZSlNQUEBISAgODg4sWbKE5ORkPv/8c+BCcgCgR48eHDt2jLFjx/LTTz/RrVs3IiIi/nafw4YNIyUlhVmzZrFt2zZSUlKoXbu20d9Ff90jw2QyGUmbK8VkMpno0qULCQkJRhLEx8eHwsJC9u/fz7Zt24yZIPn5+QCsW7eOlJQU40pLS7PYZwQwlsZc1LRpU2PfkpstPz+fJ5980iLG1NRUMjIyaNy4Md988w0nTpygYcOGVK1alapVq3Ls2DFeeOEFi9k0fzVp0iRyc3ON6/jx4+UyHhEREREREZHrdVNmjHz//ff89ttvxMbG4ubmBsDOnTvL1HNxcWHYsGEMGzaMzp07M27cON58802sra0BKC4uvuY+k5KSmDt3Lj179gQu7LHx66+/Xnfsl4sJLuwz8t5772E2m3nttdeoUqUKXbp04Y033qCwsNCYwdGiRQvMZjPZ2dkWy2auxeDBg3nxxRfZs2dPmdklRUVFnD9/nsaNG2NtbU1SUhLu7u5GWXJysrEsxtvb22JjWYDt27db3Pv7+5OWlkaTJk0uGcuQIUPo3r27xbOQkBCGDBnCo48+etkxmM1mzGbzNY1XREREREREpCLdlMRIw4YNsba25u233+app55i//79REdHW9SZPHkybdu2pWXLlhQWFvLFF1/g7e0NQJ06dbCxsWHjxo3ccccdVK9eHUdHxyv26eXlZZyEk5eXx7hx47CxsbmuuK8UE1zYZ2Ts2LFYW1vTqVMn41lERATt2rUzZn/Y29sTERHB2LFjKSkpoVOnTuTm5pKUlISDgwPDhg27bAxjxoxh3bp1dOvWjejoaDp16oS9vT07d+7k9ddf54MPPsDX15enn36acePGUatWLRo2bMj06dM5d+4cjz/+OABPPfUUM2bMYNy4cYwYMYJdu3YRFxdn0deECRNo3749o0ePZsSIEdja2pKWlsamTZuYM2cOtWvXpnbt2hbvVKtWDVdXV5o1a3Zd31ZERERERETkVnRTltK4uLgQFxfHZ599RosWLYiNjTVmXVxkbW3NpEmT8PHxoUuXLlhZWbFs2TIAqlatyuzZs1mwYAH169fngQceuGqfH3zwAadPn8bf358hQ4YYR9lejyvFBNC6dWucnJzw9fXFzs4OuJAYKS4uLrNhanR0NJGRkcTExODt7U1oaCjr1q0zjiK+HLPZzKZNmxg/fjwLFiygffv2tGvXjtmzZxMeHk6rVq0AiI2NpV+/fgwZMgR/f38OHz7Ml19+Sc2aNYELyamVK1eyevVq2rRpw/z585k2bZpFXz4+PiQmJnLo0CE6d+6Mn58fkydPpn79+tf13URERERERERuV6bSa9ntU+QfyMvLw9HREbcxy6lirlHR4YiIyGVkxd5X0SGIiIiI3BAX/x2am5uLg4PDFevelBkjIiIiIiIiIiK3g9smMWJnZ3fZ65tvvqno8ERERERERETkNnRTNl+9GVJSUi5b1qBBg/ILRP62/VEhV53CJCIiIiIiIlKebpvEyOWOlBURERERERER+btum6U0IiIiIiIiIiI3mhIjIiIiIiIiIlJp3TZLaeT21+qVL3Vcr4jINdLRuSIiIiLlQzNGRERERERERKTSUmJERERERERERCotJUZuUQkJCZhMJs6cOVPRoYiIiIiIiIj8aykxIiIiIiIiIiKVlhIj8redP3++okMQERERERER+UeUGKlAJSUlxMTE4OnpiY2NDW3atGHFihWXrb9y5UpatmyJ2WzGw8ODGTNmWJSbTCZWr15t8czJyYm4uDjgQiJj9OjR1KtXj+rVq+Pu7k5MTIxR98yZM4wYMQIXFxccHBy4++67SU1NNcqnTJmCr68v77//Pp6enlSvXv2ffwQRERERERGRCqTjeitQTEwMH3/8MfPnz8fLy4stW7bwyCOP4OLiUqburl27GDBgAFOmTGHgwIFs27aNZ555htq1azN8+PBr6m/27NmsXbuW5cuX07BhQ44fP87x48eN8v79+2NjY8OGDRtwdHRkwYIFdOvWjUOHDlGrVi0ADh8+zMqVK1m1ahVWVlY35DuIiIiIiIiIVBQlRipIYWEh06ZNIz4+ng4dOgDQqFEjtm7dyoIFC3jiiScs6r/11lt069aNyMhIAJo2bUpaWhpvvPHGNSdGsrOz8fLyolOnTphMJtzd3Y2yrVu38t1333HixAnMZjMAb775JqtXr2bFihVGPOfPn2fx4sWXTN78eWyFhYXGfV5e3jXFJyIiIiIiIlLetJSmghw+fJhz585xzz33YGdnZ1yLFy8mMzOzTP309HQCAwMtngUGBpKRkUFxcfE19Tl8+HBSUlJo1qwZ4eHhfPXVV0ZZamoq+fn51K5d2yKeo0ePWsTj7u5+xaQIXJgJ4+joaFxubm7XFJ+IiIiIiIhIedOMkQqSn58PwLp162jQoIFFmdlsvmRy5GpMJhOlpaUWz4qKiozf/v7+HD16lA0bNhAfH8+AAQPo3r07K1asID8/n3r16pGQkFCmXScnJ+O3ra3tVeOYNGkSzz//vHGfl5en5IiIiIiIiIjckpQYqSAtWrTAbDaTnZ1NUFBQmfK/Jka8vb1JSkqyeJaUlETTpk2NvT5cXFzIyckxyjMyMjh37pzFOw4ODgwcOJCBAwfy0EMPERoayqlTp/D39+fnn3+matWqeHh4/KOxmc1mYzmOiIiIiIiIyK1MiZEKYm9vT0REBGPHjqWkpIROnTqRm5tLUlISDg4OFvt/ALzwwgu0a9eO6OhoBg4cyLfffsucOXOYO3euUefuu+9mzpw5dOjQgeLiYiZMmEC1atWM8rfeeot69erh5+dHlSpV+Oyzz3B1dcXJyYnu3bvToUMH+vTpw/Tp02natCk//fQT69at48EHHyQgIKDcvo2IiIiIiIhIeVFipAJFR0fj4uJCTEwMR44cwcnJCX9/f1588UVKSkos6vr7+7N8+XImT55MdHQ09erVY+rUqRYbr86YMYNHH32Uzp07U79+fWbNmsWuXbuMcnt7e6ZPn05GRgZWVla0a9eO9evXU6XKha1m1q9fz0svvcSjjz7KyZMncXV1pUuXLtStW7dcvoeIiIiIiIhIeTOV/nVTCpEbLC8v78ImrGOWU8Vco6LDERG5LWTF3lfRIYiIiIjcti7+OzQ3NxcHB4cr1tWpNCIiIiIiIiJSaSkxIiIiIiIiIiKVlvYYkXKzPyrkqlOYRERERERERMqTZoyIiIiIiIiISKWlxIiIiIiIiIiIVFpKjIiIiIiIiIhIpaXEiIiIiIiIiIhUWtp8VcpNq1e+pIq5RkWHISJy3bJi76voEERERETkJtGMERERERERERGptJQYEREREREREZFKS4kREREREREREam0yjUxMmXKFHx9fcuzywplMplYvXp1RYdhISEhAZPJxJkzZ675nSlTpmAymSyu5s2b37wgRURERERERMpJpd58taioiGrVqlV0GLeFli1bEh8fb9xXrVqp/9MRERERERGRf4nrnjFSUlLC9OnTadKkCWazmYYNG/Laa68BMGHCBJo2bUqNGjVo1KgRkZGRFBUVARAXF0dUVBSpqanGrIO4uDgAzpw5w4gRI3BxccHBwYG7776b1NRUi35fffVV6tSpg729PSNGjGDixIkWs09KSkqYOnUqd9xxB2azGV9fXzZu3GiUZ2VlYTKZ+PTTTwkKCqJ69eq8++67ODg4sGLFCou+Vq9eja2tLWfPnr3itzh//jyjR4+mXr16VK9eHXd3d2JiYgDw8PAA4MEHH8RkMhn3VxMbG0vdunWxt7fn8ccfLzNOgA8//JCWLVtiNpupV68eo0ePthhjSkqKUffMmTOYTCYSEhLIysqia9euANSsWROTycTw4cOvKa6qVavi6upqXM7Oztf0noiIiIiIiMit7LoTI5MmTSI2NpbIyEjS0tJYunQpdevWBcDe3p64uDjS0tKYNWsW7733Hv/5z38AGDhwIC+88AItW7YkJyeHnJwcBg4cCED//v05ceIEGzZsYNeuXfj7+9OtWzdOnToFwJIlS3jttdd4/fXX2bVrFw0bNmTevHkWcc2aNYsZM2bw5ptvsnfvXkJCQrj//vvJyMiwqDdx4kSee+450tPT6du3Lw8//DALFy60qLNw4UIeeugh7O3tr/gtZs+ezdq1a1m+fDkHDx5kyZIlRgIkOTnZaCsnJ8e4v5Lly5czZcoUpk2bxs6dO6lXrx5z5861qDNv3jxGjRrFE088wb59+1i7di1NmjS5atsAbm5urFy5EoCDBw+Sk5PDrFmzrundjIwM6tevT6NGjQgLCyM7O/uydQsLC8nLy7O4RERERERERG5FptLS0tJrrXz27FlcXFyYM2cOI0aMuGr9N998k2XLlrFz507gwl4Vq1evtpjRsHXrVu677z5OnDiB2Ww2njdp0oTx48fzxBNP0L59ewICApgzZ45R3qlTJ/Lz8422GjRowKhRo3jxxReNOnfeeSft2rXjnXfeISsrC09PT2bOnMlzzz1n1Pnuu+/o2LEjx48fp169epw4cYIGDRoQHx9PUFDQFccXHh7OgQMHiI+Px2QylSk3mUx8/vnn9OnT56rfCqBjx474+fnxzjvvGM/at2/P77//bjHORx99lFdffbXM+xfHuGfPHmOWyZkzZ6hZsyZff/01wcHBJCQk0LVrV06fPo2Tk9M1xbVhwwby8/Np1qwZOTk5REVF8eOPP7J///5LJo+mTJlCVFRUmeduY5ZTxVzjmvoUEbmVZMXeV9EhiIiIiMh1yMvLw9HRkdzcXBwcHK5Y97pmjKSnp1NYWEi3bt0uWf7pp58SGBiIq6srdnZ2vPzyy1ecWQCQmppKfn4+tWvXxs7OzriOHj1KZmYmcGF2w5133mnx3p/v8/Ly+OmnnwgMDLSoExgYSHp6usWzgICAMu20bNmSRYsWAfDxxx/j7u5Oly5drhg3wPDhw0lJSaFZs2aEh4fz1VdfXfWdK0lPT+euu+6yeNahQwfj94kTJ/jpp58u+/1vlh49etC/f398fHwICQlh/fr1nDlzhuXLl1+y/qRJk8jNzTWu48ePl2u8IiIiIiIiItfqunbQtLGxuWzZt99+S1hYGFFRUYSEhODo6MiyZcuYMWPGFdvMz8+nXr16JCQklCm71hkN18PW1rbMsxEjRvDOO+8wceJEFi5cyKOPPnrJGSB/5e/vz9GjR9mwYQPx8fEMGDCA7t27l9mz5Ea50vcHqFLlQp7rz5OALu7xciM5OTnRtGlTDh8+fMlys9lsMftHRERERERE5FZ1XTNGvLy8sLGxYfPmzWXKtm3bhru7Oy+99BIBAQF4eXlx7NgxizrW1tYUFxdbPPP39+fnn3+matWqNGnSxOK6uMFns2bNyuzR8ed7BwcH6tevT1JSkkWdpKQkWrRocdVxPfLIIxw7dozZs2eTlpbGsGHDrvrOn/seOHAg7733Hp9++ikrV6409kapVq1amfFeibe3Nzt27LB4tn37duO3vb09Hh4el/z+AC4uLgDk5OQYz/68bAku/A2A64rrr/Lz88nMzKRevXp/uw0RERERERGRW8F1zRipXr06EyZMYPz48VhbWxMYGMjJkyc5cOAAXl5eZGdns2zZMtq1a8e6dev4/PPPLd738PDg6NGjpKSkcMcdd2Bvb0/37t3p0KEDffr0Yfr06TRt2pSffvqJdevW8eCDDxIQEMCzzz7LyJEjCQgIoGPHjnz66afs3buXRo0aGW2PGzeOV155hcaNG+Pr68vChQtJSUlhyZIlVx1XzZo16du3L+PGjePee+/ljjvuuKbv8dZbb1GvXj38/PyoUqUKn332Ga6ursZMl4tJjMDAQMxmMzVr1rxie8899xzDhw8nICCAwMBAlixZwoEDByzGOWXKFJ566inq1KlDjx49OHv2LElJSTz77LPY2NjQvn17YmNj8fT05MSJE7z88ssWfbi7u2Mymfjiiy/o2bMnNjY22NnZXTGuiIgIevfujbu7Oz/99BOvvPIKVlZWDBo06Jq+k4iIiIiIiMit6rpPpYmMjOSFF15g8uTJeHt7M3DgQE6cOMH999/P2LFjGT16NL6+vmzbto3IyEiLd/v160doaChdu3bFxcWFTz75BJPJxPr16+nSpQuPPvooTZs25eGHH+bYsWPGaTdhYWFMmjSJiIgIY/nK8OHDqV69utF2eHg4zz//PC+88AKtW7dm48aNrF27Fi8vr2sa1+OPP8758+d57LHHrvlb2NvbM336dAICAmjXrh1ZWVmsX7/eWNIyY8YMNm3ahJubG35+fldtb+DAgURGRjJ+/Hjatm3LsWPHePrppy3qDBs2jJkzZzJ37lxatmxJr169LE7e+fDDD/njjz9o27YtY8aMKbNJa4MGDYiKimLixInUrVvXOOr3Sn744QcGDRpEs2bNGDBgALVr12b79u3GDBURERERERGR29V1nUpzK7nnnntwdXXlo48+uiHtffTRR4wdO5affvrJWG5yK7jUST63m4u7AetUGhG5XelUGhEREZHby/WcSnNdS2kqyrlz55g/fz4hISFYWVnxySefEB8fz6ZNm25I2zk5OcTGxvLkk0/eUkkREREREREREbm5rnspTUX483Kbtm3b8n//93+sXLmS7t27/+O2p0+fTvPmzXF1dWXSpEkWZdOmTbM4QvjPV48ePa67r5YtW162vWvZC+VmyM7OvmxMdnZ2Vz1uWUREREREROR2dtsupSkPp06dMk6Y+SsbGxsaNGhwXe0dO3bsssfn1q1bF3t7++uO8Z/6448/yMrKumy5h4cHVav+s4lF1zOFSUREREREROSf+tctpakotWrVolatWjesPXd39xvW1o1y8ZhkERERERERkcrotlhKIyIiIiIiIiJyMygxIiIiIiIiIiKVlpbSSLlp9cqXOq5XRG5JOo5XREREpPLSjBERERERERERqbSUGBERERERERGRSkuJkdtEQkICJpOJM2fOVHQoIiIiIiIiIv8aSoz8i3l4eDBz5swb2mZwcDBjxoy5oW2KiIiIiIiIVBQlRkRERERERESk0lJi5BZSUlJCTEwMnp6e2NjY0KZNG1asWHHZ+itXrqRly5aYzWY8PDyYMWOGURYcHMyxY8cYO3YsJpMJk8lklG3dupXOnTtjY2ODm5sb4eHhFBQUGOVz587Fy8uL6tWrU7duXR566CEAhg8fTmJiIrNmzTLazMrKuvEfQkRERERERKScKDFyC4mJiWHx4sXMnz+fAwcOMHbsWB555BESExPL1N21axcDBgzg4YcfZt++fUyZMoXIyEji4uIAWLVqFXfccQdTp04lJyeHnJwcADIzMwkNDaVfv37s3buXTz/9lK1btzJ69GgAdu7cSXh4OFOnTuXgwYNs3LiRLl26ADBr1iw6dOjAyJEjjTbd3NzKxFZYWEheXp7FJSIiIiIiInIrqlrRAcgFhYWFTJs2jfj4eDp06ABAo0aN2Lp1KwsWLOCJJ56wqP/WW2/RrVs3IiMjAWjatClpaWm88cYbDB8+nFq1amFlZYW9vT2urq7GezExMYSFhRn7hHh5eTF79myCgoKYN28e2dnZ2Nra0qtXL+zt7XF3d8fPzw8AR0dHrK2tqVGjhkWbfxUTE0NUVNSN/DwiIiIiIiIiN4VmjNwiDh8+zLlz57jnnnuws7MzrsWLF5OZmVmmfnp6OoGBgRbPAgMDycjIoLi4+LL9pKamEhcXZ9FHSEgIJSUlHD16lHvuuQd3d3caNWrEkCFDWLJkCefOnbuusUyaNInc3FzjOn78+HW9LyIiIiIiIlJeNGPkFpGfnw/AunXraNCggUWZ2Wy+ZHLk7/bz5JNPEh4eXqasYcOGWFtbs3v3bhISEvjqq6+YPHkyU6ZMITk5GScnp2vqw2w2Yzabb0i8IiIiIiIiIjeTEiO3iBYtWmA2m8nOziYoKKhM+V8TI97e3iQlJVk8S0pKomnTplhZWQFgbW1dZvaIv78/aWlpNGnS5LKxVK1ale7du9O9e3deeeUVnJyc+O9//0vfvn0v2aaIiIiIiIjI7UqJkVuEvb09ERERjB07lpKSEjp16kRubi5JSUk4ODjg7u5uUf+FF16gXbt2REdHM3DgQL799lvmzJnD3LlzjToeHh5s2bKFhx9+GLPZjLOzMxMmTKB9+/aMHj2aESNGYGtrS1paGps2bWLOnDl88cUXHDlyhC5dulCzZk3Wr19PSUkJzZo1M9rcsWMHWVlZ2NnZUatWLapU0YosERERERERuT3pX7S3kOjoaCIjI4mJicHb25vQ0FDWrVuHp6dnmbr+/v4sX76cZcuW0apVKyZPnszUqVMZPny4UWfq1KlkZWXRuHFjXFxcAPDx8SExMZFDhw7RuXNn/Pz8mDx5MvXr1wfAycmJVatWcffdd+Pt7c38+fP55JNPaNmyJQARERFYWVnRokULXFxcyM7OvvkfRkREREREROQmMZWWlpZWdBDy75aXl4ejoyNuY5ZTxVyjosMRESkjK/a+ig5BRERERG6gi/8Ozc3NxcHB4Yp1NWNERERERERERCotJUZEREREREREpNLS5qtSbvZHhVx1CpOIiIiIiIhIedKMERERERERERGptJQYEREREREREZFKS4kREREREREREam0tMeIlJtWr3yp43pF5JrpCF0RERERKQ+aMSIiIiIiIiIilZYSIyIiIiIiIiJSaSkxIiIiIiIiIiKVlhIjFSQuLg4nJ6cyz4ODgxkzZoxx7+HhwcyZM8slpoSEBEwmE2fOnLG4N5lMVKlSBUdHR/z8/Bg/fjw5OTnlEpOIiIiIiIjIzaTEiFzVwYMH+emnn0hOTmbChAnEx8fTqlUr9u3bV9GhiYiIiIiIiPwjNzQxsnHjRjp16oSTkxO1a9emV69eZGZmAnD+/HlGjx5NvXr1qF69Ou7u7sTExABQWlrKlClTaNiwIWazmfr16xMeHm60W1hYSEREBA0aNMDW1pa77rqLhIQEo/zYsWP07t2bmjVrYmtrS8uWLVm/fj0Ap0+fJiwsDBcXF2xsbPDy8mLhwoUAZGVlYTKZWL58OZ07d8bGxoZ27dpx6NAhkpOTCQgIwM7Ojh49enDy5EmLsb7//vt4e3tTvXp1mjdvzty5c42yi+2uWrWKrl27UqNGDdq0acO3334LXJiJ8eijj5Kbm2vMyJgyZUqZ7xkcHMyxY8cYO3asUe+irVu3GjG7ubkRHh5OQUGBUe7h4cGrr77K0KFDsbOzw93dnbVr13Ly5EkeeOAB7Ozs8PHxYefOnVf9u9apUwdXV1eaNm3Kww8/TFJSEi4uLjz99NNXfVdERERERETkVnZDEyMFBQU8//zz7Ny5k82bN1OlShUefPBBSkpKmD17NmvXrmX58uUcPHiQJUuW4OHhAcDKlSv5z3/+w4IFC8jIyGD16tW0bt3aaHf06NF8++23LFu2jL1799K/f39CQ0PJyMgAYNSoURQWFrJlyxb27dvH66+/jp2dHQCRkZGkpaWxYcMG0tPTmTdvHs7OzhZxv/LKK7z88svs3r2bqlWrMnjwYMaPH8+sWbP45ptvOHz4MJMnTzbqL1myhMmTJ/Paa6+Rnp7OtGnTiIyMZNGiRRbtvvTSS0RERJCSkkLTpk0ZNGgQf/zxBx07dmTmzJk4ODiQk5NDTk4OERERZb7nqlWruOOOO5g6dapRDyAzM5PQ0FD69evH3r17+fTTT9m6dSujR4+2eP8///kPgYGB7Nmzh/vuu48hQ4YwdOhQHnnkEXbv3k3jxo0ZOnQopaWl1/V3trGx4amnniIpKYkTJ05c17siIiIiIiIit5KqN7Kxfv36Wdx/+OGHuLi4kJaWRnZ2Nl5eXnTq1AmTyYS7u7tRLzs7G1dXV7p37061atVo2LAhd955p1G2cOFCsrOzqV+/PgARERFs3LiRhQsXMm3aNLKzs+nXr5+RTGnUqJFF235+fgQEBAAYyZg/i4iIICQkBIDnnnuOQYMGsXnzZgIDAwF4/PHHiYuLM+q/8sorzJgxg759+wLg6elJWloaCxYsYNiwYRbt3nfffQBERUXRsmVLDh8+TPPmzXF0dMRkMuHq6nrZ71mrVi2srKywt7e3qBcTE0NYWJixF4mXlxezZ88mKCiIefPmUb16dQB69uzJk08+CcDkyZOZN28e7dq1o3///gBMmDCBDh068Msvv1wxjktp3rw5cGF2TJ06dSzKCgsLKSwsNO7z8vKuq20RERERERGR8nJDZ4xkZGQwaNAgGjVqhIODg5GEyM7OZvjw4aSkpNCsWTPCw8P56quvjPf69+/P//73Pxo1asTIkSP5/PPP+eOPPwDYt28fxcXFNG3aFDs7O+NKTEw0lumEh4fz6quvEhgYyCuvvMLevXuNtp9++mmWLVuGr68v48ePZ9u2bWXi9vHxMX7XrVsXwGLGSt26dY2ZEQUFBWRmZvL4449bxPPqq68a8Vyq3Xr16gHckBkWqampxMXFWfQfEhJCSUkJR48eva5x/d2YLs4y+fPynotiYmJwdHQ0Ljc3t+tuX0RERERERKQ83NDESO/evTl16hTvvfceO3bsYMeOHcCF/UX8/f05evQo0dHR/O9//2PAgAE89NBDALi5uXHw4EHmzp2LjY0NzzzzDF26dKGoqIj8/HysrKzYtWsXKSkpxpWens6sWbMAGDFiBEeOHGHIkCHs27ePgIAA3n77bQB69Ohh7NPx008/0a1btzLLVqpVq2b8vvgP/b8+KykpASA/Px+A9957zyKe/fv3s3379qu2e7GdfyI/P58nn3zSov/U1FQyMjJo3LjxdY3r78aUnp4OXHoGzqRJk8jNzTWu48ePX3f7IiIiIiIiIuXhhi2l+e233zh48CDvvfcenTt3Bi5sEPpnDg4ODBw4kIEDB/LQQw8RGhrKqVOnqFWrFjY2NvTu3ZvevXszatQomjdvzr59+/Dz86O4uJgTJ04Y7V6Km5sbTz31FE899RSTJk3ivffe49lnnwXAxcWFYcOGMWzYMDp37sy4ceN48803/9Y469atS/369Tly5AhhYWF/qw0Aa2triouL/1Y9f39/0tLSaNKkyd/u/5/43//+x7vvvkuXLl1wcXEpU242mzGbzRUQmYiIiIiIiMj1uWGJkZo1a1K7dm3effdd6tWrR3Z2NhMnTjTK33rrLerVq4efnx9VqlThs88+w9XVFScnJ+Li4iguLuauu+6iRo0afPzxx9jY2ODu7k7t2rUJCwtj6NChzJgxAz8/P06ePMnmzZvx8fHhvvvuY8yYMfTo0YOmTZty+vRpvv76a7y9vYELe2u0bduWli1bUlhYyBdffGGU/V1RUVGEh4fj6OhIaGgohYWF7Ny5k9OnT/P8889fUxseHh7k5+ezefNm2rRpQ40aNahRo8Yl623ZsoWHH34Ys9mMs7MzEyZMoH379owePZoRI0Zga2tLWloamzZtYs6cOf9obJdy4sQJfv/9d86ePcuuXbuYPn06v/76K6tWrbrhfYmIiIiIiIiUpxu2lKZKlSosW7aMXbt20apVK8aOHcsbb7xhlNvb2zN9+nQCAgJo164dWVlZrF+/nipVquDk5MR7771HYGAgPj4+xMfH83//93/Url0bgIULFzJ06FBeeOEFmjVrRp8+fUhOTqZhw4YAFBcXM2rUKLy9vQkNDaVp06bG8bnW1tZMmjQJHx8funTpgpWVFcuWLftHYx0xYgTvv/8+CxcupHXr1gQFBREXF4enp+c1t9GxY0eeeuopBg4ciIuLC9OnT79kvalTp5KVlUXjxo2N2Rk+Pj4kJiZy6NAhOnfujJ+fH5MnTzY2p73RmjVrRv369Wnbti2xsbF0796d/fv306JFi5vSn4iIiIiIiEh5MZVe71mtItcpLy/vwiasY5ZTxVx2VoyIyKVkxd5X0SGIiIiIyG3q4r9Dc3NzcXBwuGLdG7r5qoiIiIiIiIjI7USJERERERERERGptG7Y5qsiV7M/KuSqU5hEREREREREypNmjIiIiIiIiIhIpaXEiIiIiIiIiIhUWkqMiIiIiIiIiEilpT1GpNy0euVLHdcrchU6olZEREREpHxpxoiIiIiIiIiIVFpKjIiIiIiIiIhIpaXEyC0oISEBk8nEmTNnrvkdDw8PZs6cedNiEhEREREREfk30h4j/xLJycnY2toa9yaTic8//5w+ffpUXFAiIiIiIiIitzglRv6/9u49qqpy3//4Z4mwBATUQBFDQcUdqNwUTfGCRw0zU8u2mfeOWrk1A1PDjqhICWm2yTS1y/ZSesydpR4vddATJHgjEbyAFzTC3TE9mQHCCNksfn84XL+9wnviAtf7NcYagznns+bzmYtZsb4983keEB4eHtaOAAAAAABArcOjNFZiMpmUkJAgX19fOTo6KigoSJ9//vkN22/cuFFt27aV0WiUj4+PFi1aZHH8Xx+l8fHxkSQ99dRTMhgM5m1J2rx5s0JDQ1WvXj21bNlScXFx+uc//2k+bjAYtGLFCg0YMEBOTk7y9/fX3r17lZeXp4iICDk7O6tr1646ffr0PfssAAAAAACwFgojVpKQkKA1a9Zo+fLlOnbsmKKjozVy5EilpqZWaXvw4EENHTpUw4YN05EjRzR37lzFxsZq1apV1z13RkaGJGnlypU6d+6ceXv37t0aPXq0XnnlFeXk5GjFihVatWqV3nzzTYv3x8fHa/To0crKytIjjzyi4cOH68UXX9TMmTP13XffqbKyUpMnT763HwgAAAAAAFbAozRWUFZWpvnz52vnzp3q0qWLJKlly5ZKS0vTihUr9MILL1i0f+edd9S7d2/FxsZKktq0aaOcnBwtXLhQY8eOrXL+a4/VNGjQQJ6enub9cXFxiomJ0ZgxY8x9xsfHa8aMGZozZ4653fPPP6+hQ4dKkl577TV16dJFsbGxioyMlCS98sorev755296fWVlZebtoqKi2/5sAAAAAAC4nyiMWEFeXp5KS0vVt29fi/1XrlxRSEhIlfa5ubkaNGiQxb7w8HAlJSWpoqJCdnZ2t9Vvdna20tPTLUaIVFRU6LffflNpaamcnJwkSYGBgebjTZo0kSS1b9/eYt9vv/2moqIiubq6VuknISFBcXFxt5UJAAAAAABrojBiBZcvX5Ykbdu2Tc2aNbM4ZjQaq23+jsuXLysuLk5PP/10lWP16tUz/2xvb2/+2WAw3HCfyWS6bj8zZ87U1KlTzdtFRUXy9vb+Y+EBAAAAAKgGFEasICAgQEajUQUFBerZs2eV478vjPj7+ys9Pd1iX3p6utq0aXPD0SL29vaqqKiw2BcaGqoTJ06odevWf/AKbs5oNMpoNFZrHwAAAAAA3AsURqzAxcVF06ZNU3R0tEwmk7p166bCwkKlp6fL1dVVLVq0sGj/6quvKiwsTPHx8Xr22We1d+9eLVmyRO+///4N+/Dx8dGuXbsUHh4uo9Gohg0bavbs2RowYICaN2+uZ555RnXq1FF2draOHj2qN954o7ovGwAAAACAGodVaawkPj5esbGxSkhIkL+/v/r166dt27bJ19e3StvQ0FBt2LBB69evV7t27TR79mzNmzfvuhOvXrNo0SIlJyfL29vbPG9JZGSktm7dqv/+7/9WWFiYHn30Uf31r3+tUogBAAAAAMBWGCorKyutHQIPtqKiIrm5uck7aoPqGJ2sHQeo0fITn7B2BAAAAKDWu/Y9tLCw8LqLhvwrRowAAAAAAACbRWEEAAAAAADYLCZfxX1zNC7ylkOYAAAAAAC4nxgxAgAAAAAAbBaFEQAAAAAAYLMojAAAAAAAAJvFHCO4b9rN+ZrlelGtWOoWAAAAwJ1ixAgAAAAAALBZFEYAAAAAAIDNojACAAAAAABs1j0tjERERCgqKupenhL3UEpKigwGg3799VdrRwEAAAAAoEaokSNG8vPzZTAYlJWVZe0oVnHlyhUtWLBAQUFBcnJykru7u8LDw7Vy5UqVl5ff1yxjx46VwWCwePXr1+++ZgAAAAAAoLqwKk0NUVlZqYqKCplMJkVGRio7O1vx8fEKDw+Xq6ur9u3bp7ffflshISEKDg6+r9n69eunlStXmreNRuN97R8AAAAAgOpSbSNGPvnkE3Xs2FEuLi7y9PTU8OHDdeHCBfPxS5cuacSIEfLw8JCjo6P8/PzMX759fX0lSSEhITIYDIqIiLhlfxkZGerbt6/c3d3l5uamnj17KjMz06KNwWDQRx99pKeeekpOTk7y8/PTli1bbivTM888o8mTJ5vbRkVFyWAw6Pjx45KujvJwdnbWzp07JUkmk0kJCQny9fWVo6OjgoKC9Pnnn5vff+2xlh07dqhDhw4yGo1KS0tTUlKSvv32W+3atUuTJk1ScHCwWrZsqeHDh2v//v3y8/OTJJWVlWnKlClq3Lix6tWrp27duikjI8Pierdv3642bdrI0dFRvXr1Un5+fpXPLS0tTd27d5ejo6O8vb01ZcoUlZSUWLQxGo3y9PQ0vxo2bHjL3wcAAAAAALVBtRVGysvLFR8fr+zsbG3atEn5+fkaO3as+XhsbKxycnK0Y8cO5ebmatmyZXJ3d5ckHThwQJK0c+dOnTt3Tl988cUt+ysuLtaYMWOUlpamffv2yc/PT/3791dxcbFFu7i4OA0dOlSHDx9W//79NWLECP3yyy+3zNSzZ0+lpKSYz5Oamip3d3fzvoyMDJWXl6tr166SpISEBK1Zs0bLly/XsWPHFB0drZEjRyo1NdUiT0xMjBITE5Wbm6vAwECtXbtWffr0UUhISJVrtLe3l7OzsyRpxowZ2rhxo1avXq3MzEy1bt1akZGR5ms5e/asnn76aT355JPKysrS+PHjFRMTY3G+06dPq1+/fhoyZIgOHz6szz77TGlpaRYFIOlqEadx48b605/+pIkTJ+rixYs3/V2UlZWpqKjI4gUAAAAAQE1kqKysrLxXJ4uIiFBwcLCSkpKqHPvuu+8UFham4uJi1a9fXwMHDpS7u7v+9re/VWmbn58vX19fHTp06K4fGzGZTGrQoIHWrVunAQMGSLo6YmTWrFmKj4+XJJWUlKh+/frasWOH+vXrd9NMR44cUVBQkM6fP6+6devK09NTsbGxOnr0qNavX68333xT27dvV3p6usrKytSoUSPt3LlTXbp0MZ9j/PjxKi0t1bp165SSkqJevXpp06ZNGjRokLmNk5OTJkyYoHffffeG11ZSUqKGDRtq1apVGj58uKSrhSgfHx9FRUVp+vTpev3117V582YdO3bM/L6YmBi99dZbunTpkho0aKDx48fLzs5OK1asMLdJS0tTz549VVJSonr16mn9+vVycnKSr6+vTp8+rddff13169fX3r17ZWdnd918c+fOVVxcXJX93lEbVMfodMPrAv6o/MQnrB0BAAAAQA1QVFQkNzc3FRYWytXV9aZtq22OkYMHD2ru3LnKzs7WpUuXZDKZJEkFBQUKCAjQxIkTNWTIEGVmZuqxxx7T4MGDzaMt7sb58+c1a9YspaSk6MKFC6qoqFBpaakKCgos2gUGBpp/dnZ2lqurq/kRn5tlateunRo1aqTU1FQ5ODgoJCREAwYM0NKlSyVdHUFy7ZGfvLw8lZaWqm/fvhZ9X7lypcpIkI4dO1ps306d6vTp0yovL1d4eLh5n729vTp16qTc3FxJUm5urjp37mzxvn8t0khSdna2Dh8+rLVr11r0bzKZ9P3338vf31/Dhg0zH2vfvr0CAwPVqlUrpaSkqHfv3tfNN3PmTE2dOtW8XVRUJG9v71teFwAAAAAA91u1FEZKSkoUGRmpyMhIrV27Vh4eHiooKFBkZKSuXLkiSXr88cf1ww8/aPv27UpOTlbv3r01adIkvf3223fV55gxY3Tx4kW9++67atGihYxGo7p06WLu7xp7e3uLbYPBYC7a3CyTwWBQjx49lJKSIqPRqIiICAUGBqqsrExHjx7Vnj17NG3aNEnS5cuXJUnbtm1Ts2bNLPr7/cSl1x6NuaZNmzbmeUuq2+XLl/Xiiy9qypQpVY41b978uu9p2bKl3N3dlZeXd8PCiNFoZIJWAAAAAECtUC1zjBw/flwXL15UYmKiunfvrkceecRi4tVrPDw8NGbMGH366adKSkrSBx98IElycHCQJFVUVNx2n+np6ZoyZYr69++vtm3bymg06ueff77j7DfKJP3/eUZSUlIUERGhOnXqqEePHlq4cKHKysrMIzgCAgJkNBpVUFCg1q1bW7xuNXJi+PDh2rlzpw4dOlTlWHl5uUpKStSqVSs5ODgoPT3d4lhGRoYCAgIkSf7+/ua5Wq7Zt2+fxXZoaKhycnKqZGzdurX5d/B7//jHP3Tx4kU1bdr0ptcBAAAAAEBtUC2FkebNm8vBwUHvvfeezpw5oy1btpjn9bhm9uzZ2rx5s/Ly8nTs2DFt3bpV/v7+kqTGjRvL0dFRX331lc6fP6/CwsJb9unn56dPPvlEubm52r9/v0aMGCFHR8c7yn2zTNLVOVRycnJ07NgxdevWzbxv7dq16tixo3n0h4uLi6ZNm6bo6GitXr1ap0+fVmZmpt577z2tXr36phmioqIUHh6u3r17a+nSpcrOztaZM2e0YcMGPfroozp16pScnZ01ceJETZ8+XV999ZVycnI0YcIElZaWaty4cZKkl156SadOndL06dN14sQJrVu3TqtWrbLo67XXXtOePXs0efJkZWVl6dSpU9q8ebN58tXLly9r+vTp2rdvn/Lz87Vr1y4NGjTIPNErAAAAAAC1XbUURjw8PLRq1Sr9/e9/V0BAgBITE6s8IuPg4KCZM2cqMDBQPXr0kJ2dndavXy9Jqlu3rhYvXqwVK1bIy8vLYnLSG/n444916dIlhYaGatSoUealbO/EzTJJV+fYaNCggYKDg1W/fn1JVwsjFRUVVZYUjo+PV2xsrBISEuTv769+/fpp27Zt5qWIb8RoNCo5OVkzZszQihUr9OijjyosLEyLFy/WlClT1K5dO0lSYmKihgwZolGjRik0NFR5eXn6+uuvzUvpNm/eXBs3btSmTZsUFBSk5cuXa/78+RZ9BQYGKjU1VSdPnlT37t0VEhKi2bNny8vLS5JkZ2enw4cPa+DAgWrTpo3GjRunDh06aPfu3TwqAwAAAAB4INzTVWmA67k2GzCr0qC6sSoNAAAAAOnOVqWplhEjAAAAAAAAtUG1Ldd7r117dOV6duzYoe7du9/HNLgbR+Mib1mpAwAAAADgfqo1hZGsrKwbHvv9krgAAAAAAAC3o9YURlq3bm3tCAAAAAAA4AHDHCMAAAAAAMBmURgBAAAAAAA2q9Y8SoPar92cr1mu9x5hWVoAAAAAuDcYMQIAAAAAAGwWhREAAAAAAGCzKIzgpubOnavg4GBrxwAAAAAAoFpQGIGZwWDQpk2brB0DAAAAAID7hsIIAAAAAACwWRRGaqCIiAi9/PLLioqKUsOGDdWkSRN9+OGHKikp0fPPPy8XFxe1bt1aO3bsML8nNTVVnTp1ktFoVNOmTRUTE6N//vOfFuecMmWKZsyYoUaNGsnT01Nz5841H/fx8ZEkPfXUUzIYDObtaz755BP5+PjIzc1Nw4YNU3FxcXV+BAAAAAAA3BcURmqo1atXy93dXQcOHNDLL7+siRMn6s9//rO6du2qzMxMPfbYYxo1apRKS0v1448/qn///goLC1N2draWLVumjz/+WG+88UaVczo7O2v//v1asGCB5s2bp+TkZElSRkaGJGnlypU6d+6ceVuSTp8+rU2bNmnr1q3aunWrUlNTlZiYeMPsZWVlKioqsngBAAAAAFATURipoYKCgjRr1iz5+flp5syZqlevntzd3TVhwgT5+flp9uzZunjxog4fPqz3339f3t7eWrJkiR555BENHjxYcXFxWrRokUwmk/mcgYGBmjNnjvz8/DR69Gh17NhRu3btkiR5eHhIkho0aCBPT0/ztiSZTCatWrVK7dq1U/fu3TVq1Cjz+64nISFBbm5u5pe3t3c1fUoAAAAAAPwxFEZqqMDAQPPPdnZ2euihh9S+fXvzviZNmkiSLly4oNzcXHXp0kUGg8F8PDw8XJcvX9Y//vGP655Tkpo2baoLFy7cMouPj49cXFxu+30zZ85UYWGh+XX27Nlb9gEAAAAAgDXUtXYAXJ+9vb3FtsFgsNh3rQjyryNC7uact/P+O32f0WiU0Wi87VwAAAAAAFgLI0YeAP7+/tq7d68qKyvN+9LT0+Xi4qKHH374ts9jb2+vioqK6ogIAAAAAECNRGHkAfCXv/xFZ8+e1csvv6zjx49r8+bNmjNnjqZOnao6dW7/V+zj46Ndu3bpp59+0qVLl6oxMQAAAAAANQOFkQdAs2bNtH37dh04cEBBQUF66aWXNG7cOM2aNeuOzrNo0SIlJyfL29tbISEh1ZQWAAAAAICaw1D5r89fANWgqKjo6uo0URtUx+hk7TgPhPzEJ6wdAQAAAABqrGvfQwsLC+Xq6nrTtowYAQAAAAAANovCCAAAAAAAsFks14v75mhc5C2HMAEAAAAAcD8xYgQAAAAAANgsCiMAAAAAAMBmURgBAAAAAAA2izlGcN+0m/M1y/XeBZbmBQAAAIDqw4gRAAAAAABgsyiMAAAAAAAAm3VPCyMRERGKioq6l6fEPZSSkiKDwaBff/3V2lEAAAAAAKgRauSIkfz8fBkMBmVlZVk7ilVcuXJFCxYsUFBQkJycnOTu7q7w8HCtXLlS5eXl9z1Pbm6uBg4cKDc3Nzk7OyssLEwFBQX3PQcAAAAAAPcak6/WEJWVlaqoqJDJZFJkZKSys7MVHx+v8PBwubq6at++fXr77bcVEhKi4ODg+5br9OnT6tatm8aNG6e4uDi5urrq2LFjqlev3n3LAAAAAABAdam2ESOffPKJOnbsKBcXF3l6emr48OG6cOGC+filS5c0YsQIeXh4yNHRUX5+flq5cqUkydfXV5IUEhIig8GgiIiIW/aXkZGhvn37yt3dXW5uburZs6cyMzMt2hgMBn300Ud66qmn5OTkJD8/P23ZsuW2Mj3zzDOaPHmyuW1UVJQMBoOOHz8u6eooD2dnZ+3cuVOSZDKZlJCQIF9fXzk6OiooKEiff/65+f3XHmvZsWOHOnToIKPRqLS0NCUlJenbb7/Vrl27NGnSJAUHB6tly5YaPny49u/fLz8/P0lSWVmZpkyZosaNG6tevXrq1q2bMjIyLK53+/btatOmjRwdHdWrVy/l5+dX+dzS0tLUvXt3OTo6ytvbW1OmTFFJSYn5+H/8x3+of//+WrBggUJCQtSqVSsNHDhQjRs3vuXvBAAAAACAmq7aCiPl5eWKj49Xdna2Nm3apPz8fI0dO9Z8PDY2Vjk5OdqxY4dyc3O1bNkyubu7S5IOHDggSdq5c6fOnTunL7744pb9FRcXa8yYMUpLS9O+ffvk5+en/v37q7i42KJdXFychg4dqsOHD6t///4aMWKEfvnll1tm6tmzp1JSUsznSU1Nlbu7u3lfRkaGysvL1bVrV0lSQkKC1qxZo+XLl+vYsWOKjo7WyJEjlZqaapEnJiZGiYmJys3NVWBgoNauXas+ffooJCSkyjXa29vL2dlZkjRjxgxt3LhRq1evVmZmplq3bq3IyEjztZw9e1ZPP/20nnzySWVlZWn8+PGKiYmxON/p06fVr18/DRkyRIcPH9Znn32mtLQ0cwHIZDJp27ZtatOmjSIjI9W4cWN17txZmzZtuunvoqysTEVFRRYvAAAAAABqIkNlZWXlvTpZRESEgoODlZSUVOXYd999p7CwMBUXF6t+/foaOHCg3N3d9be//a1K2/z8fPn6+urQoUN3/diIyWRSgwYNtG7dOg0YMEDS1REjs2bNUnx8vCSppKRE9evX144dO9SvX7+bZjpy5IiCgoJ0/vx51a1bV56enoqNjdXRo0e1fv16vfnmm9q+fbvS09NVVlamRo0aaefOnerSpYv5HOPHj1dpaanWrVunlJQU9erVS5s2bdKgQYPMbZycnDRhwgS9++67N7y2kpISNWzYUKtWrdLw4cMlXS1E+fj4KCoqStOnT9frr7+uzZs369ixY+b3xcTE6K233tKlS5fUoEEDjR8/XnZ2dlqxYoW5TVpamnr27KmSkhL9+uuvatq0qZycnPTGG2+oV69e+uqrr/T666/rm2++Uc+ePa+bb+7cuYqLi6uy3ztqg+oYnW54Xbi+/MQnrB0BAAAAAGqVoqIiubm5qbCwUK6urjdtW21zjBw8eFBz585Vdna2Ll26JJPJJEkqKChQQECAJk6cqCFDhigzM1OPPfaYBg8ebB5tcTfOnz+vWbNmKSUlRRcuXFBFRYVKS0urTBIaGBho/tnZ2Vmurq7mR3xulqldu3Zq1KiRUlNT5eDgoJCQEA0YMEBLly6VdHUEybVHfvLy8lRaWqq+ffta9H3lypUqI0E6duxosX07darTp0+rvLxc4eHh5n329vbq1KmTcnNzJV2dMLVz584W7/vXIo0kZWdn6/Dhw1q7dq1F/yaTSd9//73c3NwkSYMGDVJ0dLQkKTg4WHv27NHy5ctvWBiZOXOmpk6dat4uKiqSt7f3La8LAAAAAID7rVoKIyUlJYqMjFRkZKTWrl0rDw8PFRQUKDIyUleuXJEkPf744/rhhx+0fft2JScnq3fv3po0aZLefvvtu+pzzJgxunjxot599121aNFCRqNRXbp0Mfd3jb29vcW2wWAwF21ulslgMKhHjx5KSUmR0WhURESEAgMDVVZWpqNHj2rPnj2aNm2aJOny5cuSpG3btqlZs2YW/RmNRovta4/GXNOmTRvzvCXV7fLly3rxxRc1ZcqUKseaN28uSapbt64CAgIsjvn7+ystLe2G5zUajVWuEwAAAACAmqha5hg5fvy4Ll68qMTERHXv3l2PPPKIxcSr13h4eGjMmDH69NNPlZSUpA8++ECS5ODgIEmqqKi47T7T09M1ZcoU9e/fX23btpXRaNTPP/98x9lvlEn6//OMpKSkKCIiQnXq1FGPHj20cOFClZWVmUdwBAQEyGg0qqCgQK1bt7Z43WrkxPDhw7Vz504dOnSoyrHy8nKVlJSoVatWcnBwUHp6usWxjIwMcxHD39/fPFfLNfv27bPYDg0NVU5OTpWMrVu3loODgxwcHBQWFqYTJ05YvO/kyZNq0aLFbXyaAAAAAADUbNVSGGnevLkcHBz03nvv6cyZM9qyZYt5Xo9rZs+erc2bNysvL0/Hjh3T1q1b5e/vL0lq3LixHB0d9dVXX+n8+fMqLCy8ZZ9+fn765JNPlJubq/3792vEiBFydHS8o9w3yyRdnUMlJydHx44dU7du3cz71q5dq44dO5pHf7i4uGjatGmKjo7W6tWrdfr0aWVmZuq9997T6tWrb5ohKipK4eHh6t27t5YuXars7GydOXNGGzZs0KOPPqpTp07J2dlZEydO1PTp0/XVV18pJydHEyZMUGlpqcaNGydJeumll3Tq1ClNnz5dJ06c0Lp167Rq1SqLvl577TXt2bNHkydPVlZWlk6dOqXNmzdbrL4zffp0ffbZZ/rwww+Vl5enJUuW6L/+67/0l7/85Y4+WwAAAAAAaqJqKYx4eHho1apV+vvf/66AgAAlJiZWeUTGwcFBM2fOVGBgoHr06CE7OzutX79e0tXHNxYvXqwVK1bIy8vLYnLSG/n444916dIlhYaGatSoUealbO/EzTJJUvv27dWgQQMFBwerfv36kq4WRioqKqosKRwfH6/Y2FglJCTI399f/fr107Zt28xLEd+I0WhUcnKyZsyYoRUrVujRRx9VWFiYFi9erClTpqhdu3aSpMTERA0ZMkSjRo1SaGio8vLy9PXXX6thw4aSrhanNm7cqE2bNikoKEjLly/X/PnzLfoKDAxUamqqTp48qe7duyskJESzZ8+Wl5eXuc1TTz2l5cuXa8GCBWrfvr0++ugjbdy40VwYAgAAAACgNrunq9IA13NtNmBWpbk7rEoDAAAAAHfmTlalqZYRIwAAAAAAALVBrSmM1K9f/4av3bt3WzseAAAAAACohaplud7qkJWVdcNjv18SFzXT0bjIWw5hAgAAAADgfqo1hZHWrVtbOwIAAAAAAHjA1JpHaQAAAAAAAO41CiMAAAAAAMBm1ZpHaVD7tZvzdY1frpelcQEAAADAtjBiBAAAAAAA2CwKIwAAAAAAwGZRGHlAREREKCoqytoxAAAAAACoVSiMAAAAAAAAm0VhBHftypUr1o4AAAAAAMAfQmHkAWIymTRjxgw1atRInp6emjt3rvlYQUGBBg0apPr168vV1VVDhw7V+fPnzcfHjh2rwYMHW5wvKipKERER5u2IiAhNnjxZUVFRcnd3V2RkZDVfEQAAAAAA1YvCyANk9erVcnZ21v79+7VgwQLNmzdPycnJMplMGjRokH755RelpqYqOTlZZ86c0bPPPntXfTg4OCg9PV3Lly+vhqsAAAAAAOD+qWvtALh3AgMDNWfOHEmSn5+flixZol27dkmSjhw5ou+//17e3t6SpDVr1qht27bKyMhQWFjYbffh5+enBQsW3LRNWVmZysrKzNtFRUV3eikAAAAAANwXjBh5gAQGBlpsN23aVBcuXFBubq68vb3NRRFJCggIUIMGDZSbm3tHfXTo0OGWbRISEuTm5mZ+/Wu/AAAAAADUJBRGHiD29vYW2waDQSaT6bbeW6dOHVVWVlrsKy8vr9LO2dn5lueaOXOmCgsLza+zZ8/eVgYAAAAAAO43CiM2wN/fX2fPnrUoUOTk5OjXX39VQECAJMnDw0Pnzp2zeF9WVtZd9Wc0GuXq6mrxAgAAAACgJqIwYgP69Omj9u3ba8SIEcrMzNSBAwc0evRo9ezZUx07dpQk/du//Zu+++47rVmzRqdOndKcOXN09OhRKycHAAAAAKB6URixAQaDQZs3b1bDhg3Vo0cP9enTRy1bttRnn31mbhMZGanY2FjNmDFDYWFhKi4u1ujRo62YGgAAAACA6meo/P3EEsA9VlRUdHUS1qgNqmN0snacm8pPfMLaEQAAAAAAf9C176GFhYW3nN6BESMAAAAAAMBmURgBAAAAAAA2q661A8B2HI2LZIUaAAAAAECNwogRAAAAAABgsyiMAAAAAAAAm0VhBAAAAAAA2CzmGMF9027O1zV2uV6W6QUAAAAA28SIEQAAAAAAYLMojAAAAAAAAJtFYaSWSklJkcFg0K+//mrtKAAAAAAA1FoURmyIj4+PkpKSrB0DAAAAAIAag8IIAAAAAACwWRRGajCTyaSEhAT5+vrK0dFRQUFB+vzzz2/YfuPGjWrbtq2MRqN8fHy0aNEi87GIiAj98MMPio6OlsFgkMFgkCRdvHhRzz33nJo1ayYnJye1b99e//mf/2lx3uLiYo0YMULOzs5q2rSp/vrXvyoiIkJRUVHVct0AAAAAANwvFEZqsISEBK1Zs0bLly/XsWPHFB0drZEjRyo1NbVK24MHD2ro0KEaNmyYjhw5orlz5yo2NlarVq2SJH3xxRd6+OGHNW/ePJ07d07nzp2TJP3222/q0KGDtm3bpqNHj+qFF17QqFGjdODAAfO5p06dqvT0dG3ZskXJycnavXu3MjMz78tnAAAAAABAdapr7QC4vrKyMs2fP187d+5Uly5dJEktW7ZUWlqaVqxYoRdeeMGi/TvvvKPevXsrNjZWktSmTRvl5ORo4cKFGjt2rBo1aiQ7Ozu5uLjI09PT/L5mzZpp2rRp5u2XX35ZX3/9tTZs2KBOnTqpuLhYq1ev1rp169S7d29J0sqVK+Xl5XXT7GVlZebtoqKiP/6BAAAAAABQDSiM1FB5eXkqLS1V3759LfZfuXJFISEhVdrn5uZq0KBBFvvCw8OVlJSkiooK2dnZXbefiooKzZ8/Xxs2bNCPP/6oK1euqKysTE5OTpKkM2fOqLy8XJ06dTK/x83NTX/6059umD0hIUFxcXG3fa0AAAAAAFgLhZEa6vLly5Kkbdu2qVmzZhbHjEajTp8+fU/6Wbhwod59910lJSWpffv2cnZ2VlRUlK5cuXLX55w5c6amTp1q3i4qKpK3t/e9iAsAAAAAwD1FYaSGCggIkNFoVEFBgXr27Fnl+O8LI/7+/kpPT7fYl56erjZt2phHizg4OKiioqJKm0GDBmnkyJGSrk74evLkSQUEBEi6+viOvb29MjIy1Lx5c0lSYWGhTp48qR49elw3u9FolNFovIurBgAAAADg/qIwUkO5uLho2rRpio6OlslkUrdu3VRYWKj09HS5urqqRYsWFu1fffVVhYWFKT4+Xs8++6z27t2rJUuW6P333ze38fHx0bfffqthw4bJaDTK3d1dfn5++vzzz7Vnzx41bNhQ77zzjs6fP28ujLi4uGjMmDGaPn26GjVqpMaNG2vOnDmqU6eOeWUbAAAAAABqK1alqcHi4+MVGxurhIQE+fv7q1+/ftq2bZt8fX2rtA0NDdWGDRu0fv16tWvXTrNnz9a8efM0duxYc5t58+YpPz9frVq1koeHhyRp1qxZCg0NVWRkpCIiIuTp6anBgwdbnPudd95Rly5dNGDAAPXp00fh4eHy9/dXvXr1qvPyAQAAAACodobKyspKa4dA7VJSUqJmzZpp0aJFGjdu3C3bFxUVyc3NTd5RG1TH6HQfEt65/MQnrB0BAAAAAHCPXPseWlhYKFdX15u25VEa3NKhQ4d0/PhxderUSYWFhZo3b54kVVkFBwAAAACA2obCCG7L22+/rRMnTsjBwUEdOnTQ7t275e7ubu1YAAAAAAD8ITxKg2p3J0OYAAAAAAD4o+7keyiTrwIAAAAAAJtFYQQAAAAAANgsCiMAAAAAAMBmURgBAAAAAAA2i8IIAAAAAACwWRRGAAAAAACAzaIwAgAAAAAAbBaFEQAAAAAAYLMojAAAAAAAAJtFYQQAAAAAANgsCiMAAAAAAMBmURgBAAAAAAA2i8IIAAAAAACwWRRGAAAAAACAzaIwAgAAAAAAbBaFEQAAAAAAYLMojAAAAAAAAJtFYQQAAAAAANgsCiMAAAAAAMBm1bV2ADz4KisrJUlFRUVWTgIAAAAAsAXXvn9e+z56MxRGUO0uXrwoSfL29rZyEgAAAACALSkuLpabm9tN21AYQbVr1KiRJKmgoOCWNyTwr4qKiuTt7a2zZ8/K1dXV2nFQi3Dv4G5w3+Buce/gbnDf4G5x79yeyspKFRcXy8vL65ZtKYyg2tWpc3UqGzc3N/7BxV1xdXXl3sFd4d7B3eC+wd3i3sHd4L7B3eLeubXb/R/zTL4KAAAAAABsFoURAAAAAABgsyiMoNoZjUbNmTNHRqPR2lFQy3Dv4G5x7+BucN/gbnHv4G5w3+Buce/ce4bK21m7BgAAAAAA4AHEiBEAAAAAAGCzKIwAAAAAAACbRWEEAAAAAADYLAojAAAAAADAZlEYQbVbunSpfHx8VK9ePXXu3FkHDhywdiTUcAkJCQoLC5OLi4saN26swYMH68SJE9aOhVomMTFRBoNBUVFR1o6CWuDHH3/UyJEj9dBDD8nR0VHt27fXd999Z+1YqMEqKioUGxsrX19fOTo6qlWrVoqPjxfrGuD3vv32Wz355JPy8vKSwWDQpk2bLI5XVlZq9uzZatq0qRwdHdWnTx+dOnXKOmFRY9zsvikvL9drr72m9u3by9nZWV5eXho9erT+93//13qBazkKI6hWn332maZOnao5c+YoMzNTQUFBioyM1IULF6wdDTVYamqqJk2apH379ik5OVnl5eV67LHHVFJSYu1oqCUyMjK0YsUKBQYGWjsKaoFLly4pPDxc9vb22rFjh3JycrRo0SI1bNjQ2tFQg7311ltatmyZlixZotzcXL311ltasGCB3nvvPWtHQw1TUlKioKAgLV269LrHFyxYoMWLF2v58uXav3+/nJ2dFRkZqd9+++0+J0VNcrP7prS0VJmZmYqNjVVmZqa++OILnThxQgMHDrRC0gcDy/WiWnXu3FlhYWFasmSJJMlkMsnb21svv/yyYmJirJwOtcX//d//qXHjxkpNTVWPHj2sHQc13OXLlxUaGqr3339fb7zxhoKDg5WUlGTtWKjBYmJilJ6ert27d1s7CmqRAQMGqEmTJvr444/N+4YMGSJHR0d9+umnVkyGmsxgMOjLL7/U4MGDJV0dLeLl5aVXX31V06ZNkyQVFhaqSZMmWrVqlYYNG2bFtKgpfn/fXE9GRoY6deqkH374Qc2bN79/4R4QjBhBtbly5YoOHjyoPn36mPfVqVNHffr00d69e62YDLVNYWGhJKlRo0ZWToLaYNKkSXriiScs/t0D3MyWLVvUsWNH/fnPf1bjxo0VEhKiDz/80NqxUMN17dpVu3bt0smTJyVJ2dnZSktL0+OPP27lZKhNvv/+e/30008W/81yc3NT586d+XsZd6SwsFAGg0ENGjSwdpRaqa61A+DB9fPPP6uiokJNmjSx2N+kSRMdP37cSqlQ25hMJkVFRSk8PFzt2rWzdhzUcOvXr1dmZqYyMjKsHQW1yJkzZ7Rs2TJNnTpVr7/+ujIyMjRlyhQ5ODhozJgx1o6HGiomJkZFRUV65JFHZGdnp4qKCr355psaMWKEtaOhFvnpp58k6bp/L187BtzKb7/9ptdee03PPfecXF1drR2nVqIwAqBGmzRpko4ePaq0tDRrR0ENd/bsWb3yyitKTk5WvXr1rB0HtYjJZFLHjh01f/58SVJISIiOHj2q5cuXUxjBDW3YsEFr167VunXr1LZtW2VlZSkqKkpeXl7cNwDum/Lycg0dOlSVlZVatmyZtePUWjxKg2rj7u4uOzs7nT9/3mL/+fPn5enpaaVUqE0mT56srVu36ptvvtHDDz9s7Tio4Q4ePKgLFy4oNDRUdevWVd26dZWamqrFixerbt26qqiosHZE1FBNmzZVQECAxT5/f38VFBRYKRFqg+nTpysmJkbDhg1T+/btNWrUKEVHRyshIcHa0VCLXPubmL+XcTeuFUV++OEHJScnM1rkD6Awgmrj4OCgDh06aNeuXeZ9JpNJu3btUpcuXayYDDVdZWWlJk+erC+//FL/8z//I19fX2tHQi3Qu3dvHTlyRFlZWeZXx44dNWLECGVlZcnOzs7aEVFDhYeHV1kS/OTJk2rRooWVEqE2KC0tVZ06ln9K29nZyWQyWSkRaiNfX195enpa/L1cVFSk/fv38/cybupaUeTUqVPauXOnHnroIWtHqtV4lAbVaurUqRozZow6duyoTp06KSkpSSUlJXr++eetHQ012KRJk7Ru3Tpt3rxZLi4u5mds3dzc5OjoaOV0qKlcXFyqzEPj7Oyshx56iPlpcFPR0dHq2rWr5s+fr6FDh+rAgQP64IMP9MEHH1g7GmqwJ598Um+++aaaN2+utm3b6tChQ3rnnXf07//+79aOhhrm8uXLysvLM29///33ysrKUqNGjdS8eXNFRUXpjTfekJ+fn3x9fRUbGysvL6+brkCCB9/N7pumTZvqmWeeUWZmprZu3aqKigrz38uNGjWSg4ODtWLXWizXi2q3ZMkSLVy4UD/99JOCg4O1ePFide7c2dqxUIMZDIbr7l+5cqXGjh17f8OgVouIiGC5XtyWrVu3aubMmTp16pR8fX01depUTZgwwdqxUIMVFxcrNjZWX375pS5cuCAvLy8999xzmj17Nl9KYCElJUW9evWqsn/MmDFatWqVKisrNWfOHH3wwQf69ddf1a1bN73//vtq06aNFdKiprjZfTN37twbjqj+5ptvFBERUc3pHjwURgAAAAAAgM1ijhEAAAAAAGCzKIwAAAAAAACbRWEEAAAAAADYLAojAAAAAADAZlEYAQAAAAAANovCCAAAAAAAsFkURgAAAAAAgM2iMAIAAAAAAGwWhREAAAAAAGCzKIwAAAAAAACbRWEEAAAAAADYLAojAAAAAADAZv0/ZDOnlCj+/FgAAAAASUVORK5CYII=",
=======
      "image/png": "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",
>>>>>>> master
      "text/plain": [
       "<Figure size 1200x600 with 1 Axes>"
      ]
     },
     "metadata": {},
     "output_type": "display_data"
    }
   ],
   "source": [
    "import matplotlib.pyplot as plt\n",
    "\n",
    "feature_importance = cat_model.feature_importances_\n",
    "sorted_idx = np.argsort(feature_importance)\n",
    "fig = plt.figure(figsize=(12, 6))\n",
    "plt.barh(range(len(sorted_idx)), feature_importance[sorted_idx], align=\"center\")\n",
    "plt.yticks(range(len(sorted_idx)), np.array(_valid.columns)[sorted_idx])\n",
    "plt.title(\"Feature Importance\")"
   ]
  },
  {
   "cell_type": "code",
<<<<<<< HEAD
   "execution_count": 11,
=======
   "execution_count": 17,
>>>>>>> master
   "metadata": {},
   "outputs": [],
   "source": [
    "# submission 제출하기 위한 코드\n",
    "\n",
    "_test_pred = cat_model.predict_proba(_test)[:,1]\n",
    "_test['prediction'] = _test_pred\n",
    "submission = _test['prediction'].reset_index(drop = True).reset_index()\n",
    "submission.rename(columns = {'index':'id'}, inplace = True)\n",
    "submission.to_csv('../output/cat3.csv', index = False)"
   ]
  },
  {
   "cell_type": "code",
<<<<<<< HEAD
   "execution_count": 12,
=======
   "execution_count": 18,
>>>>>>> master
   "metadata": {},
   "outputs": [
    {
     "data": {
      "text/html": [
       "<div>\n",
       "<style scoped>\n",
       "    .dataframe tbody tr th:only-of-type {\n",
       "        vertical-align: middle;\n",
       "    }\n",
       "\n",
       "    .dataframe tbody tr th {\n",
       "        vertical-align: top;\n",
       "    }\n",
       "\n",
       "    .dataframe thead th {\n",
       "        text-align: right;\n",
       "    }\n",
       "</style>\n",
       "<table border=\"1\" class=\"dataframe\">\n",
       "  <thead>\n",
       "    <tr style=\"text-align: right;\">\n",
       "      <th></th>\n",
       "      <th>id</th>\n",
       "      <th>prediction</th>\n",
       "    </tr>\n",
       "  </thead>\n",
       "  <tbody>\n",
       "    <tr>\n",
       "      <th>0</th>\n",
       "      <td>0</td>\n",
<<<<<<< HEAD
       "      <td>0.623078</td>\n",
=======
       "      <td>0.620660</td>\n",
>>>>>>> master
       "    </tr>\n",
       "    <tr>\n",
       "      <th>1</th>\n",
       "      <td>1</td>\n",
<<<<<<< HEAD
       "      <td>0.637031</td>\n",
=======
       "      <td>0.660555</td>\n",
>>>>>>> master
       "    </tr>\n",
       "    <tr>\n",
       "      <th>2</th>\n",
       "      <td>2</td>\n",
<<<<<<< HEAD
       "      <td>0.183445</td>\n",
=======
       "      <td>0.174870</td>\n",
>>>>>>> master
       "    </tr>\n",
       "    <tr>\n",
       "      <th>3</th>\n",
       "      <td>3</td>\n",
<<<<<<< HEAD
       "      <td>0.664510</td>\n",
=======
       "      <td>0.689929</td>\n",
>>>>>>> master
       "    </tr>\n",
       "    <tr>\n",
       "      <th>4</th>\n",
       "      <td>4</td>\n",
<<<<<<< HEAD
       "      <td>0.255038</td>\n",
=======
       "      <td>0.276513</td>\n",
>>>>>>> master
       "    </tr>\n",
       "    <tr>\n",
       "      <th>...</th>\n",
       "      <td>...</td>\n",
       "      <td>...</td>\n",
       "    </tr>\n",
       "    <tr>\n",
       "      <th>739</th>\n",
       "      <td>739</td>\n",
<<<<<<< HEAD
       "      <td>0.007846</td>\n",
=======
       "      <td>0.006001</td>\n",
>>>>>>> master
       "    </tr>\n",
       "    <tr>\n",
       "      <th>740</th>\n",
       "      <td>740</td>\n",
<<<<<<< HEAD
       "      <td>0.769688</td>\n",
=======
       "      <td>0.752712</td>\n",
>>>>>>> master
       "    </tr>\n",
       "    <tr>\n",
       "      <th>741</th>\n",
       "      <td>741</td>\n",
<<<<<<< HEAD
       "      <td>0.906082</td>\n",
=======
       "      <td>0.899806</td>\n",
>>>>>>> master
       "    </tr>\n",
       "    <tr>\n",
       "      <th>742</th>\n",
       "      <td>742</td>\n",
<<<<<<< HEAD
       "      <td>0.925575</td>\n",
=======
       "      <td>0.886922</td>\n",
>>>>>>> master
       "    </tr>\n",
       "    <tr>\n",
       "      <th>743</th>\n",
       "      <td>743</td>\n",
<<<<<<< HEAD
       "      <td>0.587850</td>\n",
=======
       "      <td>0.553433</td>\n",
>>>>>>> master
       "    </tr>\n",
       "  </tbody>\n",
       "</table>\n",
       "<p>744 rows × 2 columns</p>\n",
       "</div>"
      ],
      "text/plain": [
       "      id  prediction\n",
<<<<<<< HEAD
       "0      0    0.623078\n",
       "1      1    0.637031\n",
       "2      2    0.183445\n",
       "3      3    0.664510\n",
       "4      4    0.255038\n",
       "..   ...         ...\n",
       "739  739    0.007846\n",
       "740  740    0.769688\n",
       "741  741    0.906082\n",
       "742  742    0.925575\n",
       "743  743    0.587850\n",
=======
       "0      0    0.620660\n",
       "1      1    0.660555\n",
       "2      2    0.174870\n",
       "3      3    0.689929\n",
       "4      4    0.276513\n",
       "..   ...         ...\n",
       "739  739    0.006001\n",
       "740  740    0.752712\n",
       "741  741    0.899806\n",
       "742  742    0.886922\n",
       "743  743    0.553433\n",
>>>>>>> master
       "\n",
       "[744 rows x 2 columns]"
      ]
     },
<<<<<<< HEAD
     "execution_count": 12,
=======
     "execution_count": 18,
>>>>>>> master
     "metadata": {},
     "output_type": "execute_result"
    }
   ],
   "source": [
    "submission"
   ]
  }
 ],
 "metadata": {
  "kernelspec": {
<<<<<<< HEAD
   "display_name": "Python 3.6.9 64-bit",
=======
   "display_name": "Python 3.8.5 ('base')",
>>>>>>> master
   "language": "python",
   "name": "python3"
  },
  "language_info": {
   "codemirror_mode": {
    "name": "ipython",
    "version": 3
   },
   "file_extension": ".py",
   "mimetype": "text/x-python",
   "name": "python",
   "nbconvert_exporter": "python",
   "pygments_lexer": "ipython3",
<<<<<<< HEAD
   "version": "3.6.9"
=======
   "version": "3.8.5"
>>>>>>> master
  },
  "orig_nbformat": 4,
  "vscode": {
   "interpreter": {
<<<<<<< HEAD
    "hash": "31f2aee4e71d21fbe5cf8b01ff0e069b9275f58929596ceb00d14d90e3e16cd6"
=======
    "hash": "d4d1e4263499bec80672ea0156c357c1ee493ec2b1c70f0acce89fc37c4a6abe"
>>>>>>> master
   }
  }
 },
 "nbformat": 4,
 "nbformat_minor": 2
}
