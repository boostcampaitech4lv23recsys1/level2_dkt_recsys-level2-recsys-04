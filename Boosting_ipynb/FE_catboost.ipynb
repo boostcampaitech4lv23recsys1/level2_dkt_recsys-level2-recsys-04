{
 "cells": [
  {
   "cell_type": "code",
   "execution_count": 1,
   "metadata": {},
   "outputs": [],
   "source": [
    "import numpy as np\n",
    "import pandas as pd\n",
    "\n",
    "import os\n",
    "import random\n",
    "\n",
    "import warnings\n",
    "\n",
    "warnings.filterwarnings(action='ignore')\n",
    "\n",
    "path = '/opt/ml/input/data/'\n",
    "dat = pd.read_csv(path + 'FE/FE_total.csv')"
   ]
  },
  {
   "cell_type": "code",
   "execution_count": 2,
   "metadata": {},
   "outputs": [],
   "source": [
    "FEATURE = [\n",
    "    'userID', \n",
    "    'assessmentItemID', \n",
    "#    'testId', \n",
    "#    'answerCode', \n",
    "#    'Timestamp',\n",
    "    'KnowledgeTag', \n",
    "    'solve_time', \n",
    "    'b_category', \n",
    "    'test_category',\n",
    "    'problem_id', \n",
    "    'category_st_qcut_5', \n",
    "    'last_answerCode', \n",
    "    'year', \n",
    "    'month',\n",
    "    'day', \n",
    "    'hour', \n",
    "#    'user_correct_answer', \n",
    "#    'user_total_answer', \n",
    "    'user_acc',\n",
    "    'test_mean', \n",
    "    'test_sum', \n",
    "    'tag_mean', \n",
    "    'tag_sum', \n",
    "#   'user_acc_5',\n",
    "#   'tag_mean_5', \n",
    "#   'test_mean_5'\n",
    "]"
   ]
  },
  {
   "cell_type": "code",
   "execution_count": 3,
   "metadata": {},
   "outputs": [],
   "source": [
    "from sklearn import preprocessing\n",
    "\n",
    "le = preprocessing.LabelEncoder()\n",
    "\n",
    "for feature in FEATURE:\n",
    "    if dat[feature].dtypes != \"int\":  # float, str type -> int로 전환\n",
    "        dat[feature] = le.fit_transform(dat[feature])\n",
    "    dat[feature] = dat[feature].astype(\"category\")"
   ]
  },
  {
   "cell_type": "code",
   "execution_count": 4,
   "metadata": {},
   "outputs": [],
   "source": [
    "_train = dat[dat['answerCode'] >= 0]\n",
    "_test = dat[dat['answerCode'] < 0]"
   ]
  },
  {
   "cell_type": "code",
   "execution_count": 5,
   "metadata": {},
   "outputs": [],
   "source": [
    "# 유저 마다 가장 마지막 문제를 맞추는 것을 기준으로 평가 하려함\n",
    "# test 유저에 경우 가장 마지막 문제 전 문제를 맞추는 것을 기준으로 평가함.\n",
    "user_final_time = _train.groupby('userID')['Timestamp'].max()\n",
    "_train['train_valid'] = _train.apply(lambda x : -1 if x.Timestamp == user_final_time[x.userID] else x['answerCode'], axis = 1)\n",
    "_valid = _train[_train['train_valid'] < 0]\n",
    "_train = _train[_train['train_valid'] >= 0]"
   ]
  },
  {
   "cell_type": "code",
   "execution_count": 6,
   "metadata": {},
   "outputs": [],
   "source": [
    "# 모델에 적용하기 전 기본적인 데이터 전처리 부분\n",
    "## 라벨링, 필요없는 칼럼 제거\n",
    "_train_value = _train['answerCode']\n",
    "_train.drop(['train_valid'], axis = 1, inplace = True)\n",
    "\n",
    "_valid_value = _valid['answerCode']\n",
    "_valid.drop(['train_valid'], axis = 1, inplace = True)\n",
    "\n",
    "#_test.drop(['Timestamp', 'testId', 'answerCode','user_acc', 'test_mean','tag_mean'], axis = 1, inplace = True)"
   ]
  },
  {
   "cell_type": "code",
   "execution_count": 7,
   "metadata": {},
   "outputs": [],
   "source": [
    "# CatBoost에 적용하기 위해선 문자열 데이터로 변환 필요.\n",
    "_train['userID'] = _train['userID'].astype('str')\n",
    "_train['KnowledgeTag'] = _train['KnowledgeTag'].astype('str')\n",
    "\n",
    "_valid['userID'] = _valid['userID'].astype('str')\n",
    "_valid['KnowledgeTag'] = _valid['KnowledgeTag'].astype('str')\n",
    "\n",
    "_test['userID'] = _test['userID'].astype('str')\n",
    "_test['KnowledgeTag'] = _test['KnowledgeTag'].astype('str')"
   ]
  },
  {
   "cell_type": "code",
   "execution_count": 8,
   "metadata": {},
   "outputs": [
    {
     "name": "stdout",
     "output_type": "stream",
     "text": [
      "0:\tlearn: 0.6719895\ttotal: 175ms\tremaining: 2m 54s\n",
      "500:\tlearn: 0.4297092\ttotal: 1m 14s\tremaining: 1m 14s\n",
      "999:\tlearn: 0.4246928\ttotal: 2m 26s\tremaining: 0us\n"
     ]
    },
    {
     "data": {
      "text/plain": [
       "<catboost.core.CatBoostClassifier at 0x7f13a88d6d30>"
      ]
     },
     "execution_count": 8,
     "metadata": {},
     "output_type": "execute_result"
    }
   ],
   "source": [
    "#!pip install catboost\n",
    "# 가상환경에 패키지 설치 필요할듯\n",
    "from catboost import CatBoostClassifier\n",
    "\n",
    "# 하이퍼파라미터 수정할 여지가 많으니 추가나 수정하고 싶은 사람 수정해도 괜찮을듯.\n",
    "# 일단 지난번에 사용했던 파라미터들 주석으로 들고 옴. 참고하면서 공부하면 좋을듯.\n",
    "\n",
    "# params_cat = {\n",
    "#     \"task_type\" : \"GPU\",\n",
    "#     \"devices\" : '0',\n",
    "#     \"random_state\": SEED,\n",
    "#     'learning_rate': 0.04574578205475402, \n",
    "#     'bagging_temperature': 0.12172958098369972, \n",
    "#     'n_estimators': 2000, \n",
    "#     'max_depth': 8, \n",
    "#     'random_strength': 28, \n",
    "#     'l2_leaf_reg': 1.6285455533915874e-05, \n",
    "#     'min_child_samples': 18, \n",
    "#     'max_bin': 441, \n",
    "#     'od_type': 'Iter',\n",
    "#     \"cat_features\" : list(train_ratings.drop(['rating'],axis = 1).columns),\n",
    "# }\n",
    "\n",
    "# model = CatBoostRegressor(**params_cat)\n",
    "\n",
    "# 실제 적용한 모델은 learning_rate, iterations(=n_estimators, 아마도?)만 사용함.\n",
    "cat_model = CatBoostClassifier(learning_rate=0.05, iterations=1000, task_type=\"GPU\")\n",
    "cat_model.fit(_train[FEATURE], _train_value, early_stopping_rounds=100, cat_features=list(_train[FEATURE]) ,verbose=500)\n"
   ]
  },
  {
   "cell_type": "code",
   "execution_count": 9,
   "metadata": {},
   "outputs": [
    {
     "name": "stdout",
     "output_type": "stream",
     "text": [
      "0.8359511952887856\n",
      "0.7576999339061468\n"
     ]
    }
   ],
   "source": [
    "# valid score를 확인해봄.\n",
    "# 모델 환경상 test score보다 떨어질 수도. (토론 필요)\n",
    "# 실제 제출한 test score은 auc는 0.7864, acc는 0.7124\n",
    "from sklearn.metrics import accuracy_score, roc_auc_score\n",
    "\n",
    "_valid_pred = cat_model.predict_proba(_valid[FEATURE])[:,1]\n",
    "print(roc_auc_score(_valid_value, _valid_pred)) # auc\n",
    "print(accuracy_score(_valid_value, np.where(_valid_pred >= 0.5, 1, 0))) # acc, 정확도"
   ]
  },
  {
   "cell_type": "code",
   "execution_count": 10,
   "metadata": {},
   "outputs": [
    {
     "data": {
      "text/plain": [
       "Text(0.5, 1.0, 'Feature Importance')"
      ]
     },
     "execution_count": 10,
     "metadata": {},
     "output_type": "execute_result"
    },
    {
     "data": {
      "image/png": "[encoded data removed]",
      "text/plain": [
       "<Figure size 1200x600 with 1 Axes>"
      ]
     },
     "metadata": {},
     "output_type": "display_data"
    }
   ],
   "source": [
    "import matplotlib.pyplot as plt\n",
    "\n",
    "feature_importance = cat_model.feature_importances_\n",
    "sorted_idx = np.argsort(feature_importance)\n",
    "fig = plt.figure(figsize=(12, 6))\n",
    "plt.barh(range(len(sorted_idx)), feature_importance[sorted_idx], align=\"center\")\n",
    "plt.yticks(range(len(sorted_idx)), np.array(_valid.columns)[sorted_idx])\n",
    "plt.title(\"Feature Importance\")"
   ]
  },
  {
   "cell_type": "code",
   "execution_count": 11,
   "metadata": {},
   "outputs": [],
   "source": [
    "# submission 제출하기 위한 코드\n",
    "\n",
    "_test_pred = cat_model.predict_proba(_test[FEATURE])[:,1]\n",
    "_test['prediction'] = _test_pred\n",
    "submission = _test['prediction'].reset_index(drop = True).reset_index()\n",
    "submission.rename(columns = {'index':'id'}, inplace = True)\n",
    "submission.to_csv('./output/cat_submission.csv', index = False)"
   ]
  }
 ],
 "metadata": {
  "kernelspec": {
   "display_name": "Python 3.8.5 ('base')",
   "language": "python",
   "name": "python3"
  },
  "language_info": {
   "codemirror_mode": {
    "name": "ipython",
    "version": 3
   },
   "file_extension": ".py",
   "mimetype": "text/x-python",
   "name": "python",
   "nbconvert_exporter": "python",
   "pygments_lexer": "ipython3",
   "version": "3.8.5"
  },
  "orig_nbformat": 4,
  "vscode": {
   "interpreter": {
    "hash": "d4d1e4263499bec80672ea0156c357c1ee493ec2b1c70f0acce89fc37c4a6abe"
   }
  }
 },
 "nbformat": 4,
 "nbformat_minor": 2
}
