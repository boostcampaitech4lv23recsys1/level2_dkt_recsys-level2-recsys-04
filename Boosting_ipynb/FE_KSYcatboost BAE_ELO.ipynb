{
 "cells": [
  {
   "cell_type": "code",
   "execution_count": 1,
   "metadata": {},
   "outputs": [],
   "source": [
    "import numpy as np\n",
    "import pandas as pd\n",
    "\n",
    "import os\n",
    "import random\n",
    "\n",
    "import warnings\n",
    "\n",
    "warnings.filterwarnings(action='ignore')\n",
    "\n",
    "path = '/opt/ml/input/data/'\n",
    "dat = pd.read_csv(path + 'FE/FE_total_2_elo.csv')\n"
   ]
  },
  {
   "cell_type": "code",
   "execution_count": 2,
   "metadata": {},
   "outputs": [],
   "source": [
    "dat.drop(['day','year','KnowledgeTag', 'last_answerCode7','last_answerCode8','last_answerCode9','last_answerCode10'], axis = 1, inplace = True)"
   ]
  },
  {
   "cell_type": "code",
   "execution_count": 3,
   "metadata": {},
   "outputs": [],
   "source": [
    "_train = dat[dat['answerCode'] >= 0]\n",
    "_test = dat[dat['answerCode'] < 0]"
   ]
  },
  {
   "cell_type": "code",
   "execution_count": 4,
   "metadata": {},
   "outputs": [],
   "source": [
    "# valid 제작하는 함수 새로 개편.\n",
    "# 예전 valid 제작 함수는 1분 걸렸는데 0.6초만에 끗~\n",
    "_train['train_valid'] = 0\n",
    "_train.loc[_train.drop_duplicates(subset='userID', keep = 'last').index, 'train_valid'] = -1\n",
    "_valid = _train[_train['train_valid'] == -1]\n",
    "_train = _train[_train['train_valid'] == 0]"
   ]
  },
  {
   "cell_type": "code",
   "execution_count": 5,
   "metadata": {},
   "outputs": [],
   "source": [
    "# 모델에 적용하기 전 기본적인 데이터 전처리 부분\n",
    "## 라벨링, 필요없는 칼럼 제거\n",
    "_train_value = _train['answerCode']\n",
    "_train.drop(['Timestamp', 'testId', 'train_valid', 'answerCode'], axis = 1, inplace = True) # ,'category_st_qcut_5'\n",
    "\n",
    "_valid_value = _valid['answerCode']\n",
    "_valid.drop(['Timestamp', 'testId', 'train_valid', 'answerCode'], axis = 1, inplace = True) # ,'category_st_qcut_5'\n",
    "\n",
    "_test.drop(['Timestamp', 'testId', 'answerCode'], axis = 1, inplace = True) # ,'category_st_qcut_5'"
   ]
  },
  {
   "cell_type": "code",
   "execution_count": 6,
   "metadata": {},
   "outputs": [],
   "source": [
    "# CatBoost에 적용하기 위해선 문자열 데이터로 변환 필요.\n",
    "# 만약 범주형이 아니고 연속형(정수, 소수) 성질을 살리고 싶은 변수는 여기 drop에 적어두면 됨.(solve_time 같이.)\n",
    "cat_columns = list(_train.drop(['solve_time','month','theta','beta'],axis=1).columns)\n",
    "\n",
    "for col in cat_columns:\n",
    "    _train[col] = _train[col].astype('str')\n",
    "    _valid[col] = _valid[col].astype('str')\n",
    "    _test[col] = _test[col].astype('str')"
   ]
  },
  {
   "cell_type": "code",
   "execution_count": 7,
   "metadata": {},
   "outputs": [
    {
     "name": "stderr",
     "output_type": "stream",
     "text": [
      "Default metric period is 5 because AUC is/are not implemented for GPU\n"
     ]
    },
    {
     "name": "stdout",
     "output_type": "stream",
     "text": [
      "0:\ttest: 0.8093583\tbest: 0.8093583 (0)\ttotal: 183ms\tremaining: 12m 12s\n",
      "200:\ttest: 0.8319922\tbest: 0.8319922 (200)\ttotal: 34.3s\tremaining: 10m 47s\n",
      "400:\ttest: 0.8393518\tbest: 0.8393518 (400)\ttotal: 1m 3s\tremaining: 9m 29s\n",
      "600:\ttest: 0.8412627\tbest: 0.8412634 (599)\ttotal: 1m 31s\tremaining: 8m 36s\n",
      "800:\ttest: 0.8423878\tbest: 0.8423878 (800)\ttotal: 2m\tremaining: 8m 1s\n",
      "1000:\ttest: 0.8437985\tbest: 0.8438002 (999)\ttotal: 2m 30s\tremaining: 7m 29s\n",
      "1200:\ttest: 0.8449175\tbest: 0.8449185 (1199)\ttotal: 2m 59s\tremaining: 6m 58s\n",
      "1400:\ttest: 0.8458806\tbest: 0.8458806 (1400)\ttotal: 3m 28s\tremaining: 6m 26s\n",
      "1600:\ttest: 0.8467773\tbest: 0.8467773 (1600)\ttotal: 3m 57s\tremaining: 5m 55s\n",
      "1800:\ttest: 0.8476172\tbest: 0.8476217 (1798)\ttotal: 4m 25s\tremaining: 5m 24s\n",
      "2000:\ttest: 0.8482606\tbest: 0.8482606 (2000)\ttotal: 4m 52s\tremaining: 4m 52s\n",
      "2200:\ttest: 0.8486926\tbest: 0.8486926 (2200)\ttotal: 5m 20s\tremaining: 4m 22s\n",
      "2400:\ttest: 0.8491105\tbest: 0.8491105 (2400)\ttotal: 5m 47s\tremaining: 3m 51s\n",
      "2600:\ttest: 0.8495058\tbest: 0.8495058 (2600)\ttotal: 6m 14s\tremaining: 3m 21s\n",
      "2800:\ttest: 0.8498729\tbest: 0.8498729 (2800)\ttotal: 6m 41s\tremaining: 2m 51s\n",
      "3000:\ttest: 0.8502330\tbest: 0.8502330 (3000)\ttotal: 7m 9s\tremaining: 2m 22s\n",
      "3200:\ttest: 0.8505658\tbest: 0.8505658 (3200)\ttotal: 7m 36s\tremaining: 1m 54s\n",
      "3400:\ttest: 0.8508316\tbest: 0.8508316 (3400)\ttotal: 8m 4s\tremaining: 1m 25s\n",
      "3600:\ttest: 0.8510236\tbest: 0.8510236 (3600)\ttotal: 8m 31s\tremaining: 56.7s\n",
      "3800:\ttest: 0.8512588\tbest: 0.8512588 (3800)\ttotal: 8m 59s\tremaining: 28.2s\n",
      "3999:\ttest: 0.8514997\tbest: 0.8515078 (3998)\ttotal: 9m 26s\tremaining: 0us\n",
      "bestTest = 0.8515078425\n",
      "bestIteration = 3998\n",
      "Shrink model to first 3999 iterations.\n"
     ]
    },
    {
     "data": {
      "text/plain": [
       "<catboost.core.CatBoostClassifier at 0x7f571d0faeb0>"
      ]
     },
     "execution_count": 7,
     "metadata": {},
     "output_type": "execute_result"
    }
   ],
   "source": [
    "#!pip install catboost\n",
    "# 가상환경에 패키지 설치 필요할듯\n",
    "from catboost import CatBoostClassifier\n",
    "\n",
    "# 하이퍼파라미터 수정할 여지가 많으니 추가나 수정하고 싶은 사람 수정해도 괜찮을듯.\n",
    "# 일단 지난번에 사용했던 파라미터들 주석으로 들고 옴. 참고하면서 공부하면 좋을듯.\n",
    "\n",
    "# params_cat = {\n",
    "#     \"task_type\" : \"GPU\",\n",
    "#     \"devices\" : '0',\n",
    "#     \"random_state\": SEED,\n",
    "#     'learning_rate': 0.04574578205475402, \n",
    "#     'bagging_temperature': 0.12172958098369972, \n",
    "#     'n_estimators': 2000, \n",
    "#     'max_depth': 8, \n",
    "#     'random_strength': 28, \n",
    "#     'l2_leaf_reg': 1.6285455533915874e-05, \n",
    "#     'min_child_samples': 18, \n",
    "#     'max_bin': 441, \n",
    "#     'od_type': 'Iter',\n",
    "#     \"cat_features\" : list(train_ratings.drop(['rating'],axis = 1).columns),\n",
    "# }\n",
    "\n",
    "# model = CatBoostRegressor(**params_cat)\n",
    "\n",
    "# 실제 적용한 모델은 learning_rate, iterations(=n_estimators, 아마도?)만 사용함.\n",
    "cat_model = CatBoostClassifier(learning_rate=0.01, random_state = 1998, iterations=4000, task_type=\"GPU\", eval_metric = 'AUC',max_depth = 8)\n",
    "cat_model.fit(_train, _train_value, early_stopping_rounds=100, cat_features=cat_columns ,verbose=200, eval_set=(_valid, _valid_value))\n"
   ]
  },
  {
   "cell_type": "code",
   "execution_count": 8,
   "metadata": {},
   "outputs": [
    {
     "name": "stdout",
     "output_type": "stream",
     "text": [
      "train score\n",
      "0.8881984519163173\n",
      "0.8260017613561013\n",
      "valid score\n",
      "0.8515076893410383\n",
      "0.7727761354474604\n"
     ]
    }
   ],
   "source": [
    "# valid score를 확인해봄.\n",
    "# train 대비 valid score가 떨어짐. 과적합이 일어남. 마찬가지로 규제하는 하이퍼파라미터 필요.\n",
    "from sklearn.metrics import accuracy_score, roc_auc_score\n",
    "\n",
    "print('train score')\n",
    "_train_pred = cat_model.predict_proba(_train)[:,1]\n",
    "print(roc_auc_score(_train_value, _train_pred)) # auc\n",
    "print(accuracy_score(_train_value, np.where(_train_pred >= 0.5, 1, 0))) # acc, 정확도\n",
    "\n",
    "print('valid score')\n",
    "_valid_pred = cat_model.predict_proba(_valid)[:,1]\n",
    "print(roc_auc_score(_valid_value, _valid_pred)) # auc\n",
    "print(accuracy_score(_valid_value, np.where(_valid_pred >= 0.5, 1, 0))) # acc, 정확도"
   ]
  },
  {
   "cell_type": "code",
   "execution_count": 9,
   "metadata": {},
   "outputs": [
    {
     "data": {
      "text/plain": [
       "Text(0.5, 1.0, 'Feature Importance')"
      ]
     },
     "execution_count": 9,
     "metadata": {},
     "output_type": "execute_result"
    },
    {
     "data": {
      "image/png": "[encoded data removed]",
      "text/plain": [
       "<Figure size 1200x600 with 1 Axes>"
      ]
     },
     "metadata": {},
     "output_type": "display_data"
    }
   ],
   "source": [
    "import matplotlib.pyplot as plt\n",
    "\n",
    "feature_importance = cat_model.feature_importances_\n",
    "sorted_idx = np.argsort(feature_importance)\n",
    "fig = plt.figure(figsize=(12, 6))\n",
    "plt.barh(range(len(sorted_idx)), feature_importance[sorted_idx], align=\"center\")\n",
    "plt.yticks(range(len(sorted_idx)), np.array(_valid.columns)[sorted_idx])\n",
    "plt.title(\"Feature Importance\")"
   ]
  },
  {
   "cell_type": "code",
   "execution_count": 10,
   "metadata": {},
   "outputs": [],
   "source": [
    "# submission 제출하기 위한 코드\n",
    "\n",
    "_test_pred = cat_model.predict_proba(_test)[:,1]\n",
    "_test['prediction'] = _test_pred\n",
    "submission = _test['prediction'].reset_index(drop = True).reset_index()\n",
    "submission.rename(columns = {'index':'id'}, inplace = True)\n",
    "submission.to_csv('../output/cat3.csv', index = False)"
   ]
  },
  {
   "cell_type": "code",
   "execution_count": 11,
   "metadata": {},
   "outputs": [
    {
     "data": {
      "text/html": [
       "<div>\n",
       "<style scoped>\n",
       "    .dataframe tbody tr th:only-of-type {\n",
       "        vertical-align: middle;\n",
       "    }\n",
       "\n",
       "    .dataframe tbody tr th {\n",
       "        vertical-align: top;\n",
       "    }\n",
       "\n",
       "    .dataframe thead th {\n",
       "        text-align: right;\n",
       "    }\n",
       "</style>\n",
       "<table border=\"1\" class=\"dataframe\">\n",
       "  <thead>\n",
       "    <tr style=\"text-align: right;\">\n",
       "      <th></th>\n",
       "      <th>id</th>\n",
       "      <th>prediction</th>\n",
       "    </tr>\n",
       "  </thead>\n",
       "  <tbody>\n",
       "    <tr>\n",
       "      <th>0</th>\n",
       "      <td>0</td>\n",
       "      <td>0.661214</td>\n",
       "    </tr>\n",
       "    <tr>\n",
       "      <th>1</th>\n",
       "      <td>1</td>\n",
       "      <td>0.700266</td>\n",
       "    </tr>\n",
       "    <tr>\n",
       "      <th>2</th>\n",
       "      <td>2</td>\n",
       "      <td>0.168152</td>\n",
       "    </tr>\n",
       "    <tr>\n",
       "      <th>3</th>\n",
       "      <td>3</td>\n",
       "      <td>0.768014</td>\n",
       "    </tr>\n",
       "    <tr>\n",
       "      <th>4</th>\n",
       "      <td>4</td>\n",
       "      <td>0.202107</td>\n",
       "    </tr>\n",
       "    <tr>\n",
       "      <th>...</th>\n",
       "      <td>...</td>\n",
       "      <td>...</td>\n",
       "    </tr>\n",
       "    <tr>\n",
       "      <th>739</th>\n",
       "      <td>739</td>\n",
       "      <td>0.011952</td>\n",
       "    </tr>\n",
       "    <tr>\n",
       "      <th>740</th>\n",
       "      <td>740</td>\n",
       "      <td>0.669585</td>\n",
       "    </tr>\n",
       "    <tr>\n",
       "      <th>741</th>\n",
       "      <td>741</td>\n",
       "      <td>0.828792</td>\n",
       "    </tr>\n",
       "    <tr>\n",
       "      <th>742</th>\n",
       "      <td>742</td>\n",
       "      <td>0.796919</td>\n",
       "    </tr>\n",
       "    <tr>\n",
       "      <th>743</th>\n",
       "      <td>743</td>\n",
       "      <td>0.461839</td>\n",
       "    </tr>\n",
       "  </tbody>\n",
       "</table>\n",
       "<p>744 rows × 2 columns</p>\n",
       "</div>"
      ],
      "text/plain": [
       "      id  prediction\n",
       "0      0    0.661214\n",
       "1      1    0.700266\n",
       "2      2    0.168152\n",
       "3      3    0.768014\n",
       "4      4    0.202107\n",
       "..   ...         ...\n",
       "739  739    0.011952\n",
       "740  740    0.669585\n",
       "741  741    0.828792\n",
       "742  742    0.796919\n",
       "743  743    0.461839\n",
       "\n",
       "[744 rows x 2 columns]"
      ]
     },
     "execution_count": 11,
     "metadata": {},
     "output_type": "execute_result"
    }
   ],
   "source": [
    "submission"
   ]
  }
 ],
 "metadata": {
  "kernelspec": {
   "display_name": "Python 3.8.5 ('base')",
   "language": "python",
   "name": "python3"
  },
  "language_info": {
   "codemirror_mode": {
    "name": "ipython",
    "version": 3
   },
   "file_extension": ".py",
   "mimetype": "text/x-python",
   "name": "python",
   "nbconvert_exporter": "python",
   "pygments_lexer": "ipython3",
   "version": "3.8.5"
  },
  "orig_nbformat": 4,
  "vscode": {
   "interpreter": {
    "hash": "d4d1e4263499bec80672ea0156c357c1ee493ec2b1c70f0acce89fc37c4a6abe"
   }
  }
 },
 "nbformat": 4,
 "nbformat_minor": 2
}
