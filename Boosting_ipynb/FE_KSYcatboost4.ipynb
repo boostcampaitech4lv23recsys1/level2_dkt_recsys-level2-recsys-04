{
 "cells": [
  {
   "cell_type": "code",
   "execution_count": 1,
   "metadata": {},
   "outputs": [],
   "source": [
    "import numpy as np\n",
    "import pandas as pd\n",
    "\n",
    "import os\n",
    "import random\n",
    "\n",
    "import warnings\n",
    "\n",
    "warnings.filterwarnings(action='ignore')\n",
    "\n",
    "path = '/opt/ml/input/data/'\n",
    "dat = pd.read_csv(path + 'FE_total_2_elo2.csv')\n"
   ]
  },
  {
   "cell_type": "code",
   "execution_count": 2,
   "metadata": {},
   "outputs": [],
   "source": [
    "dat.drop(['day','year','KnowledgeTag', 'last_answerCode7','last_answerCode8','last_answerCode9','last_answerCode10'], axis = 1, inplace = True)"
   ]
  },
  {
   "cell_type": "code",
   "execution_count": 3,
   "metadata": {},
   "outputs": [],
   "source": [
    "_train = dat[dat['answerCode'] >= 0]\n",
    "_test = dat[dat['answerCode'] < 0]"
   ]
  },
  {
   "cell_type": "code",
   "execution_count": 4,
   "metadata": {},
   "outputs": [],
   "source": [
    "# valid 제작하는 함수 새로 개편.\n",
    "# 예전 valid 제작 함수는 1분 걸렸는데 0.6초만에 끗~\n",
    "_train['train_valid'] = 0\n",
    "_train.loc[_train.drop_duplicates(subset='userID', keep = 'last').index, 'train_valid'] = -1\n",
    "_valid = _train[_train['train_valid'] == -1]\n",
    "_train = _train[_train['train_valid'] == 0]"
   ]
  },
  {
   "cell_type": "code",
   "execution_count": 5,
   "metadata": {},
   "outputs": [],
   "source": [
    "# 모델에 적용하기 전 기본적인 데이터 전처리 부분\n",
    "## 라벨링, 필요없는 칼럼 제거\n",
    "_train_value = _train['answerCode']\n",
    "_train.drop(['Timestamp', 'testId', 'train_valid', 'answerCode'], axis = 1, inplace = True) # ,'category_st_qcut_5'\n",
    "\n",
    "_valid_value = _valid['answerCode']\n",
    "_valid.drop(['Timestamp', 'testId', 'train_valid', 'answerCode'], axis = 1, inplace = True) # ,'category_st_qcut_5'\n",
    "\n",
    "_test.drop(['Timestamp', 'testId', 'answerCode'], axis = 1, inplace = True) # ,'category_st_qcut_5'"
   ]
  },
  {
   "cell_type": "code",
   "execution_count": 6,
   "metadata": {},
   "outputs": [],
   "source": [
    "# CatBoost에 적용하기 위해선 문자열 데이터로 변환 필요.\n",
    "# 만약 범주형이 아니고 연속형(정수, 소수) 성질을 살리고 싶은 변수는 여기 drop에 적어두면 됨.(solve_time 같이.)\n",
    "cat_columns = list(_train.drop(['solve_time','month', 'elouser', 'eloitem', 'elotag', 'elotest', 'elo',],axis=1).columns)\n",
    "\n",
    "for col in cat_columns:\n",
    "    _train[col] = _train[col].astype('str')\n",
    "    _valid[col] = _valid[col].astype('str')\n",
    "    _test[col] = _test[col].astype('str')"
   ]
  },
  {
   "cell_type": "code",
   "execution_count": 14,
   "metadata": {},
   "outputs": [],
   "source": [
    "#!pip install optuna\n",
    "#!pip install catboost\n",
    "import gc\n",
    "from sklearn.metrics import accuracy_score, roc_auc_score\n",
    "from optuna import Trial, visualization\n",
    "from optuna.samplers import TPESampler\n",
    "from catboost import CatBoostClassifier\n",
    "def objective(trial, FEATURE, train, valid, test, train_value, valid_value):\n",
    "    \n",
    "    param = {\n",
    "    \"task_type\" : \"GPU\",\n",
    "    \"eval_metric\" : 'AUC',\n",
    "    \"devices\" : '0',\n",
    "    'random_state' : 42,\n",
    "    'learning_rate': 0.08,#trial.suggest_loguniform('learning_rate', 0.01, 0.05),\n",
    "    'bagging_temperature': trial.suggest_loguniform('bagging_temperature', 0.01, 1),\n",
    "    'iterations': 1000, #trial.suggest_int(\"iterations\", 500, 2000),\n",
    "    'max_depth': 11,\n",
    "    'random_strength': trial.suggest_int(\"random_strength\", 5, 100),\n",
    "    'l2_leaf_reg': trial.suggest_float(\"l2_leaf_reg\",1e-8,3e-5),\n",
    "    #\"colsample_bylevel\":trial.suggest_float(\"colsample_bylevel\", 0.4, 1.0),\n",
    "    'min_child_samples': trial.suggest_int(\"min_child_samples\", 5, 100), \n",
    "    'max_bin': trial.suggest_int(\"max_bin\", 200, 500), \n",
    "    'od_type': 'Iter',\n",
    "    \"cat_features\" : FEATURE,\n",
    "    }\n",
    "    \n",
    "    model = CatBoostClassifier(**param)\n",
    "    model.fit(train, train_value, early_stopping_rounds=100, verbose=10, eval_set=(_valid, _valid_value))\n",
    "    \n",
    "    # print('train score')\n",
    "    # train_pred = model.predict_proba(train[FEATURE])[:,1]\n",
    "    # print(roc_auc_score(train_value, train_pred)) # auc\n",
    "    # print(accuracy_score(train_value, np.where(train_pred >= 0.5, 1, 0))) # acc, 정확도\n",
    "\n",
    "    # print('valid score')\n",
    "    valid_pred = model.predict_proba(valid)[:,1]\n",
    "    # print(roc_auc_score(valid_value, valid_pred)) # auc\n",
    "    # print(accuracy_score(valid_value, np.where(valid_pred >= 0.5, 1, 0))) # acc, 정확도\n",
    "\n",
    "    return roc_auc_score(valid_value, valid_pred)"
   ]
  },
  {
   "cell_type": "code",
   "execution_count": 15,
   "metadata": {},
   "outputs": [
    {
     "name": "stderr",
     "output_type": "stream",
     "text": [
      "\u001b[32m[I 2022-12-07 13:27:58,230]\u001b[0m A new study created in memory with name: cat_parameter_opt\u001b[0m\n",
      "Default metric period is 5 because AUC is/are not implemented for GPU\n"
     ]
    },
    {
     "name": "stdout",
     "output_type": "stream",
     "text": [
      "0:\ttest: 0.7792886\tbest: 0.7792886 (0)\ttotal: 291ms\tremaining: 4m 50s\n",
      "10:\ttest: 0.8141233\tbest: 0.8141233 (10)\ttotal: 2.88s\tremaining: 4m 18s\n",
      "20:\ttest: 0.8187763\tbest: 0.8201401 (17)\ttotal: 5.45s\tremaining: 4m 14s\n",
      "30:\ttest: 0.8194878\tbest: 0.8204203 (29)\ttotal: 7.91s\tremaining: 4m 7s\n",
      "40:\ttest: 0.8228864\tbest: 0.8228864 (40)\ttotal: 10.2s\tremaining: 3m 57s\n",
      "50:\ttest: 0.8244761\tbest: 0.8255163 (49)\ttotal: 12.7s\tremaining: 3m 56s\n",
      "60:\ttest: 0.8224547\tbest: 0.8255779 (55)\ttotal: 15.2s\tremaining: 3m 54s\n",
      "70:\ttest: 0.8230902\tbest: 0.8255779 (55)\ttotal: 17.6s\tremaining: 3m 50s\n",
      "80:\ttest: 0.8232271\tbest: 0.8255779 (55)\ttotal: 20s\tremaining: 3m 46s\n",
      "90:\ttest: 0.8247076\tbest: 0.8255779 (55)\ttotal: 22.3s\tremaining: 3m 42s\n",
      "100:\ttest: 0.8253904\tbest: 0.8255779 (55)\ttotal: 24.7s\tremaining: 3m 39s\n",
      "110:\ttest: 0.8260151\tbest: 0.8260151 (110)\ttotal: 27.1s\tremaining: 3m 37s\n",
      "120:\ttest: 0.8268387\tbest: 0.8268387 (120)\ttotal: 29.7s\tremaining: 3m 35s\n",
      "130:\ttest: 0.8271927\tbest: 0.8272963 (128)\ttotal: 32.1s\tremaining: 3m 33s\n",
      "140:\ttest: 0.8275126\tbest: 0.8275126 (140)\ttotal: 34.2s\tremaining: 3m 28s\n",
      "150:\ttest: 0.8280241\tbest: 0.8280241 (150)\ttotal: 36.1s\tremaining: 3m 22s\n",
      "160:\ttest: 0.8282704\tbest: 0.8282704 (160)\ttotal: 37.9s\tremaining: 3m 17s\n",
      "170:\ttest: 0.8285906\tbest: 0.8285967 (169)\ttotal: 40.3s\tremaining: 3m 15s\n",
      "180:\ttest: 0.8286760\tbest: 0.8287682 (178)\ttotal: 42.7s\tremaining: 3m 13s\n",
      "190:\ttest: 0.8290300\tbest: 0.8290300 (190)\ttotal: 45s\tremaining: 3m 10s\n",
      "200:\ttest: 0.8293572\tbest: 0.8293572 (200)\ttotal: 47.8s\tremaining: 3m 9s\n",
      "210:\ttest: 0.8288891\tbest: 0.8293572 (200)\ttotal: 50s\tremaining: 3m 7s\n",
      "220:\ttest: 0.8289024\tbest: 0.8293572 (200)\ttotal: 52.6s\tremaining: 3m 5s\n",
      "230:\ttest: 0.8286763\tbest: 0.8293572 (200)\ttotal: 55.1s\tremaining: 3m 3s\n",
      "240:\ttest: 0.8286632\tbest: 0.8293572 (200)\ttotal: 57.7s\tremaining: 3m 1s\n",
      "250:\ttest: 0.8286815\tbest: 0.8293572 (200)\ttotal: 1m\tremaining: 3m\n",
      "260:\ttest: 0.8290393\tbest: 0.8293572 (200)\ttotal: 1m 3s\tremaining: 2m 58s\n",
      "270:\ttest: 0.8292094\tbest: 0.8293572 (200)\ttotal: 1m 5s\tremaining: 2m 56s\n",
      "280:\ttest: 0.8294664\tbest: 0.8294664 (280)\ttotal: 1m 8s\tremaining: 2m 54s\n",
      "290:\ttest: 0.8298336\tbest: 0.8298336 (290)\ttotal: 1m 10s\tremaining: 2m 52s\n",
      "300:\ttest: 0.8290408\tbest: 0.8298336 (290)\ttotal: 1m 13s\tremaining: 2m 50s\n",
      "310:\ttest: 0.8292474\tbest: 0.8298336 (290)\ttotal: 1m 16s\tremaining: 2m 48s\n",
      "320:\ttest: 0.8294437\tbest: 0.8298336 (290)\ttotal: 1m 18s\tremaining: 2m 46s\n",
      "330:\ttest: 0.8296307\tbest: 0.8298336 (290)\ttotal: 1m 21s\tremaining: 2m 45s\n",
      "340:\ttest: 0.8293685\tbest: 0.8298336 (290)\ttotal: 1m 24s\tremaining: 2m 43s\n",
      "350:\ttest: 0.8294743\tbest: 0.8298336 (290)\ttotal: 1m 27s\tremaining: 2m 41s\n",
      "360:\ttest: 0.8294226\tbest: 0.8298336 (290)\ttotal: 1m 29s\tremaining: 2m 39s\n",
      "370:\ttest: 0.8289480\tbest: 0.8298336 (290)\ttotal: 1m 32s\tremaining: 2m 37s\n",
      "380:\ttest: 0.8282851\tbest: 0.8298336 (290)\ttotal: 1m 35s\tremaining: 2m 34s\n",
      "390:\ttest: 0.8277513\tbest: 0.8298336 (290)\ttotal: 1m 38s\tremaining: 2m 32s\n",
      "bestTest = 0.8298335671\n",
      "bestIteration = 290\n",
      "Shrink model to first 291 iterations.\n"
     ]
    },
    {
     "name": "stderr",
     "output_type": "stream",
     "text": [
      "\u001b[32m[I 2022-12-07 13:29:51,210]\u001b[0m Trial 0 finished with value: 0.8298335460779002 and parameters: {'bagging_temperature': 0.05611516415334506, 'random_strength': 96, 'l2_leaf_reg': 2.196249831492404e-05, 'min_child_samples': 62, 'max_bin': 246}. Best is trial 0 with value: 0.8298335460779002.\u001b[0m\n",
      "Default metric period is 5 because AUC is/are not implemented for GPU\n"
     ]
    },
    {
     "name": "stdout",
     "output_type": "stream",
     "text": [
      "0:\ttest: 0.8012200\tbest: 0.8012200 (0)\ttotal: 309ms\tremaining: 5m 9s\n",
      "10:\ttest: 0.8125849\tbest: 0.8125849 (10)\ttotal: 3.09s\tremaining: 4m 37s\n",
      "20:\ttest: 0.8207473\tbest: 0.8207473 (20)\ttotal: 5.85s\tremaining: 4m 32s\n",
      "30:\ttest: 0.8242774\tbest: 0.8242774 (30)\ttotal: 8.52s\tremaining: 4m 26s\n",
      "40:\ttest: 0.8272794\tbest: 0.8272794 (40)\ttotal: 11s\tremaining: 4m 17s\n",
      "50:\ttest: 0.8288803\tbest: 0.8288803 (50)\ttotal: 13.6s\tremaining: 4m 12s\n",
      "60:\ttest: 0.8299759\tbest: 0.8299759 (60)\ttotal: 16.2s\tremaining: 4m 9s\n",
      "70:\ttest: 0.8309241\tbest: 0.8309241 (70)\ttotal: 18.5s\tremaining: 4m 2s\n",
      "80:\ttest: 0.8323624\tbest: 0.8323624 (80)\ttotal: 21s\tremaining: 3m 58s\n"
     ]
    }
   ],
   "source": [
    "import optuna\n",
    "sampler = optuna.samplers.TPESampler(seed=42)\n",
    "study = optuna.create_study(\n",
    "    study_name = 'cat_parameter_opt',\n",
    "    direction = 'maximize',\n",
    "    sampler = sampler,\n",
    ")\n",
    "study.optimize(lambda trial : objective(trial, cat_columns, _train, _valid, _test, _train_value, _valid_value), n_trials=10)"
   ]
  },
  {
   "cell_type": "code",
   "execution_count": null,
   "metadata": {},
   "outputs": [],
   "source": [
    "arange(0, train.shape[0]-1)"
   ]
  },
  {
   "cell_type": "code",
   "execution_count": null,
   "metadata": {},
   "outputs": [],
   "source": [
    "_train.shape, _train_value.shape"
   ]
  },
  {
   "cell_type": "code",
   "execution_count": null,
   "metadata": {},
   "outputs": [],
   "source": [
    "import matplotlib.pyplot as plt\n",
    "\n",
    "feature_importance = cat_model.feature_importances_\n",
    "sorted_idx = np.argsort(feature_importance)\n",
    "fig = plt.figure(figsize=(12, 6))\n",
    "plt.barh(range(len(sorted_idx)), feature_importance[sorted_idx], align=\"center\")\n",
    "plt.yticks(range(len(sorted_idx)), np.array(_valid.columns)[sorted_idx])\n",
    "plt.title(\"Feature Importance\")"
   ]
  },
  {
   "cell_type": "code",
   "execution_count": null,
   "metadata": {},
   "outputs": [],
   "source": [
    "# submission 제출하기 위한 코드\n",
    "\n",
    "_test_pred = cat_model.predict_proba(_test)[:,1]\n",
    "_test['prediction'] = _test_pred\n",
    "submission = _test['prediction'].reset_index(drop = True).reset_index()\n",
    "submission.rename(columns = {'index':'id'}, inplace = True)\n",
    "submission.to_csv('../output/cat3.csv', index = False)"
   ]
  },
  {
   "cell_type": "code",
   "execution_count": null,
   "metadata": {},
   "outputs": [],
   "source": []
  }
 ],
 "metadata": {
  "kernelspec": {
   "display_name": "Python 3.8.5 ('base')",
   "language": "python",
   "name": "python3"
  },
  "language_info": {
   "codemirror_mode": {
    "name": "ipython",
    "version": 3
   },
   "file_extension": ".py",
   "mimetype": "text/x-python",
   "name": "python",
   "nbconvert_exporter": "python",
   "pygments_lexer": "ipython3",
   "version": "3.8.5"
  },
  "orig_nbformat": 4,
  "vscode": {
   "interpreter": {
    "hash": "d4d1e4263499bec80672ea0156c357c1ee493ec2b1c70f0acce89fc37c4a6abe"
   }
  }
 },
 "nbformat": 4,
 "nbformat_minor": 2
}
