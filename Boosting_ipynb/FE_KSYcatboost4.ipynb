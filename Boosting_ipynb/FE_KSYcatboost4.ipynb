{
 "cells": [
  {
   "cell_type": "code",
   "execution_count": 1,
   "metadata": {},
   "outputs": [],
   "source": [
    "import numpy as np\n",
    "import pandas as pd\n",
    "\n",
    "import os\n",
    "import random\n",
    "\n",
    "import warnings\n",
    "\n",
    "warnings.filterwarnings(action='ignore')\n",
    "\n",
    "path = '/opt/ml/input/data/FE/'\n",
    "dat = pd.read_csv(path + 'FE_total2.csv')\n"
   ]
  },
  {
   "cell_type": "code",
   "execution_count": 2,
   "metadata": {},
   "outputs": [],
   "source": [
    "dat.drop(['day','year','KnowledgeTag', 'last_answerCode7','last_answerCode8','last_answerCode9','last_answerCode10'], axis = 1, inplace = True)"
   ]
  },
  {
   "cell_type": "code",
   "execution_count": 3,
   "metadata": {},
   "outputs": [],
   "source": [
    "_train = dat[dat['answerCode'] >= 0]\n",
    "_test = dat[dat['answerCode'] < 0]"
   ]
  },
  {
   "cell_type": "code",
   "execution_count": 4,
   "metadata": {},
   "outputs": [],
   "source": [
    "# valid 제작하는 함수 새로 개편.\n",
    "# 예전 valid 제작 함수는 1분 걸렸는데 0.6초만에 끗~\n",
    "_train['train_valid'] = 0\n",
    "_train.loc[_train.drop_duplicates(subset='userID', keep = 'last').index, 'train_valid'] = -1\n",
    "_valid = _train[_train['train_valid'] == -1]\n",
    "_train = _train[_train['train_valid'] == 0]"
   ]
  },
  {
   "cell_type": "code",
   "execution_count": 5,
   "metadata": {},
   "outputs": [],
   "source": [
    "# 모델에 적용하기 전 기본적인 데이터 전처리 부분\n",
    "## 라벨링, 필요없는 칼럼 제거\n",
    "_train_value = _train['answerCode']\n",
    "_train.drop(['Timestamp', 'testId', 'train_valid', 'answerCode'], axis = 1, inplace = True) # ,'category_st_qcut_5'\n",
    "\n",
    "_valid_value = _valid['answerCode']\n",
    "_valid.drop(['Timestamp', 'testId', 'train_valid', 'answerCode'], axis = 1, inplace = True) # ,'category_st_qcut_5'\n",
    "\n",
    "_test.drop(['Timestamp', 'testId', 'answerCode'], axis = 1, inplace = True) # ,'category_st_qcut_5'"
   ]
  },
  {
   "cell_type": "code",
   "execution_count": 6,
   "metadata": {},
   "outputs": [],
   "source": [
    "# CatBoost에 적용하기 위해선 문자열 데이터로 변환 필요.\n",
    "# 만약 범주형이 아니고 연속형(정수, 소수) 성질을 살리고 싶은 변수는 여기 drop에 적어두면 됨.(solve_time 같이.)\n",
    "cat_columns = list(_train.drop(['solve_time','month'],axis=1).columns)\n",
    "\n",
    "for col in cat_columns:\n",
    "    _train[col] = _train[col].astype('str')\n",
    "    _valid[col] = _valid[col].astype('str')\n",
    "    _test[col] = _test[col].astype('str')"
   ]
  },
  {
   "cell_type": "code",
   "execution_count": 7,
   "metadata": {},
   "outputs": [],
   "source": [
    "#!pip install optuna\n",
    "#!pip install catboost\n",
    "import gc\n",
    "from sklearn.metrics import accuracy_score, roc_auc_score\n",
    "from optuna import Trial, visualization\n",
    "from optuna.samplers import TPESampler\n",
    "from catboost import CatBoostClassifier\n",
    "def objective(trial, FEATURE, train, valid, test, train_value, valid_value):\n",
    "    \n",
    "    param = {\n",
    "    \"task_type\" : \"GPU\",\n",
    "    \"eval_metric\" : 'AUC',\n",
    "    \"devices\" : '0',\n",
    "    'random_state' : 42,\n",
    "    'learning_rate': 0.08,#trial.suggest_loguniform('learning_rate', 0.01, 0.05),\n",
    "    'bagging_temperature': trial.suggest_loguniform('bagging_temperature', 0.01, 1),\n",
    "    'iterations': 1000, #trial.suggest_int(\"iterations\", 500, 2000),\n",
    "    'max_depth': trial.suggest_int(\"max_depth\", 4, 16),\n",
    "    'random_strength': trial.suggest_int(\"random_strength\", 5, 100),\n",
    "    'l2_leaf_reg': trial.suggest_float(\"l2_leaf_reg\",1e-8,3e-5),\n",
    "    #\"colsample_bylevel\":trial.suggest_float(\"colsample_bylevel\", 0.4, 1.0),\n",
    "    'min_child_samples': trial.suggest_int(\"min_child_samples\", 5, 100), \n",
    "    'max_bin': trial.suggest_int(\"max_bin\", 200, 500), \n",
    "    'od_type': 'Iter',\n",
    "    \"cat_features\" : list(train[FEATURE]),\n",
    "    }\n",
    "    \n",
    "    # param = {\n",
    "    # \"task_type\" : \"GPU\",\n",
    "    # \"eval_metric\" : 'AUC',\n",
    "    # \"devices\" : '0',\n",
    "    # \"random_state\": 1998,\n",
    "    # 'learning_rate': 0.01,\n",
    "    # 'bagging_temperature': 0.05,\n",
    "    # 'iterations': trial.suggest_int(\"iterations\", 4000, 10000),\n",
    "    # 'max_depth': 11,\n",
    "    # 'random_strength': 0,\n",
    "    # 'l2_leaf_reg': 2e-7,\n",
    "    # 'min_child_samples': 5, \n",
    "    # 'max_bin': 100, \n",
    "    # 'od_type': 'Iter',\n",
    "    # \"cat_features\" : list(_train),\n",
    "    # }\n",
    "    \n",
    "    model = CatBoostClassifier(**param)\n",
    "    model.fit(train[FEATURE], train_value, early_stopping_rounds=100, verbose=200, eval_set=(_valid, _valid_value))\n",
    "    \n",
    "    print('train score')\n",
    "    train_pred = model.predict_proba(train[FEATURE])[:,1]\n",
    "    print(roc_auc_score(train_value, train_pred)) # auc\n",
    "    print(accuracy_score(train_value, np.where(train_pred >= 0.5, 1, 0))) # acc, 정확도\n",
    "\n",
    "    print('valid score')\n",
    "    valid_pred = model.predict_proba(valid[FEATURE])[:,1]\n",
    "    print(roc_auc_score(valid_value, valid_pred)) # auc\n",
    "    print(accuracy_score(valid_value, np.where(valid_pred >= 0.5, 1, 0))) # acc, 정확도\n",
    "\n",
    "    gc.collect()\n",
    "\n",
    "    return roc_auc_score(valid_value, valid_pred)"
   ]
  },
  {
   "cell_type": "code",
   "execution_count": 8,
   "metadata": {},
   "outputs": [
    {
     "name": "stderr",
     "output_type": "stream",
     "text": [
      "\u001b[32m[I 2022-12-07 07:39:23,876]\u001b[0m A new study created in memory with name: cat_parameter_opt\u001b[0m\n",
      "Default metric period is 5 because AUC is/are not implemented for GPU\n"
     ]
    },
    {
     "name": "stdout",
     "output_type": "stream",
     "text": [
      "0:\ttest: 0.7589644\tbest: 0.7589644 (0)\ttotal: 153ms\tremaining: 2m 33s\n",
      "200:\ttest: 0.8380960\tbest: 0.8380960 (200)\ttotal: 6m 31s\tremaining: 25m 57s\n"
     ]
    }
   ],
   "source": [
    "import optuna\n",
    "sampler = optuna.samplers.TPESampler(seed=42)\n",
    "study = optuna.create_study(\n",
    "    study_name = 'cat_parameter_opt',\n",
    "    direction = 'maximize',\n",
    "    sampler = sampler,\n",
    ")\n",
    "study.optimize(lambda trial : objective(trial, list(_train.columns), _train, _valid, _test, _train_value, _valid_value), n_trials=10)"
   ]
  },
  {
   "cell_type": "code",
   "execution_count": null,
   "metadata": {},
   "outputs": [
    {
     "data": {
      "text/plain": [
       "{'max_depth': 11}"
      ]
     },
     "execution_count": 56,
     "metadata": {},
     "output_type": "execute_result"
    }
   ],
   "source": [
    "arange(0, train.shape[0]-1)"
   ]
  },
  {
   "cell_type": "code",
   "execution_count": null,
   "metadata": {},
   "outputs": [
    {
     "data": {
      "text/plain": [
       "((2518514, 15), (2518514,))"
      ]
     },
     "execution_count": 67,
     "metadata": {},
     "output_type": "execute_result"
    }
   ],
   "source": [
    "_train.shape, _train_value.shape"
   ]
  },
  {
   "cell_type": "code",
   "execution_count": null,
   "metadata": {},
   "outputs": [],
   "source": [
    "import matplotlib.pyplot as plt\n",
    "\n",
    "feature_importance = cat_model.feature_importances_\n",
    "sorted_idx = np.argsort(feature_importance)\n",
    "fig = plt.figure(figsize=(12, 6))\n",
    "plt.barh(range(len(sorted_idx)), feature_importance[sorted_idx], align=\"center\")\n",
    "plt.yticks(range(len(sorted_idx)), np.array(_valid.columns)[sorted_idx])\n",
    "plt.title(\"Feature Importance\")"
   ]
  },
  {
   "cell_type": "code",
   "execution_count": null,
   "metadata": {},
   "outputs": [],
   "source": [
    "# submission 제출하기 위한 코드\n",
    "\n",
    "_test_pred = cat_model.predict_proba(_test)[:,1]\n",
    "_test['prediction'] = _test_pred\n",
    "submission = _test['prediction'].reset_index(drop = True).reset_index()\n",
    "submission.rename(columns = {'index':'id'}, inplace = True)\n",
    "submission.to_csv('../output/cat3.csv', index = False)"
   ]
  },
  {
   "cell_type": "code",
   "execution_count": null,
   "metadata": {},
   "outputs": [],
   "source": []
  }
 ],
 "metadata": {
  "kernelspec": {
   "display_name": "Python 3.10.6 ('dkt')",
   "language": "python",
   "name": "python3"
  },
  "language_info": {
   "codemirror_mode": {
    "name": "ipython",
    "version": 3
   },
   "file_extension": ".py",
   "mimetype": "text/x-python",
   "name": "python",
   "nbconvert_exporter": "python",
   "pygments_lexer": "ipython3",
   "version": "3.10.6"
  },
  "orig_nbformat": 4,
  "vscode": {
   "interpreter": {
    "hash": "09d4b5de27b89318d6e35b29f9634657110a12e6b33fcea780feda7aad3e9c4b"
   }
  }
 },
 "nbformat": 4,
 "nbformat_minor": 2
}
