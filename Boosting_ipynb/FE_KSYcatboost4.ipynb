{
 "cells": [
  {
   "cell_type": "code",
   "execution_count": 1,
   "metadata": {},
   "outputs": [],
   "source": [
    "import numpy as np\n",
    "import pandas as pd\n",
    "\n",
    "import os\n",
    "import random\n",
    "\n",
    "import warnings\n",
    "\n",
    "warnings.filterwarnings(action='ignore')\n",
    "\n",
    "path = '/opt/ml/input/data/FE/'\n",
    "dat = pd.read_csv(path + 'FE_total2.csv')\n"
   ]
  },
  {
   "cell_type": "code",
   "execution_count": 2,
   "metadata": {},
   "outputs": [],
   "source": [
    "dat.drop(['day','year','KnowledgeTag', 'last_answerCode7','last_answerCode8','last_answerCode9','last_answerCode10'], axis = 1, inplace = True)"
   ]
  },
  {
   "cell_type": "code",
   "execution_count": 3,
   "metadata": {},
   "outputs": [],
   "source": [
    "_train = dat[dat['answerCode'] >= 0]\n",
    "_test = dat[dat['answerCode'] < 0]"
   ]
  },
  {
   "cell_type": "code",
   "execution_count": 4,
   "metadata": {},
   "outputs": [],
   "source": [
    "# valid 제작하는 함수 새로 개편.\n",
    "# 예전 valid 제작 함수는 1분 걸렸는데 0.6초만에 끗~\n",
    "_train['train_valid'] = 0\n",
    "_train.loc[_train.drop_duplicates(subset='userID', keep = 'last').index, 'train_valid'] = -1\n",
    "_valid = _train[_train['train_valid'] == -1]\n",
    "_train = _train[_train['train_valid'] == 0]"
   ]
  },
  {
   "cell_type": "code",
   "execution_count": 5,
   "metadata": {},
   "outputs": [],
   "source": [
    "# 모델에 적용하기 전 기본적인 데이터 전처리 부분\n",
    "## 라벨링, 필요없는 칼럼 제거\n",
    "_train_value = _train['answerCode']\n",
    "_train.drop(['Timestamp', 'testId', 'train_valid', 'answerCode'], axis = 1, inplace = True) # ,'category_st_qcut_5'\n",
    "\n",
    "_valid_value = _valid['answerCode']\n",
    "_valid.drop(['Timestamp', 'testId', 'train_valid', 'answerCode'], axis = 1, inplace = True) # ,'category_st_qcut_5'\n",
    "\n",
    "_test.drop(['Timestamp', 'testId', 'answerCode'], axis = 1, inplace = True) # ,'category_st_qcut_5'"
   ]
  },
  {
   "cell_type": "code",
   "execution_count": 6,
   "metadata": {},
   "outputs": [],
   "source": [
    "# CatBoost에 적용하기 위해선 문자열 데이터로 변환 필요.\n",
    "# 만약 범주형이 아니고 연속형(정수, 소수) 성질을 살리고 싶은 변수는 여기 drop에 적어두면 됨.(solve_time 같이.)\n",
    "cat_columns = list(_train.drop(['solve_time','month'],axis=1).columns)\n",
    "\n",
    "for col in cat_columns:\n",
    "    _train[col] = _train[col].astype('str')\n",
    "    _valid[col] = _valid[col].astype('str')\n",
    "    _test[col] = _test[col].astype('str')"
   ]
  },
  {
   "cell_type": "code",
   "execution_count": 9,
   "metadata": {},
   "outputs": [],
   "source": [
    "#!pip install optuna\n",
    "#!pip install catboost\n",
    "import gc\n",
    "from sklearn.metrics import accuracy_score, roc_auc_score\n",
    "from optuna import Trial, visualization\n",
    "from optuna.samplers import TPESampler\n",
    "from catboost import CatBoostClassifier\n",
    "def objective(trial, FEATURE, train, valid, test, train_value, valid_value):\n",
    "    \n",
    "    param = {\n",
    "    \"task_type\" : \"GPU\",\n",
    "    #\"eval_metric\" : 'AUC',\n",
    "    \"devices\" : '0',\n",
    "    'random_state' : 42,\n",
    "    'learning_rate': 0.08,#trial.suggest_loguniform('learning_rate', 0.01, 0.05),\n",
    "    'bagging_temperature': trial.suggest_loguniform('bagging_temperature', 0.01, 0.1),\n",
    "    'iterations': 1000, #trial.suggest_int(\"iterations\", 500, 2000),\n",
    "    'max_depth': trial.suggest_int(\"max_depth\", 6, 14),\n",
    "    'random_strength': trial.suggest_int(\"random_strength\", 15, 45),\n",
    "    'l2_leaf_reg': trial.suggest_float(\"l2_leaf_reg\",1e-8,3e-5),\n",
    "    #\"colsample_bylevel\":trial.suggest_float(\"colsample_bylevel\", 0.4, 1.0),\n",
    "    'min_child_samples': trial.suggest_int(\"min_child_samples\", 25, 50), \n",
    "    'max_bin': trial.suggest_int(\"max_bin\", 300, 400), \n",
    "    'od_type': 'Iter',\n",
    "    \"cat_features\" : FEATURE,\n",
    "    }\n",
    "    \n",
    "    # param = {\n",
    "    # \"task_type\" : \"GPU\",\n",
    "    # \"eval_metric\" : 'AUC',\n",
    "    # \"devices\" : '0',\n",
    "    # \"random_state\": 1998,\n",
    "    # 'learning_rate': 0.01,\n",
    "    # 'bagging_temperature': 0.05,\n",
    "    # 'iterations': trial.suggest_int(\"iterations\", 4000, 10000),\n",
    "    # 'max_depth': 11,\n",
    "    # 'random_strength': 0,\n",
    "    # 'l2_leaf_reg': 2e-7,\n",
    "    # 'min_child_samples': 5, \n",
    "    # 'max_bin': 100, \n",
    "    # 'od_type': 'Iter',\n",
    "    # \"cat_features\" : list(_train),\n",
    "    # }\n",
    "    \n",
    "    model = CatBoostClassifier(**param)\n",
    "    model.fit(train[FEATURE], train_value, early_stopping_rounds=100, verbose=200)#, eval_set=(_valid, _valid_value))\n",
    "    \n",
    "    print('train score')\n",
    "    train_pred = model.predict_proba(train[FEATURE])[:,1]\n",
    "    print(roc_auc_score(train_value, train_pred)) # auc\n",
    "    print(accuracy_score(train_value, np.where(train_pred >= 0.5, 1, 0))) # acc, 정확도\n",
    "\n",
    "    print('valid score')\n",
    "    valid_pred = model.predict_proba(valid[FEATURE])[:,1]\n",
    "    print(roc_auc_score(valid_value, valid_pred)) # auc\n",
    "    print(accuracy_score(valid_value, np.where(valid_pred >= 0.5, 1, 0))) # acc, 정확도\n",
    "\n",
    "    gc.collect()\n",
    "\n",
    "    return roc_auc_score(valid_value, valid_pred)"
   ]
  },
  {
   "cell_type": "code",
   "execution_count": 10,
   "metadata": {},
   "outputs": [
    {
     "name": "stderr",
     "output_type": "stream",
     "text": [
      "\u001b[32m[I 2022-12-07 09:45:14,803]\u001b[0m A new study created in memory with name: cat_parameter_opt\u001b[0m\n"
     ]
    },
    {
     "name": "stdout",
     "output_type": "stream",
     "text": [
      "0:\tlearn: 0.6618144\ttotal: 134ms\tremaining: 2m 14s\n",
      "200:\tlearn: 0.3996680\ttotal: 2m 4s\tremaining: 8m 15s\n",
      "400:\tlearn: 0.3255973\ttotal: 4m 32s\tremaining: 6m 47s\n",
      "600:\tlearn: 0.2923723\ttotal: 6m 57s\tremaining: 4m 37s\n",
      "800:\tlearn: 0.2601594\ttotal: 9m 23s\tremaining: 2m 19s\n",
      "999:\tlearn: 0.2337201\ttotal: 11m 46s\tremaining: 0us\n",
      "train score\n",
      "0.9312725252398116\n",
      "0.8609505446465654\n",
      "valid score\n",
      "0.8264171292514854\n",
      "0.7518140284869659\n"
     ]
    },
    {
     "name": "stderr",
     "output_type": "stream",
     "text": [
      "\u001b[32m[I 2022-12-07 09:57:34,644]\u001b[0m Trial 0 finished with value: 0.8264171292514854 and parameters: {'bagging_temperature': 0.023688639503640783, 'max_depth': 14, 'random_strength': 37, 'l2_leaf_reg': 1.7963767941069128e-05, 'min_child_samples': 29, 'max_bin': 315}. Best is trial 0 with value: 0.8264171292514854.\u001b[0m\n"
     ]
    },
    {
     "name": "stdout",
     "output_type": "stream",
     "text": [
      "0:\tlearn: 0.6618140\ttotal: 127ms\tremaining: 2m 7s\n",
      "200:\tlearn: 0.4148459\ttotal: 1m 22s\tremaining: 5m 26s\n",
      "400:\tlearn: 0.3599281\ttotal: 2m 51s\tremaining: 4m 16s\n",
      "600:\tlearn: 0.3299993\ttotal: 4m 19s\tremaining: 2m 52s\n",
      "800:\tlearn: 0.2826955\ttotal: 5m 50s\tremaining: 1m 26s\n",
      "999:\tlearn: 0.2576966\ttotal: 7m 17s\tremaining: 0us\n",
      "train score\n",
      "0.9313682882720977\n",
      "0.8629660188507985\n",
      "valid score\n",
      "0.8287369015009641\n",
      "0.7532921257726417\n"
     ]
    },
    {
     "name": "stderr",
     "output_type": "stream",
     "text": [
      "\u001b[32m[I 2022-12-07 10:05:23,321]\u001b[0m Trial 1 finished with value: 0.8287369015009641 and parameters: {'bagging_temperature': 0.011430983876313222, 'max_depth': 13, 'random_strength': 33, 'l2_leaf_reg': 2.1245096608103405e-05, 'min_child_samples': 25, 'max_bin': 397}. Best is trial 1 with value: 0.8287369015009641.\u001b[0m\n"
     ]
    },
    {
     "name": "stdout",
     "output_type": "stream",
     "text": [
      "0:\tlearn: 0.6605616\ttotal: 140ms\tremaining: 2m 19s\n",
      "200:\tlearn: 0.4326823\ttotal: 22.5s\tremaining: 1m 29s\n",
      "400:\tlearn: 0.3982668\ttotal: 44.6s\tremaining: 1m 6s\n",
      "600:\tlearn: 0.3842024\ttotal: 1m 6s\tremaining: 43.9s\n",
      "800:\tlearn: 0.3745702\ttotal: 1m 27s\tremaining: 21.7s\n",
      "999:\tlearn: 0.3703485\ttotal: 1m 48s\tremaining: 0us\n",
      "train score\n",
      "0.9000555073036143\n",
      "0.8346810857513597\n",
      "valid score\n",
      "0.8345922737909464\n",
      "0.7578607901101855\n"
     ]
    },
    {
     "name": "stderr",
     "output_type": "stream",
     "text": [
      "\u001b[32m[I 2022-12-07 10:07:38,298]\u001b[0m Trial 2 finished with value: 0.8345922737909464 and parameters: {'bagging_temperature': 0.06798962421591129, 'max_depth': 7, 'random_strength': 20, 'l2_leaf_reg': 5.51030125050448e-06, 'min_child_samples': 32, 'max_bin': 353}. Best is trial 2 with value: 0.8345922737909464.\u001b[0m\n"
     ]
    },
    {
     "name": "stdout",
     "output_type": "stream",
     "text": [
      "0:\tlearn: 0.6618144\ttotal: 121ms\tremaining: 2m\n",
      "200:\tlearn: 0.4261019\ttotal: 24.9s\tremaining: 1m 39s\n",
      "400:\tlearn: 0.3992352\ttotal: 49.8s\tremaining: 1m 14s\n",
      "600:\tlearn: 0.3772279\ttotal: 1m 14s\tremaining: 49.7s\n",
      "800:\tlearn: 0.3675623\ttotal: 1m 38s\tremaining: 24.6s\n",
      "999:\tlearn: 0.3620197\ttotal: 2m 1s\tremaining: 0us\n",
      "train score\n",
      "0.9052115723161274\n",
      "0.8386608134796948\n",
      "valid score\n",
      "0.8372014393631728\n",
      "0.7585326525127654\n"
     ]
    },
    {
     "name": "stderr",
     "output_type": "stream",
     "text": [
      "\u001b[32m[I 2022-12-07 10:10:07,738]\u001b[0m Trial 3 finished with value: 0.8372014393631728 and parameters: {'bagging_temperature': 0.027036160666620016, 'max_depth': 8, 'random_strength': 33, 'l2_leaf_reg': 4.193420880954735e-06, 'min_child_samples': 32, 'max_bin': 337}. Best is trial 3 with value: 0.8372014393631728.\u001b[0m\n"
     ]
    },
    {
     "name": "stdout",
     "output_type": "stream",
     "text": [
      "0:\tlearn: 0.6603567\ttotal: 157ms\tremaining: 2m 36s\n",
      "200:\tlearn: 0.4015219\ttotal: 1m 21s\tremaining: 5m 25s\n",
      "400:\tlearn: 0.3526648\ttotal: 2m 50s\tremaining: 4m 15s\n",
      "600:\tlearn: 0.3166331\ttotal: 4m 19s\tremaining: 2m 52s\n",
      "800:\tlearn: 0.2968505\ttotal: 5m 46s\tremaining: 1m 25s\n",
      "999:\tlearn: 0.2820860\ttotal: 7m 10s\tremaining: 0us\n",
      "train score\n",
      "0.9152833149564579\n",
      "0.8487616110134786\n",
      "valid score\n",
      "0.8295523199493259\n",
      "0.7531577532921258\n"
     ]
    },
    {
     "name": "stderr",
     "output_type": "stream",
     "text": [
      "\u001b[32m[I 2022-12-07 10:17:49,041]\u001b[0m Trial 4 finished with value: 0.8295523199493259 and parameters: {'bagging_temperature': 0.028580510658069373, 'max_depth': 13, 'random_strength': 21, 'l2_leaf_reg': 1.5431890808024213e-05, 'min_child_samples': 40, 'max_bin': 304}. Best is trial 3 with value: 0.8372014393631728.\u001b[0m\n"
     ]
    },
    {
     "name": "stdout",
     "output_type": "stream",
     "text": [
      "0:\tlearn: 0.6605617\ttotal: 143ms\tremaining: 2m 23s\n",
      "200:\tlearn: 0.4328373\ttotal: 22.4s\tremaining: 1m 28s\n",
      "400:\tlearn: 0.4116168\ttotal: 43.6s\tremaining: 1m 5s\n",
      "600:\tlearn: 0.4033543\ttotal: 1m 4s\tremaining: 43s\n",
      "800:\tlearn: 0.3973340\ttotal: 1m 25s\tremaining: 21.2s\n",
      "999:\tlearn: 0.3867357\ttotal: 1m 46s\tremaining: 0us\n",
      "train score\n",
      "0.8902313728445395\n",
      "0.8265028504904083\n",
      "valid score\n",
      "0.8382279761671155\n",
      "0.7600107497984413\n"
     ]
    },
    {
     "name": "stderr",
     "output_type": "stream",
     "text": [
      "\u001b[32m[I 2022-12-07 10:20:01,695]\u001b[0m Trial 5 finished with value: 0.8382279761671155 and parameters: {'bagging_temperature': 0.04050837781329675, 'max_depth': 7, 'random_strength': 17, 'l2_leaf_reg': 2.8467077262227466e-05, 'min_child_samples': 50, 'max_bin': 381}. Best is trial 5 with value: 0.8382279761671155.\u001b[0m\n"
     ]
    },
    {
     "name": "stdout",
     "output_type": "stream",
     "text": [
      "0:\tlearn: 0.6625757\ttotal: 107ms\tremaining: 1m 46s\n",
      "200:\tlearn: 0.4394653\ttotal: 19.6s\tremaining: 1m 18s\n",
      "400:\tlearn: 0.4170544\ttotal: 39s\tremaining: 58.2s\n",
      "600:\tlearn: 0.4077703\ttotal: 58s\tremaining: 38.5s\n",
      "800:\tlearn: 0.3995691\ttotal: 1m 16s\tremaining: 19.1s\n",
      "999:\tlearn: 0.3944323\ttotal: 1m 35s\tremaining: 0us\n",
      "train score\n",
      "0.8857732179359021\n",
      "0.8235606393293823\n",
      "valid score\n",
      "0.837309925721176\n",
      "0.7597420048374093\n"
     ]
    },
    {
     "name": "stderr",
     "output_type": "stream",
     "text": [
      "\u001b[32m[I 2022-12-07 10:22:02,639]\u001b[0m Trial 6 finished with value: 0.837309925721176 and parameters: {'bagging_temperature': 0.020165721691808594, 'max_depth': 6, 'random_strength': 36, 'l2_leaf_reg': 1.3210173287250643e-05, 'min_child_samples': 28, 'max_bin': 350}. Best is trial 5 with value: 0.8382279761671155.\u001b[0m\n"
     ]
    },
    {
     "name": "stdout",
     "output_type": "stream",
     "text": [
      "0:\tlearn: 0.6603559\ttotal: 161ms\tremaining: 2m 40s\n",
      "200:\tlearn: 0.3935305\ttotal: 2m 9s\tremaining: 8m 34s\n",
      "400:\tlearn: 0.3417391\ttotal: 4m 36s\tremaining: 6m 52s\n",
      "600:\tlearn: 0.2973793\ttotal: 7m 2s\tremaining: 4m 40s\n",
      "800:\tlearn: 0.2714034\ttotal: 9m 27s\tremaining: 2m 20s\n",
      "999:\tlearn: 0.2465354\ttotal: 11m 50s\tremaining: 0us\n",
      "train score\n",
      "0.9238148881173494\n",
      "0.8527290298962007\n",
      "valid score\n",
      "0.8306490368023166\n",
      "0.7532921257726417\n"
     ]
    },
    {
     "name": "stderr",
     "output_type": "stream",
     "text": [
      "\u001b[32m[I 2022-12-07 10:34:24,859]\u001b[0m Trial 7 finished with value: 0.8306490368023166 and parameters: {'bagging_temperature': 0.01082401838150096, 'max_depth': 14, 'random_strength': 23, 'l2_leaf_reg': 1.987904330777592e-05, 'min_child_samples': 33, 'max_bin': 352}. Best is trial 5 with value: 0.8382279761671155.\u001b[0m\n"
     ]
    },
    {
     "name": "stdout",
     "output_type": "stream",
     "text": [
      "0:\tlearn: 0.6643572\ttotal: 119ms\tremaining: 1m 58s\n",
      "200:\tlearn: 0.4277858\ttotal: 21.9s\tremaining: 1m 27s\n",
      "400:\tlearn: 0.4096172\ttotal: 43.2s\tremaining: 1m 4s\n",
      "600:\tlearn: 0.3965323\ttotal: 1m 4s\tremaining: 42.6s\n",
      "800:\tlearn: 0.3861927\ttotal: 1m 25s\tremaining: 21.3s\n",
      "999:\tlearn: 0.3756383\ttotal: 1m 47s\tremaining: 0us\n",
      "train score\n",
      "0.8965291925486699\n",
      "0.8317098892442131\n",
      "valid score\n",
      "0.8349853832520915\n",
      "0.7565170653050255\n"
     ]
    },
    {
     "name": "stderr",
     "output_type": "stream",
     "text": [
      "\u001b[32m[I 2022-12-07 10:36:38,853]\u001b[0m Trial 8 finished with value: 0.8349853832520915 and parameters: {'bagging_temperature': 0.03521358805467869, 'max_depth': 7, 'random_strength': 45, 'l2_leaf_reg': 2.3256233372599825e-05, 'min_child_samples': 49, 'max_bin': 390}. Best is trial 5 with value: 0.8382279761671155.\u001b[0m\n"
     ]
    },
    {
     "name": "stdout",
     "output_type": "stream",
     "text": [
      "0:\tlearn: 0.6578020\ttotal: 789ms\tremaining: 13m 8s\n",
      "200:\tlearn: 0.3964410\ttotal: 2m 13s\tremaining: 8m 49s\n",
      "400:\tlearn: 0.3512914\ttotal: 4m 40s\tremaining: 6m 58s\n",
      "600:\tlearn: 0.3104356\ttotal: 7m 6s\tremaining: 4m 42s\n",
      "800:\tlearn: 0.2633483\ttotal: 9m 32s\tremaining: 2m 22s\n",
      "999:\tlearn: 0.2313255\ttotal: 11m 56s\tremaining: 0us\n",
      "train score\n",
      "0.9322809763002577\n",
      "0.8635119757126624\n",
      "valid score\n",
      "0.8279642704769447\n",
      "0.7520827734479979\n"
     ]
    },
    {
     "name": "stderr",
     "output_type": "stream",
     "text": [
      "\u001b[32m[I 2022-12-07 10:49:07,830]\u001b[0m Trial 9 finished with value: 0.8279642704769447 and parameters: {'bagging_temperature': 0.03961867790406585, 'max_depth': 14, 'random_strength': 17, 'l2_leaf_reg': 5.887526043950164e-06, 'min_child_samples': 26, 'max_bin': 332}. Best is trial 5 with value: 0.8382279761671155.\u001b[0m\n"
     ]
    }
   ],
   "source": [
    "import optuna\n",
    "sampler = optuna.samplers.TPESampler(seed=42)\n",
    "study = optuna.create_study(\n",
    "    study_name = 'cat_parameter_opt',\n",
    "    direction = 'maximize',\n",
    "    sampler = sampler,\n",
    ")\n",
    "study.optimize(lambda trial : objective(trial, cat_columns, _train, _valid, _test, _train_value, _valid_value), n_trials=10)"
   ]
  },
  {
   "cell_type": "code",
   "execution_count": null,
   "metadata": {},
   "outputs": [
    {
     "data": {
      "text/plain": [
       "((2518514, 15), (2518514,))"
      ]
     },
     "execution_count": 67,
     "metadata": {},
     "output_type": "execute_result"
    }
   ],
   "source": [
    "_train.shape, _train_value.shape"
   ]
  },
  {
   "cell_type": "code",
   "execution_count": null,
   "metadata": {},
   "outputs": [],
   "source": [
    "import matplotlib.pyplot as plt\n",
    "\n",
    "feature_importance = cat_model.feature_importances_\n",
    "sorted_idx = np.argsort(feature_importance)\n",
    "fig = plt.figure(figsize=(12, 6))\n",
    "plt.barh(range(len(sorted_idx)), feature_importance[sorted_idx], align=\"center\")\n",
    "plt.yticks(range(len(sorted_idx)), np.array(_valid.columns)[sorted_idx])\n",
    "plt.title(\"Feature Importance\")"
   ]
  },
  {
   "cell_type": "code",
   "execution_count": null,
   "metadata": {},
   "outputs": [],
   "source": [
    "# submission 제출하기 위한 코드\n",
    "\n",
    "_test_pred = cat_model.predict_proba(_test)[:,1]\n",
    "_test['prediction'] = _test_pred\n",
    "submission = _test['prediction'].reset_index(drop = True).reset_index()\n",
    "submission.rename(columns = {'index':'id'}, inplace = True)\n",
    "submission.to_csv('../output/cat3.csv', index = False)"
   ]
  },
  {
   "cell_type": "code",
   "execution_count": null,
   "metadata": {},
   "outputs": [],
   "source": []
  }
 ],
 "metadata": {
  "kernelspec": {
   "display_name": "Python 3.10.6 ('dkt')",
   "language": "python",
   "name": "python3"
  },
  "language_info": {
   "codemirror_mode": {
    "name": "ipython",
    "version": 3
   },
   "file_extension": ".py",
   "mimetype": "text/x-python",
   "name": "python",
   "nbconvert_exporter": "python",
   "pygments_lexer": "ipython3",
   "version": "3.10.6"
  },
  "orig_nbformat": 4,
  "vscode": {
   "interpreter": {
    "hash": "09d4b5de27b89318d6e35b29f9634657110a12e6b33fcea780feda7aad3e9c4b"
   }
  }
 },
 "nbformat": 4,
 "nbformat_minor": 2
}
