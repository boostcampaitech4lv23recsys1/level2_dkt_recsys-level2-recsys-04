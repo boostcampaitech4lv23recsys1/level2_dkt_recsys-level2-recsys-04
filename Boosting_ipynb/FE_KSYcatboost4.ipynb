{
 "cells": [
  {
   "cell_type": "code",
   "execution_count": 1,
   "metadata": {},
   "outputs": [],
   "source": [
    "import numpy as np\n",
    "import pandas as pd\n",
    "\n",
    "import os\n",
    "import random\n",
    "\n",
    "import warnings\n",
    "\n",
    "warnings.filterwarnings(action='ignore')\n",
    "\n",
    "path = '/opt/ml/input/data/'\n",
    "dat = pd.read_csv(path + 'FE_total_2_elo2.csv')\n"
   ]
  },
  {
   "cell_type": "code",
   "execution_count": 2,
   "metadata": {},
   "outputs": [],
   "source": [
    "dat.drop(['day','year','KnowledgeTag', 'last_answerCode7','last_answerCode8','last_answerCode9','last_answerCode10'], axis = 1, inplace = True)"
   ]
  },
  {
   "cell_type": "code",
   "execution_count": 3,
   "metadata": {},
   "outputs": [],
   "source": [
    "_train = dat[dat['answerCode'] >= 0]\n",
    "_test = dat[dat['answerCode'] < 0]"
   ]
  },
  {
   "cell_type": "code",
   "execution_count": 4,
   "metadata": {},
   "outputs": [],
   "source": [
    "# valid 제작하는 함수 새로 개편.\n",
    "# 예전 valid 제작 함수는 1분 걸렸는데 0.6초만에 끗~\n",
    "_train['train_valid'] = 0\n",
    "_train.loc[_train.drop_duplicates(subset='userID', keep = 'last').index, 'train_valid'] = -1\n",
    "_valid = _train[_train['train_valid'] == -1]\n",
    "_train = _train[_train['train_valid'] == 0]"
   ]
  },
  {
   "cell_type": "code",
   "execution_count": 5,
   "metadata": {},
   "outputs": [],
   "source": [
    "# 모델에 적용하기 전 기본적인 데이터 전처리 부분\n",
    "## 라벨링, 필요없는 칼럼 제거\n",
    "_train_value = _train['answerCode']\n",
    "_train.drop(['Timestamp', 'testId', 'train_valid', 'answerCode'], axis = 1, inplace = True) # ,'category_st_qcut_5'\n",
    "\n",
    "_valid_value = _valid['answerCode']\n",
    "_valid.drop(['Timestamp', 'testId', 'train_valid', 'answerCode'], axis = 1, inplace = True) # ,'category_st_qcut_5'\n",
    "\n",
    "_test.drop(['Timestamp', 'testId', 'answerCode'], axis = 1, inplace = True) # ,'category_st_qcut_5'"
   ]
  },
  {
   "cell_type": "code",
   "execution_count": 6,
   "metadata": {},
   "outputs": [],
   "source": [
    "# CatBoost에 적용하기 위해선 문자열 데이터로 변환 필요.\n",
    "# 만약 범주형이 아니고 연속형(정수, 소수) 성질을 살리고 싶은 변수는 여기 drop에 적어두면 됨.(solve_time 같이.)\n",
    "cat_columns = list(_train.drop(['solve_time','month'],axis=1).columns)\n",
    "\n",
    "for col in cat_columns:\n",
    "    _train[col] = _train[col].astype('str')\n",
    "    _valid[col] = _valid[col].astype('str')\n",
    "    _test[col] = _test[col].astype('str')"
   ]
  },
  {
   "cell_type": "code",
   "execution_count": 7,
   "metadata": {},
   "outputs": [],
   "source": [
    "#!pip install optuna\n",
    "#!pip install catboost\n",
    "import gc\n",
    "from sklearn.metrics import accuracy_score, roc_auc_score\n",
    "from optuna import Trial, visualization\n",
    "from optuna.samplers import TPESampler\n",
    "from catboost import CatBoostClassifier\n",
    "def objective(trial, FEATURE, train, valid, test, train_value, valid_value):\n",
    "    \n",
    "    param = {\n",
    "    \"task_type\" : \"GPU\",\n",
    "    \"eval_metric\" : 'AUC',\n",
    "    \"devices\" : '0',\n",
    "    'random_state' : 42,\n",
    "    'learning_rate': 0.08,#trial.suggest_loguniform('learning_rate', 0.01, 0.05),\n",
    "    'bagging_temperature': trial.suggest_loguniform('bagging_temperature', 0.01, 1),\n",
    "    'iterations': 500, #trial.suggest_int(\"iterations\", 500, 2000),\n",
    "    'max_depth': trial.suggest_int(\"max_depth\", 4, 16),\n",
    "    'random_strength': trial.suggest_int(\"random_strength\", 5, 100),\n",
    "    'l2_leaf_reg': trial.suggest_float(\"l2_leaf_reg\",1e-8,3e-5),\n",
    "    #\"colsample_bylevel\":trial.suggest_float(\"colsample_bylevel\", 0.4, 1.0),\n",
    "    'min_child_samples': trial.suggest_int(\"min_child_samples\", 5, 100), \n",
    "    'max_bin': trial.suggest_int(\"max_bin\", 200, 500), \n",
    "    'od_type': 'Iter',\n",
    "    \"cat_features\": list(train.columns),  # list(train[FEATURE])\n",
    "    }\n",
    "    \n",
    "    # param = {\n",
    "    # \"task_type\" : \"GPU\",\n",
    "    # \"eval_metric\" : 'AUC',\n",
    "    # \"devices\" : '0',\n",
    "    # \"random_state\": 1998,\n",
    "    # 'learning_rate': 0.01,\n",
    "    # 'bagging_temperature': 0.05,\n",
    "    # 'iterations': trial.suggest_int(\"iterations\", 4000, 10000),\n",
    "    # 'max_depth': 11,\n",
    "    # 'random_strength': 0,\n",
    "    # 'l2_leaf_reg': 2e-7,\n",
    "    # 'min_child_samples': 5, \n",
    "    # 'max_bin': 100, \n",
    "    # 'od_type': 'Iter',\n",
    "    # \"cat_features\" : list(_train),\n",
    "    # }\n",
    "    \n",
    "    model = CatBoostClassifier(**param)\n",
    "    model.fit(train[FEATURE], train_value, early_stopping_rounds=100, verbose=200, eval_set=(valid, valid_value))\n",
    "    \n",
    "    print('train score')\n",
    "    train_pred = model.predict_proba(train[FEATURE])[:,1]\n",
    "    print(roc_auc_score(train_value, train_pred)) # auc\n",
    "    print(accuracy_score(train_value, np.where(train_pred >= 0.5, 1, 0))) # acc, 정확도\n",
    "\n",
    "    print('valid score')\n",
    "    valid_pred = model.predict_proba(valid[FEATURE])[:,1]\n",
    "    print(roc_auc_score(valid_value, valid_pred)) # auc\n",
    "    print(accuracy_score(valid_value, np.where(valid_pred >= 0.5, 1, 0))) # acc, 정확도\n",
    "\n",
    "    gc.collect()\n",
    "\n",
    "    return roc_auc_score(valid_value, valid_pred)"
   ]
  },
  {
   "cell_type": "code",
   "execution_count": 8,
   "metadata": {},
   "outputs": [
    {
     "name": "stderr",
     "output_type": "stream",
     "text": [
      "\u001b[32m[I 2022-12-07 08:54:25,322]\u001b[0m A new study created in memory with name: cat_parameter_opt\u001b[0m\n",
      "Default metric period is 5 because AUC is/are not implemented for GPU\n"
     ]
    },
    {
     "name": "stdout",
     "output_type": "stream",
     "text": [
      "0:\ttest: 0.7589644\tbest: 0.7589644 (0)\ttotal: 146ms\tremaining: 2m 25s\n",
      "200:\ttest: 0.8388939\tbest: 0.8390573 (191)\ttotal: 6m 38s\tremaining: 26m 24s\n",
      "bestTest = 0.8401213288\n",
      "bestIteration = 248\n",
      "Shrink model to first 249 iterations.\n",
      "train score\n",
      "0.9040945235561425\n",
      "0.8378535914432081\n",
      "valid score\n",
      "0.8401213196942636\n",
      "0.7609513571620532\n"
     ]
    },
    {
     "name": "stderr",
     "output_type": "stream",
     "text": [
      "\u001b[32m[I 2022-12-07 09:07:40,176]\u001b[0m Trial 0 finished with value: 0.8401213196942636 and parameters: {'bagging_temperature': 0.05611516415334506, 'max_depth': 16, 'random_strength': 75, 'l2_leaf_reg': 1.7963767941069128e-05, 'min_child_samples': 19, 'max_bin': 246}. Best is trial 0 with value: 0.8401213196942636.\u001b[0m\n",
      "Default metric period is 5 because AUC is/are not implemented for GPU\n"
     ]
    },
    {
     "name": "stdout",
     "output_type": "stream",
     "text": [
      "0:\ttest: 0.7689666\tbest: 0.7689666 (0)\ttotal: 128ms\tremaining: 2m 7s\n",
      "200:\ttest: 0.8379499\tbest: 0.8379583 (199)\ttotal: 3m 38s\tremaining: 14m 27s\n",
      "bestTest = 0.8391939402\n",
      "bestIteration = 240\n",
      "Shrink model to first 241 iterations.\n",
      "train score\n",
      "0.9059404431414795\n",
      "0.8394545354919607\n",
      "valid score\n",
      "0.8391940179133309\n",
      "0.7629669443697931\n"
     ]
    },
    {
     "name": "stderr",
     "output_type": "stream",
     "text": [
      "\u001b[32m[I 2022-12-07 09:14:57,376]\u001b[0m Trial 1 finished with value: 0.8391940179133309 and parameters: {'bagging_temperature': 0.01306673923805328, 'max_depth': 15, 'random_strength': 62, 'l2_leaf_reg': 2.1245096608103405e-05, 'min_child_samples': 6, 'max_bin': 491}. Best is trial 0 with value: 0.8401213196942636.\u001b[0m\n",
      "Default metric period is 5 because AUC is/are not implemented for GPU\n"
     ]
    },
    {
     "name": "stdout",
     "output_type": "stream",
     "text": [
      "0:\ttest: 0.7803909\tbest: 0.7803909 (0)\ttotal: 122ms\tremaining: 2m 2s\n",
      "200:\ttest: 0.8350530\tbest: 0.8350530 (200)\ttotal: 22.9s\tremaining: 1m 31s\n",
      "400:\ttest: 0.8392603\tbest: 0.8392603 (400)\ttotal: 44.9s\tremaining: 1m 7s\n",
      "600:\ttest: 0.8402354\tbest: 0.8402354 (600)\ttotal: 1m 7s\tremaining: 44.6s\n",
      "800:\ttest: 0.8411174\tbest: 0.8411210 (799)\ttotal: 1m 28s\tremaining: 21.9s\n",
      "bestTest = 0.8412394524\n",
      "bestIteration = 892\n",
      "Shrink model to first 893 iterations.\n",
      "train score\n",
      "0.8957109999074111\n",
      "0.8306668138434014\n",
      "valid score\n",
      "0.8412394302594255\n",
      "0.764579414135985\n"
     ]
    },
    {
     "name": "stderr",
     "output_type": "stream",
     "text": [
      "\u001b[32m[I 2022-12-07 09:17:16,644]\u001b[0m Trial 2 finished with value: 0.8412394302594255 and parameters: {'bagging_temperature': 0.46225890010208287, 'max_depth': 6, 'random_strength': 22, 'l2_leaf_reg': 5.51030125050448e-06, 'min_child_samples': 34, 'max_bin': 357}. Best is trial 2 with value: 0.8412394302594255.\u001b[0m\n",
      "Default metric period is 5 because AUC is/are not implemented for GPU\n"
     ]
    },
    {
     "name": "stdout",
     "output_type": "stream",
     "text": [
      "0:\ttest: 0.7689666\tbest: 0.7689666 (0)\ttotal: 126ms\tremaining: 2m 5s\n",
      "200:\ttest: 0.8345490\tbest: 0.8345490 (200)\ttotal: 25.7s\tremaining: 1m 42s\n",
      "400:\ttest: 0.8394884\tbest: 0.8395076 (399)\ttotal: 50.2s\tremaining: 1m 14s\n",
      "600:\ttest: 0.8401568\tbest: 0.8408132 (526)\ttotal: 1m 15s\tremaining: 49.9s\n",
      "bestTest = 0.8408131599\n",
      "bestIteration = 526\n",
      "Shrink model to first 527 iterations.\n",
      "train score\n",
      "0.8982889492281452\n",
      "0.8330622740234916\n",
      "valid score\n",
      "0.840813146089204\n",
      "0.7649825315775329\n"
     ]
    },
    {
     "name": "stderr",
     "output_type": "stream",
     "text": [
      "\u001b[32m[I 2022-12-07 09:19:06,311]\u001b[0m Trial 3 finished with value: 0.840813146089204 and parameters: {'bagging_temperature': 0.0730953983591291, 'max_depth': 7, 'random_strength': 63, 'l2_leaf_reg': 4.193420880954735e-06, 'min_child_samples': 33, 'max_bin': 310}. Best is trial 2 with value: 0.8412394302594255.\u001b[0m\n",
      "Default metric period is 5 because AUC is/are not implemented for GPU\n"
     ]
    },
    {
     "name": "stdout",
     "output_type": "stream",
     "text": [
      "0:\ttest: 0.7985812\tbest: 0.7985812 (0)\ttotal: 807ms\tremaining: 13m 26s\n",
      "200:\ttest: 0.8394983\tbest: 0.8394983 (200)\ttotal: 2m 13s\tremaining: 8m 49s\n",
      "400:\ttest: 0.8393595\tbest: 0.8404863 (336)\ttotal: 4m 43s\tremaining: 7m 3s\n",
      "bestTest = 0.8404862583\n",
      "bestIteration = 336\n",
      "Shrink model to first 337 iterations.\n",
      "train score\n",
      "0.8998112446005924\n",
      "0.8338417018924652\n",
      "valid score\n",
      "0.8404862414941021\n",
      "0.7602794947594732\n"
     ]
    },
    {
     "name": "stderr",
     "output_type": "stream",
     "text": [
      "\u001b[32m[I 2022-12-07 09:24:48,449]\u001b[0m Trial 4 finished with value: 0.8404862414941021 and parameters: {'bagging_temperature': 0.08168455894760163, 'max_depth': 14, 'random_strength': 24, 'l2_leaf_reg': 1.5431890808024213e-05, 'min_child_samples': 61, 'max_bin': 213}. Best is trial 2 with value: 0.8412394302594255.\u001b[0m\n",
      "Default metric period is 5 because AUC is/are not implemented for GPU\n"
     ]
    },
    {
     "name": "stdout",
     "output_type": "stream",
     "text": [
      "0:\ttest: 0.7800888\tbest: 0.7800888 (0)\ttotal: 123ms\tremaining: 2m 2s\n",
      "200:\ttest: 0.8358352\tbest: 0.8358352 (200)\ttotal: 23.1s\tremaining: 1m 31s\n",
      "400:\ttest: 0.8389844\tbest: 0.8390075 (399)\ttotal: 45s\tremaining: 1m 7s\n",
      "600:\ttest: 0.8402167\tbest: 0.8402342 (597)\ttotal: 1m 6s\tremaining: 44.4s\n",
      "bestTest = 0.8406081796\n",
      "bestIteration = 674\n",
      "Shrink model to first 675 iterations.\n",
      "train score\n",
      "0.8906287811626237\n"
     ]
    },
    {
     "name": "stderr",
     "output_type": "stream",
     "text": [
      "\u001b[32m[I 2022-12-07 09:26:43,039]\u001b[0m Trial 5 finished with value: 0.8406081711982669 and parameters: {'bagging_temperature': 0.16409286730647918, 'max_depth': 6, 'random_strength': 11, 'l2_leaf_reg': 2.8467077262227466e-05, 'min_child_samples': 97, 'max_bin': 443}. Best is trial 2 with value: 0.8412394302594255.\u001b[0m\n"
     ]
    },
    {
     "name": "stdout",
     "output_type": "stream",
     "text": [
      "0.827742073301955\n",
      "valid score\n",
      "0.8406081711982669\n",
      "0.7628325718892771\n"
     ]
    },
    {
     "name": "stderr",
     "output_type": "stream",
     "text": [
      "Default metric period is 5 because AUC is/are not implemented for GPU\n"
     ]
    },
    {
     "name": "stdout",
     "output_type": "stream",
     "text": [
      "0:\ttest: 0.7691374\tbest: 0.7691374 (0)\ttotal: 122ms\tremaining: 2m 2s\n",
      "200:\ttest: 0.8318232\tbest: 0.8318232 (200)\ttotal: 20.2s\tremaining: 1m 20s\n",
      "400:\ttest: 0.8375828\tbest: 0.8375828 (400)\ttotal: 40.8s\tremaining: 1m\n",
      "600:\ttest: 0.8390076\tbest: 0.8391189 (538)\ttotal: 1m 1s\tremaining: 40.5s\n",
      "800:\ttest: 0.8390757\tbest: 0.8395694 (719)\ttotal: 1m 21s\tremaining: 20.3s\n",
      "bestTest = 0.8395693898\n",
      "bestIteration = 719\n",
      "Shrink model to first 720 iterations.\n",
      "train score\n",
      "0.8879441220736172\n",
      "0.8272636165611944\n",
      "valid score\n",
      "0.8395693474650366\n",
      "0.7622950819672131\n"
     ]
    },
    {
     "name": "stderr",
     "output_type": "stream",
     "text": [
      "\u001b[32m[I 2022-12-07 09:28:35,234]\u001b[0m Trial 6 finished with value: 0.8395693474650366 and parameters: {'bagging_temperature': 0.040665633135147955, 'max_depth': 5, 'random_strength': 70, 'l2_leaf_reg': 1.3210173287250643e-05, 'min_child_samples': 16, 'max_bin': 349}. Best is trial 2 with value: 0.8412394302594255.\u001b[0m\n",
      "Default metric period is 5 because AUC is/are not implemented for GPU\n"
     ]
    },
    {
     "name": "stdout",
     "output_type": "stream",
     "text": [
      "0:\ttest: 0.8026710\tbest: 0.8026710 (0)\ttotal: 1.42s\tremaining: 23m 35s\n",
      "200:\ttest: 0.8386522\tbest: 0.8389257 (193)\ttotal: 3m 48s\tremaining: 15m 6s\n",
      "400:\ttest: 0.8395435\tbest: 0.8400285 (369)\ttotal: 8m 14s\tremaining: 12m 18s\n",
      "bestTest = 0.8400285244\n",
      "bestIteration = 369\n",
      "Shrink model to first 370 iterations.\n",
      "train score\n",
      "0.9133428351630677\n",
      "0.8470820491766177\n",
      "valid score\n",
      "0.840028444964061\n",
      "0.7608169846815372\n"
     ]
    },
    {
     "name": "stderr",
     "output_type": "stream",
     "text": [
      "\u001b[32m[I 2022-12-07 09:38:54,787]\u001b[0m Trial 7 finished with value: 0.840028444964061 and parameters: {'bagging_temperature': 0.011715937392307063, 'max_depth': 15, 'random_strength': 29, 'l2_leaf_reg': 1.987904330777592e-05, 'min_child_samples': 34, 'max_bin': 356}. Best is trial 2 with value: 0.8412394302594255.\u001b[0m\n",
      "Default metric period is 5 because AUC is/are not implemented for GPU\n"
     ]
    },
    {
     "name": "stdout",
     "output_type": "stream",
     "text": [
      "0:\ttest: 0.7678375\tbest: 0.7678375 (0)\ttotal: 112ms\tremaining: 1m 52s\n",
      "200:\ttest: 0.8319194\tbest: 0.8319194 (200)\ttotal: 22.8s\tremaining: 1m 30s\n",
      "400:\ttest: 0.8385949\tbest: 0.8385981 (399)\ttotal: 45.6s\tremaining: 1m 8s\n",
      "600:\ttest: 0.8397311\tbest: 0.8401865 (551)\ttotal: 1m 8s\tremaining: 45.5s\n",
      "bestTest = 0.8401865363\n",
      "bestIteration = 551\n",
      "Shrink model to first 552 iterations.\n",
      "train score\n",
      "0.8905220128059557\n",
      "0.8272659989184098\n",
      "valid score\n",
      "0.8401866572476512\n",
      "0.7625638269282451\n"
     ]
    },
    {
     "name": "stderr",
     "output_type": "stream",
     "text": [
      "\u001b[32m[I 2022-12-07 09:40:37,645]\u001b[0m Trial 8 finished with value: 0.8401866572476512 and parameters: {'bagging_temperature': 0.12399967836846093, 'max_depth': 6, 'random_strength': 98, 'l2_leaf_reg': 2.3256233372599825e-05, 'min_child_samples': 95, 'max_bin': 469}. Best is trial 2 with value: 0.8412394302594255.\u001b[0m\n",
      "Default metric period is 5 because AUC is/are not implemented for GPU\n"
     ]
    },
    {
     "name": "stdout",
     "output_type": "stream",
     "text": [
      "0:\ttest: 0.8013865\tbest: 0.8013865 (0)\ttotal: 1.39s\tremaining: 23m 5s\n",
      "200:\ttest: 0.8399321\tbest: 0.8399621 (188)\ttotal: 4m 6s\tremaining: 16m 18s\n",
      "bestTest = 0.8401893377\n",
      "bestIteration = 275\n",
      "Shrink model to first 276 iterations.\n",
      "train score\n",
      "0.9103284892079666\n",
      "0.8442331470065284\n",
      "valid score\n",
      "0.8401894037377273\n",
      "0.7657887664606289\n"
     ]
    },
    {
     "name": "stderr",
     "output_type": "stream",
     "text": [
      "\u001b[32m[I 2022-12-07 09:49:07,247]\u001b[0m Trial 9 finished with value: 0.8401894037377273 and parameters: {'bagging_temperature': 0.15696396388661144, 'max_depth': 15, 'random_strength': 13, 'l2_leaf_reg': 5.887526043950164e-06, 'min_child_samples': 9, 'max_bin': 297}. Best is trial 2 with value: 0.8412394302594255.\u001b[0m\n"
     ]
    }
   ],
   "source": [
    "import optuna\n",
    "sampler = optuna.samplers.TPESampler(seed=42)\n",
    "study = optuna.create_study(\n",
    "    study_name = 'cat_parameter_opt',\n",
    "    direction = 'maximize',\n",
    "    sampler = sampler,\n",
    ")\n",
    "study.optimize(lambda trial : objective(trial, list(_train.columns), _train, _valid, _test, _train_value, _valid_value), n_trials=10)"
   ]
  },
  {
   "cell_type": "code",
   "execution_count": null,
   "metadata": {},
   "outputs": [
    {
     "data": {
      "text/plain": [
       "{'max_depth': 11}"
      ]
     },
     "execution_count": 56,
     "metadata": {},
     "output_type": "execute_result"
    }
   ],
   "source": [
    "arange(0, train.shape[0]-1)"
   ]
  },
  {
   "cell_type": "code",
   "execution_count": null,
   "metadata": {},
   "outputs": [
    {
     "data": {
      "text/plain": [
       "((2518514, 15), (2518514,))"
      ]
     },
     "execution_count": 67,
     "metadata": {},
     "output_type": "execute_result"
    }
   ],
   "source": [
    "_train.shape, _train_value.shape"
   ]
  },
  {
   "cell_type": "code",
   "execution_count": null,
   "metadata": {},
   "outputs": [],
   "source": [
    "import matplotlib.pyplot as plt\n",
    "\n",
    "feature_importance = cat_model.feature_importances_\n",
    "sorted_idx = np.argsort(feature_importance)\n",
    "fig = plt.figure(figsize=(12, 6))\n",
    "plt.barh(range(len(sorted_idx)), feature_importance[sorted_idx], align=\"center\")\n",
    "plt.yticks(range(len(sorted_idx)), np.array(_valid.columns)[sorted_idx])\n",
    "plt.title(\"Feature Importance\")"
   ]
  },
  {
   "cell_type": "code",
   "execution_count": null,
   "metadata": {},
   "outputs": [],
   "source": [
    "# submission 제출하기 위한 코드\n",
    "\n",
    "_test_pred = cat_model.predict_proba(_test)[:,1]\n",
    "_test['prediction'] = _test_pred\n",
    "submission = _test['prediction'].reset_index(drop = True).reset_index()\n",
    "submission.rename(columns = {'index':'id'}, inplace = True)\n",
    "submission.to_csv('../output/cat3.csv', index = False)"
   ]
  },
  {
   "cell_type": "code",
   "execution_count": null,
   "metadata": {},
   "outputs": [],
   "source": []
  }
 ],
 "metadata": {
  "kernelspec": {
   "display_name": "Python 3.10.8 ('gcn')",
   "language": "python",
   "name": "python3"
  },
  "language_info": {
   "codemirror_mode": {
    "name": "ipython",
    "version": 3
   },
   "file_extension": ".py",
   "mimetype": "text/x-python",
   "name": "python",
   "nbconvert_exporter": "python",
   "pygments_lexer": "ipython3",
   "version": "3.10.8"
  },
  "orig_nbformat": 4,
  "vscode": {
   "interpreter": {
    "hash": "e20694c0580b936adf946462b21f5f5ff4a6066458c55bf72c7dd0f60ef410ed"
   }
  }
 },
 "nbformat": 4,
 "nbformat_minor": 2
}
