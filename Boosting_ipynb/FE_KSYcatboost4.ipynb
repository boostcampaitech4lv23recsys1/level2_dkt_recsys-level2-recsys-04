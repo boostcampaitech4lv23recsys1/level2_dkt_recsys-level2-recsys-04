{
 "cells": [
  {
   "cell_type": "code",
   "execution_count": 4,
   "metadata": {},
   "outputs": [],
   "source": [
    "import numpy as np\n",
    "import pandas as pd\n",
    "\n",
    "import os\n",
    "import random\n",
    "\n",
    "import warnings\n",
    "\n",
    "warnings.filterwarnings(action='ignore')\n",
    "\n",
    "# path = '/opt/ml/input/data/FE/'\n",
    "path = '/opt/ml/input/data/'\n",
    "dat = pd.read_csv(path + 'FE_total2.csv')\n"
   ]
  },
  {
   "cell_type": "code",
   "execution_count": 5,
   "metadata": {},
   "outputs": [],
   "source": [
    "dat.drop(['day','year','KnowledgeTag', 'last_answerCode7','last_answerCode8','last_answerCode9','last_answerCode10'], axis = 1, inplace = True)"
   ]
  },
  {
   "cell_type": "code",
   "execution_count": 6,
   "metadata": {},
   "outputs": [],
   "source": [
    "_train = dat[dat['answerCode'] >= 0]\n",
    "_test = dat[dat['answerCode'] < 0]"
   ]
  },
  {
   "cell_type": "code",
   "execution_count": 7,
   "metadata": {},
   "outputs": [],
   "source": [
    "# valid 제작하는 함수 새로 개편.\n",
    "# 예전 valid 제작 함수는 1분 걸렸는데 0.6초만에 끗~\n",
    "_train['train_valid'] = 0\n",
    "_train.loc[_train.drop_duplicates(subset='userID', keep = 'last').index, 'train_valid'] = -1\n",
    "_valid = _train[_train['train_valid'] == -1]\n",
    "_train = _train[_train['train_valid'] == 0]"
   ]
  },
  {
   "cell_type": "code",
   "execution_count": 8,
   "metadata": {},
   "outputs": [],
   "source": [
    "# 모델에 적용하기 전 기본적인 데이터 전처리 부분\n",
    "## 라벨링, 필요없는 칼럼 제거\n",
    "_train_value = _train['answerCode']\n",
    "_train.drop(['Timestamp', 'testId', 'train_valid', 'answerCode'], axis = 1, inplace = True) # ,'category_st_qcut_5'\n",
    "\n",
    "_valid_value = _valid['answerCode']\n",
    "_valid.drop(['Timestamp', 'testId', 'train_valid', 'answerCode'], axis = 1, inplace = True) # ,'category_st_qcut_5'\n",
    "\n",
    "_test.drop(['Timestamp', 'testId', 'answerCode'], axis = 1, inplace = True) # ,'category_st_qcut_5'"
   ]
  },
  {
   "cell_type": "code",
   "execution_count": 9,
   "metadata": {},
   "outputs": [],
   "source": [
    "# CatBoost에 적용하기 위해선 문자열 데이터로 변환 필요.\n",
    "# 만약 범주형이 아니고 연속형(정수, 소수) 성질을 살리고 싶은 변수는 여기 drop에 적어두면 됨.(solve_time 같이.)\n",
    "cat_columns = list(_train.drop(['solve_time','month'],axis=1).columns)\n",
    "\n",
    "for col in cat_columns:\n",
    "    _train[col] = _train[col].astype('str')\n",
    "    _valid[col] = _valid[col].astype('str')\n",
    "    _test[col] = _test[col].astype('str')"
   ]
  },
  {
   "cell_type": "code",
   "execution_count": 18,
   "metadata": {},
   "outputs": [],
   "source": [
    "#!pip install optuna\n",
    "#!pip install catboost\n",
    "import gc\n",
    "from sklearn.metrics import accuracy_score, roc_auc_score\n",
    "from optuna import Trial, visualization\n",
    "from optuna.samplers import TPESampler\n",
    "from catboost import CatBoostClassifier\n",
    "import matplotlib.pyplot as plt\n",
    "\n",
    "\n",
    "def objective(trial, FEATURE, train, valid, test, train_value, valid_value):\n",
    "    \n",
    "    param = {\n",
    "    \"task_type\" : \"GPU\",\n",
    "    \"eval_metric\" : 'AUC',\n",
    "    \"devices\" : '0',\n",
    "    'random_state' : trial.suggest_int(\"random_state\", 1, 50000),\n",
    "    'learning_rate': 0.08,#trial.suggest_loguniform('learning_rate', 0.01, 0.05),\n",
    "    'bagging_temperature': trial.suggest_loguniform('bagging_temperature', 0.01, 0.1),\n",
    "    'iterations': 500, #trial.suggest_int(\"iterations\", 500, 2000),\n",
    "    'max_depth': trial.suggest_int(\"max_depth\", 8, 12),\n",
    "    'random_strength': trial.suggest_int(\"random_strength\", 1, 50),\n",
    "    'l2_leaf_reg': trial.suggest_float(\"l2_leaf_reg\",1e-5,9e-5),\n",
    "    #\"colsample_bylevel\":trial.suggest_float(\"colsample_bylevel\", 0.4, 1.0),\n",
    "    'min_child_samples': trial.suggest_int(\"min_child_samples\", 8, 16), \n",
    "    'max_bin': trial.suggest_int(\"max_bin\", 220, 320), \n",
    "    'od_type': 'Iter',\n",
    "    \"cat_features\": list(train.columns),  # list(train[FEATURE])\n",
    "    }\n",
    "    \n",
    "    # param = {\n",
    "    # \"task_type\" : \"GPU\",\n",
    "    # \"eval_metric\" : 'AUC',\n",
    "    # \"devices\" : '0',\n",
    "    # \"random_state\": 1998,\n",
    "    # 'learning_rate': 0.01,\n",
    "    # 'bagging_temperature': 0.05,\n",
    "    # 'iterations': trial.suggest_int(\"iterations\", 4000, 10000),\n",
    "    # 'max_depth': 11,\n",
    "    # 'random_strength': 0,\n",
    "    # 'l2_leaf_reg': 2e-7,\n",
    "    # 'min_child_samples': 5, \n",
    "    # 'max_bin': 100, \n",
    "    # 'od_type': 'Iter',\n",
    "    # \"cat_features\" : list(_train),\n",
    "    # }\n",
    "    \n",
    "    model = CatBoostClassifier(**param)\n",
    "    model.fit(train[FEATURE], train_value, early_stopping_rounds=100, verbose=200, eval_set=(valid, valid_value))\n",
    "    \n",
    "    print('train score')\n",
    "    train_pred = model.predict_proba(train[FEATURE])[:,1]\n",
    "    print(roc_auc_score(train_value, train_pred)) # auc\n",
    "    print(accuracy_score(train_value, np.where(train_pred >= 0.5, 1, 0))) # acc, 정확도\n",
    "\n",
    "    print('valid score')\n",
    "    valid_pred = model.predict_proba(valid[FEATURE])[:,1]\n",
    "    print(roc_auc_score(valid_value, valid_pred)) # auc\n",
    "    print(accuracy_score(valid_value, np.where(valid_pred >= 0.5, 1, 0))) # acc, 정확도\n",
    "\n",
    "    gc.collect()\n",
    "\n",
    "    # feature_importance = model.feature_importances_\n",
    "    # sorted_idx = np.argsort(feature_importance)\n",
    "    # fig = plt.figure(figsize=(12, 6))\n",
    "    # plt.barh(range(len(sorted_idx)), feature_importance[sorted_idx], align=\"center\")\n",
    "    # plt.yticks(range(len(sorted_idx)), np.array(_valid.columns)[sorted_idx])\n",
    "    # plt.title(\"Feature Importance\")\n",
    "\n",
    "\n",
    "    return roc_auc_score(valid_value, valid_pred)"
   ]
  },
  {
   "cell_type": "markdown",
   "metadata": {},
   "source": [
    "***optuna 적용***"
   ]
  },
  {
   "cell_type": "code",
   "execution_count": 19,
   "metadata": {},
   "outputs": [
    {
     "name": "stderr",
     "output_type": "stream",
     "text": [
      "\u001b[32m[I 2022-12-08 08:56:07,476]\u001b[0m A new study created in memory with name: cat_parameter_opt\u001b[0m\n",
      "Default metric period is 5 because AUC is/are not implemented for GPU\n"
     ]
    },
    {
     "name": "stdout",
     "output_type": "stream",
     "text": [
      "0:\ttest: 0.7984627\tbest: 0.7984627 (0)\ttotal: 304ms\tremaining: 10m 8s\n",
      "200:\ttest: 0.8299349\tbest: 0.8299349 (200)\ttotal: 46.8s\tremaining: 6m 59s\n",
      "400:\ttest: 0.8360879\tbest: 0.8360879 (400)\ttotal: 1m 33s\tremaining: 6m 12s\n",
      "600:\ttest: 0.8384539\tbest: 0.8384539 (600)\ttotal: 2m 19s\tremaining: 5m 24s\n",
      "800:\ttest: 0.8400306\tbest: 0.8400346 (799)\ttotal: 3m 5s\tremaining: 4m 36s\n",
      "1000:\ttest: 0.8411784\tbest: 0.8412201 (993)\ttotal: 3m 51s\tremaining: 3m 51s\n",
      "1200:\ttest: 0.8421048\tbest: 0.8421048 (1200)\ttotal: 4m 37s\tremaining: 3m 4s\n",
      "1400:\ttest: 0.8428372\tbest: 0.8428372 (1400)\ttotal: 5m 23s\tremaining: 2m 18s\n",
      "1600:\ttest: 0.8434511\tbest: 0.8434709 (1598)\ttotal: 6m 7s\tremaining: 1m 31s\n",
      "1800:\ttest: 0.8438002\tbest: 0.8438196 (1789)\ttotal: 6m 51s\tremaining: 45.5s\n",
      "1999:\ttest: 0.8439954\tbest: 0.8440595 (1973)\ttotal: 7m 37s\tremaining: 0us\n",
      "bestTest = 0.8440595269\n",
      "bestIteration = 1973\n",
      "Shrink model to first 1974 iterations.\n",
      "train score\n",
      "0.9005854238158655\n",
      "0.835389439963407\n",
      "valid score\n",
      "0.8440595696351237\n",
      "0.7655200214995969\n"
     ]
    },
    {
     "name": "stderr",
     "output_type": "stream",
     "text": [
      "\u001b[32m[I 2022-12-08 09:04:35,819]\u001b[0m Trial 0 finished with value: 0.8440595696351237 and parameters: {'bagging_temperature': 0.061053157936408836, 'random_strength': 15, 'l2_leaf_reg': 1.178392730173686e-05, 'min_child_samples': 13, 'max_bin': 235}. Best is trial 0 with value: 0.8440595696351237.\u001b[0m\n",
      "Default metric period is 5 because AUC is/are not implemented for GPU\n"
     ]
    },
    {
     "name": "stdout",
     "output_type": "stream",
     "text": [
      "0:\ttest: 0.7937209\tbest: 0.7937209 (0)\ttotal: 275ms\tremaining: 9m 9s\n",
      "200:\ttest: 0.8306880\tbest: 0.8306880 (200)\ttotal: 48.8s\tremaining: 7m 16s\n",
      "400:\ttest: 0.8367829\tbest: 0.8367829 (400)\ttotal: 1m 36s\tremaining: 6m 24s\n",
      "600:\ttest: 0.8392512\tbest: 0.8392512 (600)\ttotal: 2m 23s\tremaining: 5m 33s\n",
      "800:\ttest: 0.8406407\tbest: 0.8406407 (800)\ttotal: 3m 9s\tremaining: 4m 43s\n",
      "1000:\ttest: 0.8416978\tbest: 0.8416978 (1000)\ttotal: 3m 54s\tremaining: 3m 54s\n",
      "1200:\ttest: 0.8423153\tbest: 0.8423293 (1198)\ttotal: 4m 39s\tremaining: 3m 5s\n",
      "1400:\ttest: 0.8427735\tbest: 0.8427939 (1383)\ttotal: 5m 24s\tremaining: 2m 18s\n",
      "1600:\ttest: 0.8430421\tbest: 0.8430449 (1599)\ttotal: 6m 7s\tremaining: 1m 31s\n",
      "1800:\ttest: 0.8431858\tbest: 0.8432328 (1748)\ttotal: 6m 52s\tremaining: 45.6s\n",
      "bestTest = 0.8432328105\n",
      "bestIteration = 1748\n",
      "Shrink model to first 1749 iterations.\n",
      "train score\n",
      "0.8931618272480527\n",
      "0.8306314755447062\n",
      "valid score\n",
      "0.8432328761222393\n",
      "0.7659231389411448\n"
     ]
    },
    {
     "name": "stderr",
     "output_type": "stream",
     "text": [
      "\u001b[32m[I 2022-12-08 09:12:24,896]\u001b[0m Trial 1 finished with value: 0.8432328761222393 and parameters: {'bagging_temperature': 0.0403316977206044, 'random_strength': 5, 'l2_leaf_reg': 1.3394113749299223e-05, 'min_child_samples': 13, 'max_bin': 291}. Best is trial 0 with value: 0.8440595696351237.\u001b[0m\n",
      "Default metric period is 5 because AUC is/are not implemented for GPU\n"
     ]
    },
    {
     "name": "stdout",
     "output_type": "stream",
     "text": [
      "0:\ttest: 0.7984627\tbest: 0.7984627 (0)\ttotal: 289ms\tremaining: 9m 38s\n",
      "200:\ttest: 0.8296685\tbest: 0.8296685 (200)\ttotal: 47.3s\tremaining: 7m 3s\n",
      "400:\ttest: 0.8355112\tbest: 0.8355112 (400)\ttotal: 1m 34s\tremaining: 6m 15s\n",
      "600:\ttest: 0.8379557\tbest: 0.8379557 (600)\ttotal: 2m 19s\tremaining: 5m 25s\n",
      "800:\ttest: 0.8394768\tbest: 0.8394768 (800)\ttotal: 3m 5s\tremaining: 4m 37s\n",
      "1000:\ttest: 0.8409339\tbest: 0.8409339 (1000)\ttotal: 3m 51s\tremaining: 3m 51s\n",
      "1200:\ttest: 0.8418819\tbest: 0.8418819 (1200)\ttotal: 4m 37s\tremaining: 3m 4s\n",
      "1400:\ttest: 0.8424451\tbest: 0.8424451 (1400)\ttotal: 5m 22s\tremaining: 2m 17s\n",
      "1600:\ttest: 0.8429668\tbest: 0.8429717 (1597)\ttotal: 6m 6s\tremaining: 1m 31s\n",
      "1800:\ttest: 0.8431529\tbest: 0.8431852 (1792)\ttotal: 6m 51s\tremaining: 45.4s\n",
      "1999:\ttest: 0.8432871\tbest: 0.8433068 (1961)\ttotal: 7m 37s\tremaining: 0us\n",
      "bestTest = 0.8433068395\n",
      "bestIteration = 1961\n",
      "Shrink model to first 1962 iterations.\n",
      "train score\n",
      "0.8976925820930053\n",
      "0.8332667596844806\n",
      "valid score\n",
      "0.8433067422500735\n",
      "0.7655200214995969\n"
     ]
    },
    {
     "name": "stderr",
     "output_type": "stream",
     "text": [
      "\u001b[32m[I 2022-12-08 09:20:53,558]\u001b[0m Trial 2 finished with value: 0.8433067422500735 and parameters: {'bagging_temperature': 0.031194713369389154, 'random_strength': 15, 'l2_leaf_reg': 1.2989311689605062e-05, 'min_child_samples': 9, 'max_bin': 238}. Best is trial 0 with value: 0.8440595696351237.\u001b[0m\n",
      "Default metric period is 5 because AUC is/are not implemented for GPU\n"
     ]
    },
    {
     "name": "stdout",
     "output_type": "stream",
     "text": [
      "0:\ttest: 0.7984627\tbest: 0.7984627 (0)\ttotal: 306ms\tremaining: 10m 11s\n",
      "200:\ttest: 0.8301547\tbest: 0.8301547 (200)\ttotal: 48.4s\tremaining: 7m 13s\n",
      "400:\ttest: 0.8362705\tbest: 0.8362705 (400)\ttotal: 1m 35s\tremaining: 6m 20s\n",
      "600:\ttest: 0.8386820\tbest: 0.8386820 (600)\ttotal: 2m 22s\tremaining: 5m 30s\n",
      "800:\ttest: 0.8402663\tbest: 0.8402663 (800)\ttotal: 3m 9s\tremaining: 4m 43s\n",
      "1000:\ttest: 0.8409666\tbest: 0.8409666 (1000)\ttotal: 3m 56s\tremaining: 3m 56s\n",
      "1200:\ttest: 0.8416336\tbest: 0.8416432 (1192)\ttotal: 4m 42s\tremaining: 3m 8s\n",
      "1400:\ttest: 0.8423482\tbest: 0.8423485 (1399)\ttotal: 5m 26s\tremaining: 2m 19s\n",
      "1600:\ttest: 0.8429421\tbest: 0.8429421 (1600)\ttotal: 6m 12s\tremaining: 1m 32s\n",
      "1800:\ttest: 0.8433154\tbest: 0.8433171 (1799)\ttotal: 6m 58s\tremaining: 46.2s\n",
      "1999:\ttest: 0.8433864\tbest: 0.8435944 (1926)\ttotal: 7m 44s\tremaining: 0us\n",
      "bestTest = 0.8435943723\n",
      "bestIteration = 1926\n",
      "Shrink model to first 1927 iterations.\n",
      "train score\n",
      "0.8980892356652878\n",
      "0.8342193055111069\n",
      "valid score\n",
      "0.8435941841193464\n",
      "0.7659231389411448\n"
     ]
    },
    {
     "name": "stderr",
     "output_type": "stream",
     "text": [
      "\u001b[32m[I 2022-12-08 09:29:24,349]\u001b[0m Trial 3 finished with value: 0.8435941841193464 and parameters: {'bagging_temperature': 0.042484433685853404, 'random_strength': 8, 'l2_leaf_reg': 9.297077179586855e-06, 'min_child_samples': 11, 'max_bin': 249}. Best is trial 0 with value: 0.8440595696351237.\u001b[0m\n",
      "Default metric period is 5 because AUC is/are not implemented for GPU\n"
     ]
    },
    {
     "name": "stdout",
     "output_type": "stream",
     "text": [
      "0:\ttest: 0.7941871\tbest: 0.7941871 (0)\ttotal: 275ms\tremaining: 9m 9s\n",
      "200:\ttest: 0.8305143\tbest: 0.8305143 (200)\ttotal: 48.7s\tremaining: 7m 15s\n",
      "400:\ttest: 0.8367199\tbest: 0.8367199 (400)\ttotal: 1m 35s\tremaining: 6m 21s\n",
      "600:\ttest: 0.8394498\tbest: 0.8394498 (600)\ttotal: 2m 22s\tremaining: 5m 31s\n",
      "800:\ttest: 0.8408143\tbest: 0.8408143 (800)\ttotal: 3m 9s\tremaining: 4m 44s\n",
      "1000:\ttest: 0.8419729\tbest: 0.8419729 (1000)\ttotal: 3m 56s\tremaining: 3m 55s\n",
      "1200:\ttest: 0.8427276\tbest: 0.8428215 (1188)\ttotal: 4m 41s\tremaining: 3m 7s\n",
      "1400:\ttest: 0.8435294\tbest: 0.8435367 (1398)\ttotal: 5m 26s\tremaining: 2m 19s\n",
      "1600:\ttest: 0.8440766\tbest: 0.8440766 (1600)\ttotal: 6m 11s\tremaining: 1m 32s\n",
      "1800:\ttest: 0.8443251\tbest: 0.8443562 (1781)\ttotal: 6m 55s\tremaining: 45.9s\n",
      "1999:\ttest: 0.8444235\tbest: 0.8444575 (1929)\ttotal: 7m 40s\tremaining: 0us\n",
      "bestTest = 0.8444575071\n",
      "bestIteration = 1929\n",
      "Shrink model to first 1930 iterations.\n",
      "train score\n",
      "0.8919878337421018\n",
      "0.8302320336515898\n",
      "valid score\n",
      "0.8444575938679839\n",
      "0.7649825315775329\n"
     ]
    },
    {
     "name": "stderr",
     "output_type": "stream",
     "text": [
      "\u001b[32m[I 2022-12-08 09:37:50,538]\u001b[0m Trial 4 finished with value: 0.8444575938679839 and parameters: {'bagging_temperature': 0.0957705988053993, 'random_strength': 6, 'l2_leaf_reg': 6.505735782422618e-06, 'min_child_samples': 11, 'max_bin': 266}. Best is trial 4 with value: 0.8444575938679839.\u001b[0m\n",
      "Default metric period is 5 because AUC is/are not implemented for GPU\n"
     ]
    },
    {
     "name": "stdout",
     "output_type": "stream",
     "text": [
      "0:\ttest: 0.7941871\tbest: 0.7941871 (0)\ttotal: 273ms\tremaining: 9m 6s\n",
      "200:\ttest: 0.8300790\tbest: 0.8300790 (200)\ttotal: 48s\tremaining: 7m 9s\n",
      "400:\ttest: 0.8361961\tbest: 0.8361961 (400)\ttotal: 1m 34s\tremaining: 6m 16s\n",
      "600:\ttest: 0.8385481\tbest: 0.8385481 (600)\ttotal: 2m 20s\tremaining: 5m 27s\n",
      "800:\ttest: 0.8403171\tbest: 0.8403171 (800)\ttotal: 3m 6s\tremaining: 4m 39s\n",
      "1000:\ttest: 0.8413432\tbest: 0.8413432 (987)\ttotal: 3m 53s\tremaining: 3m 52s\n",
      "1200:\ttest: 0.8412873\tbest: 0.8416187 (1154)\ttotal: 4m 37s\tremaining: 3m 4s\n",
      "bestTest = 0.8416186571\n",
      "bestIteration = 1154\n",
      "Shrink model to first 1155 iterations.\n",
      "train score\n",
      "0.8922840782083294\n",
      "0.8293990027452697\n",
      "valid score\n",
      "0.8416186627180813\n",
      "0.7643106691749529\n"
     ]
    },
    {
     "name": "stderr",
     "output_type": "stream",
     "text": [
      "\u001b[32m[I 2022-12-08 09:43:21,356]\u001b[0m Trial 5 finished with value: 0.8416186627180813 and parameters: {'bagging_temperature': 0.13305603957582046, 'random_strength': 7, 'l2_leaf_reg': 9.170813260963339e-06, 'min_child_samples': 13, 'max_bin': 224}. Best is trial 4 with value: 0.8444575938679839.\u001b[0m\n",
      "Default metric period is 5 because AUC is/are not implemented for GPU\n"
     ]
    },
    {
     "name": "stdout",
     "output_type": "stream",
     "text": [
      "0:\ttest: 0.7941871\tbest: 0.7941871 (0)\ttotal: 273ms\tremaining: 9m 6s\n",
      "200:\ttest: 0.8304340\tbest: 0.8304340 (200)\ttotal: 48.2s\tremaining: 7m 11s\n",
      "400:\ttest: 0.8368462\tbest: 0.8368462 (400)\ttotal: 1m 35s\tremaining: 6m 20s\n",
      "600:\ttest: 0.8392394\tbest: 0.8392394 (600)\ttotal: 2m 21s\tremaining: 5m 29s\n",
      "800:\ttest: 0.8410478\tbest: 0.8410478 (800)\ttotal: 3m 7s\tremaining: 4m 40s\n",
      "1000:\ttest: 0.8421544\tbest: 0.8421918 (991)\ttotal: 3m 54s\tremaining: 3m 53s\n",
      "1200:\ttest: 0.8430052\tbest: 0.8430052 (1200)\ttotal: 4m 39s\tremaining: 3m 6s\n",
      "1400:\ttest: 0.8435374\tbest: 0.8435378 (1399)\ttotal: 5m 24s\tremaining: 2m 18s\n",
      "1600:\ttest: 0.8441178\tbest: 0.8441257 (1598)\ttotal: 6m 9s\tremaining: 1m 31s\n",
      "1800:\ttest: 0.8443735\tbest: 0.8444031 (1745)\ttotal: 6m 53s\tremaining: 45.7s\n",
      "1999:\ttest: 0.8446027\tbest: 0.8446027 (1999)\ttotal: 7m 38s\tremaining: 0us\n",
      "bestTest = 0.844602704\n",
      "bestIteration = 1999\n",
      "train score\n",
      "0.8946993171740979\n",
      "0.8312417560513858\n",
      "valid score\n",
      "0.844602651909631\n",
      "0.7669981187852728\n"
     ]
    },
    {
     "name": "stderr",
     "output_type": "stream",
     "text": [
      "\u001b[32m[I 2022-12-08 09:51:46,439]\u001b[0m Trial 6 finished with value: 0.844602651909631 and parameters: {'bagging_temperature': 0.09499106760020673, 'random_strength': 6, 'l2_leaf_reg': 3.7806191158233544e-06, 'min_child_samples': 16, 'max_bin': 317}. Best is trial 6 with value: 0.844602651909631.\u001b[0m\n",
      "Default metric period is 5 because AUC is/are not implemented for GPU\n"
     ]
    },
    {
     "name": "stdout",
     "output_type": "stream",
     "text": [
      "0:\ttest: 0.7984627\tbest: 0.7984627 (0)\ttotal: 297ms\tremaining: 9m 52s\n",
      "200:\ttest: 0.8301579\tbest: 0.8301579 (200)\ttotal: 49s\tremaining: 7m 18s\n",
      "400:\ttest: 0.8362530\tbest: 0.8362530 (400)\ttotal: 1m 37s\tremaining: 6m 27s\n",
      "600:\ttest: 0.8385451\tbest: 0.8385451 (600)\ttotal: 2m 23s\tremaining: 5m 34s\n",
      "800:\ttest: 0.8401873\tbest: 0.8402068 (797)\ttotal: 3m 9s\tremaining: 4m 44s\n",
      "1000:\ttest: 0.8412453\tbest: 0.8412453 (1000)\ttotal: 3m 56s\tremaining: 3m 55s\n",
      "1200:\ttest: 0.8420730\tbest: 0.8420730 (1200)\ttotal: 4m 40s\tremaining: 3m 6s\n",
      "1400:\ttest: 0.8427814\tbest: 0.8427905 (1397)\ttotal: 5m 25s\tremaining: 2m 19s\n",
      "1600:\ttest: 0.8434507\tbest: 0.8434563 (1597)\ttotal: 6m 9s\tremaining: 1m 32s\n",
      "1800:\ttest: 0.8437278\tbest: 0.8437356 (1799)\ttotal: 6m 54s\tremaining: 45.8s\n",
      "1999:\ttest: 0.8440090\tbest: 0.8440124 (1991)\ttotal: 7m 38s\tremaining: 0us\n",
      "bestTest = 0.8440124094\n",
      "bestIteration = 1991\n",
      "Shrink model to first 1992 iterations.\n",
      "train score\n",
      "0.8932593940111316\n",
      "0.8303642544770448\n",
      "valid score\n",
      "0.8440124456475033\n",
      "0.7656543939801129\n"
     ]
    },
    {
     "name": "stderr",
     "output_type": "stream",
     "text": [
      "\u001b[32m[I 2022-12-08 10:00:11,387]\u001b[0m Trial 7 finished with value: 0.8440124456475033 and parameters: {'bagging_temperature': 0.1390486881838301, 'random_strength': 8, 'l2_leaf_reg': 4.1720653680766065e-06, 'min_child_samples': 14, 'max_bin': 264}. Best is trial 6 with value: 0.844602651909631.\u001b[0m\n",
      "Default metric period is 5 because AUC is/are not implemented for GPU\n"
     ]
    },
    {
     "name": "stdout",
     "output_type": "stream",
     "text": [
      "0:\ttest: 0.7984627\tbest: 0.7984627 (0)\ttotal: 292ms\tremaining: 9m 43s\n",
      "200:\ttest: 0.8299570\tbest: 0.8299570 (200)\ttotal: 47.5s\tremaining: 7m 4s\n",
      "400:\ttest: 0.8362352\tbest: 0.8362352 (400)\ttotal: 1m 34s\tremaining: 6m 16s\n",
      "600:\ttest: 0.8386339\tbest: 0.8386426 (599)\ttotal: 2m 20s\tremaining: 5m 27s\n",
      "800:\ttest: 0.8402472\tbest: 0.8402489 (799)\ttotal: 3m 6s\tremaining: 4m 39s\n",
      "1000:\ttest: 0.8414336\tbest: 0.8414510 (992)\ttotal: 3m 53s\tremaining: 3m 52s\n",
      "1200:\ttest: 0.8423315\tbest: 0.8423315 (1200)\ttotal: 4m 39s\tremaining: 3m 5s\n",
      "1400:\ttest: 0.8430843\tbest: 0.8431055 (1393)\ttotal: 5m 23s\tremaining: 2m 18s\n",
      "1600:\ttest: 0.8435135\tbest: 0.8435250 (1597)\ttotal: 6m 10s\tremaining: 1m 32s\n",
      "1800:\ttest: 0.8438468\tbest: 0.8438468 (1800)\ttotal: 6m 55s\tremaining: 45.9s\n",
      "bestTest = 0.8441063762\n",
      "bestIteration = 1894\n",
      "Shrink model to first 1895 iterations.\n",
      "train score\n",
      "0.898532247507412\n",
      "0.8346632180722442\n",
      "valid score\n",
      "0.8441061876903615\n",
      "0.7657887664606289\n"
     ]
    },
    {
     "name": "stderr",
     "output_type": "stream",
     "text": [
      "\u001b[32m[I 2022-12-08 10:08:39,989]\u001b[0m Trial 8 finished with value: 0.8441061876903615 and parameters: {'bagging_temperature': 0.03781548050307085, 'random_strength': 10, 'l2_leaf_reg': 3.412662253382621e-06, 'min_child_samples': 16, 'max_bin': 246}. Best is trial 6 with value: 0.844602651909631.\u001b[0m\n",
      "Default metric period is 5 because AUC is/are not implemented for GPU\n"
     ]
    },
    {
     "name": "stdout",
     "output_type": "stream",
     "text": [
      "0:\ttest: 0.7984627\tbest: 0.7984627 (0)\ttotal: 304ms\tremaining: 10m 7s\n",
      "200:\ttest: 0.8300590\tbest: 0.8300590 (200)\ttotal: 48.6s\tremaining: 7m 15s\n",
      "400:\ttest: 0.8361781\tbest: 0.8361788 (398)\ttotal: 1m 34s\tremaining: 6m 17s\n",
      "600:\ttest: 0.8386232\tbest: 0.8386284 (598)\ttotal: 2m 21s\tremaining: 5m 28s\n",
      "800:\ttest: 0.8402292\tbest: 0.8402292 (800)\ttotal: 3m 7s\tremaining: 4m 40s\n",
      "1000:\ttest: 0.8415130\tbest: 0.8415130 (1000)\ttotal: 3m 54s\tremaining: 3m 53s\n",
      "1200:\ttest: 0.8424156\tbest: 0.8424595 (1198)\ttotal: 4m 39s\tremaining: 3m 5s\n",
      "1400:\ttest: 0.8431230\tbest: 0.8431230 (1400)\ttotal: 5m 25s\tremaining: 2m 19s\n",
      "1600:\ttest: 0.8436931\tbest: 0.8436931 (1600)\ttotal: 6m 9s\tremaining: 1m 32s\n",
      "1800:\ttest: 0.8440896\tbest: 0.8440896 (1800)\ttotal: 6m 53s\tremaining: 45.7s\n",
      "1999:\ttest: 0.8442539\tbest: 0.8442847 (1977)\ttotal: 7m 40s\tremaining: 0us\n",
      "bestTest = 0.8442846537\n",
      "bestIteration = 1977\n",
      "Shrink model to first 1978 iterations.\n",
      "train score\n",
      "0.8997606821588309\n",
      "0.8347223799430934\n",
      "valid score\n",
      "0.8442846372692487\n",
      "0.7675356087073367\n"
     ]
    },
    {
     "name": "stderr",
     "output_type": "stream",
     "text": [
      "\u001b[32m[I 2022-12-08 10:17:07,999]\u001b[0m Trial 9 finished with value: 0.8442846372692487 and parameters: {'bagging_temperature': 0.1054336291901036, 'random_strength': 8, 'l2_leaf_reg': 9.24081625413373e-06, 'min_child_samples': 12, 'max_bin': 238}. Best is trial 6 with value: 0.844602651909631.\u001b[0m\n"
     ]
    }
   ],
   "source": [
    "import optuna\n",
    "sampler = optuna.samplers.TPESampler(seed=2022128)\n",
    "study = optuna.create_study(\n",
    "    study_name = 'cat_parameter_opt',\n",
    "    direction = 'maximize',\n",
    "    sampler = sampler,\n",
    ")\n",
    "study.optimize(lambda trial : objective(trial, cat_columns, _train, _valid, _test, _train_value, _valid_value), n_trials=30)"
   ]
  },
  {
   "cell_type": "markdown",
   "metadata": {},
   "source": [
    "***feature 중요도***"
   ]
  },
  {
   "cell_type": "code",
   "execution_count": null,
   "metadata": {},
   "outputs": [],
   "source": [
    "arange(0, train.shape[0]-1)"
   ]
  },
  {
   "cell_type": "markdown",
   "metadata": {},
   "source": [
    "***optuna에서 나왔던 값들로 param 돌려보기***"
   ]
  },
  {
   "cell_type": "code",
   "execution_count": null,
   "metadata": {},
   "outputs": [],
   "source": [
    "\n",
    "#best param\n",
    "param = {\n",
    "    \"task_type\" : \"GPU\",\n",
    "    \"eval_metric\" : 'AUC',\n",
    "    \"devices\" : '0',\n",
    "    'learning_rate': 0.01,#trial.suggest_loguniform('learning_rate', 0.01, 0.05),\n",
    "    'iterations': 6000, #trial.suggest_int(\"iterations\", 500, 2000),\n",
    "    'od_type': 'Iter',\n",
    "    \"cat_features\" : cat_columns,\n",
    "    'random_state': 5753, \n",
    "    'bagging_temperature': 0.013328266865025943, \n",
    "    'max_depth': 11, \n",
    "    'random_strength': 16, \n",
    "    'l2_leaf_reg': 6.530922242678823e-05, \n",
    "    'min_child_samples': 72, \n",
    "    'max_bin': 229\n",
    "    }\n",
    "\n",
    "\n",
    "model = CatBoostClassifier(**param)\n",
    "model.fit(_train, _train_value, early_stopping_rounds=1000, verbose=10, eval_set=(_valid, _valid_value))\n"
   ]
  },
  {
   "cell_type": "code",
   "execution_count": null,
   "metadata": {},
   "outputs": [],
   "source": [
    "import matplotlib.pyplot as plt\n",
    "\n",
    "feature_importance = model.feature_importances_\n",
    "sorted_idx = np.argsort(feature_importance)\n",
    "fig = plt.figure(figsize=(12, 6))\n",
    "plt.barh(range(len(sorted_idx)), feature_importance[sorted_idx], align=\"center\")\n",
    "plt.yticks(range(len(sorted_idx)), np.array(_valid.columns)[sorted_idx])\n",
    "plt.title(\"Feature Importance\")"
   ]
  },
  {
   "cell_type": "code",
   "execution_count": null,
   "metadata": {},
   "outputs": [],
   "source": [
    "# submission 제출하기 위한 코드\n",
    "\n",
    "_test_pred = cat_model.predict_proba(_test)[:,1]\n",
    "_test['prediction'] = _test_pred\n",
    "submission = _test['prediction'].reset_index(drop = True).reset_index()\n",
    "submission.rename(columns = {'index':'id'}, inplace = True)\n",
    "submission.to_csv('../output/cat_v1.csv', index = False)"
   ]
  },
  {
   "cell_type": "code",
   "execution_count": null,
   "metadata": {},
   "outputs": [],
   "source": []
  }
 ],
 "metadata": {
  "kernelspec": {
   "display_name": "Python 3.10.8 ('gcn')",
   "language": "python",
   "name": "python3"
  },
  "language_info": {
   "codemirror_mode": {
    "name": "ipython",
    "version": 3
   },
   "file_extension": ".py",
   "mimetype": "text/x-python",
   "name": "python",
   "nbconvert_exporter": "python",
   "pygments_lexer": "ipython3",
   "version": "3.10.8 (main, Nov  4 2022, 13:48:29) [GCC 11.2.0]"
  },
  "orig_nbformat": 4,
  "vscode": {
   "interpreter": {
    "hash": "e20694c0580b936adf946462b21f5f5ff4a6066458c55bf72c7dd0f60ef410ed"
   }
  }
 },
 "nbformat": 4,
 "nbformat_minor": 2
}
