{
 "cells": [
  {
   "cell_type": "code",
   "execution_count": 1,
   "metadata": {},
   "outputs": [],
   "source": [
    "import numpy as np\n",
    "import pandas as pd\n",
    "\n",
    "import os\n",
    "import random\n",
    "\n",
    "import warnings\n",
    "\n",
    "warnings.filterwarnings(action='ignore')\n",
    "\n",
    "path = '/opt/ml/input/data/'\n",
    "dat = pd.read_csv(path + '/FE_total2.csv')\n"
   ]
  },
  {
   "cell_type": "code",
   "execution_count": 2,
   "metadata": {},
   "outputs": [],
   "source": [
    "dat.drop(['day','year','KnowledgeTag', 'last_answerCode7','last_answerCode8','last_answerCode9','last_answerCode10'], axis = 1, inplace = True)"
   ]
  },
  {
   "cell_type": "code",
   "execution_count": 3,
   "metadata": {},
   "outputs": [],
   "source": [
    "_train = dat[dat['answerCode'] >= 0]\n",
    "_test = dat[dat['answerCode'] < 0]"
   ]
  },
  {
   "cell_type": "code",
   "execution_count": 4,
   "metadata": {},
   "outputs": [],
   "source": [
    "# # valid 제작하는 함수 새로 개편.\n",
    "# # 예전 valid 제작 함수는 1분 걸렸는데 0.6초만에 끗~\n",
    "# _train['train_valid'] = 0\n",
    "# _train.loc[_train.drop_duplicates(subset='userID', keep = 'last').index, 'train_valid'] = -1\n",
    "# _valid = _train[_train['train_valid'] == -1]\n",
    "# _train = _train[_train['train_valid'] == 0]"
   ]
  },
  {
   "cell_type": "code",
   "execution_count": 5,
   "metadata": {},
   "outputs": [],
   "source": [
    "# 모델에 적용하기 전 기본적인 데이터 전처리 부분\n",
    "## 라벨링, 필요없는 칼럼 제거\n",
    "_train_value = _train['answerCode']\n",
    "_train.drop(['Timestamp', 'testId', 'answerCode'], axis = 1, inplace = True) # ,'category_st_qcut_5'\n",
    "\n",
    "# _valid_value = _valid['answerCode']\n",
    "# _valid.drop(['Timestamp', 'testId', 'train_valid', 'answerCode'], axis = 1, inplace = True) # ,'category_st_qcut_5'\n",
    "\n",
    "_test.drop(['Timestamp', 'testId', 'answerCode'], axis = 1, inplace = True) # ,'category_st_qcut_5'"
   ]
  },
  {
   "cell_type": "code",
   "execution_count": 6,
   "metadata": {},
   "outputs": [],
   "source": [
    "# CatBoost에 적용하기 위해선 문자열 데이터로 변환 필요.\n",
    "# 만약 범주형이 아니고 연속형(정수, 소수) 성질을 살리고 싶은 변수는 여기 drop에 적어두면 됨.(solve_time 같이.)\n",
    "cat_columns = list(_train.drop(['solve_time','month'],axis=1).columns)\n",
    "\n",
    "for col in cat_columns:\n",
    "    _train[col] = _train[col].astype('str')\n",
    "    # _valid[col] = _valid[col].astype('str')\n",
    "    _test[col] = _test[col].astype('str')"
   ]
  },
  {
   "cell_type": "code",
   "execution_count": 15,
   "metadata": {},
   "outputs": [],
   "source": [
    "from sklearn.metrics import accuracy_score, roc_auc_score\n",
    "from optuna import Trial, visualization\n",
    "from optuna.samplers import TPESampler\n",
    "from catboost import CatBoostClassifier\n",
    "from sklearn.model_selection import KFold\n",
    "\n",
    "def objective(trial, train, test, train_value):\n",
    "\n",
    "    param = {\n",
    "    \"task_type\" : \"GPU\",\n",
    "    \"eval_metric\" : 'AUC',\n",
    "    # \"devices\" : '0',\n",
    "    \"random_state\": 1998,\n",
    "    'learning_rate': 0.01,\n",
    "    # 'bagging_temperature': 0.05,\n",
    "    'iterations': 4000,\n",
    "    'max_depth': trial.suggest_int(\"max_depth\", 8, 12),\n",
    "    # 'random_strength': 0,\n",
    "    # 'l2_leaf_reg': 2e-7,\n",
    "    # 'min_child_samples': 5, \n",
    "    # 'max_bin': 100, \n",
    "    # 'od_type': 'Iter',\n",
    "    \"cat_features\" : cat_columns,\n",
    "    }\n",
    "    \n",
    "    skf = KFold(n_splits=3)\n",
    "    roc_auc = []\n",
    "    for train_idx, value_idx in skf.split(train, train_value):   \n",
    "        _train = train.iloc[train_idx, :]     \n",
    "        _train_value = train_value.iloc[train_idx]  \n",
    "        _valid = train.iloc[value_idx, :]   \n",
    "        _valid_value = train_value.iloc[value_idx]\n",
    "        # print(_train.head())  \n",
    "        # print(_train_value.head())  \n",
    "        # print(_valid.head())  \n",
    "        # print(_valid_value.head())  \n",
    "        model = CatBoostClassifier(**param)\n",
    "        model.fit(_train, _train_value, early_stopping_rounds=100, verbose=200, eval_set=(_valid, _valid_value))\n",
    "        train_pred = model.predict_proba(_train)[:,1]     \n",
    "        valid_pred = model.predict_proba(_valid)[:,1]\n",
    "\n",
    "        print(roc_auc_score(_valid_value, valid_pred))\n",
    "        roc_auc.append(roc_auc_score(_valid_value, valid_pred))\n",
    "\n",
    "        print('train score')\n",
    "        print(roc_auc_score(_train_value, train_pred)) # auc\n",
    "        print(accuracy_score(_train_value, np.where(train_pred >= 0.5, 1, 0))) # acc, 정확도\n",
    "\n",
    "        print('valid score')\n",
    "        print(roc_auc_score(_valid_value, valid_pred)) # auc\n",
    "        print(accuracy_score(_valid_value, np.where(valid_pred >= 0.5, 1, 0))) # acc, 정확도   \n",
    "    \n",
    "    print(roc_auc)\n",
    "    return sum(roc_auc) / 3"
   ]
  },
  {
   "cell_type": "code",
   "execution_count": 16,
   "metadata": {},
   "outputs": [
    {
     "name": "stderr",
     "output_type": "stream",
     "text": [
      "\u001b[32m[I 2022-12-07 05:41:22,451]\u001b[0m A new study created in memory with name: cat_parameter_opt\u001b[0m\n",
      "Default metric period is 5 because AUC is/are not implemented for GPU\n"
     ]
    },
    {
     "name": "stdout",
     "output_type": "stream",
     "text": [
      "0:\ttest: 0.8085086\tbest: 0.8085086 (0)\ttotal: 120ms\tremaining: 7m 58s\n",
      "200:\ttest: 0.8306340\tbest: 0.8306340 (200)\ttotal: 24.8s\tremaining: 7m 49s\n",
      "400:\ttest: 0.8337985\tbest: 0.8337985 (400)\ttotal: 47.3s\tremaining: 7m 4s\n",
      "600:\ttest: 0.8340804\tbest: 0.8340804 (600)\ttotal: 1m 9s\tremaining: 6m 34s\n",
      "bestTest = 0.8340804279\n",
      "bestIteration = 600\n",
      "Shrink model to first 601 iterations.\n",
      "0.8340804489521751\n",
      "train score\n",
      "0.876341163505848\n",
      "0.8143589256340671\n",
      "valid score\n",
      "0.8340804489521751\n",
      "0.7897399719235236\n"
     ]
    },
    {
     "name": "stderr",
     "output_type": "stream",
     "text": [
      "Default metric period is 5 because AUC is/are not implemented for GPU\n"
     ]
    },
    {
     "name": "stdout",
     "output_type": "stream",
     "text": [
      "0:\ttest: 0.8111566\tbest: 0.8111566 (0)\ttotal: 120ms\tremaining: 8m\n",
      "200:\ttest: 0.8327382\tbest: 0.8327382 (200)\ttotal: 25.7s\tremaining: 8m 6s\n",
      "400:\ttest: 0.8361203\tbest: 0.8361222 (399)\ttotal: 49.1s\tremaining: 7m 20s\n",
      "600:\ttest: 0.8365900\tbest: 0.8365900 (600)\ttotal: 1m 10s\tremaining: 6m 41s\n",
      "800:\ttest: 0.8366114\tbest: 0.8368936 (743)\ttotal: 1m 33s\tremaining: 6m 14s\n",
      "bestTest = 0.8368935585\n",
      "bestIteration = 743\n",
      "Shrink model to first 744 iterations.\n",
      "0.8368935924544165\n",
      "train score\n",
      "0.8814481341178293\n",
      "0.8194232561012036\n",
      "valid score\n",
      "0.8368935924544165\n",
      "0.788277700909161\n"
     ]
    },
    {
     "name": "stderr",
     "output_type": "stream",
     "text": [
      "Default metric period is 5 because AUC is/are not implemented for GPU\n"
     ]
    },
    {
     "name": "stdout",
     "output_type": "stream",
     "text": [
      "0:\ttest: 0.8030770\tbest: 0.8030770 (0)\ttotal: 118ms\tremaining: 7m 51s\n",
      "200:\ttest: 0.8315667\tbest: 0.8315667 (200)\ttotal: 26s\tremaining: 8m 11s\n",
      "400:\ttest: 0.8348109\tbest: 0.8348110 (399)\ttotal: 50.1s\tremaining: 7m 29s\n",
      "bestTest = 0.8349783123\n",
      "bestIteration = 471\n",
      "Shrink model to first 472 iterations.\n",
      "0.8349783037283106\n",
      "train score\n",
      "0.8655495597914955\n",
      "0.81033105676998\n",
      "valid score\n",
      "0.8349783037283106\n",
      "0.7761907872468037\n",
      "[0.8340804489521751, 0.8368935924544165, 0.8349783037283106]\n"
     ]
    },
    {
     "name": "stderr",
     "output_type": "stream",
     "text": [
      "\u001b[32m[I 2022-12-07 05:46:44,438]\u001b[0m Trial 0 finished with value: 0.8353174483783007 and parameters: {'max_depth': 9}. Best is trial 0 with value: 0.8353174483783007.\u001b[0m\n",
      "Default metric period is 5 because AUC is/are not implemented for GPU\n"
     ]
    },
    {
     "name": "stdout",
     "output_type": "stream",
     "text": [
      "0:\ttest: 0.8154823\tbest: 0.8154823 (0)\ttotal: 278ms\tremaining: 18m 32s\n",
      "200:\ttest: 0.8334264\tbest: 0.8334264 (200)\ttotal: 55.5s\tremaining: 17m 29s\n",
      "400:\ttest: 0.8348678\tbest: 0.8349025 (398)\ttotal: 1m 49s\tremaining: 16m 20s\n",
      "600:\ttest: 0.8349154\tbest: 0.8352573 (514)\ttotal: 2m 41s\tremaining: 15m 11s\n",
      "bestTest = 0.8352573216\n",
      "bestIteration = 514\n",
      "Shrink model to first 515 iterations.\n",
      "0.8352573471059707\n",
      "train score\n",
      "0.8755086631458637\n",
      "0.8132241073178264\n",
      "valid score\n",
      "0.8352573471059707\n",
      "0.790675854467889\n"
     ]
    },
    {
     "name": "stderr",
     "output_type": "stream",
     "text": [
      "Default metric period is 5 because AUC is/are not implemented for GPU\n"
     ]
    },
    {
     "name": "stdout",
     "output_type": "stream",
     "text": [
      "0:\ttest: 0.8180460\tbest: 0.8180460 (0)\ttotal: 275ms\tremaining: 18m 21s\n",
      "200:\ttest: 0.8349456\tbest: 0.8349456 (200)\ttotal: 56.1s\tremaining: 17m 40s\n",
      "400:\ttest: 0.8367156\tbest: 0.8367212 (396)\ttotal: 1m 50s\tremaining: 16m 28s\n",
      "600:\ttest: 0.8371951\tbest: 0.8372346 (584)\ttotal: 2m 42s\tremaining: 15m 16s\n",
      "bestTest = 0.8372346163\n",
      "bestIteration = 584\n",
      "Shrink model to first 585 iterations.\n",
      "0.8372346366257619\n",
      "train score\n",
      "0.8796216303526888\n",
      "0.8175847446304004\n",
      "valid score\n",
      "0.8372346366257619\n",
      "0.7888739110554226\n"
     ]
    },
    {
     "name": "stderr",
     "output_type": "stream",
     "text": [
      "Default metric period is 5 because AUC is/are not implemented for GPU\n"
     ]
    },
    {
     "name": "stdout",
     "output_type": "stream",
     "text": [
      "0:\ttest: 0.8175859\tbest: 0.8175859 (0)\ttotal: 276ms\tremaining: 18m 24s\n"
     ]
    }
   ],
   "source": [
    "import optuna\n",
    "sampler = optuna.samplers.TPESampler(seed=42)\n",
    "study = optuna.create_study(\n",
    "    study_name = 'cat_parameter_opt',\n",
    "    direction = 'maximize',\n",
    "    sampler = sampler,\n",
    ")\n",
    "study.optimize(lambda trial : objective(trial, _train, _test, _train_value), n_trials=5)"
   ]
  },
  {
   "cell_type": "markdown",
   "metadata": {},
   "source": [
    "***basic***"
   ]
  },
  {
   "cell_type": "code",
   "execution_count": null,
   "metadata": {},
   "outputs": [],
   "source": [
    "from sklearn.model_selection import StratifiedKFold\n",
    "_test['prediction'] = 0\n",
    "skf = StratifiedKFold(n_splits=10)\n",
    "\n",
    "for train_idx, value_idx in skf.split(_train, _train_value):   \n",
    "    train = _train.iloc[train_idx, :]     \n",
    "    train_value = _train_value.iloc[train_idx]  \n",
    "    valid = _train.iloc[value_idx, :]   \n",
    "    valid_value = _train_value.iloc[value_idx]  \n",
    "    model = CatBoostClassifier(**study.best_params)\n",
    "    model.fit(train[FEATURE], train_value, early_stopping_rounds=100, verbose=200, eval_set=(valid, valid_value))     \n",
    "    test_pred = model.predict_proba(_test[FEATURE])[:,1]\n",
    "    _test['prediction'] += test_pred    \n",
    "    print(f'================================================================================\\n\\n')\n",
    "    \n",
    "_test['prediction'] /= 10\n",
    "submission = _test['prediction'].reset_index(drop = True).reset_index()\n",
    "submission.rename(columns = {'index':'id'}, inplace = True)\n",
    "submission.to_csv(os.path.join('/opt/ml/input/code/level2_dkt_recsys-level2-recsys-04/output/submission.csv'), index = False)\n",
    "print(\"SAVE COMPLETE\")"
   ]
  },
  {
   "cell_type": "code",
   "execution_count": null,
   "metadata": {},
   "outputs": [],
   "source": [
    "import matplotlib.pyplot as plt\n",
    "\n",
    "feature_importance = cat_model.feature_importances_\n",
    "sorted_idx = np.argsort(feature_importance)\n",
    "fig = plt.figure(figsize=(12, 6))\n",
    "plt.barh(range(len(sorted_idx)), feature_importance[sorted_idx], align=\"center\")\n",
    "plt.yticks(range(len(sorted_idx)), np.array(_valid.columns)[sorted_idx])\n",
    "plt.title(\"Feature Importance\")"
   ]
  },
  {
   "cell_type": "code",
   "execution_count": null,
   "metadata": {},
   "outputs": [],
   "source": [
    "# submission 제출하기 위한 코드\n",
    "\n",
    "_test_pred = cat_model.predict_proba(_test)[:,1]\n",
    "_test['prediction'] = _test_pred\n",
    "submission = _test['prediction'].reset_index(drop = True).reset_index()\n",
    "submission.rename(columns = {'index':'id'}, inplace = True)\n",
    "submission.to_csv('../output/cat3.csv', index = False)"
   ]
  },
  {
   "cell_type": "code",
   "execution_count": null,
   "metadata": {},
   "outputs": [],
   "source": []
  }
 ],
 "metadata": {
  "kernelspec": {
   "display_name": "Python 3.8.5 ('base')",
   "language": "python",
   "name": "python3"
  },
  "language_info": {
   "codemirror_mode": {
    "name": "ipython",
    "version": 3
   },
   "file_extension": ".py",
   "mimetype": "text/x-python",
   "name": "python",
   "nbconvert_exporter": "python",
   "pygments_lexer": "ipython3",
   "version": "3.8.5"
  },
  "orig_nbformat": 4,
  "vscode": {
   "interpreter": {
    "hash": "d4d1e4263499bec80672ea0156c357c1ee493ec2b1c70f0acce89fc37c4a6abe"
   }
  }
 },
 "nbformat": 4,
 "nbformat_minor": 2
}
