{
 "cells": [
  {
   "cell_type": "code",
   "execution_count": 1,
   "metadata": {},
   "outputs": [],
   "source": [
    "import numpy as np\n",
    "import pandas as pd\n",
    "\n",
    "import os\n",
    "import random\n",
    "\n",
    "import warnings\n",
    "\n",
    "warnings.filterwarnings(action='ignore')\n",
    "\n",
    "path = '/opt/ml/input/data/'\n",
    "dat = pd.read_csv(path + '/FE_total2.csv')\n"
   ]
  },
  {
   "cell_type": "code",
   "execution_count": 2,
   "metadata": {},
   "outputs": [],
   "source": [
    "dat.drop(['day','year','KnowledgeTag', 'last_answerCode7','last_answerCode8','last_answerCode9','last_answerCode10'], axis = 1, inplace = True)"
   ]
  },
  {
   "cell_type": "code",
   "execution_count": 3,
   "metadata": {},
   "outputs": [],
   "source": [
    "_train = dat[dat['answerCode'] >= 0]\n",
    "_test = dat[dat['answerCode'] < 0]"
   ]
  },
  {
   "cell_type": "code",
   "execution_count": 4,
   "metadata": {},
   "outputs": [],
   "source": [
    "# valid 제작하는 함수 새로 개편.\n",
    "# 예전 valid 제작 함수는 1분 걸렸는데 0.6초만에 끗~\n",
    "_train['train_valid'] = 0\n",
    "_train.loc[_train.drop_duplicates(subset='userID', keep = 'last').index, 'train_valid'] = -1\n",
    "_valid = _train[_train['train_valid'] == -1]\n",
    "_train = _train[_train['train_valid'] == 0]"
   ]
  },
  {
   "cell_type": "code",
   "execution_count": 5,
   "metadata": {},
   "outputs": [],
   "source": [
    "# 모델에 적용하기 전 기본적인 데이터 전처리 부분\n",
    "## 라벨링, 필요없는 칼럼 제거\n",
    "_train_value = _train['answerCode']\n",
    "_train.drop(['Timestamp', 'testId', 'train_valid', 'answerCode'], axis = 1, inplace = True) # ,'category_st_qcut_5'\n",
    "\n",
    "_valid_value = _valid['answerCode']\n",
    "_valid.drop(['Timestamp', 'testId', 'train_valid', 'answerCode'], axis = 1, inplace = True) # ,'category_st_qcut_5'\n",
    "\n",
    "_test.drop(['Timestamp', 'testId', 'answerCode'], axis = 1, inplace = True) # ,'category_st_qcut_5'"
   ]
  },
  {
   "cell_type": "code",
   "execution_count": 6,
   "metadata": {},
   "outputs": [],
   "source": [
    "# CatBoost에 적용하기 위해선 문자열 데이터로 변환 필요.\n",
    "# 만약 범주형이 아니고 연속형(정수, 소수) 성질을 살리고 싶은 변수는 여기 drop에 적어두면 됨.(solve_time 같이.)\n",
    "cat_columns = list(_train.drop(['solve_time','month'],axis=1).columns)\n",
    "\n",
    "for col in cat_columns:\n",
    "    _train[col] = _train[col].astype('str')\n",
    "    _valid[col] = _valid[col].astype('str')\n",
    "    _test[col] = _test[col].astype('str')"
   ]
  },
  {
   "cell_type": "code",
   "execution_count": 7,
   "metadata": {},
   "outputs": [],
   "source": [
    "from sklearn.metrics import accuracy_score, roc_auc_score\n",
    "from optuna import Trial, visualization\n",
    "from optuna.samplers import TPESampler\n",
    "from catboost import CatBoostClassifier\n",
    "def objective(trial, FEATURE, train, valid, test, train_value, valid_value):\n",
    "    \n",
    "    # param = {\n",
    "    # \"task_type\" : \"GPU\",\n",
    "    # \"eval_metric\" : 'AUC',\n",
    "    # \"devices\" : '0',\n",
    "    # \"random_state\": trial.suggest_int(\"random_state\", 1, 3000),\n",
    "    # 'learning_rate': trial.suggest_loguniform('learning_rate', 0.01, 0.5),\n",
    "    # 'bagging_temperature': trial.suggest_loguniform('bagging_temperature', 0.01, 0.5),\n",
    "    # 'iterations': trial.suggest_int(\"iterations\", 500, 2000),\n",
    "    # 'max_depth': trial.suggest_int(\"max_depth\", 5, 10),\n",
    "    # 'random_strength': trial.suggest_int(\"random_strength\", 5, 100),\n",
    "    # 'l2_leaf_reg': trial.suggest_float(\"l2_leaf_reg\",1e-8,3e-5),\n",
    "    # 'min_child_samples': trial.suggest_int(\"min_child_samples\", 5, 50), \n",
    "    # 'max_bin': trial.suggest_int(\"max_bin\", 100, 500), \n",
    "    # 'od_type': 'Iter',\n",
    "    # \"cat_features\" : list(train[FEATURE]),\n",
    "    # }\n",
    "    \n",
    "    param = {\n",
    "    \"task_type\" : \"GPU\",\n",
    "    \"eval_metric\" : 'AUC',\n",
    "    \"devices\" : '0',\n",
    "    \"random_state\": 1998,\n",
    "    'learning_rate': 0.01,\n",
    "    'bagging_temperature': 0.05,\n",
    "    'iterations': trial.suggest_int(\"iterations\", 4000, 10000),\n",
    "    'max_depth': 11,\n",
    "    'random_strength': 0,\n",
    "    'l2_leaf_reg': 2e-7,\n",
    "    'min_child_samples': 5, \n",
    "    'max_bin': 100, \n",
    "    'od_type': 'Iter',\n",
    "    \"cat_features\" : list(_train),\n",
    "    }\n",
    "    \n",
    "    model = CatBoostClassifier(**param)\n",
    "    model.fit(train[FEATURE], train_value, early_stopping_rounds=100, verbose=200, eval_set=(_valid, _valid_value))\n",
    "    \n",
    "    print('train score')\n",
    "    train_pred = model.predict_proba(train[FEATURE])[:,1]\n",
    "    print(roc_auc_score(train_value, train_pred)) # auc\n",
    "    print(accuracy_score(train_value, np.where(train_pred >= 0.5, 1, 0))) # acc, 정확도\n",
    "\n",
    "    print('valid score')\n",
    "    valid_pred = model.predict_proba(valid[FEATURE])[:,1]\n",
    "    print(roc_auc_score(valid_value, valid_pred)) # auc\n",
    "    print(accuracy_score(valid_value, np.where(valid_pred >= 0.5, 1, 0))) # acc, 정확도\n",
    "\n",
    "    return roc_auc_score(valid_value, valid_pred)"
   ]
  },
  {
   "cell_type": "code",
   "execution_count": 8,
   "metadata": {},
   "outputs": [],
   "source": [
    "FEATURE = ['userID',\n",
    " 'assessmentItemID',\n",
    " 'solve_time',\n",
    " 'b_category',\n",
    " 'test_category',\n",
    " 'problem_id',\n",
    " 'category_st_qcut_5',\n",
    " 'last_answerCode',\n",
    " 'last_answerCode2',\n",
    " 'last_answerCode3',\n",
    " 'last_answerCode4',\n",
    " 'last_answerCode5',\n",
    " 'last_answerCode6',\n",
    " 'month',\n",
    " 'hour']"
   ]
  },
  {
   "cell_type": "code",
   "execution_count": 9,
   "metadata": {},
   "outputs": [
    {
     "name": "stderr",
     "output_type": "stream",
     "text": [
      "\u001b[32m[I 2022-12-07 01:06:53,041]\u001b[0m A new study created in memory with name: cat_parameter_opt\u001b[0m\n",
      "Default metric period is 5 because AUC is/are not implemented for GPU\n"
     ]
    },
    {
     "name": "stdout",
     "output_type": "stream",
     "text": [
      "0:\ttest: 0.8055690\tbest: 0.8055690 (0)\ttotal: 280ms\tremaining: 29m 7s\n",
      "200:\ttest: 0.8220403\tbest: 0.8220403 (200)\ttotal: 53.5s\tremaining: 26m 47s\n",
      "400:\ttest: 0.8306336\tbest: 0.8306336 (400)\ttotal: 1m 43s\tremaining: 25m 5s\n",
      "600:\ttest: 0.8350532\tbest: 0.8350532 (600)\ttotal: 2m 31s\tremaining: 23m 44s\n",
      "800:\ttest: 0.8372365\tbest: 0.8372365 (800)\ttotal: 3m 18s\tremaining: 22m 30s\n",
      "1000:\ttest: 0.8387909\tbest: 0.8387909 (1000)\ttotal: 4m 8s\tremaining: 21m 40s\n",
      "1200:\ttest: 0.8400544\tbest: 0.8400544 (1200)\ttotal: 4m 56s\tremaining: 20m 45s\n",
      "1400:\ttest: 0.8410292\tbest: 0.8410292 (1400)\ttotal: 5m 43s\tremaining: 19m 48s\n",
      "1600:\ttest: 0.8417457\tbest: 0.8417457 (1600)\ttotal: 6m 30s\tremaining: 18m 54s\n",
      "1800:\ttest: 0.8422785\tbest: 0.8422799 (1799)\ttotal: 7m 17s\tremaining: 18m\n",
      "2000:\ttest: 0.8428066\tbest: 0.8428099 (1999)\ttotal: 8m 5s\tremaining: 17m 10s\n",
      "2200:\ttest: 0.8431539\tbest: 0.8431673 (2195)\ttotal: 8m 54s\tremaining: 16m 21s\n",
      "2400:\ttest: 0.8435201\tbest: 0.8435209 (2398)\ttotal: 9m 41s\tremaining: 15m 30s\n",
      "2600:\ttest: 0.8438553\tbest: 0.8438581 (2592)\ttotal: 10m 27s\tremaining: 14m 40s\n",
      "2800:\ttest: 0.8442224\tbest: 0.8442296 (2797)\ttotal: 11m 13s\tremaining: 13m 48s\n",
      "3000:\ttest: 0.8443292\tbest: 0.8443377 (2972)\ttotal: 11m 59s\tremaining: 12m 58s\n",
      "3200:\ttest: 0.8445612\tbest: 0.8445643 (3182)\ttotal: 12m 44s\tremaining: 12m 7s\n",
      "3400:\ttest: 0.8447284\tbest: 0.8447589 (3393)\ttotal: 13m 32s\tremaining: 11m 19s\n",
      "3600:\ttest: 0.8448188\tbest: 0.8448389 (3581)\ttotal: 14m 17s\tremaining: 10m 30s\n",
      "3800:\ttest: 0.8449806\tbest: 0.8449917 (3789)\ttotal: 15m 3s\tremaining: 9m 41s\n",
      "bestTest = 0.8449976444\n",
      "bestIteration = 3860\n",
      "Shrink model to first 3861 iterations.\n",
      "train score\n",
      "0.896000784308266\n",
      "0.8321649194723555\n",
      "valid score\n",
      "0.8449974237200326\n",
      "0.7664606288632088\n"
     ]
    },
    {
     "name": "stderr",
     "output_type": "stream",
     "text": [
      "\u001b[32m[I 2022-12-07 01:23:15,758]\u001b[0m Trial 0 finished with value: 0.8449974237200326 and parameters: {'iterations': 6247}. Best is trial 0 with value: 0.8449974237200326.\u001b[0m\n",
      "Default metric period is 5 because AUC is/are not implemented for GPU\n"
     ]
    },
    {
     "name": "stdout",
     "output_type": "stream",
     "text": [
      "0:\ttest: 0.8055691\tbest: 0.8055691 (0)\ttotal: 269ms\tremaining: 43m 25s\n",
      "200:\ttest: 0.8219043\tbest: 0.8219043 (200)\ttotal: 53.5s\tremaining: 42m 10s\n",
      "400:\ttest: 0.8312153\tbest: 0.8312153 (400)\ttotal: 1m 42s\tremaining: 39m 39s\n",
      "600:\ttest: 0.8353068\tbest: 0.8353068 (600)\ttotal: 2m 30s\tremaining: 37m 58s\n",
      "800:\ttest: 0.8374177\tbest: 0.8374177 (800)\ttotal: 3m 17s\tremaining: 36m 34s\n",
      "1000:\ttest: 0.8387857\tbest: 0.8387920 (998)\ttotal: 4m 6s\tremaining: 35m 44s\n",
      "1200:\ttest: 0.8400959\tbest: 0.8400959 (1200)\ttotal: 4m 55s\tremaining: 34m 52s\n",
      "1400:\ttest: 0.8409743\tbest: 0.8409743 (1400)\ttotal: 5m 42s\tremaining: 33m 51s\n",
      "1600:\ttest: 0.8417085\tbest: 0.8417085 (1600)\ttotal: 6m 30s\tremaining: 32m 55s\n",
      "1800:\ttest: 0.8423928\tbest: 0.8423928 (1800)\ttotal: 7m 17s\tremaining: 32m\n",
      "2000:\ttest: 0.8426688\tbest: 0.8426690 (1975)\ttotal: 8m 10s\tremaining: 31m 28s\n",
      "bestTest = 0.8426908255\n",
      "bestIteration = 2052\n",
      "Shrink model to first 2053 iterations.\n",
      "train score\n",
      "0.8919338683690318\n"
     ]
    },
    {
     "name": "stderr",
     "output_type": "stream",
     "text": [
      "\u001b[32m[I 2022-12-07 01:32:44,555]\u001b[0m Trial 1 finished with value: 0.842691022540661 and parameters: {'iterations': 9705}. Best is trial 0 with value: 0.8449974237200326.\u001b[0m\n"
     ]
    },
    {
     "name": "stdout",
     "output_type": "stream",
     "text": [
      "0.82842739806092\n",
      "valid score\n",
      "0.842691022540661\n",
      "0.7653856490190809\n"
     ]
    },
    {
     "name": "stderr",
     "output_type": "stream",
     "text": [
      "Default metric period is 5 because AUC is/are not implemented for GPU\n"
     ]
    },
    {
     "name": "stdout",
     "output_type": "stream",
     "text": [
      "0:\ttest: 0.8055691\tbest: 0.8055691 (0)\ttotal: 279ms\tremaining: 39m 4s\n",
      "200:\ttest: 0.8220667\tbest: 0.8220667 (200)\ttotal: 53.3s\tremaining: 36m 11s\n",
      "400:\ttest: 0.8315331\tbest: 0.8315331 (400)\ttotal: 1m 42s\tremaining: 34m 6s\n",
      "600:\ttest: 0.8355445\tbest: 0.8355445 (600)\ttotal: 2m 31s\tremaining: 32m 42s\n",
      "800:\ttest: 0.8374501\tbest: 0.8374501 (800)\ttotal: 3m 18s\tremaining: 31m 20s\n",
      "1000:\ttest: 0.8390884\tbest: 0.8390884 (1000)\ttotal: 4m 7s\tremaining: 30m 25s\n",
      "1200:\ttest: 0.8401359\tbest: 0.8401369 (1199)\ttotal: 4m 57s\tremaining: 29m 38s\n",
      "1400:\ttest: 0.8411752\tbest: 0.8411752 (1400)\ttotal: 5m 45s\tremaining: 28m 43s\n",
      "1600:\ttest: 0.8418427\tbest: 0.8418427 (1600)\ttotal: 6m 31s\tremaining: 27m 42s\n",
      "1800:\ttest: 0.8422703\tbest: 0.8422703 (1800)\ttotal: 7m 18s\tremaining: 26m 46s\n",
      "2000:\ttest: 0.8427979\tbest: 0.8427979 (2000)\ttotal: 8m 6s\tremaining: 25m 54s\n",
      "2200:\ttest: 0.8431415\tbest: 0.8431416 (2199)\ttotal: 8m 53s\tremaining: 24m 59s\n",
      "2400:\ttest: 0.8433694\tbest: 0.8433736 (2398)\ttotal: 9m 39s\tremaining: 24m 6s\n",
      "2600:\ttest: 0.8436326\tbest: 0.8436443 (2596)\ttotal: 10m 26s\tremaining: 23m 13s\n",
      "2800:\ttest: 0.8439817\tbest: 0.8439817 (2800)\ttotal: 11m 12s\tremaining: 22m 21s\n",
      "3000:\ttest: 0.8442657\tbest: 0.8442674 (2997)\ttotal: 11m 58s\tremaining: 21m 31s\n",
      "3200:\ttest: 0.8444399\tbest: 0.8444401 (3199)\ttotal: 12m 45s\tremaining: 20m 41s\n",
      "3400:\ttest: 0.8445960\tbest: 0.8446061 (3391)\ttotal: 13m 32s\tremaining: 19m 52s\n",
      "3600:\ttest: 0.8446006\tbest: 0.8446779 (3520)\ttotal: 14m 18s\tremaining: 19m 1s\n",
      "bestTest = 0.8446778655\n",
      "bestIteration = 3520\n",
      "Shrink model to first 3521 iterations.\n",
      "train score\n",
      "0.8956509460255254\n"
     ]
    },
    {
     "name": "stderr",
     "output_type": "stream",
     "text": [
      "\u001b[32m[I 2022-12-07 01:47:48,032]\u001b[0m Trial 2 finished with value: 0.8446778912825033 and parameters: {'iterations': 8392}. Best is trial 0 with value: 0.8449974237200326.\u001b[0m\n"
     ]
    },
    {
     "name": "stdout",
     "output_type": "stream",
     "text": [
      "0.8320017280031002\n",
      "valid score\n",
      "0.8446778912825033\n",
      "0.7656543939801129\n"
     ]
    },
    {
     "name": "stderr",
     "output_type": "stream",
     "text": [
      "Default metric period is 5 because AUC is/are not implemented for GPU\n"
     ]
    },
    {
     "name": "stdout",
     "output_type": "stream",
     "text": [
      "0:\ttest: 0.8055690\tbest: 0.8055690 (0)\ttotal: 265ms\tremaining: 33m 33s\n",
      "200:\ttest: 0.8220699\tbest: 0.8220699 (200)\ttotal: 53.3s\tremaining: 32m 41s\n",
      "400:\ttest: 0.8314784\tbest: 0.8314784 (400)\ttotal: 1m 42s\tremaining: 30m 42s\n",
      "600:\ttest: 0.8356069\tbest: 0.8356069 (600)\ttotal: 2m 30s\tremaining: 29m 15s\n",
      "800:\ttest: 0.8378900\tbest: 0.8378900 (799)\ttotal: 3m 18s\tremaining: 28m 2s\n",
      "1000:\ttest: 0.8391145\tbest: 0.8391155 (996)\ttotal: 4m 8s\tremaining: 27m 14s\n",
      "1200:\ttest: 0.8403281\tbest: 0.8403281 (1200)\ttotal: 4m 58s\tremaining: 26m 29s\n",
      "1400:\ttest: 0.8412407\tbest: 0.8412755 (1393)\ttotal: 5m 46s\tremaining: 25m 29s\n",
      "1600:\ttest: 0.8420053\tbest: 0.8420053 (1600)\ttotal: 6m 32s\tremaining: 24m 28s\n",
      "1800:\ttest: 0.8425937\tbest: 0.8425937 (1800)\ttotal: 7m 19s\tremaining: 23m 32s\n",
      "2000:\ttest: 0.8430051\tbest: 0.8430102 (1997)\ttotal: 8m 6s\tremaining: 22m 39s\n",
      "2200:\ttest: 0.8434604\tbest: 0.8434604 (2200)\ttotal: 8m 52s\tremaining: 21m 45s\n",
      "2400:\ttest: 0.8437561\tbest: 0.8437634 (2395)\ttotal: 9m 39s\tremaining: 20m 51s\n",
      "2600:\ttest: 0.8441453\tbest: 0.8441477 (2599)\ttotal: 10m 25s\tremaining: 19m 59s\n",
      "2800:\ttest: 0.8444217\tbest: 0.8444217 (2800)\ttotal: 11m 11s\tremaining: 19m 8s\n",
      "3000:\ttest: 0.8445892\tbest: 0.8445892 (3000)\ttotal: 11m 57s\tremaining: 18m 18s\n",
      "3200:\ttest: 0.8447897\tbest: 0.8448051 (3198)\ttotal: 12m 45s\tremaining: 17m 29s\n",
      "3400:\ttest: 0.8449873\tbest: 0.8449901 (3398)\ttotal: 13m 32s\tremaining: 16m 41s\n",
      "3600:\ttest: 0.8451321\tbest: 0.8451554 (3591)\ttotal: 14m 19s\tremaining: 15m 52s\n",
      "bestTest = 0.8451804519\n",
      "bestIteration = 3661\n",
      "Shrink model to first 3662 iterations.\n"
     ]
    }
   ],
   "source": [
    "import optuna\n",
    "sampler = optuna.samplers.TPESampler(seed=42)\n",
    "study = optuna.create_study(\n",
    "    study_name = 'cat_parameter_opt',\n",
    "    direction = 'maximize',\n",
    "    sampler = sampler,\n",
    ")\n",
    "study.optimize(lambda trial : objective(trial, FEATURE, _train, _valid, _test, _train_value, _valid_value), n_trials=10)"
   ]
  },
  {
   "cell_type": "code",
   "execution_count": null,
   "metadata": {},
   "outputs": [
    {
     "data": {
      "text/plain": [
       "{'max_depth': 11}"
      ]
     },
     "execution_count": 56,
     "metadata": {},
     "output_type": "execute_result"
    }
   ],
   "source": [
    "study.best_params"
   ]
  },
  {
   "cell_type": "code",
   "execution_count": null,
   "metadata": {},
   "outputs": [
    {
     "ename": "CatBoostError",
     "evalue": "Bad value for num_feature[non_default_doc_idx=0,feature_idx=1]=\"A040029006\": Cannot convert 'b'A040029006'' to float",
     "output_type": "error",
     "traceback": [
      "\u001b[0;31m---------------------------------------------------------------------------\u001b[0m",
      "\u001b[0;31mTypeError\u001b[0m                                 Traceback (most recent call last)",
      "File \u001b[0;32m_catboost.pyx:2286\u001b[0m, in \u001b[0;36m_catboost.get_float_feature\u001b[0;34m()\u001b[0m\n",
      "File \u001b[0;32m_catboost.pyx:1139\u001b[0m, in \u001b[0;36m_catboost._FloatOrNan\u001b[0;34m()\u001b[0m\n",
      "File \u001b[0;32m_catboost.pyx:951\u001b[0m, in \u001b[0;36m_catboost._FloatOrNanFromString\u001b[0;34m()\u001b[0m\n",
      "\u001b[0;31mTypeError\u001b[0m: Cannot convert 'b'A040029006'' to float",
      "\nDuring handling of the above exception, another exception occurred:\n",
      "\u001b[0;31mCatBoostError\u001b[0m                             Traceback (most recent call last)",
      "Cell \u001b[0;32mIn [64], line 9\u001b[0m\n\u001b[1;32m      7\u001b[0m train_value \u001b[39m=\u001b[39m _train_value\u001b[39m.\u001b[39miloc[train_idx]       \n\u001b[1;32m      8\u001b[0m model \u001b[39m=\u001b[39m CatBoostClassifier(\u001b[39m*\u001b[39m\u001b[39m*\u001b[39mstudy\u001b[39m.\u001b[39mbest_params)\n\u001b[0;32m----> 9\u001b[0m model\u001b[39m.\u001b[39;49mfit(train[FEATURE], train_value, early_stopping_rounds\u001b[39m=\u001b[39;49m\u001b[39m100\u001b[39;49m, verbose\u001b[39m=\u001b[39;49m\u001b[39m200\u001b[39;49m, eval_set\u001b[39m=\u001b[39;49m(_valid, _valid_value))     \n\u001b[1;32m     10\u001b[0m test_pred \u001b[39m=\u001b[39m model\u001b[39m.\u001b[39mpredict_proba(_test[FEATURE])[:,\u001b[39m1\u001b[39m]\n\u001b[1;32m     11\u001b[0m _test[\u001b[39m'\u001b[39m\u001b[39mprediction\u001b[39m\u001b[39m'\u001b[39m] \u001b[39m+\u001b[39m\u001b[39m=\u001b[39m test_pred    \n",
      "File \u001b[0;32m/opt/conda/lib/python3.8/site-packages/catboost/core.py:5128\u001b[0m, in \u001b[0;36mCatBoostClassifier.fit\u001b[0;34m(self, X, y, cat_features, text_features, embedding_features, sample_weight, baseline, use_best_model, eval_set, verbose, logging_level, plot, plot_file, column_description, verbose_eval, metric_period, silent, early_stopping_rounds, save_snapshot, snapshot_file, snapshot_interval, init_model, callbacks, log_cout, log_cerr)\u001b[0m\n\u001b[1;32m   5125\u001b[0m \u001b[39mif\u001b[39;00m \u001b[39m'\u001b[39m\u001b[39mloss_function\u001b[39m\u001b[39m'\u001b[39m \u001b[39min\u001b[39;00m params:\n\u001b[1;32m   5126\u001b[0m     CatBoostClassifier\u001b[39m.\u001b[39m_check_is_compatible_loss(params[\u001b[39m'\u001b[39m\u001b[39mloss_function\u001b[39m\u001b[39m'\u001b[39m])\n\u001b[0;32m-> 5128\u001b[0m \u001b[39mself\u001b[39;49m\u001b[39m.\u001b[39;49m_fit(X, y, cat_features, text_features, embedding_features, \u001b[39mNone\u001b[39;49;00m, sample_weight, \u001b[39mNone\u001b[39;49;00m, \u001b[39mNone\u001b[39;49;00m, \u001b[39mNone\u001b[39;49;00m, \u001b[39mNone\u001b[39;49;00m, baseline, use_best_model,\n\u001b[1;32m   5129\u001b[0m           eval_set, verbose, logging_level, plot, plot_file, column_description, verbose_eval, metric_period,\n\u001b[1;32m   5130\u001b[0m           silent, early_stopping_rounds, save_snapshot, snapshot_file, snapshot_interval, init_model, callbacks, log_cout, log_cerr)\n\u001b[1;32m   5131\u001b[0m \u001b[39mreturn\u001b[39;00m \u001b[39mself\u001b[39m\n",
      "File \u001b[0;32m/opt/conda/lib/python3.8/site-packages/catboost/core.py:2339\u001b[0m, in \u001b[0;36mCatBoost._fit\u001b[0;34m(self, X, y, cat_features, text_features, embedding_features, pairs, sample_weight, group_id, group_weight, subgroup_id, pairs_weight, baseline, use_best_model, eval_set, verbose, logging_level, plot, plot_file, column_description, verbose_eval, metric_period, silent, early_stopping_rounds, save_snapshot, snapshot_file, snapshot_interval, init_model, callbacks, log_cout, log_cerr)\u001b[0m\n\u001b[1;32m   2336\u001b[0m \u001b[39mif\u001b[39;00m y \u001b[39mis\u001b[39;00m \u001b[39mNone\u001b[39;00m \u001b[39mand\u001b[39;00m \u001b[39mnot\u001b[39;00m \u001b[39misinstance\u001b[39m(X, PATH_TYPES \u001b[39m+\u001b[39m (Pool,)):\n\u001b[1;32m   2337\u001b[0m     \u001b[39mraise\u001b[39;00m CatBoostError(\u001b[39m\"\u001b[39m\u001b[39my may be None only when X is an instance of catboost.Pool or string\u001b[39m\u001b[39m\"\u001b[39m)\n\u001b[0;32m-> 2339\u001b[0m train_params \u001b[39m=\u001b[39m \u001b[39mself\u001b[39;49m\u001b[39m.\u001b[39;49m_prepare_train_params(\n\u001b[1;32m   2340\u001b[0m     X\u001b[39m=\u001b[39;49mX, y\u001b[39m=\u001b[39;49my, cat_features\u001b[39m=\u001b[39;49mcat_features, text_features\u001b[39m=\u001b[39;49mtext_features, embedding_features\u001b[39m=\u001b[39;49membedding_features,\n\u001b[1;32m   2341\u001b[0m     pairs\u001b[39m=\u001b[39;49mpairs, sample_weight\u001b[39m=\u001b[39;49msample_weight, group_id\u001b[39m=\u001b[39;49mgroup_id, group_weight\u001b[39m=\u001b[39;49mgroup_weight,\n\u001b[1;32m   2342\u001b[0m     subgroup_id\u001b[39m=\u001b[39;49msubgroup_id, pairs_weight\u001b[39m=\u001b[39;49mpairs_weight, baseline\u001b[39m=\u001b[39;49mbaseline, use_best_model\u001b[39m=\u001b[39;49muse_best_model,\n\u001b[1;32m   2343\u001b[0m     eval_set\u001b[39m=\u001b[39;49meval_set, verbose\u001b[39m=\u001b[39;49mverbose, logging_level\u001b[39m=\u001b[39;49mlogging_level, plot\u001b[39m=\u001b[39;49mplot, plot_file\u001b[39m=\u001b[39;49mplot_file,\n\u001b[1;32m   2344\u001b[0m     column_description\u001b[39m=\u001b[39;49mcolumn_description, verbose_eval\u001b[39m=\u001b[39;49mverbose_eval, metric_period\u001b[39m=\u001b[39;49mmetric_period,\n\u001b[1;32m   2345\u001b[0m     silent\u001b[39m=\u001b[39;49msilent, early_stopping_rounds\u001b[39m=\u001b[39;49mearly_stopping_rounds, save_snapshot\u001b[39m=\u001b[39;49msave_snapshot,\n\u001b[1;32m   2346\u001b[0m     snapshot_file\u001b[39m=\u001b[39;49msnapshot_file, snapshot_interval\u001b[39m=\u001b[39;49msnapshot_interval, init_model\u001b[39m=\u001b[39;49minit_model,\n\u001b[1;32m   2347\u001b[0m     callbacks\u001b[39m=\u001b[39;49mcallbacks\n\u001b[1;32m   2348\u001b[0m )\n\u001b[1;32m   2349\u001b[0m params \u001b[39m=\u001b[39m train_params[\u001b[39m\"\u001b[39m\u001b[39mparams\u001b[39m\u001b[39m\"\u001b[39m]\n\u001b[1;32m   2350\u001b[0m train_pool \u001b[39m=\u001b[39m train_params[\u001b[39m\"\u001b[39m\u001b[39mtrain_pool\u001b[39m\u001b[39m\"\u001b[39m]\n",
      "File \u001b[0;32m/opt/conda/lib/python3.8/site-packages/catboost/core.py:2220\u001b[0m, in \u001b[0;36mCatBoost._prepare_train_params\u001b[0;34m(self, X, y, cat_features, text_features, embedding_features, pairs, sample_weight, group_id, group_weight, subgroup_id, pairs_weight, baseline, use_best_model, eval_set, verbose, logging_level, plot, plot_file, column_description, verbose_eval, metric_period, silent, early_stopping_rounds, save_snapshot, snapshot_file, snapshot_interval, init_model, callbacks)\u001b[0m\n\u001b[1;32m   2217\u001b[0m text_features \u001b[39m=\u001b[39m _process_feature_indices(text_features, X, params, \u001b[39m'\u001b[39m\u001b[39mtext_features\u001b[39m\u001b[39m'\u001b[39m)\n\u001b[1;32m   2218\u001b[0m embedding_features \u001b[39m=\u001b[39m _process_feature_indices(embedding_features, X, params, \u001b[39m'\u001b[39m\u001b[39membedding_features\u001b[39m\u001b[39m'\u001b[39m)\n\u001b[0;32m-> 2220\u001b[0m train_pool \u001b[39m=\u001b[39m _build_train_pool(X, y, cat_features, text_features, embedding_features, pairs,\n\u001b[1;32m   2221\u001b[0m                                sample_weight, group_id, group_weight, subgroup_id, pairs_weight,\n\u001b[1;32m   2222\u001b[0m                                baseline, column_description)\n\u001b[1;32m   2223\u001b[0m \u001b[39mif\u001b[39;00m train_pool\u001b[39m.\u001b[39mis_empty_:\n\u001b[1;32m   2224\u001b[0m     \u001b[39mraise\u001b[39;00m CatBoostError(\u001b[39m\"\u001b[39m\u001b[39mX is empty.\u001b[39m\u001b[39m\"\u001b[39m)\n",
      "File \u001b[0;32m/opt/conda/lib/python3.8/site-packages/catboost/core.py:1438\u001b[0m, in \u001b[0;36m_build_train_pool\u001b[0;34m(X, y, cat_features, text_features, embedding_features, pairs, sample_weight, group_id, group_weight, subgroup_id, pairs_weight, baseline, column_description)\u001b[0m\n\u001b[1;32m   1436\u001b[0m     \u001b[39mif\u001b[39;00m y \u001b[39mis\u001b[39;00m \u001b[39mNone\u001b[39;00m:\n\u001b[1;32m   1437\u001b[0m         \u001b[39mraise\u001b[39;00m CatBoostError(\u001b[39m\"\u001b[39m\u001b[39my has not initialized in fit(): X is not catboost.Pool object, y must be not None in fit().\u001b[39m\u001b[39m\"\u001b[39m)\n\u001b[0;32m-> 1438\u001b[0m     train_pool \u001b[39m=\u001b[39m Pool(X, y, cat_features\u001b[39m=\u001b[39;49mcat_features, text_features\u001b[39m=\u001b[39;49mtext_features, embedding_features\u001b[39m=\u001b[39;49membedding_features, pairs\u001b[39m=\u001b[39;49mpairs, weight\u001b[39m=\u001b[39;49msample_weight, group_id\u001b[39m=\u001b[39;49mgroup_id,\n\u001b[1;32m   1439\u001b[0m                       group_weight\u001b[39m=\u001b[39;49mgroup_weight, subgroup_id\u001b[39m=\u001b[39;49msubgroup_id, pairs_weight\u001b[39m=\u001b[39;49mpairs_weight, baseline\u001b[39m=\u001b[39;49mbaseline)\n\u001b[1;32m   1440\u001b[0m \u001b[39mreturn\u001b[39;00m train_pool\n",
      "File \u001b[0;32m/opt/conda/lib/python3.8/site-packages/catboost/core.py:792\u001b[0m, in \u001b[0;36mPool.__init__\u001b[0;34m(self, data, label, cat_features, text_features, embedding_features, embedding_features_data, column_description, pairs, delimiter, has_header, ignore_csv_quoting, weight, group_id, group_weight, subgroup_id, pairs_weight, baseline, timestamp, feature_names, feature_tags, thread_count, log_cout, log_cerr)\u001b[0m\n\u001b[1;32m    786\u001b[0m         \u001b[39mif\u001b[39;00m \u001b[39misinstance\u001b[39m(feature_names, PATH_TYPES):\n\u001b[1;32m    787\u001b[0m             \u001b[39mraise\u001b[39;00m CatBoostError(\n\u001b[1;32m    788\u001b[0m                 \u001b[39m\"\u001b[39m\u001b[39mfeature_names must be None or have non-string type when the pool is created from \u001b[39m\u001b[39m\"\u001b[39m\n\u001b[1;32m    789\u001b[0m                 \u001b[39m\"\u001b[39m\u001b[39mpython objects.\u001b[39m\u001b[39m\"\u001b[39m\n\u001b[1;32m    790\u001b[0m             )\n\u001b[0;32m--> 792\u001b[0m         \u001b[39mself\u001b[39;49m\u001b[39m.\u001b[39;49m_init(data, label, cat_features, text_features, embedding_features, embedding_features_data, pairs, weight,\n\u001b[1;32m    793\u001b[0m                    group_id, group_weight, subgroup_id, pairs_weight, baseline, timestamp, feature_names, feature_tags, thread_count)\n\u001b[1;32m    794\u001b[0m \u001b[39msuper\u001b[39m(Pool, \u001b[39mself\u001b[39m)\u001b[39m.\u001b[39m\u001b[39m__init__\u001b[39m()\n",
      "File \u001b[0;32m/opt/conda/lib/python3.8/site-packages/catboost/core.py:1419\u001b[0m, in \u001b[0;36mPool._init\u001b[0;34m(self, data, label, cat_features, text_features, embedding_features, embedding_features_data, pairs, weight, group_id, group_weight, subgroup_id, pairs_weight, baseline, timestamp, feature_names, feature_tags, thread_count)\u001b[0m\n\u001b[1;32m   1417\u001b[0m \u001b[39mif\u001b[39;00m feature_tags \u001b[39mis\u001b[39;00m \u001b[39mnot\u001b[39;00m \u001b[39mNone\u001b[39;00m:\n\u001b[1;32m   1418\u001b[0m     feature_tags \u001b[39m=\u001b[39m \u001b[39mself\u001b[39m\u001b[39m.\u001b[39m_check_transform_tags(feature_tags, feature_names)\n\u001b[0;32m-> 1419\u001b[0m \u001b[39mself\u001b[39;49m\u001b[39m.\u001b[39;49m_init_pool(data, label, cat_features, text_features, embedding_features, embedding_features_data, pairs, weight,\n\u001b[1;32m   1420\u001b[0m                 group_id, group_weight, subgroup_id, pairs_weight, baseline, timestamp, feature_names, feature_tags, thread_count)\n",
      "File \u001b[0;32m_catboost.pyx:3954\u001b[0m, in \u001b[0;36m_catboost._PoolBase._init_pool\u001b[0;34m()\u001b[0m\n",
      "File \u001b[0;32m_catboost.pyx:4004\u001b[0m, in \u001b[0;36m_catboost._PoolBase._init_pool\u001b[0;34m()\u001b[0m\n",
      "File \u001b[0;32m_catboost.pyx:3820\u001b[0m, in \u001b[0;36m_catboost._PoolBase._init_features_order_layout_pool\u001b[0;34m()\u001b[0m\n",
      "File \u001b[0;32m_catboost.pyx:2786\u001b[0m, in \u001b[0;36m_catboost._set_features_order_data_pd_data_frame\u001b[0;34m()\u001b[0m\n",
      "File \u001b[0;32m_catboost.pyx:2327\u001b[0m, in \u001b[0;36m_catboost.create_num_factor_data\u001b[0;34m()\u001b[0m\n",
      "File \u001b[0;32m_catboost.pyx:2288\u001b[0m, in \u001b[0;36m_catboost.get_float_feature\u001b[0;34m()\u001b[0m\n",
      "\u001b[0;31mCatBoostError\u001b[0m: Bad value for num_feature[non_default_doc_idx=0,feature_idx=1]=\"A040029006\": Cannot convert 'b'A040029006'' to float"
     ]
    }
   ],
   "source": [
    "from sklearn.model_selection import StratifiedKFold\n",
    "_test['prediction'] = 0\n",
    "skf = StratifiedKFold(n_splits=10)\n",
    "\n",
    "for train_idx, value_idx in skf.split(_train, _train_value):   \n",
    "    train = _train.iloc[train_idx, :]     \n",
    "    train_value = _train_value.iloc[train_idx]       \n",
    "    model = CatBoostClassifier(**study.best_params)\n",
    "    model.fit(train[FEATURE], train_value, early_stopping_rounds=100, verbose=200, eval_set=(_valid, _valid_value))     \n",
    "    test_pred = model.predict_proba(_test[FEATURE])[:,1]\n",
    "    _test['prediction'] += test_pred    \n",
    "    print(f'================================================================================\\n\\n')\n",
    "    \n",
    "_test['prediction'] /= 10\n",
    "submission = _test['prediction'].reset_index(drop = True).reset_index()\n",
    "submission.rename(columns = {'index':'id'}, inplace = True)\n",
    "submission.to_csv(os.path.join('/opt/ml/input/code/level2_dkt_recsys-level2-recsys-04/output/submission.csv'), index = False)\n",
    "print(\"SAVE COMPLETE\")"
   ]
  },
  {
   "cell_type": "code",
   "execution_count": null,
   "metadata": {},
   "outputs": [
    {
     "data": {
      "text/plain": [
       "((2518514, 15), (2518514,))"
      ]
     },
     "execution_count": 67,
     "metadata": {},
     "output_type": "execute_result"
    }
   ],
   "source": [
    "_train.shape, _train_value.shape"
   ]
  },
  {
   "cell_type": "code",
   "execution_count": null,
   "metadata": {},
   "outputs": [],
   "source": [
    "import matplotlib.pyplot as plt\n",
    "\n",
    "feature_importance = cat_model.feature_importances_\n",
    "sorted_idx = np.argsort(feature_importance)\n",
    "fig = plt.figure(figsize=(12, 6))\n",
    "plt.barh(range(len(sorted_idx)), feature_importance[sorted_idx], align=\"center\")\n",
    "plt.yticks(range(len(sorted_idx)), np.array(_valid.columns)[sorted_idx])\n",
    "plt.title(\"Feature Importance\")"
   ]
  },
  {
   "cell_type": "code",
   "execution_count": null,
   "metadata": {},
   "outputs": [],
   "source": [
    "# submission 제출하기 위한 코드\n",
    "\n",
    "_test_pred = cat_model.predict_proba(_test)[:,1]\n",
    "_test['prediction'] = _test_pred\n",
    "submission = _test['prediction'].reset_index(drop = True).reset_index()\n",
    "submission.rename(columns = {'index':'id'}, inplace = True)\n",
    "submission.to_csv('../output/cat3.csv', index = False)"
   ]
  },
  {
   "cell_type": "code",
   "execution_count": null,
   "metadata": {},
   "outputs": [],
   "source": []
  }
 ],
 "metadata": {
  "kernelspec": {
   "display_name": "Python 3.8.5 ('base')",
   "language": "python",
   "name": "python3"
  },
  "language_info": {
   "codemirror_mode": {
    "name": "ipython",
    "version": 3
   },
   "file_extension": ".py",
   "mimetype": "text/x-python",
   "name": "python",
   "nbconvert_exporter": "python",
   "pygments_lexer": "ipython3",
   "version": "3.8.5"
  },
  "orig_nbformat": 4,
  "vscode": {
   "interpreter": {
    "hash": "d4d1e4263499bec80672ea0156c357c1ee493ec2b1c70f0acce89fc37c4a6abe"
   }
  }
 },
 "nbformat": 4,
 "nbformat_minor": 2
}
