{
 "cells": [
  {
   "cell_type": "code",
   "execution_count": null,
   "metadata": {},
   "outputs": [],
   "source": [
    "import numpy as np\n",
    "import pandas as pd\n",
    "\n",
    "import os\n",
    "import random\n",
    "\n",
    "import warnings\n",
    "\n",
    "warnings.filterwarnings(action='ignore')\n",
    "\n",
    "path = '/opt/ml/input/data/'\n",
    "dat = pd.read_csv(path + '/FE_total2.csv')\n"
   ]
  },
  {
   "cell_type": "code",
   "execution_count": null,
   "metadata": {},
   "outputs": [],
   "source": [
    "dat.drop(['day','year','KnowledgeTag', 'last_answerCode7','last_answerCode8','last_answerCode9','last_answerCode10'], axis = 1, inplace = True)"
   ]
  },
  {
   "cell_type": "code",
   "execution_count": null,
   "metadata": {},
   "outputs": [],
   "source": [
    "_train = dat[dat['answerCode'] >= 0]\n",
    "_test = dat[dat['answerCode'] < 0]"
   ]
  },
  {
   "cell_type": "code",
   "execution_count": null,
   "metadata": {},
   "outputs": [],
   "source": [
    "# # valid 제작하는 함수 새로 개편.\n",
    "# # 예전 valid 제작 함수는 1분 걸렸는데 0.6초만에 끗~\n",
    "# _train['train_valid'] = 0\n",
    "# _train.loc[_train.drop_duplicates(subset='userID', keep = 'last').index, 'train_valid'] = -1\n",
    "# _valid = _train[_train['train_valid'] == -1]\n",
    "# _train = _train[_train['train_valid'] == 0]"
   ]
  },
  {
   "cell_type": "code",
   "execution_count": null,
   "metadata": {},
   "outputs": [],
   "source": [
    "# 모델에 적용하기 전 기본적인 데이터 전처리 부분\n",
    "## 라벨링, 필요없는 칼럼 제거\n",
    "_train_value = _train['answerCode']\n",
    "_train.drop(['Timestamp', 'testId'], axis = 1, inplace = True) # ,'category_st_qcut_5'\n",
    "\n",
    "# _valid_value = _valid['answerCode']\n",
    "# _valid.drop(['Timestamp', 'testId', 'train_valid', 'answerCode'], axis = 1, inplace = True) # ,'category_st_qcut_5'\n",
    "\n",
    "_test.drop(['Timestamp', 'testId'], axis = 1, inplace = True) # ,'category_st_qcut_5'"
   ]
  },
  {
   "cell_type": "code",
   "execution_count": null,
   "metadata": {},
   "outputs": [],
   "source": [
    "# CatBoost에 적용하기 위해선 문자열 데이터로 변환 필요.\n",
    "# 만약 범주형이 아니고 연속형(정수, 소수) 성질을 살리고 싶은 변수는 여기 drop에 적어두면 됨.(solve_time 같이.)\n",
    "cat_columns = list(_train.drop(['solve_time','month'],axis=1).columns)\n",
    "\n",
    "for col in cat_columns:\n",
    "    _train[col] = _train[col].astype('str')\n",
    "    # _valid[col] = _valid[col].astype('str')\n",
    "    _test[col] = _test[col].astype('str')"
   ]
  },
  {
   "cell_type": "code",
   "execution_count": null,
   "metadata": {},
   "outputs": [],
   "source": [
    "def train_valid_split(df, train_size=0.90):\n",
    "    # Total user number\n",
    "    total_user = df.userID.nunique()\n",
    "\n",
    "    # Total user indices\n",
    "    total_user_index = df.userID.unique()\n",
    "\n",
    "    # Divide the user number with ratio\n",
    "    train_user = round(total_user * train_size)\n",
    "    valid_user = total_user - train_user\n",
    "\n",
    "    # Find the first user which located at validation set\n",
    "    valid_user_id = total_user_index[train_user]\n",
    "\n",
    "    # Find the first index of the validation set\n",
    "    valid_index = df.query('userID == @valid_user_id').index[0]\n",
    "\n",
    "    # Split the dataset to train and valid\n",
    "    train = df.iloc[:valid_index]\n",
    "    valid = df.iloc[valid_index:]\n",
    "\n",
    "    return train, valid"
   ]
  },
  {
   "cell_type": "code",
   "execution_count": null,
   "metadata": {},
   "outputs": [],
   "source": [
    "FEATHER = ['userID',\n",
    " 'assessmentItemID',\n",
    " 'b_category',\n",
    " 'test_category',\n",
    " 'problem_id',\n",
    " 'category_st_qcut_5',\n",
    " 'last_answerCode',\n",
    " 'last_answerCode2',\n",
    " 'last_answerCode3',\n",
    " 'last_answerCode4',\n",
    " 'last_answerCode5',\n",
    " 'last_answerCode6',\n",
    " 'hour']"
   ]
  },
  {
   "cell_type": "code",
   "execution_count": null,
   "metadata": {},
   "outputs": [],
   "source": [
    "from sklearn.metrics import accuracy_score, roc_auc_score\n",
    "from optuna import Trial, visualization\n",
    "from optuna.samplers import TPESampler\n",
    "from catboost import CatBoostClassifier\n",
    "from sklearn.model_selection import KFold\n",
    "\n",
    "def objective(trial, train, FEATHER):\n",
    "\n",
    "    param = {\n",
    "    \"task_type\" : \"GPU\",\n",
    "    \"eval_metric\" : 'AUC',\n",
    "    # \"devices\" : '0',\n",
    "    \"random_state\": 1998,\n",
    "    'learning_rate': 0.01,\n",
    "    # 'bagging_temperature': 0.05,\n",
    "    'iterations': 4000,\n",
    "    'max_depth': trial.suggest_int(\"max_depth\", 8, 12),\n",
    "    # 'random_strength': 0,\n",
    "    # 'l2_leaf_reg': 2e-7,\n",
    "    # 'min_child_samples': 5, \n",
    "    # 'max_bin': 100, \n",
    "    # 'od_type': 'Iter',\n",
    "    \"cat_features\" : FEATHER,\n",
    "    }\n",
    "    \n",
    "    skf = KFold(n_splits=3)\n",
    "    roc_auc = []\n",
    "    for _ in range(10):\n",
    "        _train, _valid = train_valid_split(train)   \n",
    "        _train_value = _train['answerCode']\n",
    "        _train.drop('answerCode', axis = 1, inplace = True)\n",
    "        _valid_value = _valid['answerCode']\n",
    "        _valid.drop('answerCode', axis = 1, inplace = True)\n",
    "        \n",
    "        # print(_train.head())  \n",
    "        # print(_train_value.head())  \n",
    "        # print(_valid.head())  \n",
    "        # print(_valid_value.head())  \n",
    "        model = CatBoostClassifier(**param)\n",
    "        model.fit(_train, _train_value, early_stopping_rounds=100, verbose=200, eval_set=(_valid, _valid_value))\n",
    "        train_pred = model.predict_proba(_train)[:,1]     \n",
    "        valid_pred = model.predict_proba(_valid)[:,1]\n",
    "\n",
    "        print(roc_auc_score(_valid_value, valid_pred))\n",
    "        roc_auc.append(roc_auc_score(_valid_value, valid_pred))\n",
    "\n",
    "        print('train score')\n",
    "        print(roc_auc_score(_train_value, train_pred)) # auc\n",
    "        print(accuracy_score(_train_value, np.where(train_pred >= 0.5, 1, 0))) # acc, 정확도\n",
    "\n",
    "        print('valid score')\n",
    "        print(roc_auc_score(_valid_value, valid_pred)) # auc\n",
    "        print(accuracy_score(_valid_value, np.where(valid_pred >= 0.5, 1, 0))) # acc, 정확도   \n",
    "    \n",
    "    print(roc_auc)\n",
    "    return sum(roc_auc) / 3"
   ]
  },
  {
   "cell_type": "markdown",
   "metadata": {},
   "source": [
    "***optuna + kfold training***"
   ]
  },
  {
   "cell_type": "code",
   "execution_count": null,
   "metadata": {},
   "outputs": [],
   "source": [
    "import optuna\n",
    "sampler = optuna.samplers.TPESampler(seed=42)\n",
    "study = optuna.create_study(\n",
    "    study_name = 'cat_parameter_opt',\n",
    "    direction = 'maximize',\n",
    "    sampler = sampler,\n",
    ")\n",
    "study.optimize(lambda trial : objective(trial, _train, FEATHER), n_trials=5)"
   ]
  },
  {
   "cell_type": "markdown",
   "metadata": {},
   "source": [
    "***best param + kfold***"
   ]
  },
  {
   "cell_type": "code",
   "execution_count": null,
   "metadata": {},
   "outputs": [],
   "source": [
    "from sklearn.model_selection import StratifiedKFold\n",
    "_test['prediction'] = 0\n",
    "skf = StratifiedKFold(n_splits=10)\n",
    "\n",
    "for train_idx, value_idx in skf.split(_train, _train_value):   \n",
    "    train = _train.iloc[train_idx, :]     \n",
    "    train_value = _train_value.iloc[train_idx]  \n",
    "    valid = _train.iloc[value_idx, :]   \n",
    "    valid_value = _train_value.iloc[value_idx]  \n",
    "    model = CatBoostClassifier(**study.best_params)\n",
    "    model.fit(train[FEATURE], train_value, early_stopping_rounds=100, verbose=200, eval_set=(valid, valid_value))     \n",
    "    test_pred = model.predict_proba(_test[FEATURE])[:,1]\n",
    "    _test['prediction'] += test_pred    \n",
    "    print(f'================================================================================\\n\\n')\n",
    "    \n",
    "_test['prediction'] /= 10\n",
    "submission = _test['prediction'].reset_index(drop = True).reset_index()\n",
    "submission.rename(columns = {'index':'id'}, inplace = True)\n",
    "submission.to_csv(os.path.join('/opt/ml/input/code/level2_dkt_recsys-level2-recsys-04/output/submission.csv'), index = False)\n",
    "print(\"SAVE COMPLETE\")"
   ]
  },
  {
   "cell_type": "code",
   "execution_count": null,
   "metadata": {},
   "outputs": [],
   "source": [
    "import matplotlib.pyplot as plt\n",
    "\n",
    "feature_importance = cat_model.feature_importances_\n",
    "sorted_idx = np.argsort(feature_importance)\n",
    "fig = plt.figure(figsize=(12, 6))\n",
    "plt.barh(range(len(sorted_idx)), feature_importance[sorted_idx], align=\"center\")\n",
    "plt.yticks(range(len(sorted_idx)), np.array(_valid.columns)[sorted_idx])\n",
    "plt.title(\"Feature Importance\")"
   ]
  },
  {
   "cell_type": "code",
   "execution_count": null,
   "metadata": {},
   "outputs": [],
   "source": [
    "# submission 제출하기 위한 코드\n",
    "\n",
    "_test_pred = cat_model.predict_proba(_test)[:,1]\n",
    "_test['prediction'] = _test_pred\n",
    "submission = _test['prediction'].reset_index(drop = True).reset_index()\n",
    "submission.rename(columns = {'index':'id'}, inplace = True)\n",
    "submission.to_csv('../output/cat3.csv', index = False)"
   ]
  },
  {
   "cell_type": "code",
   "execution_count": null,
   "metadata": {},
   "outputs": [],
   "source": []
  }
 ],
 "metadata": {
  "kernelspec": {
   "display_name": "Python 3.8.5 ('base')",
   "language": "python",
   "name": "python3"
  },
  "language_info": {
   "codemirror_mode": {
    "name": "ipython",
    "version": 3
   },
   "file_extension": ".py",
   "mimetype": "text/x-python",
   "name": "python",
   "nbconvert_exporter": "python",
   "pygments_lexer": "ipython3",
   "version": "3.8.5"
  },
  "orig_nbformat": 4,
  "vscode": {
   "interpreter": {
    "hash": "d4d1e4263499bec80672ea0156c357c1ee493ec2b1c70f0acce89fc37c4a6abe"
   }
  }
 },
 "nbformat": 4,
 "nbformat_minor": 2
}
