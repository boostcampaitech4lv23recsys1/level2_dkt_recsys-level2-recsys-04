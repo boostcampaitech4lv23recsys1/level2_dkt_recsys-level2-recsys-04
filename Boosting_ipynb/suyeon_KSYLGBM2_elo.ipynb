{
  "cells": [
    {
      "cell_type": "code",
      "execution_count": 3,
      "metadata": {
        "ExecuteTime": {
          "end_time": "2021-05-24T09:49:29.375544Z",
          "start_time": "2021-05-24T09:49:28.999092Z"
        },
        "id": "Uq_TJqbdhfQu"
      },
      "outputs": [],
      "source": [
        "import pandas as pd\n",
        "import numpy as np\n",
        "import os\n",
        "import random\n",
        "from tqdm import tqdm\n",
        "\n",
        "from lightgbm import LGBMClassifier\n",
        "from sklearn.metrics import roc_auc_score\n",
        "from sklearn.metrics import accuracy_score\n"
      ]
    },
    {
      "cell_type": "code",
      "execution_count": 4,
      "metadata": {},
      "outputs": [],
      "source": [
        "path = '/opt/ml/input/data/'\n",
        "# # train = pd.read_csv(path + 'train_data.csv')\n",
        "# # test = pd.read_csv(path + 'test_data.csv')\n",
        "dat = pd.read_csv(path + 'FE_total_2_elo2.csv')\n",
        "\n",
        "dat = dat.sort_values(by = ['userID', 'Timestamp'])\n",
        "dat['tem'] = 0\n"
      ]
    },
    {
      "cell_type": "code",
      "execution_count": 5,
      "metadata": {},
      "outputs": [],
      "source": [
        "dat.drop(['last_answerCode7','last_answerCode8','last_answerCode9','last_answerCode10'], axis = 1, inplace = True)"
      ]
    },
    {
      "cell_type": "code",
      "execution_count": 6,
      "metadata": {},
      "outputs": [],
      "source": [
        "\n",
        "_train = dat[dat['answerCode'] >= 0]\n",
        "_test = dat[dat['answerCode'] == -1]"
      ]
    },
    {
      "cell_type": "code",
      "execution_count": 7,
      "metadata": {},
      "outputs": [
        {
          "data": {
            "text/plain": [
              "730     1860\n",
              "481     1847\n",
              "1112    1777\n",
              "394     1774\n",
              "926     1773\n",
              "        ... \n",
              "7373      14\n",
              "7252      13\n",
              "7414      13\n",
              "7390      13\n",
              "7441       9\n",
              "Name: userID, Length: 7442, dtype: int64"
            ]
          },
          "execution_count": 7,
          "metadata": {},
          "output_type": "execute_result"
        }
      ],
      "source": [
        "_train['userID'].value_counts()"
      ]
    },
    {
      "cell_type": "code",
      "execution_count": 8,
      "metadata": {},
      "outputs": [],
      "source": [
        "def elo(df):\n",
        "    def get_new_theta(is_good_answer, beta, left_asymptote, theta, nb_previous_answers):\n",
        "        return theta + learning_rate_theta(nb_previous_answers) * (\n",
        "            is_good_answer - probability_of_good_answer(theta, beta, left_asymptote)\n",
        "        )\n",
        "\n",
        "    def get_new_beta(is_good_answer, beta, left_asymptote, theta, nb_previous_answers):\n",
        "        return beta - learning_rate_beta(nb_previous_answers) * (\n",
        "            is_good_answer - probability_of_good_answer(theta, beta, left_asymptote)\n",
        "        )\n",
        "\n",
        "    def learning_rate_theta(nb_answers):\n",
        "        return max(0.3 / (1 + 0.01 * nb_answers), 0.04)\n",
        "\n",
        "    def learning_rate_beta(nb_answers):\n",
        "        return 1 / (1 + 0.05 * nb_answers)\n",
        "\n",
        "    def probability_of_good_answer(theta, beta, left_asymptote):\n",
        "        return left_asymptote + (1 - left_asymptote) * sigmoid(theta - beta)\n",
        "\n",
        "    def sigmoid(x):\n",
        "        return 1 / (1 + np.exp(-x))\n",
        "\n",
        "    def estimate_parameters(answers_df, granularity_feature_name=\"assessmentItemID\"):\n",
        "        item_parameters = {\n",
        "            granularity_feature_value: {\"beta\": 0, \"nb_answers\": 0}\n",
        "            for granularity_feature_value in np.unique(\n",
        "                answers_df[granularity_feature_name]\n",
        "            )\n",
        "        }\n",
        "        student_parameters = {\n",
        "            student_id: {\"theta\": 0, \"nb_answers\": 0}\n",
        "            for student_id in np.unique(answers_df.userID)\n",
        "        }\n",
        "\n",
        "        print(\"Parameter estimation is starting...\", flush=True)\n",
        "\n",
        "        for student_id, item_id, left_asymptote, answered_correctly in tqdm(\n",
        "            zip(\n",
        "                answers_df.userID.values,\n",
        "                answers_df[granularity_feature_name].values,\n",
        "                answers_df.left_asymptote.values,\n",
        "                answers_df.answerCode.values,\n",
        "            ),\n",
        "            total=len(answers_df),\n",
        "        ):\n",
        "            theta = student_parameters[student_id][\"theta\"]\n",
        "            beta = item_parameters[item_id][\"beta\"]\n",
        "\n",
        "            item_parameters[item_id][\"beta\"] = get_new_beta(\n",
        "                answered_correctly,\n",
        "                beta,\n",
        "                left_asymptote,\n",
        "                theta,\n",
        "                item_parameters[item_id][\"nb_answers\"],\n",
        "            )\n",
        "            student_parameters[student_id][\"theta\"] = get_new_theta(\n",
        "                answered_correctly,\n",
        "                beta,\n",
        "                left_asymptote,\n",
        "                theta,\n",
        "                student_parameters[student_id][\"nb_answers\"],\n",
        "            )\n",
        "\n",
        "            item_parameters[item_id][\"nb_answers\"] += 1\n",
        "            student_parameters[student_id][\"nb_answers\"] += 1\n",
        "\n",
        "        print(f\"Theta & beta estimations on {granularity_feature_name} are completed.\")\n",
        "        return student_parameters, item_parameters\n",
        "        \n",
        "\n",
        "\n",
        "\n",
        "\n",
        "    df[\"left_asymptote\"] = 0\n",
        "\n",
        "    print(f\"Dataset of shape {df.shape}\")\n",
        "    print(f\"Columns are {list(df.columns)}\")\n",
        "\n",
        "    student_parameters, item_parameters = estimate_parameters(df)\n",
        "\n",
        "    \n",
        "    t = [\n",
        "        student_parameters[student][\"theta\"]\n",
        "        for student, item in zip(df.userID.values, df.assessmentItemID.values)\n",
        "    ]\n",
        "    \n",
        "\n",
        "\n",
        "    #theta represents the global level of the student\n",
        "    df['elouser'] = t\n",
        "\n",
        "    return df\n"
      ]
    },
    {
      "cell_type": "code",
      "execution_count": 9,
      "metadata": {
        "ExecuteTime": {
          "end_time": "2021-05-24T09:49:29.678737Z",
          "start_time": "2021-05-24T09:49:29.376581Z"
        },
        "id": "s6qgJ8MLhfQw"
      },
      "outputs": [],
      "source": [
        "# 데이터 증강하는 법.\n",
        "def data_argument(train):\n",
        "    _train = train.copy()\n",
        "    _train.reset_index(drop = True, inplace= True)\n",
        "    _train.loc[_train.drop_duplicates(subset='userID', keep = 'last').index, 'tem'] = -1\n",
        "    _valid = _train[_train['tem'] == -1]\n",
        "    _train = _train[_train['tem'] == 0]\n",
        "\n",
        "    return _train, _valid\n",
        "\n",
        "_train_x, _valid = data_argument(_train)\n",
        "# _train_x_1, _train_1 = data_argument(_train_x)\n",
        "# _train_x_2, _train_2 = data_argument(_train_x_1)\n",
        "# _train_x_3, _train_3 = data_argument(_train_x_2)\n",
        "# _train_x_4, _train_4 = data_argument(_train_x_3)\n",
        "# _train_x_5, _train_5 = data_argument(_train_x_4)\n",
        "# _train_x_6, _train_6 = data_argument(_train_x_5)\n",
        "# _train_x_7, _train_7 = data_argument(_train_x_6)\n",
        "# _train_x_8, _train_8 = data_argument(_train_x_7)\n",
        "# _train_x_9, _train_9 = data_argument(_train_x_8)\n",
        "# _train_x_10, _train_10 = data_argument(_train_x_9)"
      ]
    },
    {
      "cell_type": "code",
      "execution_count": 10,
      "metadata": {},
      "outputs": [
        {
          "name": "stderr",
          "output_type": "stream",
          "text": [
            "/tmp/ipykernel_93623/502413999.py:75: SettingWithCopyWarning: \n",
            "A value is trying to be set on a copy of a slice from a DataFrame.\n",
            "Try using .loc[row_indexer,col_indexer] = value instead\n",
            "\n",
            "See the caveats in the documentation: https://pandas.pydata.org/pandas-docs/stable/user_guide/indexing.html#returning-a-view-versus-a-copy\n",
            "  df[\"left_asymptote\"] = 0\n"
          ]
        },
        {
          "name": "stdout",
          "output_type": "stream",
          "text": [
            "Dataset of shape (630107, 29)\n",
            "Columns are ['userID', 'assessmentItemID', 'testId', 'answerCode', 'Timestamp', 'KnowledgeTag', 'elouser', 'eloitem', 'elotag', 'elotest', 'elo', 'solve_time', 'b_category', 'test_category', 'problem_id', 'category_st_qcut_5', 'last_answerCode', 'last_answerCode2', 'last_answerCode3', 'last_answerCode4', 'last_answerCode5', 'last_answerCode6', 'year', 'month', 'day', 'hour', 'tem', 'item_mean', 'left_asymptote']\n",
            "Parameter estimation is starting...\n"
          ]
        },
        {
          "name": "stderr",
          "output_type": "stream",
          "text": [
            "100%|██████████| 630107/630107 [00:14<00:00, 44663.59it/s]\n"
          ]
        },
        {
          "name": "stdout",
          "output_type": "stream",
          "text": [
            "Theta & beta estimations on assessmentItemID are completed.\n"
          ]
        },
        {
          "name": "stderr",
          "output_type": "stream",
          "text": [
            "/tmp/ipykernel_93623/502413999.py:91: SettingWithCopyWarning: \n",
            "A value is trying to be set on a copy of a slice from a DataFrame.\n",
            "Try using .loc[row_indexer,col_indexer] = value instead\n",
            "\n",
            "See the caveats in the documentation: https://pandas.pydata.org/pandas-docs/stable/user_guide/indexing.html#returning-a-view-versus-a-copy\n",
            "  df['elouser'] = t\n",
            "/tmp/ipykernel_93623/502413999.py:75: SettingWithCopyWarning: \n",
            "A value is trying to be set on a copy of a slice from a DataFrame.\n",
            "Try using .loc[row_indexer,col_indexer] = value instead\n",
            "\n",
            "See the caveats in the documentation: https://pandas.pydata.org/pandas-docs/stable/user_guide/indexing.html#returning-a-view-versus-a-copy\n",
            "  df[\"left_asymptote\"] = 0\n"
          ]
        },
        {
          "name": "stdout",
          "output_type": "stream",
          "text": [
            "Dataset of shape (627840, 29)\n",
            "Columns are ['userID', 'assessmentItemID', 'testId', 'answerCode', 'Timestamp', 'KnowledgeTag', 'elouser', 'eloitem', 'elotag', 'elotest', 'elo', 'solve_time', 'b_category', 'test_category', 'problem_id', 'category_st_qcut_5', 'last_answerCode', 'last_answerCode2', 'last_answerCode3', 'last_answerCode4', 'last_answerCode5', 'last_answerCode6', 'year', 'month', 'day', 'hour', 'tem', 'item_mean', 'left_asymptote']\n",
            "Parameter estimation is starting...\n"
          ]
        },
        {
          "name": "stderr",
          "output_type": "stream",
          "text": [
            "100%|██████████| 627840/627840 [00:14<00:00, 44383.62it/s]\n"
          ]
        },
        {
          "name": "stdout",
          "output_type": "stream",
          "text": [
            "Theta & beta estimations on assessmentItemID are completed.\n"
          ]
        },
        {
          "name": "stderr",
          "output_type": "stream",
          "text": [
            "/tmp/ipykernel_93623/502413999.py:91: SettingWithCopyWarning: \n",
            "A value is trying to be set on a copy of a slice from a DataFrame.\n",
            "Try using .loc[row_indexer,col_indexer] = value instead\n",
            "\n",
            "See the caveats in the documentation: https://pandas.pydata.org/pandas-docs/stable/user_guide/indexing.html#returning-a-view-versus-a-copy\n",
            "  df['elouser'] = t\n"
          ]
        }
      ],
      "source": [
        "def data_merge(_train_x, _train_y): \n",
        "    # _train_x : 값 제공하는 전체 DB, _train_y : 현재 맞춰야 하는 유저와 아이템 상태.\n",
        "\n",
        "    # 문제별로 평균값, 총 풀어진 개수 구하기.\n",
        "    item1 = _train_x.groupby(['assessmentItemID'])['answerCode'].agg(['mean', 'sum'])\n",
        "    item1.columns = [\"item_mean\", 'item_sum']\n",
        "    item1.reset_index(inplace=True)\n",
        "    _train_x = pd.merge(_train_x, item1[['assessmentItemID','item_mean']], on=['assessmentItemID'], how='left')\n",
        "\n",
        "    # 유저 단위 변수 추가\n",
        "\n",
        "    # 유저가 평균적으로 얼마나 맞는지, 또 몇 문제 풀었는지.\n",
        "    tem1 = _train_x.groupby('userID')['answerCode']\n",
        "    tem1 = pd.DataFrame({'answer_mean' : tem1.mean(), 'answer_cnt':tem1.count()}).reset_index()\n",
        "    # 유저가 평균적으로 몇 분안에 문제를 풀었는지.\n",
        "    tem2 = _train_x.groupby('userID')['solve_time']\n",
        "    tem2 = pd.DataFrame({'time_mean' : tem2.mean()}).reset_index()\n",
        "    # 유저의 태그를 붙인 것 같은데 정확히 뭔지 모르겠음. => 최빈 태그라고 함(mode)\n",
        "    tem3 = pd.DataFrame({'tag_mode' : _train_x.groupby('userID')['KnowledgeTag'].agg(pd.Series.mode)})\n",
        "    tem3['tag_mode'] = tem3['tag_mode'].apply(lambda x : x if str(type(x)) ==\"<class 'numpy.int64'>\" else x[0])\n",
        "    # 유저가 지금까지 푼 문제의 평균 정답률은 어떻게 되는지 구하기.(어려운 문제를 풀어왔는가?)\n",
        "    tem5 = _train_x.groupby(['userID'])['item_mean'].agg(['mean']).reset_index()\n",
        "    \n",
        "    tem5.columns = [\"userID\", 'user_item_mean']\n",
        "    # tem4 = _train_x.groupby('userID')['answerCode'].apply(lambda x : x.iloc[-3:])\n",
        "    # tem4 = pd.DataFrame({'last3_mean' : tem4.groupby('userID').mean()})\n",
        "    \n",
        "    tmp = _train_x.groupby('userID').tail(100)\n",
        "    tmp = elo(tmp)\n",
        "    tmp = tmp.drop(columns=[\"left_asymptote\"])\n",
        "\n",
        "\n",
        "    tem6 = pd.DataFrame(tmp.groupby(['userID'])['elouser'].tail(1)).reset_index().reset_index()\n",
        "    tem6 = tem6.drop(['index'],axis=1)\n",
        "    tem6.columns = [\"userID\", 'elouser']\n",
        "\n",
        "        \n",
        "    user_df = pd.merge(tem1, tem2, on=['userID'], how='left')\n",
        "    user_df = pd.merge(user_df, tem3, on=['userID'], how='left')\n",
        "    user_df = pd.merge(user_df, tem5, on=['userID'], how='left')\n",
        "    user_df = pd.merge(user_df, tem6, on=['userID'], how='left')\n",
        "    # user_df = pd.merge(user_df, tem4, on=['userID'], how='left')\n",
        "    \n",
        "    _train_y = pd.merge(_train_y[['userID', 'assessmentItemID', 'answerCode','last_answerCode',\n",
        "    'last_answerCode2','last_answerCode3','last_answerCode4','last_answerCode5','last_answerCode6']], user_df, on=['userID'], how='left')\n",
        "\n",
        "    # 아이템 단위 변수 추가.\n",
        "\n",
        "    # 해당 문제는 평균 정답률이 어떻게 되는가? + 학생이 몇 번이나 풀었던가?\n",
        "    _train_y = pd.merge(_train_y, item1, on=['assessmentItemID'], how='left')\n",
        "    # 해당 문제는 평균 풀이 시간이 어떻게 되는가?\n",
        "    item2 = _train_x.groupby(['assessmentItemID'])['solve_time'].agg(['mean'])\n",
        "    item2.columns = [\"item_time_mean\"]\n",
        "    item2.reset_index(inplace=True)\n",
        "    _train_y = pd.merge(_train_y, item2, on=['assessmentItemID'], how='left')\n",
        "\n",
        "    return _train_y.drop(['userID','assessmentItemID'],axis=1)\n",
        "\n",
        "test = data_merge(_train, _test)\n",
        "valid = data_merge(_train_x, _valid)"
      ]
    },
    {
      "cell_type": "code",
      "execution_count": 11,
      "metadata": {},
      "outputs": [
        {
          "data": {
            "text/html": [
              "<div>\n",
              "<style scoped>\n",
              "    .dataframe tbody tr th:only-of-type {\n",
              "        vertical-align: middle;\n",
              "    }\n",
              "\n",
              "    .dataframe tbody tr th {\n",
              "        vertical-align: top;\n",
              "    }\n",
              "\n",
              "    .dataframe thead th {\n",
              "        text-align: right;\n",
              "    }\n",
              "</style>\n",
              "<table border=\"1\" class=\"dataframe\">\n",
              "  <thead>\n",
              "    <tr style=\"text-align: right;\">\n",
              "      <th></th>\n",
              "      <th>answerCode</th>\n",
              "      <th>last_answerCode</th>\n",
              "      <th>last_answerCode2</th>\n",
              "      <th>last_answerCode3</th>\n",
              "      <th>last_answerCode4</th>\n",
              "      <th>last_answerCode5</th>\n",
              "      <th>last_answerCode6</th>\n",
              "      <th>answer_mean</th>\n",
              "      <th>answer_cnt</th>\n",
              "      <th>time_mean</th>\n",
              "      <th>tag_mode</th>\n",
              "      <th>user_item_mean</th>\n",
              "      <th>elouser</th>\n",
              "      <th>item_mean</th>\n",
              "      <th>item_sum</th>\n",
              "      <th>item_time_mean</th>\n",
              "    </tr>\n",
              "  </thead>\n",
              "  <tbody>\n",
              "    <tr>\n",
              "      <th>0</th>\n",
              "      <td>0</td>\n",
              "      <td>0</td>\n",
              "      <td>1</td>\n",
              "      <td>0</td>\n",
              "      <td>1</td>\n",
              "      <td>1</td>\n",
              "      <td>0</td>\n",
              "      <td>0.631720</td>\n",
              "      <td>744</td>\n",
              "      <td>3.183573e+04</td>\n",
              "      <td>4784</td>\n",
              "      <td>0.656187</td>\n",
              "      <td>0.514004</td>\n",
              "      <td>0.157459</td>\n",
              "      <td>57</td>\n",
              "      <td>1471.690608</td>\n",
              "    </tr>\n",
              "    <tr>\n",
              "      <th>1</th>\n",
              "      <td>1</td>\n",
              "      <td>1</td>\n",
              "      <td>1</td>\n",
              "      <td>1</td>\n",
              "      <td>1</td>\n",
              "      <td>0</td>\n",
              "      <td>1</td>\n",
              "      <td>0.853004</td>\n",
              "      <td>932</td>\n",
              "      <td>2.890081e+04</td>\n",
              "      <td>2010</td>\n",
              "      <td>0.585533</td>\n",
              "      <td>1.628445</td>\n",
              "      <td>0.478261</td>\n",
              "      <td>11</td>\n",
              "      <td>22951.869565</td>\n",
              "    </tr>\n",
              "    <tr>\n",
              "      <th>2</th>\n",
              "      <td>0</td>\n",
              "      <td>0</td>\n",
              "      <td>0</td>\n",
              "      <td>0</td>\n",
              "      <td>0</td>\n",
              "      <td>0</td>\n",
              "      <td>0</td>\n",
              "      <td>0.614545</td>\n",
              "      <td>275</td>\n",
              "      <td>8.923406e+04</td>\n",
              "      <td>307</td>\n",
              "      <td>0.662057</td>\n",
              "      <td>0.328292</td>\n",
              "      <td>0.125000</td>\n",
              "      <td>30</td>\n",
              "      <td>139.725000</td>\n",
              "    </tr>\n",
              "    <tr>\n",
              "      <th>3</th>\n",
              "      <td>0</td>\n",
              "      <td>1</td>\n",
              "      <td>1</td>\n",
              "      <td>1</td>\n",
              "      <td>1</td>\n",
              "      <td>1</td>\n",
              "      <td>1</td>\n",
              "      <td>0.693424</td>\n",
              "      <td>1034</td>\n",
              "      <td>2.432358e+04</td>\n",
              "      <td>2616</td>\n",
              "      <td>0.670097</td>\n",
              "      <td>0.646806</td>\n",
              "      <td>0.425703</td>\n",
              "      <td>106</td>\n",
              "      <td>103.281124</td>\n",
              "    </tr>\n",
              "    <tr>\n",
              "      <th>4</th>\n",
              "      <td>1</td>\n",
              "      <td>1</td>\n",
              "      <td>1</td>\n",
              "      <td>1</td>\n",
              "      <td>0</td>\n",
              "      <td>1</td>\n",
              "      <td>1</td>\n",
              "      <td>0.693572</td>\n",
              "      <td>669</td>\n",
              "      <td>4.131957e+04</td>\n",
              "      <td>2065</td>\n",
              "      <td>0.611423</td>\n",
              "      <td>0.320060</td>\n",
              "      <td>0.652778</td>\n",
              "      <td>94</td>\n",
              "      <td>79.944444</td>\n",
              "    </tr>\n",
              "    <tr>\n",
              "      <th>...</th>\n",
              "      <td>...</td>\n",
              "      <td>...</td>\n",
              "      <td>...</td>\n",
              "      <td>...</td>\n",
              "      <td>...</td>\n",
              "      <td>...</td>\n",
              "      <td>...</td>\n",
              "      <td>...</td>\n",
              "      <td>...</td>\n",
              "      <td>...</td>\n",
              "      <td>...</td>\n",
              "      <td>...</td>\n",
              "      <td>...</td>\n",
              "      <td>...</td>\n",
              "      <td>...</td>\n",
              "      <td>...</td>\n",
              "    </tr>\n",
              "    <tr>\n",
              "      <th>7437</th>\n",
              "      <td>0</td>\n",
              "      <td>1</td>\n",
              "      <td>0</td>\n",
              "      <td>0</td>\n",
              "      <td>0</td>\n",
              "      <td>0</td>\n",
              "      <td>0</td>\n",
              "      <td>0.400000</td>\n",
              "      <td>15</td>\n",
              "      <td>3.384340e+05</td>\n",
              "      <td>2076</td>\n",
              "      <td>0.775111</td>\n",
              "      <td>-0.693594</td>\n",
              "      <td>0.867470</td>\n",
              "      <td>216</td>\n",
              "      <td>35.220884</td>\n",
              "    </tr>\n",
              "    <tr>\n",
              "      <th>7438</th>\n",
              "      <td>1</td>\n",
              "      <td>1</td>\n",
              "      <td>1</td>\n",
              "      <td>0</td>\n",
              "      <td>1</td>\n",
              "      <td>1</td>\n",
              "      <td>1</td>\n",
              "      <td>0.733333</td>\n",
              "      <td>15</td>\n",
              "      <td>1.362587e+06</td>\n",
              "      <td>2132</td>\n",
              "      <td>0.767696</td>\n",
              "      <td>0.009523</td>\n",
              "      <td>0.561224</td>\n",
              "      <td>165</td>\n",
              "      <td>60.853741</td>\n",
              "    </tr>\n",
              "    <tr>\n",
              "      <th>7439</th>\n",
              "      <td>1</td>\n",
              "      <td>1</td>\n",
              "      <td>1</td>\n",
              "      <td>0</td>\n",
              "      <td>1</td>\n",
              "      <td>0</td>\n",
              "      <td>0</td>\n",
              "      <td>0.714286</td>\n",
              "      <td>14</td>\n",
              "      <td>1.694699e+06</td>\n",
              "      <td>2132</td>\n",
              "      <td>0.753885</td>\n",
              "      <td>0.093830</td>\n",
              "      <td>0.829431</td>\n",
              "      <td>248</td>\n",
              "      <td>86.839465</td>\n",
              "    </tr>\n",
              "    <tr>\n",
              "      <th>7440</th>\n",
              "      <td>0</td>\n",
              "      <td>0</td>\n",
              "      <td>0</td>\n",
              "      <td>0</td>\n",
              "      <td>1</td>\n",
              "      <td>0</td>\n",
              "      <td>0</td>\n",
              "      <td>0.428571</td>\n",
              "      <td>14</td>\n",
              "      <td>3.897256e+05</td>\n",
              "      <td>1984</td>\n",
              "      <td>0.750708</td>\n",
              "      <td>-0.732877</td>\n",
              "      <td>0.574074</td>\n",
              "      <td>155</td>\n",
              "      <td>143.370370</td>\n",
              "    </tr>\n",
              "    <tr>\n",
              "      <th>7441</th>\n",
              "      <td>1</td>\n",
              "      <td>1</td>\n",
              "      <td>1</td>\n",
              "      <td>1</td>\n",
              "      <td>0</td>\n",
              "      <td>0</td>\n",
              "      <td>1</td>\n",
              "      <td>0.500000</td>\n",
              "      <td>8</td>\n",
              "      <td>8.290569e+05</td>\n",
              "      <td>438</td>\n",
              "      <td>0.675098</td>\n",
              "      <td>-0.275810</td>\n",
              "      <td>0.550523</td>\n",
              "      <td>158</td>\n",
              "      <td>176.871080</td>\n",
              "    </tr>\n",
              "  </tbody>\n",
              "</table>\n",
              "<p>7442 rows × 16 columns</p>\n",
              "</div>"
            ],
            "text/plain": [
              "      answerCode  last_answerCode  last_answerCode2  last_answerCode3  \\\n",
              "0              0                0                 1                 0   \n",
              "1              1                1                 1                 1   \n",
              "2              0                0                 0                 0   \n",
              "3              0                1                 1                 1   \n",
              "4              1                1                 1                 1   \n",
              "...          ...              ...               ...               ...   \n",
              "7437           0                1                 0                 0   \n",
              "7438           1                1                 1                 0   \n",
              "7439           1                1                 1                 0   \n",
              "7440           0                0                 0                 0   \n",
              "7441           1                1                 1                 1   \n",
              "\n",
              "      last_answerCode4  last_answerCode5  last_answerCode6  answer_mean  \\\n",
              "0                    1                 1                 0     0.631720   \n",
              "1                    1                 0                 1     0.853004   \n",
              "2                    0                 0                 0     0.614545   \n",
              "3                    1                 1                 1     0.693424   \n",
              "4                    0                 1                 1     0.693572   \n",
              "...                ...               ...               ...          ...   \n",
              "7437                 0                 0                 0     0.400000   \n",
              "7438                 1                 1                 1     0.733333   \n",
              "7439                 1                 0                 0     0.714286   \n",
              "7440                 1                 0                 0     0.428571   \n",
              "7441                 0                 0                 1     0.500000   \n",
              "\n",
              "      answer_cnt     time_mean  tag_mode  user_item_mean   elouser  item_mean  \\\n",
              "0            744  3.183573e+04      4784        0.656187  0.514004   0.157459   \n",
              "1            932  2.890081e+04      2010        0.585533  1.628445   0.478261   \n",
              "2            275  8.923406e+04       307        0.662057  0.328292   0.125000   \n",
              "3           1034  2.432358e+04      2616        0.670097  0.646806   0.425703   \n",
              "4            669  4.131957e+04      2065        0.611423  0.320060   0.652778   \n",
              "...          ...           ...       ...             ...       ...        ...   \n",
              "7437          15  3.384340e+05      2076        0.775111 -0.693594   0.867470   \n",
              "7438          15  1.362587e+06      2132        0.767696  0.009523   0.561224   \n",
              "7439          14  1.694699e+06      2132        0.753885  0.093830   0.829431   \n",
              "7440          14  3.897256e+05      1984        0.750708 -0.732877   0.574074   \n",
              "7441           8  8.290569e+05       438        0.675098 -0.275810   0.550523   \n",
              "\n",
              "      item_sum  item_time_mean  \n",
              "0           57     1471.690608  \n",
              "1           11    22951.869565  \n",
              "2           30      139.725000  \n",
              "3          106      103.281124  \n",
              "4           94       79.944444  \n",
              "...        ...             ...  \n",
              "7437       216       35.220884  \n",
              "7438       165       60.853741  \n",
              "7439       248       86.839465  \n",
              "7440       155      143.370370  \n",
              "7441       158      176.871080  \n",
              "\n",
              "[7442 rows x 16 columns]"
            ]
          },
          "execution_count": 11,
          "metadata": {},
          "output_type": "execute_result"
        }
      ],
      "source": [
        "valid"
      ]
    },
    {
      "cell_type": "code",
      "execution_count": 12,
      "metadata": {},
      "outputs": [
        {
          "name": "stderr",
          "output_type": "stream",
          "text": [
            "/tmp/ipykernel_93623/502413999.py:75: SettingWithCopyWarning: \n",
            "A value is trying to be set on a copy of a slice from a DataFrame.\n",
            "Try using .loc[row_indexer,col_indexer] = value instead\n",
            "\n",
            "See the caveats in the documentation: https://pandas.pydata.org/pandas-docs/stable/user_guide/indexing.html#returning-a-view-versus-a-copy\n",
            "  df[\"left_asymptote\"] = 0\n"
          ]
        },
        {
          "name": "stdout",
          "output_type": "stream",
          "text": [
            "Dataset of shape (625552, 29)\n",
            "Columns are ['userID', 'assessmentItemID', 'testId', 'answerCode', 'Timestamp', 'KnowledgeTag', 'elouser', 'eloitem', 'elotag', 'elotest', 'elo', 'solve_time', 'b_category', 'test_category', 'problem_id', 'category_st_qcut_5', 'last_answerCode', 'last_answerCode2', 'last_answerCode3', 'last_answerCode4', 'last_answerCode5', 'last_answerCode6', 'year', 'month', 'day', 'hour', 'tem', 'item_mean', 'left_asymptote']\n",
            "Parameter estimation is starting...\n"
          ]
        },
        {
          "name": "stderr",
          "output_type": "stream",
          "text": [
            "100%|██████████| 625552/625552 [00:14<00:00, 42164.17it/s]\n"
          ]
        },
        {
          "name": "stdout",
          "output_type": "stream",
          "text": [
            "Theta & beta estimations on assessmentItemID are completed.\n"
          ]
        },
        {
          "name": "stderr",
          "output_type": "stream",
          "text": [
            "/tmp/ipykernel_93623/502413999.py:91: SettingWithCopyWarning: \n",
            "A value is trying to be set on a copy of a slice from a DataFrame.\n",
            "Try using .loc[row_indexer,col_indexer] = value instead\n",
            "\n",
            "See the caveats in the documentation: https://pandas.pydata.org/pandas-docs/stable/user_guide/indexing.html#returning-a-view-versus-a-copy\n",
            "  df['elouser'] = t\n",
            "/tmp/ipykernel_93623/502413999.py:75: SettingWithCopyWarning: \n",
            "A value is trying to be set on a copy of a slice from a DataFrame.\n",
            "Try using .loc[row_indexer,col_indexer] = value instead\n",
            "\n",
            "See the caveats in the documentation: https://pandas.pydata.org/pandas-docs/stable/user_guide/indexing.html#returning-a-view-versus-a-copy\n",
            "  df[\"left_asymptote\"] = 0\n"
          ]
        },
        {
          "name": "stdout",
          "output_type": "stream",
          "text": [
            "Dataset of shape (623253, 29)\n",
            "Columns are ['userID', 'assessmentItemID', 'testId', 'answerCode', 'Timestamp', 'KnowledgeTag', 'elouser', 'eloitem', 'elotag', 'elotest', 'elo', 'solve_time', 'b_category', 'test_category', 'problem_id', 'category_st_qcut_5', 'last_answerCode', 'last_answerCode2', 'last_answerCode3', 'last_answerCode4', 'last_answerCode5', 'last_answerCode6', 'year', 'month', 'day', 'hour', 'tem', 'item_mean', 'left_asymptote']\n",
            "Parameter estimation is starting...\n"
          ]
        },
        {
          "name": "stderr",
          "output_type": "stream",
          "text": [
            "100%|██████████| 623253/623253 [00:13<00:00, 44709.89it/s]\n"
          ]
        },
        {
          "name": "stdout",
          "output_type": "stream",
          "text": [
            "Theta & beta estimations on assessmentItemID are completed.\n"
          ]
        },
        {
          "name": "stderr",
          "output_type": "stream",
          "text": [
            "/tmp/ipykernel_93623/502413999.py:91: SettingWithCopyWarning: \n",
            "A value is trying to be set on a copy of a slice from a DataFrame.\n",
            "Try using .loc[row_indexer,col_indexer] = value instead\n",
            "\n",
            "See the caveats in the documentation: https://pandas.pydata.org/pandas-docs/stable/user_guide/indexing.html#returning-a-view-versus-a-copy\n",
            "  df['elouser'] = t\n",
            "/tmp/ipykernel_93623/502413999.py:75: SettingWithCopyWarning: \n",
            "A value is trying to be set on a copy of a slice from a DataFrame.\n",
            "Try using .loc[row_indexer,col_indexer] = value instead\n",
            "\n",
            "See the caveats in the documentation: https://pandas.pydata.org/pandas-docs/stable/user_guide/indexing.html#returning-a-view-versus-a-copy\n",
            "  df[\"left_asymptote\"] = 0\n"
          ]
        },
        {
          "name": "stdout",
          "output_type": "stream",
          "text": [
            "Dataset of shape (620941, 29)\n",
            "Columns are ['userID', 'assessmentItemID', 'testId', 'answerCode', 'Timestamp', 'KnowledgeTag', 'elouser', 'eloitem', 'elotag', 'elotest', 'elo', 'solve_time', 'b_category', 'test_category', 'problem_id', 'category_st_qcut_5', 'last_answerCode', 'last_answerCode2', 'last_answerCode3', 'last_answerCode4', 'last_answerCode5', 'last_answerCode6', 'year', 'month', 'day', 'hour', 'tem', 'item_mean', 'left_asymptote']\n",
            "Parameter estimation is starting...\n"
          ]
        },
        {
          "name": "stderr",
          "output_type": "stream",
          "text": [
            "100%|██████████| 620941/620941 [00:14<00:00, 44064.18it/s]\n"
          ]
        },
        {
          "name": "stdout",
          "output_type": "stream",
          "text": [
            "Theta & beta estimations on assessmentItemID are completed.\n"
          ]
        },
        {
          "name": "stderr",
          "output_type": "stream",
          "text": [
            "/tmp/ipykernel_93623/502413999.py:91: SettingWithCopyWarning: \n",
            "A value is trying to be set on a copy of a slice from a DataFrame.\n",
            "Try using .loc[row_indexer,col_indexer] = value instead\n",
            "\n",
            "See the caveats in the documentation: https://pandas.pydata.org/pandas-docs/stable/user_guide/indexing.html#returning-a-view-versus-a-copy\n",
            "  df['elouser'] = t\n",
            "/tmp/ipykernel_93623/502413999.py:75: SettingWithCopyWarning: \n",
            "A value is trying to be set on a copy of a slice from a DataFrame.\n",
            "Try using .loc[row_indexer,col_indexer] = value instead\n",
            "\n",
            "See the caveats in the documentation: https://pandas.pydata.org/pandas-docs/stable/user_guide/indexing.html#returning-a-view-versus-a-copy\n",
            "  df[\"left_asymptote\"] = 0\n"
          ]
        },
        {
          "name": "stdout",
          "output_type": "stream",
          "text": [
            "Dataset of shape (618610, 29)\n",
            "Columns are ['userID', 'assessmentItemID', 'testId', 'answerCode', 'Timestamp', 'KnowledgeTag', 'elouser', 'eloitem', 'elotag', 'elotest', 'elo', 'solve_time', 'b_category', 'test_category', 'problem_id', 'category_st_qcut_5', 'last_answerCode', 'last_answerCode2', 'last_answerCode3', 'last_answerCode4', 'last_answerCode5', 'last_answerCode6', 'year', 'month', 'day', 'hour', 'tem', 'item_mean', 'left_asymptote']\n",
            "Parameter estimation is starting...\n"
          ]
        },
        {
          "name": "stderr",
          "output_type": "stream",
          "text": [
            "100%|██████████| 618610/618610 [00:14<00:00, 43140.38it/s]\n"
          ]
        },
        {
          "name": "stdout",
          "output_type": "stream",
          "text": [
            "Theta & beta estimations on assessmentItemID are completed.\n"
          ]
        },
        {
          "name": "stderr",
          "output_type": "stream",
          "text": [
            "/tmp/ipykernel_93623/502413999.py:91: SettingWithCopyWarning: \n",
            "A value is trying to be set on a copy of a slice from a DataFrame.\n",
            "Try using .loc[row_indexer,col_indexer] = value instead\n",
            "\n",
            "See the caveats in the documentation: https://pandas.pydata.org/pandas-docs/stable/user_guide/indexing.html#returning-a-view-versus-a-copy\n",
            "  df['elouser'] = t\n",
            "/tmp/ipykernel_93623/502413999.py:75: SettingWithCopyWarning: \n",
            "A value is trying to be set on a copy of a slice from a DataFrame.\n",
            "Try using .loc[row_indexer,col_indexer] = value instead\n",
            "\n",
            "See the caveats in the documentation: https://pandas.pydata.org/pandas-docs/stable/user_guide/indexing.html#returning-a-view-versus-a-copy\n",
            "  df[\"left_asymptote\"] = 0\n"
          ]
        },
        {
          "name": "stdout",
          "output_type": "stream",
          "text": [
            "Dataset of shape (616261, 29)\n",
            "Columns are ['userID', 'assessmentItemID', 'testId', 'answerCode', 'Timestamp', 'KnowledgeTag', 'elouser', 'eloitem', 'elotag', 'elotest', 'elo', 'solve_time', 'b_category', 'test_category', 'problem_id', 'category_st_qcut_5', 'last_answerCode', 'last_answerCode2', 'last_answerCode3', 'last_answerCode4', 'last_answerCode5', 'last_answerCode6', 'year', 'month', 'day', 'hour', 'tem', 'item_mean', 'left_asymptote']\n",
            "Parameter estimation is starting...\n"
          ]
        },
        {
          "name": "stderr",
          "output_type": "stream",
          "text": [
            "100%|██████████| 616261/616261 [00:13<00:00, 44073.11it/s]\n"
          ]
        },
        {
          "name": "stdout",
          "output_type": "stream",
          "text": [
            "Theta & beta estimations on assessmentItemID are completed.\n"
          ]
        },
        {
          "name": "stderr",
          "output_type": "stream",
          "text": [
            "/tmp/ipykernel_93623/502413999.py:91: SettingWithCopyWarning: \n",
            "A value is trying to be set on a copy of a slice from a DataFrame.\n",
            "Try using .loc[row_indexer,col_indexer] = value instead\n",
            "\n",
            "See the caveats in the documentation: https://pandas.pydata.org/pandas-docs/stable/user_guide/indexing.html#returning-a-view-versus-a-copy\n",
            "  df['elouser'] = t\n",
            "/tmp/ipykernel_93623/502413999.py:75: SettingWithCopyWarning: \n",
            "A value is trying to be set on a copy of a slice from a DataFrame.\n",
            "Try using .loc[row_indexer,col_indexer] = value instead\n",
            "\n",
            "See the caveats in the documentation: https://pandas.pydata.org/pandas-docs/stable/user_guide/indexing.html#returning-a-view-versus-a-copy\n",
            "  df[\"left_asymptote\"] = 0\n"
          ]
        },
        {
          "name": "stdout",
          "output_type": "stream",
          "text": [
            "Dataset of shape (613903, 29)\n",
            "Columns are ['userID', 'assessmentItemID', 'testId', 'answerCode', 'Timestamp', 'KnowledgeTag', 'elouser', 'eloitem', 'elotag', 'elotest', 'elo', 'solve_time', 'b_category', 'test_category', 'problem_id', 'category_st_qcut_5', 'last_answerCode', 'last_answerCode2', 'last_answerCode3', 'last_answerCode4', 'last_answerCode5', 'last_answerCode6', 'year', 'month', 'day', 'hour', 'tem', 'item_mean', 'left_asymptote']\n",
            "Parameter estimation is starting...\n"
          ]
        },
        {
          "name": "stderr",
          "output_type": "stream",
          "text": [
            "100%|██████████| 613903/613903 [00:13<00:00, 44367.26it/s]\n"
          ]
        },
        {
          "name": "stdout",
          "output_type": "stream",
          "text": [
            "Theta & beta estimations on assessmentItemID are completed.\n"
          ]
        },
        {
          "name": "stderr",
          "output_type": "stream",
          "text": [
            "/tmp/ipykernel_93623/502413999.py:91: SettingWithCopyWarning: \n",
            "A value is trying to be set on a copy of a slice from a DataFrame.\n",
            "Try using .loc[row_indexer,col_indexer] = value instead\n",
            "\n",
            "See the caveats in the documentation: https://pandas.pydata.org/pandas-docs/stable/user_guide/indexing.html#returning-a-view-versus-a-copy\n",
            "  df['elouser'] = t\n",
            "/tmp/ipykernel_93623/502413999.py:75: SettingWithCopyWarning: \n",
            "A value is trying to be set on a copy of a slice from a DataFrame.\n",
            "Try using .loc[row_indexer,col_indexer] = value instead\n",
            "\n",
            "See the caveats in the documentation: https://pandas.pydata.org/pandas-docs/stable/user_guide/indexing.html#returning-a-view-versus-a-copy\n",
            "  df[\"left_asymptote\"] = 0\n"
          ]
        },
        {
          "name": "stdout",
          "output_type": "stream",
          "text": [
            "Dataset of shape (611526, 29)\n",
            "Columns are ['userID', 'assessmentItemID', 'testId', 'answerCode', 'Timestamp', 'KnowledgeTag', 'elouser', 'eloitem', 'elotag', 'elotest', 'elo', 'solve_time', 'b_category', 'test_category', 'problem_id', 'category_st_qcut_5', 'last_answerCode', 'last_answerCode2', 'last_answerCode3', 'last_answerCode4', 'last_answerCode5', 'last_answerCode6', 'year', 'month', 'day', 'hour', 'tem', 'item_mean', 'left_asymptote']\n",
            "Parameter estimation is starting...\n"
          ]
        },
        {
          "name": "stderr",
          "output_type": "stream",
          "text": [
            "100%|██████████| 611526/611526 [00:14<00:00, 42035.23it/s]\n"
          ]
        },
        {
          "name": "stdout",
          "output_type": "stream",
          "text": [
            "Theta & beta estimations on assessmentItemID are completed.\n"
          ]
        },
        {
          "name": "stderr",
          "output_type": "stream",
          "text": [
            "/tmp/ipykernel_93623/502413999.py:91: SettingWithCopyWarning: \n",
            "A value is trying to be set on a copy of a slice from a DataFrame.\n",
            "Try using .loc[row_indexer,col_indexer] = value instead\n",
            "\n",
            "See the caveats in the documentation: https://pandas.pydata.org/pandas-docs/stable/user_guide/indexing.html#returning-a-view-versus-a-copy\n",
            "  df['elouser'] = t\n",
            "/tmp/ipykernel_93623/502413999.py:75: SettingWithCopyWarning: \n",
            "A value is trying to be set on a copy of a slice from a DataFrame.\n",
            "Try using .loc[row_indexer,col_indexer] = value instead\n",
            "\n",
            "See the caveats in the documentation: https://pandas.pydata.org/pandas-docs/stable/user_guide/indexing.html#returning-a-view-versus-a-copy\n",
            "  df[\"left_asymptote\"] = 0\n"
          ]
        },
        {
          "name": "stdout",
          "output_type": "stream",
          "text": [
            "Dataset of shape (609132, 29)\n",
            "Columns are ['userID', 'assessmentItemID', 'testId', 'answerCode', 'Timestamp', 'KnowledgeTag', 'elouser', 'eloitem', 'elotag', 'elotest', 'elo', 'solve_time', 'b_category', 'test_category', 'problem_id', 'category_st_qcut_5', 'last_answerCode', 'last_answerCode2', 'last_answerCode3', 'last_answerCode4', 'last_answerCode5', 'last_answerCode6', 'year', 'month', 'day', 'hour', 'tem', 'item_mean', 'left_asymptote']\n",
            "Parameter estimation is starting...\n"
          ]
        },
        {
          "name": "stderr",
          "output_type": "stream",
          "text": [
            "100%|██████████| 609132/609132 [00:14<00:00, 42448.42it/s]\n"
          ]
        },
        {
          "name": "stdout",
          "output_type": "stream",
          "text": [
            "Theta & beta estimations on assessmentItemID are completed.\n"
          ]
        },
        {
          "name": "stderr",
          "output_type": "stream",
          "text": [
            "/tmp/ipykernel_93623/502413999.py:91: SettingWithCopyWarning: \n",
            "A value is trying to be set on a copy of a slice from a DataFrame.\n",
            "Try using .loc[row_indexer,col_indexer] = value instead\n",
            "\n",
            "See the caveats in the documentation: https://pandas.pydata.org/pandas-docs/stable/user_guide/indexing.html#returning-a-view-versus-a-copy\n",
            "  df['elouser'] = t\n",
            "/tmp/ipykernel_93623/502413999.py:75: SettingWithCopyWarning: \n",
            "A value is trying to be set on a copy of a slice from a DataFrame.\n",
            "Try using .loc[row_indexer,col_indexer] = value instead\n",
            "\n",
            "See the caveats in the documentation: https://pandas.pydata.org/pandas-docs/stable/user_guide/indexing.html#returning-a-view-versus-a-copy\n",
            "  df[\"left_asymptote\"] = 0\n"
          ]
        },
        {
          "name": "stdout",
          "output_type": "stream",
          "text": [
            "Dataset of shape (606723, 29)\n",
            "Columns are ['userID', 'assessmentItemID', 'testId', 'answerCode', 'Timestamp', 'KnowledgeTag', 'elouser', 'eloitem', 'elotag', 'elotest', 'elo', 'solve_time', 'b_category', 'test_category', 'problem_id', 'category_st_qcut_5', 'last_answerCode', 'last_answerCode2', 'last_answerCode3', 'last_answerCode4', 'last_answerCode5', 'last_answerCode6', 'year', 'month', 'day', 'hour', 'tem', 'item_mean', 'left_asymptote']\n",
            "Parameter estimation is starting...\n"
          ]
        },
        {
          "name": "stderr",
          "output_type": "stream",
          "text": [
            "100%|██████████| 606723/606723 [00:13<00:00, 44595.08it/s]\n"
          ]
        },
        {
          "name": "stdout",
          "output_type": "stream",
          "text": [
            "Theta & beta estimations on assessmentItemID are completed.\n"
          ]
        },
        {
          "name": "stderr",
          "output_type": "stream",
          "text": [
            "/tmp/ipykernel_93623/502413999.py:91: SettingWithCopyWarning: \n",
            "A value is trying to be set on a copy of a slice from a DataFrame.\n",
            "Try using .loc[row_indexer,col_indexer] = value instead\n",
            "\n",
            "See the caveats in the documentation: https://pandas.pydata.org/pandas-docs/stable/user_guide/indexing.html#returning-a-view-versus-a-copy\n",
            "  df['elouser'] = t\n",
            "/tmp/ipykernel_93623/502413999.py:75: SettingWithCopyWarning: \n",
            "A value is trying to be set on a copy of a slice from a DataFrame.\n",
            "Try using .loc[row_indexer,col_indexer] = value instead\n",
            "\n",
            "See the caveats in the documentation: https://pandas.pydata.org/pandas-docs/stable/user_guide/indexing.html#returning-a-view-versus-a-copy\n",
            "  df[\"left_asymptote\"] = 0\n"
          ]
        },
        {
          "name": "stdout",
          "output_type": "stream",
          "text": [
            "Dataset of shape (604294, 29)\n",
            "Columns are ['userID', 'assessmentItemID', 'testId', 'answerCode', 'Timestamp', 'KnowledgeTag', 'elouser', 'eloitem', 'elotag', 'elotest', 'elo', 'solve_time', 'b_category', 'test_category', 'problem_id', 'category_st_qcut_5', 'last_answerCode', 'last_answerCode2', 'last_answerCode3', 'last_answerCode4', 'last_answerCode5', 'last_answerCode6', 'year', 'month', 'day', 'hour', 'tem', 'item_mean', 'left_asymptote']\n",
            "Parameter estimation is starting...\n"
          ]
        },
        {
          "name": "stderr",
          "output_type": "stream",
          "text": [
            "100%|██████████| 604294/604294 [00:13<00:00, 44553.82it/s]\n"
          ]
        },
        {
          "name": "stdout",
          "output_type": "stream",
          "text": [
            "Theta & beta estimations on assessmentItemID are completed.\n"
          ]
        },
        {
          "name": "stderr",
          "output_type": "stream",
          "text": [
            "/tmp/ipykernel_93623/502413999.py:91: SettingWithCopyWarning: \n",
            "A value is trying to be set on a copy of a slice from a DataFrame.\n",
            "Try using .loc[row_indexer,col_indexer] = value instead\n",
            "\n",
            "See the caveats in the documentation: https://pandas.pydata.org/pandas-docs/stable/user_guide/indexing.html#returning-a-view-versus-a-copy\n",
            "  df['elouser'] = t\n",
            "/tmp/ipykernel_93623/502413999.py:75: SettingWithCopyWarning: \n",
            "A value is trying to be set on a copy of a slice from a DataFrame.\n",
            "Try using .loc[row_indexer,col_indexer] = value instead\n",
            "\n",
            "See the caveats in the documentation: https://pandas.pydata.org/pandas-docs/stable/user_guide/indexing.html#returning-a-view-versus-a-copy\n",
            "  df[\"left_asymptote\"] = 0\n"
          ]
        },
        {
          "name": "stdout",
          "output_type": "stream",
          "text": [
            "Dataset of shape (601853, 29)\n",
            "Columns are ['userID', 'assessmentItemID', 'testId', 'answerCode', 'Timestamp', 'KnowledgeTag', 'elouser', 'eloitem', 'elotag', 'elotest', 'elo', 'solve_time', 'b_category', 'test_category', 'problem_id', 'category_st_qcut_5', 'last_answerCode', 'last_answerCode2', 'last_answerCode3', 'last_answerCode4', 'last_answerCode5', 'last_answerCode6', 'year', 'month', 'day', 'hour', 'tem', 'item_mean', 'left_asymptote']\n",
            "Parameter estimation is starting...\n"
          ]
        },
        {
          "name": "stderr",
          "output_type": "stream",
          "text": [
            "100%|██████████| 601853/601853 [00:13<00:00, 44748.63it/s]\n"
          ]
        },
        {
          "name": "stdout",
          "output_type": "stream",
          "text": [
            "Theta & beta estimations on assessmentItemID are completed.\n"
          ]
        },
        {
          "name": "stderr",
          "output_type": "stream",
          "text": [
            "/tmp/ipykernel_93623/502413999.py:91: SettingWithCopyWarning: \n",
            "A value is trying to be set on a copy of a slice from a DataFrame.\n",
            "Try using .loc[row_indexer,col_indexer] = value instead\n",
            "\n",
            "See the caveats in the documentation: https://pandas.pydata.org/pandas-docs/stable/user_guide/indexing.html#returning-a-view-versus-a-copy\n",
            "  df['elouser'] = t\n",
            "/tmp/ipykernel_93623/502413999.py:75: SettingWithCopyWarning: \n",
            "A value is trying to be set on a copy of a slice from a DataFrame.\n",
            "Try using .loc[row_indexer,col_indexer] = value instead\n",
            "\n",
            "See the caveats in the documentation: https://pandas.pydata.org/pandas-docs/stable/user_guide/indexing.html#returning-a-view-versus-a-copy\n",
            "  df[\"left_asymptote\"] = 0\n"
          ]
        },
        {
          "name": "stdout",
          "output_type": "stream",
          "text": [
            "Dataset of shape (599398, 29)\n",
            "Columns are ['userID', 'assessmentItemID', 'testId', 'answerCode', 'Timestamp', 'KnowledgeTag', 'elouser', 'eloitem', 'elotag', 'elotest', 'elo', 'solve_time', 'b_category', 'test_category', 'problem_id', 'category_st_qcut_5', 'last_answerCode', 'last_answerCode2', 'last_answerCode3', 'last_answerCode4', 'last_answerCode5', 'last_answerCode6', 'year', 'month', 'day', 'hour', 'tem', 'item_mean', 'left_asymptote']\n",
            "Parameter estimation is starting...\n"
          ]
        },
        {
          "name": "stderr",
          "output_type": "stream",
          "text": [
            "100%|██████████| 599398/599398 [00:13<00:00, 44662.89it/s]\n"
          ]
        },
        {
          "name": "stdout",
          "output_type": "stream",
          "text": [
            "Theta & beta estimations on assessmentItemID are completed.\n"
          ]
        },
        {
          "name": "stderr",
          "output_type": "stream",
          "text": [
            "/tmp/ipykernel_93623/502413999.py:91: SettingWithCopyWarning: \n",
            "A value is trying to be set on a copy of a slice from a DataFrame.\n",
            "Try using .loc[row_indexer,col_indexer] = value instead\n",
            "\n",
            "See the caveats in the documentation: https://pandas.pydata.org/pandas-docs/stable/user_guide/indexing.html#returning-a-view-versus-a-copy\n",
            "  df['elouser'] = t\n",
            "/tmp/ipykernel_93623/502413999.py:75: SettingWithCopyWarning: \n",
            "A value is trying to be set on a copy of a slice from a DataFrame.\n",
            "Try using .loc[row_indexer,col_indexer] = value instead\n",
            "\n",
            "See the caveats in the documentation: https://pandas.pydata.org/pandas-docs/stable/user_guide/indexing.html#returning-a-view-versus-a-copy\n",
            "  df[\"left_asymptote\"] = 0\n"
          ]
        },
        {
          "name": "stdout",
          "output_type": "stream",
          "text": [
            "Dataset of shape (596932, 29)\n",
            "Columns are ['userID', 'assessmentItemID', 'testId', 'answerCode', 'Timestamp', 'KnowledgeTag', 'elouser', 'eloitem', 'elotag', 'elotest', 'elo', 'solve_time', 'b_category', 'test_category', 'problem_id', 'category_st_qcut_5', 'last_answerCode', 'last_answerCode2', 'last_answerCode3', 'last_answerCode4', 'last_answerCode5', 'last_answerCode6', 'year', 'month', 'day', 'hour', 'tem', 'item_mean', 'left_asymptote']\n",
            "Parameter estimation is starting...\n"
          ]
        },
        {
          "name": "stderr",
          "output_type": "stream",
          "text": [
            "100%|██████████| 596932/596932 [00:13<00:00, 44446.29it/s]\n"
          ]
        },
        {
          "name": "stdout",
          "output_type": "stream",
          "text": [
            "Theta & beta estimations on assessmentItemID are completed.\n"
          ]
        },
        {
          "name": "stderr",
          "output_type": "stream",
          "text": [
            "/tmp/ipykernel_93623/502413999.py:91: SettingWithCopyWarning: \n",
            "A value is trying to be set on a copy of a slice from a DataFrame.\n",
            "Try using .loc[row_indexer,col_indexer] = value instead\n",
            "\n",
            "See the caveats in the documentation: https://pandas.pydata.org/pandas-docs/stable/user_guide/indexing.html#returning-a-view-versus-a-copy\n",
            "  df['elouser'] = t\n",
            "/tmp/ipykernel_93623/502413999.py:75: SettingWithCopyWarning: \n",
            "A value is trying to be set on a copy of a slice from a DataFrame.\n",
            "Try using .loc[row_indexer,col_indexer] = value instead\n",
            "\n",
            "See the caveats in the documentation: https://pandas.pydata.org/pandas-docs/stable/user_guide/indexing.html#returning-a-view-versus-a-copy\n",
            "  df[\"left_asymptote\"] = 0\n"
          ]
        },
        {
          "name": "stdout",
          "output_type": "stream",
          "text": [
            "Dataset of shape (594472, 29)\n",
            "Columns are ['userID', 'assessmentItemID', 'testId', 'answerCode', 'Timestamp', 'KnowledgeTag', 'elouser', 'eloitem', 'elotag', 'elotest', 'elo', 'solve_time', 'b_category', 'test_category', 'problem_id', 'category_st_qcut_5', 'last_answerCode', 'last_answerCode2', 'last_answerCode3', 'last_answerCode4', 'last_answerCode5', 'last_answerCode6', 'year', 'month', 'day', 'hour', 'tem', 'item_mean', 'left_asymptote']\n",
            "Parameter estimation is starting...\n"
          ]
        },
        {
          "name": "stderr",
          "output_type": "stream",
          "text": [
            "100%|██████████| 594472/594472 [00:13<00:00, 44860.18it/s]\n"
          ]
        },
        {
          "name": "stdout",
          "output_type": "stream",
          "text": [
            "Theta & beta estimations on assessmentItemID are completed.\n"
          ]
        },
        {
          "name": "stderr",
          "output_type": "stream",
          "text": [
            "/tmp/ipykernel_93623/502413999.py:91: SettingWithCopyWarning: \n",
            "A value is trying to be set on a copy of a slice from a DataFrame.\n",
            "Try using .loc[row_indexer,col_indexer] = value instead\n",
            "\n",
            "See the caveats in the documentation: https://pandas.pydata.org/pandas-docs/stable/user_guide/indexing.html#returning-a-view-versus-a-copy\n",
            "  df['elouser'] = t\n",
            "/tmp/ipykernel_93623/502413999.py:75: SettingWithCopyWarning: \n",
            "A value is trying to be set on a copy of a slice from a DataFrame.\n",
            "Try using .loc[row_indexer,col_indexer] = value instead\n",
            "\n",
            "See the caveats in the documentation: https://pandas.pydata.org/pandas-docs/stable/user_guide/indexing.html#returning-a-view-versus-a-copy\n",
            "  df[\"left_asymptote\"] = 0\n"
          ]
        },
        {
          "name": "stdout",
          "output_type": "stream",
          "text": [
            "Dataset of shape (592033, 29)\n",
            "Columns are ['userID', 'assessmentItemID', 'testId', 'answerCode', 'Timestamp', 'KnowledgeTag', 'elouser', 'eloitem', 'elotag', 'elotest', 'elo', 'solve_time', 'b_category', 'test_category', 'problem_id', 'category_st_qcut_5', 'last_answerCode', 'last_answerCode2', 'last_answerCode3', 'last_answerCode4', 'last_answerCode5', 'last_answerCode6', 'year', 'month', 'day', 'hour', 'tem', 'item_mean', 'left_asymptote']\n",
            "Parameter estimation is starting...\n"
          ]
        },
        {
          "name": "stderr",
          "output_type": "stream",
          "text": [
            "100%|██████████| 592033/592033 [00:13<00:00, 44585.23it/s]\n"
          ]
        },
        {
          "name": "stdout",
          "output_type": "stream",
          "text": [
            "Theta & beta estimations on assessmentItemID are completed.\n"
          ]
        },
        {
          "name": "stderr",
          "output_type": "stream",
          "text": [
            "/tmp/ipykernel_93623/502413999.py:91: SettingWithCopyWarning: \n",
            "A value is trying to be set on a copy of a slice from a DataFrame.\n",
            "Try using .loc[row_indexer,col_indexer] = value instead\n",
            "\n",
            "See the caveats in the documentation: https://pandas.pydata.org/pandas-docs/stable/user_guide/indexing.html#returning-a-view-versus-a-copy\n",
            "  df['elouser'] = t\n",
            "/tmp/ipykernel_93623/502413999.py:75: SettingWithCopyWarning: \n",
            "A value is trying to be set on a copy of a slice from a DataFrame.\n",
            "Try using .loc[row_indexer,col_indexer] = value instead\n",
            "\n",
            "See the caveats in the documentation: https://pandas.pydata.org/pandas-docs/stable/user_guide/indexing.html#returning-a-view-versus-a-copy\n",
            "  df[\"left_asymptote\"] = 0\n"
          ]
        },
        {
          "name": "stdout",
          "output_type": "stream",
          "text": [
            "Dataset of shape (589628, 29)\n",
            "Columns are ['userID', 'assessmentItemID', 'testId', 'answerCode', 'Timestamp', 'KnowledgeTag', 'elouser', 'eloitem', 'elotag', 'elotest', 'elo', 'solve_time', 'b_category', 'test_category', 'problem_id', 'category_st_qcut_5', 'last_answerCode', 'last_answerCode2', 'last_answerCode3', 'last_answerCode4', 'last_answerCode5', 'last_answerCode6', 'year', 'month', 'day', 'hour', 'tem', 'item_mean', 'left_asymptote']\n",
            "Parameter estimation is starting...\n"
          ]
        },
        {
          "name": "stderr",
          "output_type": "stream",
          "text": [
            "100%|██████████| 589628/589628 [00:13<00:00, 44889.63it/s]\n"
          ]
        },
        {
          "name": "stdout",
          "output_type": "stream",
          "text": [
            "Theta & beta estimations on assessmentItemID are completed.\n"
          ]
        },
        {
          "name": "stderr",
          "output_type": "stream",
          "text": [
            "/tmp/ipykernel_93623/502413999.py:91: SettingWithCopyWarning: \n",
            "A value is trying to be set on a copy of a slice from a DataFrame.\n",
            "Try using .loc[row_indexer,col_indexer] = value instead\n",
            "\n",
            "See the caveats in the documentation: https://pandas.pydata.org/pandas-docs/stable/user_guide/indexing.html#returning-a-view-versus-a-copy\n",
            "  df['elouser'] = t\n",
            "/tmp/ipykernel_93623/502413999.py:75: SettingWithCopyWarning: \n",
            "A value is trying to be set on a copy of a slice from a DataFrame.\n",
            "Try using .loc[row_indexer,col_indexer] = value instead\n",
            "\n",
            "See the caveats in the documentation: https://pandas.pydata.org/pandas-docs/stable/user_guide/indexing.html#returning-a-view-versus-a-copy\n",
            "  df[\"left_asymptote\"] = 0\n"
          ]
        },
        {
          "name": "stdout",
          "output_type": "stream",
          "text": [
            "Dataset of shape (587263, 29)\n",
            "Columns are ['userID', 'assessmentItemID', 'testId', 'answerCode', 'Timestamp', 'KnowledgeTag', 'elouser', 'eloitem', 'elotag', 'elotest', 'elo', 'solve_time', 'b_category', 'test_category', 'problem_id', 'category_st_qcut_5', 'last_answerCode', 'last_answerCode2', 'last_answerCode3', 'last_answerCode4', 'last_answerCode5', 'last_answerCode6', 'year', 'month', 'day', 'hour', 'tem', 'item_mean', 'left_asymptote']\n",
            "Parameter estimation is starting...\n"
          ]
        },
        {
          "name": "stderr",
          "output_type": "stream",
          "text": [
            "100%|██████████| 587263/587263 [00:13<00:00, 44807.87it/s]\n"
          ]
        },
        {
          "name": "stdout",
          "output_type": "stream",
          "text": [
            "Theta & beta estimations on assessmentItemID are completed.\n"
          ]
        },
        {
          "name": "stderr",
          "output_type": "stream",
          "text": [
            "/tmp/ipykernel_93623/502413999.py:91: SettingWithCopyWarning: \n",
            "A value is trying to be set on a copy of a slice from a DataFrame.\n",
            "Try using .loc[row_indexer,col_indexer] = value instead\n",
            "\n",
            "See the caveats in the documentation: https://pandas.pydata.org/pandas-docs/stable/user_guide/indexing.html#returning-a-view-versus-a-copy\n",
            "  df['elouser'] = t\n",
            "/tmp/ipykernel_93623/502413999.py:75: SettingWithCopyWarning: \n",
            "A value is trying to be set on a copy of a slice from a DataFrame.\n",
            "Try using .loc[row_indexer,col_indexer] = value instead\n",
            "\n",
            "See the caveats in the documentation: https://pandas.pydata.org/pandas-docs/stable/user_guide/indexing.html#returning-a-view-versus-a-copy\n",
            "  df[\"left_asymptote\"] = 0\n"
          ]
        },
        {
          "name": "stdout",
          "output_type": "stream",
          "text": [
            "Dataset of shape (584937, 29)\n",
            "Columns are ['userID', 'assessmentItemID', 'testId', 'answerCode', 'Timestamp', 'KnowledgeTag', 'elouser', 'eloitem', 'elotag', 'elotest', 'elo', 'solve_time', 'b_category', 'test_category', 'problem_id', 'category_st_qcut_5', 'last_answerCode', 'last_answerCode2', 'last_answerCode3', 'last_answerCode4', 'last_answerCode5', 'last_answerCode6', 'year', 'month', 'day', 'hour', 'tem', 'item_mean', 'left_asymptote']\n",
            "Parameter estimation is starting...\n"
          ]
        },
        {
          "name": "stderr",
          "output_type": "stream",
          "text": [
            "100%|██████████| 584937/584937 [00:13<00:00, 43486.07it/s]\n"
          ]
        },
        {
          "name": "stdout",
          "output_type": "stream",
          "text": [
            "Theta & beta estimations on assessmentItemID are completed.\n"
          ]
        },
        {
          "name": "stderr",
          "output_type": "stream",
          "text": [
            "/tmp/ipykernel_93623/502413999.py:91: SettingWithCopyWarning: \n",
            "A value is trying to be set on a copy of a slice from a DataFrame.\n",
            "Try using .loc[row_indexer,col_indexer] = value instead\n",
            "\n",
            "See the caveats in the documentation: https://pandas.pydata.org/pandas-docs/stable/user_guide/indexing.html#returning-a-view-versus-a-copy\n",
            "  df['elouser'] = t\n",
            "/tmp/ipykernel_93623/502413999.py:75: SettingWithCopyWarning: \n",
            "A value is trying to be set on a copy of a slice from a DataFrame.\n",
            "Try using .loc[row_indexer,col_indexer] = value instead\n",
            "\n",
            "See the caveats in the documentation: https://pandas.pydata.org/pandas-docs/stable/user_guide/indexing.html#returning-a-view-versus-a-copy\n",
            "  df[\"left_asymptote\"] = 0\n"
          ]
        },
        {
          "name": "stdout",
          "output_type": "stream",
          "text": [
            "Dataset of shape (582637, 29)\n",
            "Columns are ['userID', 'assessmentItemID', 'testId', 'answerCode', 'Timestamp', 'KnowledgeTag', 'elouser', 'eloitem', 'elotag', 'elotest', 'elo', 'solve_time', 'b_category', 'test_category', 'problem_id', 'category_st_qcut_5', 'last_answerCode', 'last_answerCode2', 'last_answerCode3', 'last_answerCode4', 'last_answerCode5', 'last_answerCode6', 'year', 'month', 'day', 'hour', 'tem', 'item_mean', 'left_asymptote']\n",
            "Parameter estimation is starting...\n"
          ]
        },
        {
          "name": "stderr",
          "output_type": "stream",
          "text": [
            "100%|██████████| 582637/582637 [00:13<00:00, 44452.54it/s]\n"
          ]
        },
        {
          "name": "stdout",
          "output_type": "stream",
          "text": [
            "Theta & beta estimations on assessmentItemID are completed.\n"
          ]
        },
        {
          "name": "stderr",
          "output_type": "stream",
          "text": [
            "/tmp/ipykernel_93623/502413999.py:91: SettingWithCopyWarning: \n",
            "A value is trying to be set on a copy of a slice from a DataFrame.\n",
            "Try using .loc[row_indexer,col_indexer] = value instead\n",
            "\n",
            "See the caveats in the documentation: https://pandas.pydata.org/pandas-docs/stable/user_guide/indexing.html#returning-a-view-versus-a-copy\n",
            "  df['elouser'] = t\n",
            "/tmp/ipykernel_93623/502413999.py:75: SettingWithCopyWarning: \n",
            "A value is trying to be set on a copy of a slice from a DataFrame.\n",
            "Try using .loc[row_indexer,col_indexer] = value instead\n",
            "\n",
            "See the caveats in the documentation: https://pandas.pydata.org/pandas-docs/stable/user_guide/indexing.html#returning-a-view-versus-a-copy\n",
            "  df[\"left_asymptote\"] = 0\n"
          ]
        },
        {
          "name": "stdout",
          "output_type": "stream",
          "text": [
            "Dataset of shape (580361, 29)\n",
            "Columns are ['userID', 'assessmentItemID', 'testId', 'answerCode', 'Timestamp', 'KnowledgeTag', 'elouser', 'eloitem', 'elotag', 'elotest', 'elo', 'solve_time', 'b_category', 'test_category', 'problem_id', 'category_st_qcut_5', 'last_answerCode', 'last_answerCode2', 'last_answerCode3', 'last_answerCode4', 'last_answerCode5', 'last_answerCode6', 'year', 'month', 'day', 'hour', 'tem', 'item_mean', 'left_asymptote']\n",
            "Parameter estimation is starting...\n"
          ]
        },
        {
          "name": "stderr",
          "output_type": "stream",
          "text": [
            "100%|██████████| 580361/580361 [00:13<00:00, 44469.50it/s]\n"
          ]
        },
        {
          "name": "stdout",
          "output_type": "stream",
          "text": [
            "Theta & beta estimations on assessmentItemID are completed.\n"
          ]
        },
        {
          "name": "stderr",
          "output_type": "stream",
          "text": [
            "/tmp/ipykernel_93623/502413999.py:91: SettingWithCopyWarning: \n",
            "A value is trying to be set on a copy of a slice from a DataFrame.\n",
            "Try using .loc[row_indexer,col_indexer] = value instead\n",
            "\n",
            "See the caveats in the documentation: https://pandas.pydata.org/pandas-docs/stable/user_guide/indexing.html#returning-a-view-versus-a-copy\n",
            "  df['elouser'] = t\n",
            "/tmp/ipykernel_93623/502413999.py:75: SettingWithCopyWarning: \n",
            "A value is trying to be set on a copy of a slice from a DataFrame.\n",
            "Try using .loc[row_indexer,col_indexer] = value instead\n",
            "\n",
            "See the caveats in the documentation: https://pandas.pydata.org/pandas-docs/stable/user_guide/indexing.html#returning-a-view-versus-a-copy\n",
            "  df[\"left_asymptote\"] = 0\n"
          ]
        },
        {
          "name": "stdout",
          "output_type": "stream",
          "text": [
            "Dataset of shape (578117, 29)\n",
            "Columns are ['userID', 'assessmentItemID', 'testId', 'answerCode', 'Timestamp', 'KnowledgeTag', 'elouser', 'eloitem', 'elotag', 'elotest', 'elo', 'solve_time', 'b_category', 'test_category', 'problem_id', 'category_st_qcut_5', 'last_answerCode', 'last_answerCode2', 'last_answerCode3', 'last_answerCode4', 'last_answerCode5', 'last_answerCode6', 'year', 'month', 'day', 'hour', 'tem', 'item_mean', 'left_asymptote']\n",
            "Parameter estimation is starting...\n"
          ]
        },
        {
          "name": "stderr",
          "output_type": "stream",
          "text": [
            "100%|██████████| 578117/578117 [00:12<00:00, 44636.40it/s]\n"
          ]
        },
        {
          "name": "stdout",
          "output_type": "stream",
          "text": [
            "Theta & beta estimations on assessmentItemID are completed.\n"
          ]
        },
        {
          "name": "stderr",
          "output_type": "stream",
          "text": [
            "/tmp/ipykernel_93623/502413999.py:91: SettingWithCopyWarning: \n",
            "A value is trying to be set on a copy of a slice from a DataFrame.\n",
            "Try using .loc[row_indexer,col_indexer] = value instead\n",
            "\n",
            "See the caveats in the documentation: https://pandas.pydata.org/pandas-docs/stable/user_guide/indexing.html#returning-a-view-versus-a-copy\n",
            "  df['elouser'] = t\n",
            "/tmp/ipykernel_93623/502413999.py:75: SettingWithCopyWarning: \n",
            "A value is trying to be set on a copy of a slice from a DataFrame.\n",
            "Try using .loc[row_indexer,col_indexer] = value instead\n",
            "\n",
            "See the caveats in the documentation: https://pandas.pydata.org/pandas-docs/stable/user_guide/indexing.html#returning-a-view-versus-a-copy\n",
            "  df[\"left_asymptote\"] = 0\n"
          ]
        },
        {
          "name": "stdout",
          "output_type": "stream",
          "text": [
            "Dataset of shape (575881, 29)\n",
            "Columns are ['userID', 'assessmentItemID', 'testId', 'answerCode', 'Timestamp', 'KnowledgeTag', 'elouser', 'eloitem', 'elotag', 'elotest', 'elo', 'solve_time', 'b_category', 'test_category', 'problem_id', 'category_st_qcut_5', 'last_answerCode', 'last_answerCode2', 'last_answerCode3', 'last_answerCode4', 'last_answerCode5', 'last_answerCode6', 'year', 'month', 'day', 'hour', 'tem', 'item_mean', 'left_asymptote']\n",
            "Parameter estimation is starting...\n"
          ]
        },
        {
          "name": "stderr",
          "output_type": "stream",
          "text": [
            "100%|██████████| 575881/575881 [00:12<00:00, 44663.21it/s]\n"
          ]
        },
        {
          "name": "stdout",
          "output_type": "stream",
          "text": [
            "Theta & beta estimations on assessmentItemID are completed.\n"
          ]
        },
        {
          "name": "stderr",
          "output_type": "stream",
          "text": [
            "/tmp/ipykernel_93623/502413999.py:91: SettingWithCopyWarning: \n",
            "A value is trying to be set on a copy of a slice from a DataFrame.\n",
            "Try using .loc[row_indexer,col_indexer] = value instead\n",
            "\n",
            "See the caveats in the documentation: https://pandas.pydata.org/pandas-docs/stable/user_guide/indexing.html#returning-a-view-versus-a-copy\n",
            "  df['elouser'] = t\n",
            "/tmp/ipykernel_93623/502413999.py:75: SettingWithCopyWarning: \n",
            "A value is trying to be set on a copy of a slice from a DataFrame.\n",
            "Try using .loc[row_indexer,col_indexer] = value instead\n",
            "\n",
            "See the caveats in the documentation: https://pandas.pydata.org/pandas-docs/stable/user_guide/indexing.html#returning-a-view-versus-a-copy\n",
            "  df[\"left_asymptote\"] = 0\n"
          ]
        },
        {
          "name": "stdout",
          "output_type": "stream",
          "text": [
            "Dataset of shape (573676, 29)\n",
            "Columns are ['userID', 'assessmentItemID', 'testId', 'answerCode', 'Timestamp', 'KnowledgeTag', 'elouser', 'eloitem', 'elotag', 'elotest', 'elo', 'solve_time', 'b_category', 'test_category', 'problem_id', 'category_st_qcut_5', 'last_answerCode', 'last_answerCode2', 'last_answerCode3', 'last_answerCode4', 'last_answerCode5', 'last_answerCode6', 'year', 'month', 'day', 'hour', 'tem', 'item_mean', 'left_asymptote']\n",
            "Parameter estimation is starting...\n"
          ]
        },
        {
          "name": "stderr",
          "output_type": "stream",
          "text": [
            "100%|██████████| 573676/573676 [00:12<00:00, 44752.36it/s]\n"
          ]
        },
        {
          "name": "stdout",
          "output_type": "stream",
          "text": [
            "Theta & beta estimations on assessmentItemID are completed.\n"
          ]
        },
        {
          "name": "stderr",
          "output_type": "stream",
          "text": [
            "/tmp/ipykernel_93623/502413999.py:91: SettingWithCopyWarning: \n",
            "A value is trying to be set on a copy of a slice from a DataFrame.\n",
            "Try using .loc[row_indexer,col_indexer] = value instead\n",
            "\n",
            "See the caveats in the documentation: https://pandas.pydata.org/pandas-docs/stable/user_guide/indexing.html#returning-a-view-versus-a-copy\n",
            "  df['elouser'] = t\n",
            "/tmp/ipykernel_93623/502413999.py:75: SettingWithCopyWarning: \n",
            "A value is trying to be set on a copy of a slice from a DataFrame.\n",
            "Try using .loc[row_indexer,col_indexer] = value instead\n",
            "\n",
            "See the caveats in the documentation: https://pandas.pydata.org/pandas-docs/stable/user_guide/indexing.html#returning-a-view-versus-a-copy\n",
            "  df[\"left_asymptote\"] = 0\n"
          ]
        },
        {
          "name": "stdout",
          "output_type": "stream",
          "text": [
            "Dataset of shape (571497, 29)\n",
            "Columns are ['userID', 'assessmentItemID', 'testId', 'answerCode', 'Timestamp', 'KnowledgeTag', 'elouser', 'eloitem', 'elotag', 'elotest', 'elo', 'solve_time', 'b_category', 'test_category', 'problem_id', 'category_st_qcut_5', 'last_answerCode', 'last_answerCode2', 'last_answerCode3', 'last_answerCode4', 'last_answerCode5', 'last_answerCode6', 'year', 'month', 'day', 'hour', 'tem', 'item_mean', 'left_asymptote']\n",
            "Parameter estimation is starting...\n"
          ]
        },
        {
          "name": "stderr",
          "output_type": "stream",
          "text": [
            "100%|██████████| 571497/571497 [00:12<00:00, 44604.46it/s]\n"
          ]
        },
        {
          "name": "stdout",
          "output_type": "stream",
          "text": [
            "Theta & beta estimations on assessmentItemID are completed.\n"
          ]
        },
        {
          "name": "stderr",
          "output_type": "stream",
          "text": [
            "/tmp/ipykernel_93623/502413999.py:91: SettingWithCopyWarning: \n",
            "A value is trying to be set on a copy of a slice from a DataFrame.\n",
            "Try using .loc[row_indexer,col_indexer] = value instead\n",
            "\n",
            "See the caveats in the documentation: https://pandas.pydata.org/pandas-docs/stable/user_guide/indexing.html#returning-a-view-versus-a-copy\n",
            "  df['elouser'] = t\n",
            "/tmp/ipykernel_93623/502413999.py:75: SettingWithCopyWarning: \n",
            "A value is trying to be set on a copy of a slice from a DataFrame.\n",
            "Try using .loc[row_indexer,col_indexer] = value instead\n",
            "\n",
            "See the caveats in the documentation: https://pandas.pydata.org/pandas-docs/stable/user_guide/indexing.html#returning-a-view-versus-a-copy\n",
            "  df[\"left_asymptote\"] = 0\n"
          ]
        },
        {
          "name": "stdout",
          "output_type": "stream",
          "text": [
            "Dataset of shape (569332, 29)\n",
            "Columns are ['userID', 'assessmentItemID', 'testId', 'answerCode', 'Timestamp', 'KnowledgeTag', 'elouser', 'eloitem', 'elotag', 'elotest', 'elo', 'solve_time', 'b_category', 'test_category', 'problem_id', 'category_st_qcut_5', 'last_answerCode', 'last_answerCode2', 'last_answerCode3', 'last_answerCode4', 'last_answerCode5', 'last_answerCode6', 'year', 'month', 'day', 'hour', 'tem', 'item_mean', 'left_asymptote']\n",
            "Parameter estimation is starting...\n"
          ]
        },
        {
          "name": "stderr",
          "output_type": "stream",
          "text": [
            "100%|██████████| 569332/569332 [00:12<00:00, 44518.24it/s]\n"
          ]
        },
        {
          "name": "stdout",
          "output_type": "stream",
          "text": [
            "Theta & beta estimations on assessmentItemID are completed.\n"
          ]
        },
        {
          "name": "stderr",
          "output_type": "stream",
          "text": [
            "/tmp/ipykernel_93623/502413999.py:91: SettingWithCopyWarning: \n",
            "A value is trying to be set on a copy of a slice from a DataFrame.\n",
            "Try using .loc[row_indexer,col_indexer] = value instead\n",
            "\n",
            "See the caveats in the documentation: https://pandas.pydata.org/pandas-docs/stable/user_guide/indexing.html#returning-a-view-versus-a-copy\n",
            "  df['elouser'] = t\n",
            "/tmp/ipykernel_93623/502413999.py:75: SettingWithCopyWarning: \n",
            "A value is trying to be set on a copy of a slice from a DataFrame.\n",
            "Try using .loc[row_indexer,col_indexer] = value instead\n",
            "\n",
            "See the caveats in the documentation: https://pandas.pydata.org/pandas-docs/stable/user_guide/indexing.html#returning-a-view-versus-a-copy\n",
            "  df[\"left_asymptote\"] = 0\n"
          ]
        },
        {
          "name": "stdout",
          "output_type": "stream",
          "text": [
            "Dataset of shape (567188, 29)\n",
            "Columns are ['userID', 'assessmentItemID', 'testId', 'answerCode', 'Timestamp', 'KnowledgeTag', 'elouser', 'eloitem', 'elotag', 'elotest', 'elo', 'solve_time', 'b_category', 'test_category', 'problem_id', 'category_st_qcut_5', 'last_answerCode', 'last_answerCode2', 'last_answerCode3', 'last_answerCode4', 'last_answerCode5', 'last_answerCode6', 'year', 'month', 'day', 'hour', 'tem', 'item_mean', 'left_asymptote']\n",
            "Parameter estimation is starting...\n"
          ]
        },
        {
          "name": "stderr",
          "output_type": "stream",
          "text": [
            "100%|██████████| 567188/567188 [00:12<00:00, 44682.95it/s]\n"
          ]
        },
        {
          "name": "stdout",
          "output_type": "stream",
          "text": [
            "Theta & beta estimations on assessmentItemID are completed.\n"
          ]
        },
        {
          "name": "stderr",
          "output_type": "stream",
          "text": [
            "/tmp/ipykernel_93623/502413999.py:91: SettingWithCopyWarning: \n",
            "A value is trying to be set on a copy of a slice from a DataFrame.\n",
            "Try using .loc[row_indexer,col_indexer] = value instead\n",
            "\n",
            "See the caveats in the documentation: https://pandas.pydata.org/pandas-docs/stable/user_guide/indexing.html#returning-a-view-versus-a-copy\n",
            "  df['elouser'] = t\n",
            "/tmp/ipykernel_93623/502413999.py:75: SettingWithCopyWarning: \n",
            "A value is trying to be set on a copy of a slice from a DataFrame.\n",
            "Try using .loc[row_indexer,col_indexer] = value instead\n",
            "\n",
            "See the caveats in the documentation: https://pandas.pydata.org/pandas-docs/stable/user_guide/indexing.html#returning-a-view-versus-a-copy\n",
            "  df[\"left_asymptote\"] = 0\n"
          ]
        },
        {
          "name": "stdout",
          "output_type": "stream",
          "text": [
            "Dataset of shape (565066, 29)\n",
            "Columns are ['userID', 'assessmentItemID', 'testId', 'answerCode', 'Timestamp', 'KnowledgeTag', 'elouser', 'eloitem', 'elotag', 'elotest', 'elo', 'solve_time', 'b_category', 'test_category', 'problem_id', 'category_st_qcut_5', 'last_answerCode', 'last_answerCode2', 'last_answerCode3', 'last_answerCode4', 'last_answerCode5', 'last_answerCode6', 'year', 'month', 'day', 'hour', 'tem', 'item_mean', 'left_asymptote']\n",
            "Parameter estimation is starting...\n"
          ]
        },
        {
          "name": "stderr",
          "output_type": "stream",
          "text": [
            "100%|██████████| 565066/565066 [00:12<00:00, 44270.00it/s]\n"
          ]
        },
        {
          "name": "stdout",
          "output_type": "stream",
          "text": [
            "Theta & beta estimations on assessmentItemID are completed.\n"
          ]
        },
        {
          "name": "stderr",
          "output_type": "stream",
          "text": [
            "/tmp/ipykernel_93623/502413999.py:91: SettingWithCopyWarning: \n",
            "A value is trying to be set on a copy of a slice from a DataFrame.\n",
            "Try using .loc[row_indexer,col_indexer] = value instead\n",
            "\n",
            "See the caveats in the documentation: https://pandas.pydata.org/pandas-docs/stable/user_guide/indexing.html#returning-a-view-versus-a-copy\n",
            "  df['elouser'] = t\n",
            "/tmp/ipykernel_93623/502413999.py:75: SettingWithCopyWarning: \n",
            "A value is trying to be set on a copy of a slice from a DataFrame.\n",
            "Try using .loc[row_indexer,col_indexer] = value instead\n",
            "\n",
            "See the caveats in the documentation: https://pandas.pydata.org/pandas-docs/stable/user_guide/indexing.html#returning-a-view-versus-a-copy\n",
            "  df[\"left_asymptote\"] = 0\n"
          ]
        },
        {
          "name": "stdout",
          "output_type": "stream",
          "text": [
            "Dataset of shape (562969, 29)\n",
            "Columns are ['userID', 'assessmentItemID', 'testId', 'answerCode', 'Timestamp', 'KnowledgeTag', 'elouser', 'eloitem', 'elotag', 'elotest', 'elo', 'solve_time', 'b_category', 'test_category', 'problem_id', 'category_st_qcut_5', 'last_answerCode', 'last_answerCode2', 'last_answerCode3', 'last_answerCode4', 'last_answerCode5', 'last_answerCode6', 'year', 'month', 'day', 'hour', 'tem', 'item_mean', 'left_asymptote']\n",
            "Parameter estimation is starting...\n"
          ]
        },
        {
          "name": "stderr",
          "output_type": "stream",
          "text": [
            "100%|██████████| 562969/562969 [00:12<00:00, 44196.78it/s]\n"
          ]
        },
        {
          "name": "stdout",
          "output_type": "stream",
          "text": [
            "Theta & beta estimations on assessmentItemID are completed.\n"
          ]
        },
        {
          "name": "stderr",
          "output_type": "stream",
          "text": [
            "/tmp/ipykernel_93623/502413999.py:91: SettingWithCopyWarning: \n",
            "A value is trying to be set on a copy of a slice from a DataFrame.\n",
            "Try using .loc[row_indexer,col_indexer] = value instead\n",
            "\n",
            "See the caveats in the documentation: https://pandas.pydata.org/pandas-docs/stable/user_guide/indexing.html#returning-a-view-versus-a-copy\n",
            "  df['elouser'] = t\n",
            "/tmp/ipykernel_93623/502413999.py:75: SettingWithCopyWarning: \n",
            "A value is trying to be set on a copy of a slice from a DataFrame.\n",
            "Try using .loc[row_indexer,col_indexer] = value instead\n",
            "\n",
            "See the caveats in the documentation: https://pandas.pydata.org/pandas-docs/stable/user_guide/indexing.html#returning-a-view-versus-a-copy\n",
            "  df[\"left_asymptote\"] = 0\n"
          ]
        },
        {
          "name": "stdout",
          "output_type": "stream",
          "text": [
            "Dataset of shape (560901, 29)\n",
            "Columns are ['userID', 'assessmentItemID', 'testId', 'answerCode', 'Timestamp', 'KnowledgeTag', 'elouser', 'eloitem', 'elotag', 'elotest', 'elo', 'solve_time', 'b_category', 'test_category', 'problem_id', 'category_st_qcut_5', 'last_answerCode', 'last_answerCode2', 'last_answerCode3', 'last_answerCode4', 'last_answerCode5', 'last_answerCode6', 'year', 'month', 'day', 'hour', 'tem', 'item_mean', 'left_asymptote']\n",
            "Parameter estimation is starting...\n"
          ]
        },
        {
          "name": "stderr",
          "output_type": "stream",
          "text": [
            "100%|██████████| 560901/560901 [00:13<00:00, 42850.41it/s]\n"
          ]
        },
        {
          "name": "stdout",
          "output_type": "stream",
          "text": [
            "Theta & beta estimations on assessmentItemID are completed.\n"
          ]
        },
        {
          "name": "stderr",
          "output_type": "stream",
          "text": [
            "/tmp/ipykernel_93623/502413999.py:91: SettingWithCopyWarning: \n",
            "A value is trying to be set on a copy of a slice from a DataFrame.\n",
            "Try using .loc[row_indexer,col_indexer] = value instead\n",
            "\n",
            "See the caveats in the documentation: https://pandas.pydata.org/pandas-docs/stable/user_guide/indexing.html#returning-a-view-versus-a-copy\n",
            "  df['elouser'] = t\n",
            "/tmp/ipykernel_93623/502413999.py:75: SettingWithCopyWarning: \n",
            "A value is trying to be set on a copy of a slice from a DataFrame.\n",
            "Try using .loc[row_indexer,col_indexer] = value instead\n",
            "\n",
            "See the caveats in the documentation: https://pandas.pydata.org/pandas-docs/stable/user_guide/indexing.html#returning-a-view-versus-a-copy\n",
            "  df[\"left_asymptote\"] = 0\n"
          ]
        },
        {
          "name": "stdout",
          "output_type": "stream",
          "text": [
            "Dataset of shape (558860, 29)\n",
            "Columns are ['userID', 'assessmentItemID', 'testId', 'answerCode', 'Timestamp', 'KnowledgeTag', 'elouser', 'eloitem', 'elotag', 'elotest', 'elo', 'solve_time', 'b_category', 'test_category', 'problem_id', 'category_st_qcut_5', 'last_answerCode', 'last_answerCode2', 'last_answerCode3', 'last_answerCode4', 'last_answerCode5', 'last_answerCode6', 'year', 'month', 'day', 'hour', 'tem', 'item_mean', 'left_asymptote']\n",
            "Parameter estimation is starting...\n"
          ]
        },
        {
          "name": "stderr",
          "output_type": "stream",
          "text": [
            "100%|██████████| 558860/558860 [00:12<00:00, 44955.15it/s]\n"
          ]
        },
        {
          "name": "stdout",
          "output_type": "stream",
          "text": [
            "Theta & beta estimations on assessmentItemID are completed.\n"
          ]
        },
        {
          "name": "stderr",
          "output_type": "stream",
          "text": [
            "/tmp/ipykernel_93623/502413999.py:91: SettingWithCopyWarning: \n",
            "A value is trying to be set on a copy of a slice from a DataFrame.\n",
            "Try using .loc[row_indexer,col_indexer] = value instead\n",
            "\n",
            "See the caveats in the documentation: https://pandas.pydata.org/pandas-docs/stable/user_guide/indexing.html#returning-a-view-versus-a-copy\n",
            "  df['elouser'] = t\n",
            "/tmp/ipykernel_93623/502413999.py:75: SettingWithCopyWarning: \n",
            "A value is trying to be set on a copy of a slice from a DataFrame.\n",
            "Try using .loc[row_indexer,col_indexer] = value instead\n",
            "\n",
            "See the caveats in the documentation: https://pandas.pydata.org/pandas-docs/stable/user_guide/indexing.html#returning-a-view-versus-a-copy\n",
            "  df[\"left_asymptote\"] = 0\n"
          ]
        },
        {
          "name": "stdout",
          "output_type": "stream",
          "text": [
            "Dataset of shape (556839, 29)\n",
            "Columns are ['userID', 'assessmentItemID', 'testId', 'answerCode', 'Timestamp', 'KnowledgeTag', 'elouser', 'eloitem', 'elotag', 'elotest', 'elo', 'solve_time', 'b_category', 'test_category', 'problem_id', 'category_st_qcut_5', 'last_answerCode', 'last_answerCode2', 'last_answerCode3', 'last_answerCode4', 'last_answerCode5', 'last_answerCode6', 'year', 'month', 'day', 'hour', 'tem', 'item_mean', 'left_asymptote']\n",
            "Parameter estimation is starting...\n"
          ]
        },
        {
          "name": "stderr",
          "output_type": "stream",
          "text": [
            "100%|██████████| 556839/556839 [00:12<00:00, 44486.81it/s]\n"
          ]
        },
        {
          "name": "stdout",
          "output_type": "stream",
          "text": [
            "Theta & beta estimations on assessmentItemID are completed.\n"
          ]
        },
        {
          "name": "stderr",
          "output_type": "stream",
          "text": [
            "/tmp/ipykernel_93623/502413999.py:91: SettingWithCopyWarning: \n",
            "A value is trying to be set on a copy of a slice from a DataFrame.\n",
            "Try using .loc[row_indexer,col_indexer] = value instead\n",
            "\n",
            "See the caveats in the documentation: https://pandas.pydata.org/pandas-docs/stable/user_guide/indexing.html#returning-a-view-versus-a-copy\n",
            "  df['elouser'] = t\n",
            "/tmp/ipykernel_93623/502413999.py:75: SettingWithCopyWarning: \n",
            "A value is trying to be set on a copy of a slice from a DataFrame.\n",
            "Try using .loc[row_indexer,col_indexer] = value instead\n",
            "\n",
            "See the caveats in the documentation: https://pandas.pydata.org/pandas-docs/stable/user_guide/indexing.html#returning-a-view-versus-a-copy\n",
            "  df[\"left_asymptote\"] = 0\n"
          ]
        },
        {
          "name": "stdout",
          "output_type": "stream",
          "text": [
            "Dataset of shape (554830, 29)\n",
            "Columns are ['userID', 'assessmentItemID', 'testId', 'answerCode', 'Timestamp', 'KnowledgeTag', 'elouser', 'eloitem', 'elotag', 'elotest', 'elo', 'solve_time', 'b_category', 'test_category', 'problem_id', 'category_st_qcut_5', 'last_answerCode', 'last_answerCode2', 'last_answerCode3', 'last_answerCode4', 'last_answerCode5', 'last_answerCode6', 'year', 'month', 'day', 'hour', 'tem', 'item_mean', 'left_asymptote']\n",
            "Parameter estimation is starting...\n"
          ]
        },
        {
          "name": "stderr",
          "output_type": "stream",
          "text": [
            "100%|██████████| 554830/554830 [00:12<00:00, 44432.33it/s]\n",
            "/tmp/ipykernel_93623/502413999.py:91: SettingWithCopyWarning: \n",
            "A value is trying to be set on a copy of a slice from a DataFrame.\n",
            "Try using .loc[row_indexer,col_indexer] = value instead\n",
            "\n",
            "See the caveats in the documentation: https://pandas.pydata.org/pandas-docs/stable/user_guide/indexing.html#returning-a-view-versus-a-copy\n",
            "  df['elouser'] = t\n"
          ]
        },
        {
          "name": "stdout",
          "output_type": "stream",
          "text": [
            "Theta & beta estimations on assessmentItemID are completed.\n"
          ]
        },
        {
          "name": "stderr",
          "output_type": "stream",
          "text": [
            "/tmp/ipykernel_93623/502413999.py:75: SettingWithCopyWarning: \n",
            "A value is trying to be set on a copy of a slice from a DataFrame.\n",
            "Try using .loc[row_indexer,col_indexer] = value instead\n",
            "\n",
            "See the caveats in the documentation: https://pandas.pydata.org/pandas-docs/stable/user_guide/indexing.html#returning-a-view-versus-a-copy\n",
            "  df[\"left_asymptote\"] = 0\n"
          ]
        },
        {
          "name": "stdout",
          "output_type": "stream",
          "text": [
            "Dataset of shape (552852, 29)\n",
            "Columns are ['userID', 'assessmentItemID', 'testId', 'answerCode', 'Timestamp', 'KnowledgeTag', 'elouser', 'eloitem', 'elotag', 'elotest', 'elo', 'solve_time', 'b_category', 'test_category', 'problem_id', 'category_st_qcut_5', 'last_answerCode', 'last_answerCode2', 'last_answerCode3', 'last_answerCode4', 'last_answerCode5', 'last_answerCode6', 'year', 'month', 'day', 'hour', 'tem', 'item_mean', 'left_asymptote']\n",
            "Parameter estimation is starting...\n"
          ]
        },
        {
          "name": "stderr",
          "output_type": "stream",
          "text": [
            "100%|██████████| 552852/552852 [00:12<00:00, 44607.41it/s]\n"
          ]
        },
        {
          "name": "stdout",
          "output_type": "stream",
          "text": [
            "Theta & beta estimations on assessmentItemID are completed.\n"
          ]
        },
        {
          "name": "stderr",
          "output_type": "stream",
          "text": [
            "/tmp/ipykernel_93623/502413999.py:91: SettingWithCopyWarning: \n",
            "A value is trying to be set on a copy of a slice from a DataFrame.\n",
            "Try using .loc[row_indexer,col_indexer] = value instead\n",
            "\n",
            "See the caveats in the documentation: https://pandas.pydata.org/pandas-docs/stable/user_guide/indexing.html#returning-a-view-versus-a-copy\n",
            "  df['elouser'] = t\n",
            "/tmp/ipykernel_93623/502413999.py:75: SettingWithCopyWarning: \n",
            "A value is trying to be set on a copy of a slice from a DataFrame.\n",
            "Try using .loc[row_indexer,col_indexer] = value instead\n",
            "\n",
            "See the caveats in the documentation: https://pandas.pydata.org/pandas-docs/stable/user_guide/indexing.html#returning-a-view-versus-a-copy\n",
            "  df[\"left_asymptote\"] = 0\n"
          ]
        },
        {
          "name": "stdout",
          "output_type": "stream",
          "text": [
            "Dataset of shape (550890, 29)\n",
            "Columns are ['userID', 'assessmentItemID', 'testId', 'answerCode', 'Timestamp', 'KnowledgeTag', 'elouser', 'eloitem', 'elotag', 'elotest', 'elo', 'solve_time', 'b_category', 'test_category', 'problem_id', 'category_st_qcut_5', 'last_answerCode', 'last_answerCode2', 'last_answerCode3', 'last_answerCode4', 'last_answerCode5', 'last_answerCode6', 'year', 'month', 'day', 'hour', 'tem', 'item_mean', 'left_asymptote']\n",
            "Parameter estimation is starting...\n"
          ]
        },
        {
          "name": "stderr",
          "output_type": "stream",
          "text": [
            "100%|██████████| 550890/550890 [00:12<00:00, 42597.21it/s]\n"
          ]
        },
        {
          "name": "stdout",
          "output_type": "stream",
          "text": [
            "Theta & beta estimations on assessmentItemID are completed.\n"
          ]
        },
        {
          "name": "stderr",
          "output_type": "stream",
          "text": [
            "/tmp/ipykernel_93623/502413999.py:91: SettingWithCopyWarning: \n",
            "A value is trying to be set on a copy of a slice from a DataFrame.\n",
            "Try using .loc[row_indexer,col_indexer] = value instead\n",
            "\n",
            "See the caveats in the documentation: https://pandas.pydata.org/pandas-docs/stable/user_guide/indexing.html#returning-a-view-versus-a-copy\n",
            "  df['elouser'] = t\n",
            "/tmp/ipykernel_93623/502413999.py:75: SettingWithCopyWarning: \n",
            "A value is trying to be set on a copy of a slice from a DataFrame.\n",
            "Try using .loc[row_indexer,col_indexer] = value instead\n",
            "\n",
            "See the caveats in the documentation: https://pandas.pydata.org/pandas-docs/stable/user_guide/indexing.html#returning-a-view-versus-a-copy\n",
            "  df[\"left_asymptote\"] = 0\n"
          ]
        },
        {
          "name": "stdout",
          "output_type": "stream",
          "text": [
            "Dataset of shape (548952, 29)\n",
            "Columns are ['userID', 'assessmentItemID', 'testId', 'answerCode', 'Timestamp', 'KnowledgeTag', 'elouser', 'eloitem', 'elotag', 'elotest', 'elo', 'solve_time', 'b_category', 'test_category', 'problem_id', 'category_st_qcut_5', 'last_answerCode', 'last_answerCode2', 'last_answerCode3', 'last_answerCode4', 'last_answerCode5', 'last_answerCode6', 'year', 'month', 'day', 'hour', 'tem', 'item_mean', 'left_asymptote']\n",
            "Parameter estimation is starting...\n"
          ]
        },
        {
          "name": "stderr",
          "output_type": "stream",
          "text": [
            "100%|██████████| 548952/548952 [00:12<00:00, 44439.85it/s]\n"
          ]
        },
        {
          "name": "stdout",
          "output_type": "stream",
          "text": [
            "Theta & beta estimations on assessmentItemID are completed.\n"
          ]
        },
        {
          "name": "stderr",
          "output_type": "stream",
          "text": [
            "/tmp/ipykernel_93623/502413999.py:91: SettingWithCopyWarning: \n",
            "A value is trying to be set on a copy of a slice from a DataFrame.\n",
            "Try using .loc[row_indexer,col_indexer] = value instead\n",
            "\n",
            "See the caveats in the documentation: https://pandas.pydata.org/pandas-docs/stable/user_guide/indexing.html#returning-a-view-versus-a-copy\n",
            "  df['elouser'] = t\n",
            "/tmp/ipykernel_93623/502413999.py:75: SettingWithCopyWarning: \n",
            "A value is trying to be set on a copy of a slice from a DataFrame.\n",
            "Try using .loc[row_indexer,col_indexer] = value instead\n",
            "\n",
            "See the caveats in the documentation: https://pandas.pydata.org/pandas-docs/stable/user_guide/indexing.html#returning-a-view-versus-a-copy\n",
            "  df[\"left_asymptote\"] = 0\n"
          ]
        },
        {
          "name": "stdout",
          "output_type": "stream",
          "text": [
            "Dataset of shape (547039, 29)\n",
            "Columns are ['userID', 'assessmentItemID', 'testId', 'answerCode', 'Timestamp', 'KnowledgeTag', 'elouser', 'eloitem', 'elotag', 'elotest', 'elo', 'solve_time', 'b_category', 'test_category', 'problem_id', 'category_st_qcut_5', 'last_answerCode', 'last_answerCode2', 'last_answerCode3', 'last_answerCode4', 'last_answerCode5', 'last_answerCode6', 'year', 'month', 'day', 'hour', 'tem', 'item_mean', 'left_asymptote']\n",
            "Parameter estimation is starting...\n"
          ]
        },
        {
          "name": "stderr",
          "output_type": "stream",
          "text": [
            "100%|██████████| 547039/547039 [00:12<00:00, 44391.73it/s]\n"
          ]
        },
        {
          "name": "stdout",
          "output_type": "stream",
          "text": [
            "Theta & beta estimations on assessmentItemID are completed.\n"
          ]
        },
        {
          "name": "stderr",
          "output_type": "stream",
          "text": [
            "/tmp/ipykernel_93623/502413999.py:91: SettingWithCopyWarning: \n",
            "A value is trying to be set on a copy of a slice from a DataFrame.\n",
            "Try using .loc[row_indexer,col_indexer] = value instead\n",
            "\n",
            "See the caveats in the documentation: https://pandas.pydata.org/pandas-docs/stable/user_guide/indexing.html#returning-a-view-versus-a-copy\n",
            "  df['elouser'] = t\n",
            "/tmp/ipykernel_93623/502413999.py:75: SettingWithCopyWarning: \n",
            "A value is trying to be set on a copy of a slice from a DataFrame.\n",
            "Try using .loc[row_indexer,col_indexer] = value instead\n",
            "\n",
            "See the caveats in the documentation: https://pandas.pydata.org/pandas-docs/stable/user_guide/indexing.html#returning-a-view-versus-a-copy\n",
            "  df[\"left_asymptote\"] = 0\n"
          ]
        },
        {
          "name": "stdout",
          "output_type": "stream",
          "text": [
            "Dataset of shape (545142, 29)\n",
            "Columns are ['userID', 'assessmentItemID', 'testId', 'answerCode', 'Timestamp', 'KnowledgeTag', 'elouser', 'eloitem', 'elotag', 'elotest', 'elo', 'solve_time', 'b_category', 'test_category', 'problem_id', 'category_st_qcut_5', 'last_answerCode', 'last_answerCode2', 'last_answerCode3', 'last_answerCode4', 'last_answerCode5', 'last_answerCode6', 'year', 'month', 'day', 'hour', 'tem', 'item_mean', 'left_asymptote']\n",
            "Parameter estimation is starting...\n"
          ]
        },
        {
          "name": "stderr",
          "output_type": "stream",
          "text": [
            "100%|██████████| 545142/545142 [00:12<00:00, 44520.22it/s]\n"
          ]
        },
        {
          "name": "stdout",
          "output_type": "stream",
          "text": [
            "Theta & beta estimations on assessmentItemID are completed.\n"
          ]
        },
        {
          "name": "stderr",
          "output_type": "stream",
          "text": [
            "/tmp/ipykernel_93623/502413999.py:91: SettingWithCopyWarning: \n",
            "A value is trying to be set on a copy of a slice from a DataFrame.\n",
            "Try using .loc[row_indexer,col_indexer] = value instead\n",
            "\n",
            "See the caveats in the documentation: https://pandas.pydata.org/pandas-docs/stable/user_guide/indexing.html#returning-a-view-versus-a-copy\n",
            "  df['elouser'] = t\n",
            "/tmp/ipykernel_93623/502413999.py:75: SettingWithCopyWarning: \n",
            "A value is trying to be set on a copy of a slice from a DataFrame.\n",
            "Try using .loc[row_indexer,col_indexer] = value instead\n",
            "\n",
            "See the caveats in the documentation: https://pandas.pydata.org/pandas-docs/stable/user_guide/indexing.html#returning-a-view-versus-a-copy\n",
            "  df[\"left_asymptote\"] = 0\n"
          ]
        },
        {
          "name": "stdout",
          "output_type": "stream",
          "text": [
            "Dataset of shape (543261, 29)\n",
            "Columns are ['userID', 'assessmentItemID', 'testId', 'answerCode', 'Timestamp', 'KnowledgeTag', 'elouser', 'eloitem', 'elotag', 'elotest', 'elo', 'solve_time', 'b_category', 'test_category', 'problem_id', 'category_st_qcut_5', 'last_answerCode', 'last_answerCode2', 'last_answerCode3', 'last_answerCode4', 'last_answerCode5', 'last_answerCode6', 'year', 'month', 'day', 'hour', 'tem', 'item_mean', 'left_asymptote']\n",
            "Parameter estimation is starting...\n"
          ]
        },
        {
          "name": "stderr",
          "output_type": "stream",
          "text": [
            "100%|██████████| 543261/543261 [00:12<00:00, 44526.94it/s]\n"
          ]
        },
        {
          "name": "stdout",
          "output_type": "stream",
          "text": [
            "Theta & beta estimations on assessmentItemID are completed.\n"
          ]
        },
        {
          "name": "stderr",
          "output_type": "stream",
          "text": [
            "/tmp/ipykernel_93623/502413999.py:91: SettingWithCopyWarning: \n",
            "A value is trying to be set on a copy of a slice from a DataFrame.\n",
            "Try using .loc[row_indexer,col_indexer] = value instead\n",
            "\n",
            "See the caveats in the documentation: https://pandas.pydata.org/pandas-docs/stable/user_guide/indexing.html#returning-a-view-versus-a-copy\n",
            "  df['elouser'] = t\n",
            "/tmp/ipykernel_93623/502413999.py:75: SettingWithCopyWarning: \n",
            "A value is trying to be set on a copy of a slice from a DataFrame.\n",
            "Try using .loc[row_indexer,col_indexer] = value instead\n",
            "\n",
            "See the caveats in the documentation: https://pandas.pydata.org/pandas-docs/stable/user_guide/indexing.html#returning-a-view-versus-a-copy\n",
            "  df[\"left_asymptote\"] = 0\n"
          ]
        },
        {
          "name": "stdout",
          "output_type": "stream",
          "text": [
            "Dataset of shape (541388, 29)\n",
            "Columns are ['userID', 'assessmentItemID', 'testId', 'answerCode', 'Timestamp', 'KnowledgeTag', 'elouser', 'eloitem', 'elotag', 'elotest', 'elo', 'solve_time', 'b_category', 'test_category', 'problem_id', 'category_st_qcut_5', 'last_answerCode', 'last_answerCode2', 'last_answerCode3', 'last_answerCode4', 'last_answerCode5', 'last_answerCode6', 'year', 'month', 'day', 'hour', 'tem', 'item_mean', 'left_asymptote']\n",
            "Parameter estimation is starting...\n"
          ]
        },
        {
          "name": "stderr",
          "output_type": "stream",
          "text": [
            "100%|██████████| 541388/541388 [00:12<00:00, 44539.51it/s]\n"
          ]
        },
        {
          "name": "stdout",
          "output_type": "stream",
          "text": [
            "Theta & beta estimations on assessmentItemID are completed.\n"
          ]
        },
        {
          "name": "stderr",
          "output_type": "stream",
          "text": [
            "/tmp/ipykernel_93623/502413999.py:91: SettingWithCopyWarning: \n",
            "A value is trying to be set on a copy of a slice from a DataFrame.\n",
            "Try using .loc[row_indexer,col_indexer] = value instead\n",
            "\n",
            "See the caveats in the documentation: https://pandas.pydata.org/pandas-docs/stable/user_guide/indexing.html#returning-a-view-versus-a-copy\n",
            "  df['elouser'] = t\n",
            "/tmp/ipykernel_93623/502413999.py:75: SettingWithCopyWarning: \n",
            "A value is trying to be set on a copy of a slice from a DataFrame.\n",
            "Try using .loc[row_indexer,col_indexer] = value instead\n",
            "\n",
            "See the caveats in the documentation: https://pandas.pydata.org/pandas-docs/stable/user_guide/indexing.html#returning-a-view-versus-a-copy\n",
            "  df[\"left_asymptote\"] = 0\n"
          ]
        },
        {
          "name": "stdout",
          "output_type": "stream",
          "text": [
            "Dataset of shape (539525, 29)\n",
            "Columns are ['userID', 'assessmentItemID', 'testId', 'answerCode', 'Timestamp', 'KnowledgeTag', 'elouser', 'eloitem', 'elotag', 'elotest', 'elo', 'solve_time', 'b_category', 'test_category', 'problem_id', 'category_st_qcut_5', 'last_answerCode', 'last_answerCode2', 'last_answerCode3', 'last_answerCode4', 'last_answerCode5', 'last_answerCode6', 'year', 'month', 'day', 'hour', 'tem', 'item_mean', 'left_asymptote']\n",
            "Parameter estimation is starting...\n"
          ]
        },
        {
          "name": "stderr",
          "output_type": "stream",
          "text": [
            "100%|██████████| 539525/539525 [00:12<00:00, 44648.30it/s]\n"
          ]
        },
        {
          "name": "stdout",
          "output_type": "stream",
          "text": [
            "Theta & beta estimations on assessmentItemID are completed.\n"
          ]
        },
        {
          "name": "stderr",
          "output_type": "stream",
          "text": [
            "/tmp/ipykernel_93623/502413999.py:91: SettingWithCopyWarning: \n",
            "A value is trying to be set on a copy of a slice from a DataFrame.\n",
            "Try using .loc[row_indexer,col_indexer] = value instead\n",
            "\n",
            "See the caveats in the documentation: https://pandas.pydata.org/pandas-docs/stable/user_guide/indexing.html#returning-a-view-versus-a-copy\n",
            "  df['elouser'] = t\n",
            "/tmp/ipykernel_93623/502413999.py:75: SettingWithCopyWarning: \n",
            "A value is trying to be set on a copy of a slice from a DataFrame.\n",
            "Try using .loc[row_indexer,col_indexer] = value instead\n",
            "\n",
            "See the caveats in the documentation: https://pandas.pydata.org/pandas-docs/stable/user_guide/indexing.html#returning-a-view-versus-a-copy\n",
            "  df[\"left_asymptote\"] = 0\n"
          ]
        },
        {
          "name": "stdout",
          "output_type": "stream",
          "text": [
            "Dataset of shape (537686, 29)\n",
            "Columns are ['userID', 'assessmentItemID', 'testId', 'answerCode', 'Timestamp', 'KnowledgeTag', 'elouser', 'eloitem', 'elotag', 'elotest', 'elo', 'solve_time', 'b_category', 'test_category', 'problem_id', 'category_st_qcut_5', 'last_answerCode', 'last_answerCode2', 'last_answerCode3', 'last_answerCode4', 'last_answerCode5', 'last_answerCode6', 'year', 'month', 'day', 'hour', 'tem', 'item_mean', 'left_asymptote']\n",
            "Parameter estimation is starting...\n"
          ]
        },
        {
          "name": "stderr",
          "output_type": "stream",
          "text": [
            "100%|██████████| 537686/537686 [00:12<00:00, 44060.98it/s]\n"
          ]
        },
        {
          "name": "stdout",
          "output_type": "stream",
          "text": [
            "Theta & beta estimations on assessmentItemID are completed.\n"
          ]
        },
        {
          "name": "stderr",
          "output_type": "stream",
          "text": [
            "/tmp/ipykernel_93623/502413999.py:91: SettingWithCopyWarning: \n",
            "A value is trying to be set on a copy of a slice from a DataFrame.\n",
            "Try using .loc[row_indexer,col_indexer] = value instead\n",
            "\n",
            "See the caveats in the documentation: https://pandas.pydata.org/pandas-docs/stable/user_guide/indexing.html#returning-a-view-versus-a-copy\n",
            "  df['elouser'] = t\n",
            "/tmp/ipykernel_93623/502413999.py:75: SettingWithCopyWarning: \n",
            "A value is trying to be set on a copy of a slice from a DataFrame.\n",
            "Try using .loc[row_indexer,col_indexer] = value instead\n",
            "\n",
            "See the caveats in the documentation: https://pandas.pydata.org/pandas-docs/stable/user_guide/indexing.html#returning-a-view-versus-a-copy\n",
            "  df[\"left_asymptote\"] = 0\n"
          ]
        },
        {
          "name": "stdout",
          "output_type": "stream",
          "text": [
            "Dataset of shape (535865, 29)\n",
            "Columns are ['userID', 'assessmentItemID', 'testId', 'answerCode', 'Timestamp', 'KnowledgeTag', 'elouser', 'eloitem', 'elotag', 'elotest', 'elo', 'solve_time', 'b_category', 'test_category', 'problem_id', 'category_st_qcut_5', 'last_answerCode', 'last_answerCode2', 'last_answerCode3', 'last_answerCode4', 'last_answerCode5', 'last_answerCode6', 'year', 'month', 'day', 'hour', 'tem', 'item_mean', 'left_asymptote']\n",
            "Parameter estimation is starting...\n"
          ]
        },
        {
          "name": "stderr",
          "output_type": "stream",
          "text": [
            "100%|██████████| 535865/535865 [00:12<00:00, 44124.88it/s]\n"
          ]
        },
        {
          "name": "stdout",
          "output_type": "stream",
          "text": [
            "Theta & beta estimations on assessmentItemID are completed.\n"
          ]
        },
        {
          "name": "stderr",
          "output_type": "stream",
          "text": [
            "/tmp/ipykernel_93623/502413999.py:91: SettingWithCopyWarning: \n",
            "A value is trying to be set on a copy of a slice from a DataFrame.\n",
            "Try using .loc[row_indexer,col_indexer] = value instead\n",
            "\n",
            "See the caveats in the documentation: https://pandas.pydata.org/pandas-docs/stable/user_guide/indexing.html#returning-a-view-versus-a-copy\n",
            "  df['elouser'] = t\n",
            "/tmp/ipykernel_93623/502413999.py:75: SettingWithCopyWarning: \n",
            "A value is trying to be set on a copy of a slice from a DataFrame.\n",
            "Try using .loc[row_indexer,col_indexer] = value instead\n",
            "\n",
            "See the caveats in the documentation: https://pandas.pydata.org/pandas-docs/stable/user_guide/indexing.html#returning-a-view-versus-a-copy\n",
            "  df[\"left_asymptote\"] = 0\n"
          ]
        },
        {
          "name": "stdout",
          "output_type": "stream",
          "text": [
            "Dataset of shape (534058, 29)\n",
            "Columns are ['userID', 'assessmentItemID', 'testId', 'answerCode', 'Timestamp', 'KnowledgeTag', 'elouser', 'eloitem', 'elotag', 'elotest', 'elo', 'solve_time', 'b_category', 'test_category', 'problem_id', 'category_st_qcut_5', 'last_answerCode', 'last_answerCode2', 'last_answerCode3', 'last_answerCode4', 'last_answerCode5', 'last_answerCode6', 'year', 'month', 'day', 'hour', 'tem', 'item_mean', 'left_asymptote']\n",
            "Parameter estimation is starting...\n"
          ]
        },
        {
          "name": "stderr",
          "output_type": "stream",
          "text": [
            "100%|██████████| 534058/534058 [00:11<00:00, 44542.38it/s]\n",
            "/tmp/ipykernel_93623/502413999.py:91: SettingWithCopyWarning: \n",
            "A value is trying to be set on a copy of a slice from a DataFrame.\n",
            "Try using .loc[row_indexer,col_indexer] = value instead\n",
            "\n",
            "See the caveats in the documentation: https://pandas.pydata.org/pandas-docs/stable/user_guide/indexing.html#returning-a-view-versus-a-copy\n",
            "  df['elouser'] = t\n"
          ]
        },
        {
          "name": "stdout",
          "output_type": "stream",
          "text": [
            "Theta & beta estimations on assessmentItemID are completed.\n"
          ]
        },
        {
          "name": "stderr",
          "output_type": "stream",
          "text": [
            "/tmp/ipykernel_93623/502413999.py:75: SettingWithCopyWarning: \n",
            "A value is trying to be set on a copy of a slice from a DataFrame.\n",
            "Try using .loc[row_indexer,col_indexer] = value instead\n",
            "\n",
            "See the caveats in the documentation: https://pandas.pydata.org/pandas-docs/stable/user_guide/indexing.html#returning-a-view-versus-a-copy\n",
            "  df[\"left_asymptote\"] = 0\n"
          ]
        },
        {
          "name": "stdout",
          "output_type": "stream",
          "text": [
            "Dataset of shape (532268, 29)\n",
            "Columns are ['userID', 'assessmentItemID', 'testId', 'answerCode', 'Timestamp', 'KnowledgeTag', 'elouser', 'eloitem', 'elotag', 'elotest', 'elo', 'solve_time', 'b_category', 'test_category', 'problem_id', 'category_st_qcut_5', 'last_answerCode', 'last_answerCode2', 'last_answerCode3', 'last_answerCode4', 'last_answerCode5', 'last_answerCode6', 'year', 'month', 'day', 'hour', 'tem', 'item_mean', 'left_asymptote']\n",
            "Parameter estimation is starting...\n"
          ]
        },
        {
          "name": "stderr",
          "output_type": "stream",
          "text": [
            "100%|██████████| 532268/532268 [00:11<00:00, 44802.15it/s]\n"
          ]
        },
        {
          "name": "stdout",
          "output_type": "stream",
          "text": [
            "Theta & beta estimations on assessmentItemID are completed.\n"
          ]
        },
        {
          "name": "stderr",
          "output_type": "stream",
          "text": [
            "/tmp/ipykernel_93623/502413999.py:91: SettingWithCopyWarning: \n",
            "A value is trying to be set on a copy of a slice from a DataFrame.\n",
            "Try using .loc[row_indexer,col_indexer] = value instead\n",
            "\n",
            "See the caveats in the documentation: https://pandas.pydata.org/pandas-docs/stable/user_guide/indexing.html#returning-a-view-versus-a-copy\n",
            "  df['elouser'] = t\n",
            "/tmp/ipykernel_93623/502413999.py:75: SettingWithCopyWarning: \n",
            "A value is trying to be set on a copy of a slice from a DataFrame.\n",
            "Try using .loc[row_indexer,col_indexer] = value instead\n",
            "\n",
            "See the caveats in the documentation: https://pandas.pydata.org/pandas-docs/stable/user_guide/indexing.html#returning-a-view-versus-a-copy\n",
            "  df[\"left_asymptote\"] = 0\n"
          ]
        },
        {
          "name": "stdout",
          "output_type": "stream",
          "text": [
            "Dataset of shape (530501, 29)\n",
            "Columns are ['userID', 'assessmentItemID', 'testId', 'answerCode', 'Timestamp', 'KnowledgeTag', 'elouser', 'eloitem', 'elotag', 'elotest', 'elo', 'solve_time', 'b_category', 'test_category', 'problem_id', 'category_st_qcut_5', 'last_answerCode', 'last_answerCode2', 'last_answerCode3', 'last_answerCode4', 'last_answerCode5', 'last_answerCode6', 'year', 'month', 'day', 'hour', 'tem', 'item_mean', 'left_asymptote']\n",
            "Parameter estimation is starting...\n"
          ]
        },
        {
          "name": "stderr",
          "output_type": "stream",
          "text": [
            "100%|██████████| 530501/530501 [00:11<00:00, 44673.69it/s]\n",
            "/tmp/ipykernel_93623/502413999.py:91: SettingWithCopyWarning: \n",
            "A value is trying to be set on a copy of a slice from a DataFrame.\n",
            "Try using .loc[row_indexer,col_indexer] = value instead\n",
            "\n",
            "See the caveats in the documentation: https://pandas.pydata.org/pandas-docs/stable/user_guide/indexing.html#returning-a-view-versus-a-copy\n",
            "  df['elouser'] = t\n"
          ]
        },
        {
          "name": "stdout",
          "output_type": "stream",
          "text": [
            "Theta & beta estimations on assessmentItemID are completed.\n"
          ]
        },
        {
          "name": "stderr",
          "output_type": "stream",
          "text": [
            "/tmp/ipykernel_93623/502413999.py:75: SettingWithCopyWarning: \n",
            "A value is trying to be set on a copy of a slice from a DataFrame.\n",
            "Try using .loc[row_indexer,col_indexer] = value instead\n",
            "\n",
            "See the caveats in the documentation: https://pandas.pydata.org/pandas-docs/stable/user_guide/indexing.html#returning-a-view-versus-a-copy\n",
            "  df[\"left_asymptote\"] = 0\n"
          ]
        },
        {
          "name": "stdout",
          "output_type": "stream",
          "text": [
            "Dataset of shape (528751, 29)\n",
            "Columns are ['userID', 'assessmentItemID', 'testId', 'answerCode', 'Timestamp', 'KnowledgeTag', 'elouser', 'eloitem', 'elotag', 'elotest', 'elo', 'solve_time', 'b_category', 'test_category', 'problem_id', 'category_st_qcut_5', 'last_answerCode', 'last_answerCode2', 'last_answerCode3', 'last_answerCode4', 'last_answerCode5', 'last_answerCode6', 'year', 'month', 'day', 'hour', 'tem', 'item_mean', 'left_asymptote']\n",
            "Parameter estimation is starting...\n"
          ]
        },
        {
          "name": "stderr",
          "output_type": "stream",
          "text": [
            "100%|██████████| 528751/528751 [00:12<00:00, 41956.60it/s]\n",
            "/tmp/ipykernel_93623/502413999.py:91: SettingWithCopyWarning: \n",
            "A value is trying to be set on a copy of a slice from a DataFrame.\n",
            "Try using .loc[row_indexer,col_indexer] = value instead\n",
            "\n",
            "See the caveats in the documentation: https://pandas.pydata.org/pandas-docs/stable/user_guide/indexing.html#returning-a-view-versus-a-copy\n",
            "  df['elouser'] = t\n"
          ]
        },
        {
          "name": "stdout",
          "output_type": "stream",
          "text": [
            "Theta & beta estimations on assessmentItemID are completed.\n"
          ]
        },
        {
          "name": "stderr",
          "output_type": "stream",
          "text": [
            "/tmp/ipykernel_93623/502413999.py:75: SettingWithCopyWarning: \n",
            "A value is trying to be set on a copy of a slice from a DataFrame.\n",
            "Try using .loc[row_indexer,col_indexer] = value instead\n",
            "\n",
            "See the caveats in the documentation: https://pandas.pydata.org/pandas-docs/stable/user_guide/indexing.html#returning-a-view-versus-a-copy\n",
            "  df[\"left_asymptote\"] = 0\n"
          ]
        },
        {
          "name": "stdout",
          "output_type": "stream",
          "text": [
            "Dataset of shape (527017, 29)\n",
            "Columns are ['userID', 'assessmentItemID', 'testId', 'answerCode', 'Timestamp', 'KnowledgeTag', 'elouser', 'eloitem', 'elotag', 'elotest', 'elo', 'solve_time', 'b_category', 'test_category', 'problem_id', 'category_st_qcut_5', 'last_answerCode', 'last_answerCode2', 'last_answerCode3', 'last_answerCode4', 'last_answerCode5', 'last_answerCode6', 'year', 'month', 'day', 'hour', 'tem', 'item_mean', 'left_asymptote']\n",
            "Parameter estimation is starting...\n"
          ]
        },
        {
          "name": "stderr",
          "output_type": "stream",
          "text": [
            "100%|██████████| 527017/527017 [00:11<00:00, 44542.39it/s]\n",
            "/tmp/ipykernel_93623/502413999.py:91: SettingWithCopyWarning: \n",
            "A value is trying to be set on a copy of a slice from a DataFrame.\n",
            "Try using .loc[row_indexer,col_indexer] = value instead\n",
            "\n",
            "See the caveats in the documentation: https://pandas.pydata.org/pandas-docs/stable/user_guide/indexing.html#returning-a-view-versus-a-copy\n",
            "  df['elouser'] = t\n"
          ]
        },
        {
          "name": "stdout",
          "output_type": "stream",
          "text": [
            "Theta & beta estimations on assessmentItemID are completed.\n"
          ]
        },
        {
          "name": "stderr",
          "output_type": "stream",
          "text": [
            "/tmp/ipykernel_93623/502413999.py:75: SettingWithCopyWarning: \n",
            "A value is trying to be set on a copy of a slice from a DataFrame.\n",
            "Try using .loc[row_indexer,col_indexer] = value instead\n",
            "\n",
            "See the caveats in the documentation: https://pandas.pydata.org/pandas-docs/stable/user_guide/indexing.html#returning-a-view-versus-a-copy\n",
            "  df[\"left_asymptote\"] = 0\n"
          ]
        },
        {
          "name": "stdout",
          "output_type": "stream",
          "text": [
            "Dataset of shape (525306, 29)\n",
            "Columns are ['userID', 'assessmentItemID', 'testId', 'answerCode', 'Timestamp', 'KnowledgeTag', 'elouser', 'eloitem', 'elotag', 'elotest', 'elo', 'solve_time', 'b_category', 'test_category', 'problem_id', 'category_st_qcut_5', 'last_answerCode', 'last_answerCode2', 'last_answerCode3', 'last_answerCode4', 'last_answerCode5', 'last_answerCode6', 'year', 'month', 'day', 'hour', 'tem', 'item_mean', 'left_asymptote']\n",
            "Parameter estimation is starting...\n"
          ]
        },
        {
          "name": "stderr",
          "output_type": "stream",
          "text": [
            "100%|██████████| 525306/525306 [00:11<00:00, 44685.03it/s]\n",
            "/tmp/ipykernel_93623/502413999.py:91: SettingWithCopyWarning: \n",
            "A value is trying to be set on a copy of a slice from a DataFrame.\n",
            "Try using .loc[row_indexer,col_indexer] = value instead\n",
            "\n",
            "See the caveats in the documentation: https://pandas.pydata.org/pandas-docs/stable/user_guide/indexing.html#returning-a-view-versus-a-copy\n",
            "  df['elouser'] = t\n"
          ]
        },
        {
          "name": "stdout",
          "output_type": "stream",
          "text": [
            "Theta & beta estimations on assessmentItemID are completed.\n"
          ]
        },
        {
          "name": "stderr",
          "output_type": "stream",
          "text": [
            "/tmp/ipykernel_93623/502413999.py:75: SettingWithCopyWarning: \n",
            "A value is trying to be set on a copy of a slice from a DataFrame.\n",
            "Try using .loc[row_indexer,col_indexer] = value instead\n",
            "\n",
            "See the caveats in the documentation: https://pandas.pydata.org/pandas-docs/stable/user_guide/indexing.html#returning-a-view-versus-a-copy\n",
            "  df[\"left_asymptote\"] = 0\n"
          ]
        },
        {
          "name": "stdout",
          "output_type": "stream",
          "text": [
            "Dataset of shape (523608, 29)\n",
            "Columns are ['userID', 'assessmentItemID', 'testId', 'answerCode', 'Timestamp', 'KnowledgeTag', 'elouser', 'eloitem', 'elotag', 'elotest', 'elo', 'solve_time', 'b_category', 'test_category', 'problem_id', 'category_st_qcut_5', 'last_answerCode', 'last_answerCode2', 'last_answerCode3', 'last_answerCode4', 'last_answerCode5', 'last_answerCode6', 'year', 'month', 'day', 'hour', 'tem', 'item_mean', 'left_asymptote']\n",
            "Parameter estimation is starting...\n"
          ]
        },
        {
          "name": "stderr",
          "output_type": "stream",
          "text": [
            "100%|██████████| 523608/523608 [00:11<00:00, 44816.78it/s]\n",
            "/tmp/ipykernel_93623/502413999.py:91: SettingWithCopyWarning: \n",
            "A value is trying to be set on a copy of a slice from a DataFrame.\n",
            "Try using .loc[row_indexer,col_indexer] = value instead\n",
            "\n",
            "See the caveats in the documentation: https://pandas.pydata.org/pandas-docs/stable/user_guide/indexing.html#returning-a-view-versus-a-copy\n",
            "  df['elouser'] = t\n"
          ]
        },
        {
          "name": "stdout",
          "output_type": "stream",
          "text": [
            "Theta & beta estimations on assessmentItemID are completed.\n"
          ]
        },
        {
          "name": "stderr",
          "output_type": "stream",
          "text": [
            "/tmp/ipykernel_93623/502413999.py:75: SettingWithCopyWarning: \n",
            "A value is trying to be set on a copy of a slice from a DataFrame.\n",
            "Try using .loc[row_indexer,col_indexer] = value instead\n",
            "\n",
            "See the caveats in the documentation: https://pandas.pydata.org/pandas-docs/stable/user_guide/indexing.html#returning-a-view-versus-a-copy\n",
            "  df[\"left_asymptote\"] = 0\n"
          ]
        },
        {
          "name": "stdout",
          "output_type": "stream",
          "text": [
            "Dataset of shape (521930, 29)\n",
            "Columns are ['userID', 'assessmentItemID', 'testId', 'answerCode', 'Timestamp', 'KnowledgeTag', 'elouser', 'eloitem', 'elotag', 'elotest', 'elo', 'solve_time', 'b_category', 'test_category', 'problem_id', 'category_st_qcut_5', 'last_answerCode', 'last_answerCode2', 'last_answerCode3', 'last_answerCode4', 'last_answerCode5', 'last_answerCode6', 'year', 'month', 'day', 'hour', 'tem', 'item_mean', 'left_asymptote']\n",
            "Parameter estimation is starting...\n"
          ]
        },
        {
          "name": "stderr",
          "output_type": "stream",
          "text": [
            "100%|██████████| 521930/521930 [00:12<00:00, 43188.49it/s]\n",
            "/tmp/ipykernel_93623/502413999.py:91: SettingWithCopyWarning: \n",
            "A value is trying to be set on a copy of a slice from a DataFrame.\n",
            "Try using .loc[row_indexer,col_indexer] = value instead\n",
            "\n",
            "See the caveats in the documentation: https://pandas.pydata.org/pandas-docs/stable/user_guide/indexing.html#returning-a-view-versus-a-copy\n",
            "  df['elouser'] = t\n"
          ]
        },
        {
          "name": "stdout",
          "output_type": "stream",
          "text": [
            "Theta & beta estimations on assessmentItemID are completed.\n"
          ]
        },
        {
          "name": "stderr",
          "output_type": "stream",
          "text": [
            "/tmp/ipykernel_93623/502413999.py:75: SettingWithCopyWarning: \n",
            "A value is trying to be set on a copy of a slice from a DataFrame.\n",
            "Try using .loc[row_indexer,col_indexer] = value instead\n",
            "\n",
            "See the caveats in the documentation: https://pandas.pydata.org/pandas-docs/stable/user_guide/indexing.html#returning-a-view-versus-a-copy\n",
            "  df[\"left_asymptote\"] = 0\n"
          ]
        },
        {
          "name": "stdout",
          "output_type": "stream",
          "text": [
            "Dataset of shape (520267, 29)\n",
            "Columns are ['userID', 'assessmentItemID', 'testId', 'answerCode', 'Timestamp', 'KnowledgeTag', 'elouser', 'eloitem', 'elotag', 'elotest', 'elo', 'solve_time', 'b_category', 'test_category', 'problem_id', 'category_st_qcut_5', 'last_answerCode', 'last_answerCode2', 'last_answerCode3', 'last_answerCode4', 'last_answerCode5', 'last_answerCode6', 'year', 'month', 'day', 'hour', 'tem', 'item_mean', 'left_asymptote']\n",
            "Parameter estimation is starting...\n"
          ]
        },
        {
          "name": "stderr",
          "output_type": "stream",
          "text": [
            "100%|██████████| 520267/520267 [00:11<00:00, 44808.74it/s]\n",
            "/tmp/ipykernel_93623/502413999.py:91: SettingWithCopyWarning: \n",
            "A value is trying to be set on a copy of a slice from a DataFrame.\n",
            "Try using .loc[row_indexer,col_indexer] = value instead\n",
            "\n",
            "See the caveats in the documentation: https://pandas.pydata.org/pandas-docs/stable/user_guide/indexing.html#returning-a-view-versus-a-copy\n",
            "  df['elouser'] = t\n"
          ]
        },
        {
          "name": "stdout",
          "output_type": "stream",
          "text": [
            "Theta & beta estimations on assessmentItemID are completed.\n"
          ]
        }
      ],
      "source": [
        "_train_x_1, _train_1 = data_argument(_train_x)\n",
        "train_1 = data_merge(_train_x_1, _train_1)\n",
        "train = train_1.copy()\n",
        "\n",
        "for _ in range(50):\n",
        "    _train_x_1, _train_1 = data_argument(_train_x_1)\n",
        "    train_1 = data_merge(_train_x_1, _train_1)\n",
        "    train = pd.concat([train, train_1])\n",
        "\n",
        "train = train[train['answer_cnt'] >= 14]"
      ]
    },
    {
      "cell_type": "code",
      "execution_count": 21,
      "metadata": {},
      "outputs": [],
      "source": [
        "from optuna import Trial, visualization\n",
        "from optuna.samplers import TPESampler\n",
        "import optuna\n",
        "from sklearn.model_selection import KFold\n",
        "from lightgbm import LGBMClassifier\n",
        "\n",
        "\n",
        "def objective(trial, train, valid, train_value, valid_value):\n",
        "    param = {\n",
        "        \"random_state\" : 1998, \n",
        "        \"n_estimators\" : 10000, \n",
        "        \"learning_rate\" : 0.001,\n",
        "        \"max_depth\" : trial.suggest_int(\"max_depth\", 8, 12),\n",
        "        \"num_leaves\" : 30, \n",
        "        \"subsample\" : 0.9,\n",
        "        \"verbose\" : 200\n",
        "    }\n",
        "    \n",
        "    model = LGBMClassifier(**param)\n",
        "    model.fit(train, train_value, eval_metric = 'AUC', eval_set=(valid, valid_value))\n",
        "    \n",
        "    preds = model.predict_proba(train_value)[:,1]\n",
        "\n",
        "    acc = accuracy_score(train_value, np.where(preds >= 0.5, 1, 0))\n",
        "    auc = roc_auc_score(train_value, preds)\n",
        "    print(f'TRAIN AUC : {auc} ACC : {acc}\\n')\n",
        "\n",
        "    preds = model.predict_proba(valid_value)[:,1]\n",
        "    acc = accuracy_score(valid_value, np.where(preds >= 0.5, 1, 0))\n",
        "    auc = roc_auc_score(valid_value, preds)\n",
        "\n",
        "    print(f'VALID AUC : {auc} ACC : {acc}\\n')\n",
        "\n",
        "    return auc"
      ]
    },
    {
      "cell_type": "code",
      "execution_count": null,
      "metadata": {},
      "outputs": [],
      "source": [
        "import optuna\n",
        "sampler = optuna.samplers.TPESampler(seed=42)\n",
        "study = optuna.create_study(\n",
        "    study_name = 'cat_parameter_opt',\n",
        "    direction = 'maximize',\n",
        "    sampler = sampler,\n",
        ")\n",
        "study.optimize(lambda trial : objective(trial, train.drop(['answerCode'],axis=1), valid.drop(['answerCode'],axis=1), train['answerCode'], valid['answerCode']), n_trials=5)"
      ]
    },
    {
      "cell_type": "code",
      "execution_count": null,
      "metadata": {},
      "outputs": [
        {
          "data": {
            "text/plain": [
              "Text(0.5, 1.0, 'Feature Importance')"
            ]
          },
          "execution_count": 12,
          "metadata": {},
          "output_type": "execute_result"
        },
        {
          "data": {
            "image/png": "[encoded data removed]",
            "text/plain": [
              "<Figure size 1200x600 with 1 Axes>"
            ]
          },
          "metadata": {},
          "output_type": "display_data"
        }
      ],
      "source": [
        "import matplotlib.pyplot as plt\n",
        "\n",
        "feature_importance = model.feature_importances_\n",
        "sorted_idx = np.argsort(feature_importance)\n",
        "fig = plt.figure(figsize=(12, 6))\n",
        "plt.barh(range(len(sorted_idx)), feature_importance[sorted_idx], align=\"center\")\n",
        "plt.yticks(range(len(sorted_idx)), np.array(valid.drop(['answerCode'],axis=1).columns)[sorted_idx])\n",
        "plt.title(\"Feature Importance\")"
      ]
    },
    {
      "cell_type": "code",
      "execution_count": null,
      "metadata": {},
      "outputs": [],
      "source": [
        "# submission 제출하기 위한 코드\n",
        "\n",
        "test_pred = model.predict_proba(test.drop(['answerCode'],axis=1))[:,1]\n",
        "test['prediction'] = test_pred\n",
        "submission = test['prediction'].reset_index(drop = True).reset_index()\n",
        "submission.rename(columns = {'index':'id'}, inplace = True)\n",
        "submission.to_csv('../output/sequence_50LGBM1204.csv', index = False)"
      ]
    }
  ],
  "metadata": {
    "colab": {
      "provenance": []
    },
    "kernelspec": {
      "display_name": "Python 3.8.5 ('base')",
      "language": "python",
      "name": "python3"
    },
    "language_info": {
      "codemirror_mode": {
        "name": "ipython",
        "version": 3
      },
      "file_extension": ".py",
      "mimetype": "text/x-python",
      "name": "python",
      "nbconvert_exporter": "python",
      "pygments_lexer": "ipython3",
      "version": "3.8.5"
    },
    "toc": {
      "base_numbering": 1,
      "nav_menu": {},
      "number_sections": false,
      "sideBar": true,
      "skip_h1_title": false,
      "title_cell": "Table of Contents",
      "title_sidebar": "Contents",
      "toc_cell": false,
      "toc_position": {},
      "toc_section_display": true,
      "toc_window_display": true
    },
    "vscode": {
      "interpreter": {
        "hash": "d4d1e4263499bec80672ea0156c357c1ee493ec2b1c70f0acce89fc37c4a6abe"
      }
    }
  },
  "nbformat": 4,
  "nbformat_minor": 0
}
