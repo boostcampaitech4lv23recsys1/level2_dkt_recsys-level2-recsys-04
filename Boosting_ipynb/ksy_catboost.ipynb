{
 "cells": [
  {
   "cell_type": "code",
   "execution_count": 120,
   "metadata": {},
   "outputs": [],
   "source": [
    "import numpy as np\n",
    "import pandas as pd\n",
    "\n",
    "import os\n",
    "import random\n",
    "\n",
    "import warnings\n",
    "\n",
    "warnings.filterwarnings(action='ignore')\n",
    "\n",
    "path = '/opt/ml/input/data/'\n",
    "train = pd.read_csv(path + 'train_data.csv')\n",
    "test = pd.read_csv(path + 'test_data.csv')"
   ]
  },
  {
   "cell_type": "code",
   "execution_count": 138,
   "metadata": {},
   "outputs": [],
   "source": [
    "# train, test 병합. 모든 데이터 활용하기.\n",
    "dat = pd.concat([train, test], axis = 0)\n",
    "dat = dat.sort_values(by = ['userID', 'Timestamp'])\n",
    "\n",
    "# 시험 난이도(?)로 추청되는 특성 따로 분류\n",
    "dat['b_category'] = dat['assessmentItemID'].str[2]\n",
    "# 시험지로 추청되는 특성 따로 분류. 뒤에 것이 좋을 것 같은데 일단 제출을 한 것으로 써놓음.\n",
    "dat['test_category'] = dat['assessmentItemID'].str[4:7] # dat['assessmentItemID'].str[2] + dat['assessmentItemID'].str[4:7]\n",
    "\n",
    "# answerCode이 -1로 되어있는 문제를 맞추기 위해 사용.\n",
    "_train = dat[dat['answerCode'] >= 0]\n",
    "_test = dat[dat['answerCode'] < 0]"
   ]
  },
  {
   "cell_type": "code",
   "execution_count": 122,
   "metadata": {},
   "outputs": [],
   "source": [
    "# 유저 마다 가장 마지막 문제를 맞추는 것을 기준으로 평가 하려함\n",
    "# test 유저에 경우 가장 마지막 문제 전 문제를 맞추는 것을 기준으로 평가함.\n",
    "user_final_time = _train.groupby('userID')['Timestamp'].max()\n",
    "_train['train_valid'] = _train.apply(lambda x : -1 if x.Timestamp == user_final_time[x.userID] else x['answerCode'], axis = 1)\n",
    "_valid = _train[_train['train_valid'] < 0]\n",
    "_train = _train[_train['train_valid'] >= 0]"
   ]
  },
  {
   "cell_type": "code",
   "execution_count": 125,
   "metadata": {},
   "outputs": [],
   "source": [
    "# 모델에 적용하기 전 기본적인 데이터 전처리 부분\n",
    "## 라벨링, 필요없는 칼럼 제거\n",
    "_train_value = _train['answerCode']\n",
    "_train.drop(['Timestamp', 'testId', 'train_valid', 'answerCode'], axis = 1, inplace = True)\n",
    "\n",
    "_valid_value = _valid['answerCode']\n",
    "_valid.drop(['Timestamp', 'testId', 'train_valid', 'answerCode'], axis = 1, inplace = True)\n",
    "\n",
    "_test.drop(['Timestamp', 'testId', 'answerCode'], axis = 1, inplace = True)\n",
    "\n",
    "# CatBoost에 적용하기 위해선 문자열 데이터로 변환 필요.\n",
    "_train['userID'] = _train['userID'].astype('str')\n",
    "_train['KnowledgeTag'] = _train['KnowledgeTag'].astype('str')\n",
    "\n",
    "_valid['userID'] = _valid['userID'].astype('str')\n",
    "_valid['KnowledgeTag'] = _valid['KnowledgeTag'].astype('str')\n",
    "\n",
    "_test['userID'] = _test['userID'].astype('str')\n",
    "_test['KnowledgeTag'] = _test['KnowledgeTag'].astype('str')"
   ]
  },
  {
   "cell_type": "code",
   "execution_count": 127,
   "metadata": {},
   "outputs": [
    {
     "name": "stdout",
     "output_type": "stream",
     "text": [
      "0:\tlearn: 0.6766705\ttotal: 62.5ms\tremaining: 1m 2s\n",
      "500:\tlearn: 0.4689248\ttotal: 35.4s\tremaining: 35.2s\n",
      "999:\tlearn: 0.4671669\ttotal: 1m 8s\tremaining: 0us\n"
     ]
    }
   ],
   "source": [
    "#!pip install catboost\n",
    "# 가상환경에 패키지 설치 필요할듯\n",
    "from catboost import CatBoostClassifier\n",
    "\n",
    "# 하이퍼파라미터 수정할 여지가 많으니 추가나 수정하고 싶은 사람 수정해도 괜찮을듯.\n",
    "# 일단 지난번에 사용했던 파라미터들 주석으로 들고 옴. 참고하면서 공부하면 좋을듯.\n",
    "\n",
    "# params_cat = {\n",
    "#     \"task_type\" : \"GPU\",\n",
    "#     \"devices\" : '0',\n",
    "#     \"random_state\": SEED,\n",
    "#     'learning_rate': 0.04574578205475402, \n",
    "#     'bagging_temperature': 0.12172958098369972, \n",
    "#     'n_estimators': 2000, \n",
    "#     'max_depth': 8, \n",
    "#     'random_strength': 28, \n",
    "#     'l2_leaf_reg': 1.6285455533915874e-05, \n",
    "#     'min_child_samples': 18, \n",
    "#     'max_bin': 441, \n",
    "#     'od_type': 'Iter',\n",
    "#     \"cat_features\" : list(train_ratings.drop(['rating'],axis = 1).columns),\n",
    "# }\n",
    "\n",
    "# model = CatBoostRegressor(**params_cat)\n",
    "\n",
    "# 실제 적용한 모델은 learning_rate, iterations(=n_estimators, 아마도?)만 사용함.\n",
    "cat_model = CatBoostClassifier(learning_rate=0.05, iterations=1000, task_type=\"GPU\")\n",
    "cat_model.fit(_train, _train_value, early_stopping_rounds=100, cat_features=list(_train.columns) ,verbose=500)"
   ]
  },
  {
   "cell_type": "code",
   "execution_count": 137,
   "metadata": {},
   "outputs": [
    {
     "name": "stdout",
     "output_type": "stream",
     "text": [
      "0.8123009134272406\n",
      "0.7348314606741573\n"
     ]
    }
   ],
   "source": [
    "# valid score를 확인해봄.\n",
    "# 모델 환경상 test score보다 떨어질 수도. (토론 필요)\n",
    "# 실제 제출한 test score은 auc는 0.7864, acc는 0.7124\n",
    "from sklearn.metrics import accuracy_score, roc_auc_score\n",
    "\n",
    "_valid_pred = cat_model.predict_proba(_valid)[:,1]\n",
    "print(roc_auc_score(_valid_value, _valid_pred)) # auc\n",
    "print(accuracy_score(_valid_value, np.where(_valid_pred >= 0.5, 1, 0))) # acc, 정확도"
   ]
  },
  {
   "cell_type": "code",
   "execution_count": null,
   "metadata": {},
   "outputs": [],
   "source": [
    "# submission 제출하기 위한 코드\n",
    "\n",
    "_test_pred = cat_model.predict_proba(_test)[:,1]\n",
    "_test['prediction'] = _test_pred\n",
    "submission = _test['prediction'].reset_index(drop = True).reset_index()\n",
    "submission.rename(columns = {'index':'id'}, inplace = True)\n",
    "submission.to_csv('./output/cat_submission.csv', index = False)"
   ]
  }
 ],
 "metadata": {
  "kernelspec": {
   "display_name": "Python 3.9.13 ('recsys')",
   "language": "python",
   "name": "python3"
  },
  "language_info": {
   "codemirror_mode": {
    "name": "ipython",
    "version": 3
   },
   "file_extension": ".py",
   "mimetype": "text/x-python",
   "name": "python",
   "nbconvert_exporter": "python",
   "pygments_lexer": "ipython3",
   "version": "3.9.13"
  },
  "orig_nbformat": 4,
  "vscode": {
   "interpreter": {
    "hash": "ab3dcce153651d446e5ec15055db40c147596c6fda3e30df03cfbf5fb9356af2"
   }
  }
 },
 "nbformat": 4,
 "nbformat_minor": 2
}
