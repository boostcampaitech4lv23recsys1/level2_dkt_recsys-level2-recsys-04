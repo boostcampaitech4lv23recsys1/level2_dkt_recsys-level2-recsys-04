{
 "cells": [
  {
   "cell_type": "code",
   "execution_count": 53,
   "metadata": {},
   "outputs": [],
   "source": [
    "import numpy as np\n",
    "import pandas as pd\n",
    "\n",
    "import os\n",
    "import random\n",
    "\n",
    "import warnings\n",
    "\n",
    "warnings.filterwarnings(action='ignore')\n",
    "\n",
    "path = '/opt/ml/input/data/'\n",
    "train = pd.read_csv(path + 'train_data.csv')\n",
    "test = pd.read_csv(path + 'test_data.csv')"
   ]
  },
  {
   "cell_type": "code",
   "execution_count": 54,
   "metadata": {},
   "outputs": [],
   "source": [
    "dat = pd.concat([train, test], axis = 0)\n",
    "dat = dat.sort_values(by = ['userID', 'Timestamp'])\n",
    "\n",
    "dat['b_category'] = dat['assessmentItemID'].str[2]\n",
    "dat['test_category'] = dat['assessmentItemID'].str[4:7]\n",
    "\n",
    "_train = dat[dat['answerCode'] >= 0]\n",
    "_test = dat[dat['answerCode'] < 0]"
   ]
  },
  {
   "cell_type": "code",
   "execution_count": 55,
   "metadata": {},
   "outputs": [
    {
     "name": "stderr",
     "output_type": "stream",
     "text": [
      "/tmp/ipykernel_23775/3440697663.py:2: SettingWithCopyWarning: \n",
      "A value is trying to be set on a copy of a slice from a DataFrame.\n",
      "Try using .loc[row_indexer,col_indexer] = value instead\n",
      "\n",
      "See the caveats in the documentation: https://pandas.pydata.org/pandas-docs/stable/user_guide/indexing.html#returning-a-view-versus-a-copy\n",
      "  _train['train_valid'] = _train.apply(lambda x : -1 if x.Timestamp == user_final_time[x.userID] else x['answerCode'], axis = 1)\n"
     ]
    }
   ],
   "source": [
    "user_final_time = _train.groupby('userID')['Timestamp'].max()\n",
    "_train['train_valid'] = _train.apply(lambda x : -1 if x.Timestamp == user_final_time[x.userID] else x['answerCode'], axis = 1)"
   ]
  },
  {
   "cell_type": "code",
   "execution_count": 56,
   "metadata": {},
   "outputs": [],
   "source": [
    "_valid = _train[_train['train_valid'] < 0]\n",
    "_train = _train[_train['train_valid'] >= 0]"
   ]
  },
  {
   "cell_type": "code",
   "execution_count": 57,
   "metadata": {},
   "outputs": [
    {
     "data": {
      "text/html": [
       "<div>\n",
       "<style scoped>\n",
       "    .dataframe tbody tr th:only-of-type {\n",
       "        vertical-align: middle;\n",
       "    }\n",
       "\n",
       "    .dataframe tbody tr th {\n",
       "        vertical-align: top;\n",
       "    }\n",
       "\n",
       "    .dataframe thead th {\n",
       "        text-align: right;\n",
       "    }\n",
       "</style>\n",
       "<table border=\"1\" class=\"dataframe\">\n",
       "  <thead>\n",
       "    <tr style=\"text-align: right;\">\n",
       "      <th></th>\n",
       "      <th>userID</th>\n",
       "      <th>assessmentItemID</th>\n",
       "      <th>testId</th>\n",
       "      <th>answerCode</th>\n",
       "      <th>Timestamp</th>\n",
       "      <th>KnowledgeTag</th>\n",
       "      <th>b_category</th>\n",
       "      <th>test_category</th>\n",
       "    </tr>\n",
       "  </thead>\n",
       "  <tbody>\n",
       "    <tr>\n",
       "      <th>1035</th>\n",
       "      <td>3</td>\n",
       "      <td>A050133008</td>\n",
       "      <td>A050000133</td>\n",
       "      <td>-1</td>\n",
       "      <td>2020-10-26 13:13:57</td>\n",
       "      <td>5289</td>\n",
       "      <td>5</td>\n",
       "      <td>133</td>\n",
       "    </tr>\n",
       "    <tr>\n",
       "      <th>1706</th>\n",
       "      <td>4</td>\n",
       "      <td>A070146008</td>\n",
       "      <td>A070000146</td>\n",
       "      <td>-1</td>\n",
       "      <td>2020-12-27 02:47:54</td>\n",
       "      <td>9080</td>\n",
       "      <td>7</td>\n",
       "      <td>146</td>\n",
       "    </tr>\n",
       "    <tr>\n",
       "      <th>3023</th>\n",
       "      <td>13</td>\n",
       "      <td>A070111008</td>\n",
       "      <td>A070000111</td>\n",
       "      <td>-1</td>\n",
       "      <td>2020-12-27 04:35:09</td>\n",
       "      <td>9660</td>\n",
       "      <td>7</td>\n",
       "      <td>111</td>\n",
       "    </tr>\n",
       "    <tr>\n",
       "      <th>4283</th>\n",
       "      <td>17</td>\n",
       "      <td>A090064006</td>\n",
       "      <td>A090000064</td>\n",
       "      <td>-1</td>\n",
       "      <td>2020-10-30 05:48:37</td>\n",
       "      <td>2611</td>\n",
       "      <td>9</td>\n",
       "      <td>064</td>\n",
       "    </tr>\n",
       "    <tr>\n",
       "      <th>4670</th>\n",
       "      <td>26</td>\n",
       "      <td>A060135007</td>\n",
       "      <td>A060000135</td>\n",
       "      <td>-1</td>\n",
       "      <td>2020-10-23 11:44:18</td>\n",
       "      <td>1422</td>\n",
       "      <td>6</td>\n",
       "      <td>135</td>\n",
       "    </tr>\n",
       "    <tr>\n",
       "      <th>...</th>\n",
       "      <td>...</td>\n",
       "      <td>...</td>\n",
       "      <td>...</td>\n",
       "      <td>...</td>\n",
       "      <td>...</td>\n",
       "      <td>...</td>\n",
       "      <td>...</td>\n",
       "      <td>...</td>\n",
       "    </tr>\n",
       "    <tr>\n",
       "      <th>260052</th>\n",
       "      <td>7395</td>\n",
       "      <td>A040122005</td>\n",
       "      <td>A040000122</td>\n",
       "      <td>-1</td>\n",
       "      <td>2020-09-08 02:05:20</td>\n",
       "      <td>10615</td>\n",
       "      <td>4</td>\n",
       "      <td>122</td>\n",
       "    </tr>\n",
       "    <tr>\n",
       "      <th>260067</th>\n",
       "      <td>7404</td>\n",
       "      <td>A030111005</td>\n",
       "      <td>A030000111</td>\n",
       "      <td>-1</td>\n",
       "      <td>2020-10-13 09:49:18</td>\n",
       "      <td>7636</td>\n",
       "      <td>3</td>\n",
       "      <td>111</td>\n",
       "    </tr>\n",
       "    <tr>\n",
       "      <th>260082</th>\n",
       "      <td>7416</td>\n",
       "      <td>A050193004</td>\n",
       "      <td>A050000193</td>\n",
       "      <td>-1</td>\n",
       "      <td>2020-10-04 02:44:41</td>\n",
       "      <td>10402</td>\n",
       "      <td>5</td>\n",
       "      <td>193</td>\n",
       "    </tr>\n",
       "    <tr>\n",
       "      <th>260097</th>\n",
       "      <td>7417</td>\n",
       "      <td>A050193004</td>\n",
       "      <td>A050000193</td>\n",
       "      <td>-1</td>\n",
       "      <td>2020-09-06 13:09:15</td>\n",
       "      <td>10402</td>\n",
       "      <td>5</td>\n",
       "      <td>193</td>\n",
       "    </tr>\n",
       "    <tr>\n",
       "      <th>260113</th>\n",
       "      <td>7439</td>\n",
       "      <td>A040130005</td>\n",
       "      <td>A040000130</td>\n",
       "      <td>-1</td>\n",
       "      <td>2020-10-14 23:10:03</td>\n",
       "      <td>8832</td>\n",
       "      <td>4</td>\n",
       "      <td>130</td>\n",
       "    </tr>\n",
       "  </tbody>\n",
       "</table>\n",
       "<p>744 rows × 8 columns</p>\n",
       "</div>"
      ],
      "text/plain": [
       "        userID assessmentItemID      testId  answerCode            Timestamp  \\\n",
       "1035         3       A050133008  A050000133          -1  2020-10-26 13:13:57   \n",
       "1706         4       A070146008  A070000146          -1  2020-12-27 02:47:54   \n",
       "3023        13       A070111008  A070000111          -1  2020-12-27 04:35:09   \n",
       "4283        17       A090064006  A090000064          -1  2020-10-30 05:48:37   \n",
       "4670        26       A060135007  A060000135          -1  2020-10-23 11:44:18   \n",
       "...        ...              ...         ...         ...                  ...   \n",
       "260052    7395       A040122005  A040000122          -1  2020-09-08 02:05:20   \n",
       "260067    7404       A030111005  A030000111          -1  2020-10-13 09:49:18   \n",
       "260082    7416       A050193004  A050000193          -1  2020-10-04 02:44:41   \n",
       "260097    7417       A050193004  A050000193          -1  2020-09-06 13:09:15   \n",
       "260113    7439       A040130005  A040000130          -1  2020-10-14 23:10:03   \n",
       "\n",
       "        KnowledgeTag b_category test_category  \n",
       "1035            5289          5           133  \n",
       "1706            9080          7           146  \n",
       "3023            9660          7           111  \n",
       "4283            2611          9           064  \n",
       "4670            1422          6           135  \n",
       "...              ...        ...           ...  \n",
       "260052         10615          4           122  \n",
       "260067          7636          3           111  \n",
       "260082         10402          5           193  \n",
       "260097         10402          5           193  \n",
       "260113          8832          4           130  \n",
       "\n",
       "[744 rows x 8 columns]"
      ]
     },
     "execution_count": 57,
     "metadata": {},
     "output_type": "execute_result"
    }
   ],
   "source": [
    "_test"
   ]
  },
  {
   "cell_type": "code",
   "execution_count": 59,
   "metadata": {},
   "outputs": [
    {
     "name": "stderr",
     "output_type": "stream",
     "text": [
      "/tmp/ipykernel_23775/1621781643.py:7: SettingWithCopyWarning: \n",
      "A value is trying to be set on a copy of a slice from a DataFrame\n",
      "\n",
      "See the caveats in the documentation: https://pandas.pydata.org/pandas-docs/stable/user_guide/indexing.html#returning-a-view-versus-a-copy\n",
      "  _test.drop(['Timestamp', 'testId', 'answerCode'], axis = 1, inplace = True)\n"
     ]
    }
   ],
   "source": [
    "_train_pred = _train['answerCode']\n",
    "_train.drop(['Timestamp', 'testId', 'train_valid', 'answerCode'], axis = 1, inplace = True)\n",
    "\n",
    "_valid_pred = _valid['answerCode']\n",
    "_valid.drop(['Timestamp', 'testId', 'train_valid', 'answerCode'], axis = 1, inplace = True)\n",
    "\n",
    "_test.drop(['Timestamp', 'testId', 'answerCode'], axis = 1, inplace = True)"
   ]
  },
  {
   "cell_type": "code",
   "execution_count": 63,
   "metadata": {},
   "outputs": [
    {
     "name": "stderr",
     "output_type": "stream",
     "text": [
      "/tmp/ipykernel_23775/362564649.py:7: SettingWithCopyWarning: \n",
      "A value is trying to be set on a copy of a slice from a DataFrame.\n",
      "Try using .loc[row_indexer,col_indexer] = value instead\n",
      "\n",
      "See the caveats in the documentation: https://pandas.pydata.org/pandas-docs/stable/user_guide/indexing.html#returning-a-view-versus-a-copy\n",
      "  _test['userID'] = _test['userID'].astype('str')\n",
      "/tmp/ipykernel_23775/362564649.py:8: SettingWithCopyWarning: \n",
      "A value is trying to be set on a copy of a slice from a DataFrame.\n",
      "Try using .loc[row_indexer,col_indexer] = value instead\n",
      "\n",
      "See the caveats in the documentation: https://pandas.pydata.org/pandas-docs/stable/user_guide/indexing.html#returning-a-view-versus-a-copy\n",
      "  _test['KnowledgeTag'] = _test['KnowledgeTag'].astype('str')\n"
     ]
    }
   ],
   "source": [
    "_train['userID'] = _train['userID'].astype('str')\n",
    "_train['KnowledgeTag'] = _train['KnowledgeTag'].astype('str')\n",
    "\n",
    "_valid['userID'] = _valid['userID'].astype('str')\n",
    "_valid['KnowledgeTag'] = _valid['KnowledgeTag'].astype('str')\n",
    "\n",
    "_test['userID'] = _test['userID'].astype('str')\n",
    "_test['KnowledgeTag'] = _test['KnowledgeTag'].astype('str')"
   ]
  },
  {
   "cell_type": "code",
   "execution_count": 71,
   "metadata": {},
   "outputs": [
    {
     "name": "stdout",
     "output_type": "stream",
     "text": [
      "Collecting catboost\n",
      "  Downloading catboost-1.1.1-cp39-none-manylinux1_x86_64.whl (76.6 MB)\n",
      "\u001b[2K     \u001b[90m━━━━━━━━━━━━━━━━━━━━━━━━━━━━━━━━━━━━━━━━\u001b[0m \u001b[32m76.6/76.6 MB\u001b[0m \u001b[31m24.9 MB/s\u001b[0m eta \u001b[36m0:00:00\u001b[0m00:01\u001b[0m00:01\u001b[0m\n",
      "\u001b[?25hRequirement already satisfied: scipy in /opt/conda/envs/recsys/lib/python3.9/site-packages (from catboost) (1.9.3)\n",
      "Collecting graphviz\n",
      "  Downloading graphviz-0.20.1-py3-none-any.whl (47 kB)\n",
      "\u001b[2K     \u001b[90m━━━━━━━━━━━━━━━━━━━━━━━━━━━━━━━━━━━━━━━━\u001b[0m \u001b[32m47.0/47.0 kB\u001b[0m \u001b[31m8.4 MB/s\u001b[0m eta \u001b[36m0:00:00\u001b[0m\n",
      "\u001b[?25hRequirement already satisfied: pandas>=0.24.0 in /opt/conda/envs/recsys/lib/python3.9/site-packages (from catboost) (1.5.1)\n",
      "Requirement already satisfied: matplotlib in /opt/conda/envs/recsys/lib/python3.9/site-packages (from catboost) (3.6.1)\n",
      "Collecting plotly\n",
      "  Downloading plotly-5.11.0-py2.py3-none-any.whl (15.3 MB)\n",
      "\u001b[2K     \u001b[90m━━━━━━━━━━━━━━━━━━━━━━━━━━━━━━━━━━━━━━━━\u001b[0m \u001b[32m15.3/15.3 MB\u001b[0m \u001b[31m70.7 MB/s\u001b[0m eta \u001b[36m0:00:00\u001b[0m00:01\u001b[0m00:01\u001b[0m\n",
      "\u001b[?25hRequirement already satisfied: numpy>=1.16.0 in /opt/conda/envs/recsys/lib/python3.9/site-packages (from catboost) (1.22.4)\n",
      "Requirement already satisfied: six in /opt/conda/envs/recsys/lib/python3.9/site-packages (from catboost) (1.16.0)\n",
      "Requirement already satisfied: pytz>=2020.1 in /opt/conda/envs/recsys/lib/python3.9/site-packages (from pandas>=0.24.0->catboost) (2022.5)\n",
      "Requirement already satisfied: python-dateutil>=2.8.1 in /opt/conda/envs/recsys/lib/python3.9/site-packages (from pandas>=0.24.0->catboost) (2.8.2)\n",
      "Requirement already satisfied: contourpy>=1.0.1 in /opt/conda/envs/recsys/lib/python3.9/site-packages (from matplotlib->catboost) (1.0.5)\n",
      "Requirement already satisfied: pillow>=6.2.0 in /opt/conda/envs/recsys/lib/python3.9/site-packages (from matplotlib->catboost) (9.2.0)\n",
      "Requirement already satisfied: packaging>=20.0 in /opt/conda/envs/recsys/lib/python3.9/site-packages (from matplotlib->catboost) (21.3)\n",
      "Requirement already satisfied: cycler>=0.10 in /opt/conda/envs/recsys/lib/python3.9/site-packages (from matplotlib->catboost) (0.11.0)\n",
      "Requirement already satisfied: pyparsing>=2.2.1 in /opt/conda/envs/recsys/lib/python3.9/site-packages (from matplotlib->catboost) (3.0.9)\n",
      "Requirement already satisfied: fonttools>=4.22.0 in /opt/conda/envs/recsys/lib/python3.9/site-packages (from matplotlib->catboost) (4.37.4)\n",
      "Requirement already satisfied: kiwisolver>=1.0.1 in /opt/conda/envs/recsys/lib/python3.9/site-packages (from matplotlib->catboost) (1.4.4)\n",
      "Collecting tenacity>=6.2.0\n",
      "  Downloading tenacity-8.1.0-py3-none-any.whl (23 kB)\n",
      "Installing collected packages: tenacity, graphviz, plotly, catboost\n",
      "Successfully installed catboost-1.1.1 graphviz-0.20.1 plotly-5.11.0 tenacity-8.1.0\n",
      "\u001b[33mWARNING: Running pip as the 'root' user can result in broken permissions and conflicting behaviour with the system package manager. It is recommended to use a virtual environment instead: https://pip.pypa.io/warnings/venv\u001b[0m\u001b[33m\n",
      "\u001b[0m\n",
      "\u001b[1m[\u001b[0m\u001b[34;49mnotice\u001b[0m\u001b[1;39;49m]\u001b[0m\u001b[39;49m A new release of pip available: \u001b[0m\u001b[31;49m22.3\u001b[0m\u001b[39;49m -> \u001b[0m\u001b[32;49m22.3.1\u001b[0m\n",
      "\u001b[1m[\u001b[0m\u001b[34;49mnotice\u001b[0m\u001b[1;39;49m]\u001b[0m\u001b[39;49m To update, run: \u001b[0m\u001b[32;49mpip install --upgrade pip\u001b[0m\n",
      "0:\tlearn: 0.6766703\ttotal: 62.1ms\tremaining: 1m 2s\n",
      "500:\tlearn: 0.4688769\ttotal: 35.3s\tremaining: 35.2s\n",
      "999:\tlearn: 0.4671602\ttotal: 1m 8s\tremaining: 0us\n"
     ]
    },
    {
     "ename": "AttributeError",
     "evalue": "'CatBoostClassifier' object has no attribute 'pred'",
     "output_type": "error",
     "traceback": [
      "\u001b[0;31m---------------------------------------------------------------------------\u001b[0m",
      "\u001b[0;31mAttributeError\u001b[0m                            Traceback (most recent call last)",
      "Cell \u001b[0;32mIn [71], line 7\u001b[0m\n\u001b[1;32m      5\u001b[0m cat_model \u001b[39m=\u001b[39m CatBoostClassifier(learning_rate\u001b[39m=\u001b[39m\u001b[39m0.05\u001b[39m, iterations\u001b[39m=\u001b[39m\u001b[39m1000\u001b[39m, task_type\u001b[39m=\u001b[39m\u001b[39m\"\u001b[39m\u001b[39mGPU\u001b[39m\u001b[39m\"\u001b[39m)\n\u001b[1;32m      6\u001b[0m cat_model\u001b[39m.\u001b[39mfit(_train, _train_pred, early_stopping_rounds\u001b[39m=\u001b[39m\u001b[39m100\u001b[39m, cat_features\u001b[39m=\u001b[39m\u001b[39mlist\u001b[39m(_train\u001b[39m.\u001b[39mcolumns) ,verbose\u001b[39m=\u001b[39m\u001b[39m500\u001b[39m)\n\u001b[0;32m----> 7\u001b[0m pred \u001b[39m=\u001b[39m cat_model\u001b[39m.\u001b[39;49mpred(_valid)\n",
      "\u001b[0;31mAttributeError\u001b[0m: 'CatBoostClassifier' object has no attribute 'pred'"
     ]
    }
   ],
   "source": [
    "#!pip install catboost\n",
    "from catboost import CatBoostClassifier\n",
    "\n",
    "cat_model = CatBoostClassifier(learning_rate=0.05, iterations=1000, task_type=\"GPU\")\n",
    "cat_model.fit(_train, _train_pred, early_stopping_rounds=100, cat_features=list(_train.columns) ,verbose=500)\n",
    "pred = cat_model.predict_proba(_valid)[:,1]"
   ]
  },
  {
   "cell_type": "code",
   "execution_count": 105,
   "metadata": {},
   "outputs": [
    {
     "name": "stderr",
     "output_type": "stream",
     "text": [
      "/tmp/ipykernel_23775/1090926449.py:2: SettingWithCopyWarning: \n",
      "A value is trying to be set on a copy of a slice from a DataFrame.\n",
      "Try using .loc[row_indexer,col_indexer] = value instead\n",
      "\n",
      "See the caveats in the documentation: https://pandas.pydata.org/pandas-docs/stable/user_guide/indexing.html#returning-a-view-versus-a-copy\n",
      "  _test['prediction'] = _test_pred\n"
     ]
    }
   ],
   "source": [
    "_test_pred = cat_model.predict_proba(_test)[:,1]\n",
    "_test['prediction'] = _test_pred"
   ]
  },
  {
   "cell_type": "code",
   "execution_count": 108,
   "metadata": {},
   "outputs": [],
   "source": [
    "submission = _test['prediction'].reset_index(drop = True).reset_index()\n",
    "submission.to_csv('output/cat_submission.csv', index = False)"
   ]
  },
  {
   "cell_type": "code",
   "execution_count": null,
   "metadata": {},
   "outputs": [],
   "source": []
  }
 ],
 "metadata": {
  "kernelspec": {
   "display_name": "Python 3.9.13 ('recsys')",
   "language": "python",
   "name": "python3"
  },
  "language_info": {
   "codemirror_mode": {
    "name": "ipython",
    "version": 3
   },
   "file_extension": ".py",
   "mimetype": "text/x-python",
   "name": "python",
   "nbconvert_exporter": "python",
   "pygments_lexer": "ipython3",
   "version": "3.9.13"
  },
  "orig_nbformat": 4,
  "vscode": {
   "interpreter": {
    "hash": "ab3dcce153651d446e5ec15055db40c147596c6fda3e30df03cfbf5fb9356af2"
   }
  }
 },
 "nbformat": 4,
 "nbformat_minor": 2
}
